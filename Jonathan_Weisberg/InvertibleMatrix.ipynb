{
 "cells": [
  {
   "cell_type": "code",
   "execution_count": 1,
   "metadata": {},
   "outputs": [],
   "source": [
    "import numpy as np"
   ]
  },
  {
   "attachments": {},
   "cell_type": "markdown",
   "metadata": {},
   "source": [
    "##### A 3*3 matrix"
   ]
  },
  {
   "cell_type": "code",
   "execution_count": 16,
   "metadata": {},
   "outputs": [
    {
     "name": "stdout",
     "output_type": "stream",
     "text": [
      "[[1 2 3]\n",
      " [0 1 4]\n",
      " [5 6 0]]\n",
      "\n",
      "[[-24.  18.   5.]\n",
      " [ 20. -15.  -4.]\n",
      " [ -5.   4.   1.]]\n",
      "\n",
      "[[ 1. -0.  0.]\n",
      " [ 0.  1.  0.]\n",
      " [ 0. -0.  1.]]\n"
     ]
    }
   ],
   "source": [
    "A = np.array([[1, 2, 3],[0, 1, 4],[5, 6, 0]])\n",
    "\n",
    "print(A)\n",
    "print()\n",
    "\n",
    "A_inv = np.linalg.inv(A)\n",
    "print(A_inv)\n",
    "print()\n",
    "\n",
    "AA_inv = np.round(np.matmul(A, A_inv))\n",
    "print(AA_inv)"
   ]
  },
  {
   "attachments": {},
   "cell_type": "markdown",
   "metadata": {},
   "source": [
    "##### A 5*3 matrix"
   ]
  },
  {
   "cell_type": "code",
   "execution_count": 17,
   "metadata": {},
   "outputs": [
    {
     "name": "stdout",
     "output_type": "stream",
     "text": [
      "[[1 2 3]\n",
      " [0 1 4]\n",
      " [5 6 0]\n",
      " [1 0 1]\n",
      " [2 5 3]]\n"
     ]
    }
   ],
   "source": [
    "A = np.array([[1, 2, 3],[0, 1, 4],[5, 6, 0],[1, 0, 1], [2, 5, 3]])\n",
    "print(A)"
   ]
  },
  {
   "cell_type": "code",
   "execution_count": 18,
   "metadata": {},
   "outputs": [
    {
     "name": "stdout",
     "output_type": "stream",
     "text": [
      "[[ 0.08478039  0.06945863  0.22574055  0.42390194 -0.31869254]\n",
      " [-0.06435138 -0.08886619 -0.03881512 -0.32175689  0.29009193]\n",
      " [ 0.10745659  0.15791624 -0.03677222  0.13728294 -0.03043922]]\n"
     ]
    }
   ],
   "source": [
    "ATA = np.matmul(A.T, A)\n",
    "ATA_inv = np.linalg.inv(ATA)\n",
    "A_left_inv = np.matmul(ATA_inv, A.T)\n",
    "print(A_left_inv)"
   ]
  },
  {
   "cell_type": "code",
   "execution_count": 19,
   "metadata": {},
   "outputs": [
    {
     "data": {
      "text/plain": [
       "array([[ 0.,  0.,  0.,  0.,  0.],\n",
       "       [ 0.,  1., -0.,  0.,  0.],\n",
       "       [ 0., -0.,  1.,  0.,  0.],\n",
       "       [ 0.,  0.,  0.,  1., -0.],\n",
       "       [ 0.,  0.,  0., -0.,  1.]])"
      ]
     },
     "execution_count": 19,
     "metadata": {},
     "output_type": "execute_result"
    }
   ],
   "source": [
    "np.round(np.matmul(A, A_left_inv))"
   ]
  },
  {
   "attachments": {},
   "cell_type": "markdown",
   "metadata": {},
   "source": [
    "##### A 3*5 matrix"
   ]
  },
  {
   "cell_type": "code",
   "execution_count": 20,
   "metadata": {},
   "outputs": [
    {
     "name": "stdout",
     "output_type": "stream",
     "text": [
      "[[1 0 5 1 2]\n",
      " [2 1 6 0 5]\n",
      " [3 4 0 1 3]]\n"
     ]
    }
   ],
   "source": [
    "A = np.array([[1, 0, 5, 1, 2],[2, 1, 6, 0, 5],[3, 4, 0, 1, 3]])\n",
    "print(A)"
   ]
  },
  {
   "cell_type": "code",
   "execution_count": 21,
   "metadata": {},
   "outputs": [
    {
     "name": "stdout",
     "output_type": "stream",
     "text": [
      "[[ 0.08478039 -0.06435138  0.10745659]\n",
      " [ 0.06945863 -0.08886619  0.15791624]\n",
      " [ 0.22574055 -0.03881512 -0.03677222]\n",
      " [ 0.42390194 -0.32175689  0.13728294]\n",
      " [-0.31869254  0.29009193 -0.03043922]]\n"
     ]
    }
   ],
   "source": [
    "AAT = np.matmul(A, A.T)\n",
    "AAT_inv = np.linalg.inv(AAT)\n",
    "A_right_inv = np.matmul(A.T, AAT_inv)\n",
    "print(A_right_inv)"
   ]
  },
  {
   "cell_type": "code",
   "execution_count": 22,
   "metadata": {},
   "outputs": [
    {
     "data": {
      "text/plain": [
       "array([[ 1., -0.,  0.],\n",
       "       [-0.,  1., -0.],\n",
       "       [ 0.,  0.,  1.]])"
      ]
     },
     "execution_count": 22,
     "metadata": {},
     "output_type": "execute_result"
    }
   ],
   "source": [
    "np.round(np.matmul(A, A_right_inv))"
   ]
  },
  {
   "attachments": {},
   "cell_type": "markdown",
   "metadata": {},
   "source": [
    "##### Inverse 구해보기 : Z1 = np.matmul(w1, X) + b1"
   ]
  },
  {
   "cell_type": "code",
   "execution_count": null,
   "metadata": {},
   "outputs": [],
   "source": [
    "# X.shape : (5, 8)\n",
    "# Z.shape : (3, 8)"
   ]
  },
  {
   "cell_type": "code",
   "execution_count": 26,
   "metadata": {},
   "outputs": [
    {
     "name": "stdout",
     "output_type": "stream",
     "text": [
      "[[1 0 5 1 2 9 2 5]\n",
      " [2 1 6 0 5 5 1 4]\n",
      " [3 4 0 1 3 2 9 1]\n",
      " [2 9 0 1 5 3 2 5]\n",
      " [7 7 2 8 5 4 3 7]]\n",
      "\n",
      "[[ 0.7117 -0.3245 -1.0019  0.2363 -0.1022]\n",
      " [-1.1413  2.6544  1.4406  0.0989 -3.1215]\n",
      " [-1.0765 -0.3257 -1.0355 -0.4263 -1.0294]]\n"
     ]
    }
   ],
   "source": [
    "# Input matrix (5, 8)\n",
    "X = np.array([[1, 0, 5, 1, 2, 9, 2, 5],[2, 1, 6, 0, 5, 5, 1, 4],[3, 4, 0, 1, 3, 2, 9, 1],[2, 9, 0, 1, 5, 3, 2, 5],[7, 7, 2, 8, 5, 4, 3, 7]])\n",
    "print(X)\n",
    "print()\n",
    "\n",
    "n_h, n_x = 3, X.shape[0]\n",
    "\n",
    "np.random.seed(2023)\n",
    "w1 = np.random.randn(n_h, n_x)\n",
    "print(np.round(w1, 4))"
   ]
  },
  {
   "cell_type": "code",
   "execution_count": null,
   "metadata": {},
   "outputs": [],
   "source": []
  },
  {
   "cell_type": "code",
   "execution_count": null,
   "metadata": {},
   "outputs": [],
   "source": []
  },
  {
   "cell_type": "code",
   "execution_count": null,
   "metadata": {},
   "outputs": [],
   "source": []
  },
  {
   "cell_type": "code",
   "execution_count": null,
   "metadata": {},
   "outputs": [],
   "source": []
  },
  {
   "cell_type": "code",
   "execution_count": null,
   "metadata": {},
   "outputs": [],
   "source": []
  },
  {
   "cell_type": "code",
   "execution_count": null,
   "metadata": {},
   "outputs": [],
   "source": []
  }
 ],
 "metadata": {
  "kernelspec": {
   "display_name": "tf_gpu",
   "language": "python",
   "name": "python3"
  },
  "language_info": {
   "codemirror_mode": {
    "name": "ipython",
    "version": 3
   },
   "file_extension": ".py",
   "mimetype": "text/x-python",
   "name": "python",
   "nbconvert_exporter": "python",
   "pygments_lexer": "ipython3",
   "version": "3.9.13"
  },
  "orig_nbformat": 4,
  "vscode": {
   "interpreter": {
    "hash": "7b18c970f1c267b2ae7de1f51c7b9ea29dc67f6c9f87d5b0ef47c4534e0830b3"
   }
  }
 },
 "nbformat": 4,
 "nbformat_minor": 2
}
