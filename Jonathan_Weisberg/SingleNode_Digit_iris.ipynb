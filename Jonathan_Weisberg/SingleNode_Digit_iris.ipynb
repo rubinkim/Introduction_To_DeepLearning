{
 "cells": [
  {
   "cell_type": "code",
   "execution_count": 1,
   "metadata": {},
   "outputs": [],
   "source": [
    "import numpy as np\n",
    "import pandas as pd\n",
    "import matplotlib\n",
    "import matplotlib.pyplot as plt\n",
    "\n",
    "from sklearn.datasets import load_iris"
   ]
  },
  {
   "cell_type": "code",
   "execution_count": 36,
   "metadata": {},
   "outputs": [
    {
     "name": "stdout",
     "output_type": "stream",
     "text": [
      "data의 type : <class 'numpy.ndarray'>,  data의 shape : (150, 4)\n",
      "target의 type : <class 'numpy.ndarray'>,  target의 shape : (1, 150)\n"
     ]
    }
   ],
   "source": [
    "iris = load_iris()\n",
    "\n",
    "data, target = iris[\"data\"], iris[\"target\"].reshape(1, -1)\n",
    "print(f\"data의 type : {type(data)},  data의 shape : {data.shape}\")\n",
    "print(f\"target의 type : {type(target)},  target의 shape : {target.shape}\")"
   ]
  },
  {
   "cell_type": "code",
   "execution_count": 37,
   "metadata": {},
   "outputs": [
    {
     "name": "stdout",
     "output_type": "stream",
     "text": [
      "7.9 0.1\n",
      "1.0 0.012658227848101266\n"
     ]
    }
   ],
   "source": [
    "print(np.max(data), np.min(data))\n",
    "\n",
    "# Normalize data to keep our gradients manageable\n",
    "data = data / 7.9\n",
    "print(np.max(data), np.min(data))"
   ]
  },
  {
   "cell_type": "code",
   "execution_count": 38,
   "metadata": {},
   "outputs": [
    {
     "name": "stdout",
     "output_type": "stream",
     "text": [
      "[128  74  99 107  76 113  84  96   4  62  30  86  41 137  17 120  32  57\n",
      "  35  16  94   2 122  50  23  14  21 135  81  48   9  38  18 119  98 109\n",
      "  12  89 147  20  64 103  82  90  85 126  59  75  92  27  44 106   8  33\n",
      "  73 141  95  68  42   0  61 129 121  13  56 124  80  79  67 145  24  54\n",
      " 132  60 125 139  66  26  93  97  36 115 136  37  70  78  46 138   6  55\n",
      "  83 118  10   5  43 144 105  40  19  51  69  31   1  11 108 123 102 104\n",
      " 133 117 149  91 142 140  34 148 146  45   7 130 143  71  65 100  47  72\n",
      "  88 127 111  15  53 134 112 114  49  29  63 110  28  58 131  39  77  22\n",
      " 101  52 116   3  25  87]\n",
      "\n",
      "train_x의 shape : (120, 4),  train_y의 shape : (1, 120)\n",
      "test_x의 shape  : (30, 4),  test_y의 shape  : (1, 30) \n"
     ]
    }
   ],
   "source": [
    "np.random.seed(2023)\n",
    "shuffle_idx = np.random.permutation(data.shape[0])\n",
    "print(shuffle_idx)\n",
    "print()\n",
    "\n",
    "m = 120\n",
    "\n",
    "train_x, test_x = data[shuffle_idx[:m], :], data[shuffle_idx[m:]]\n",
    "train_y, test_y = target[:, shuffle_idx[:120]], target[:, shuffle_idx[120:]]\n",
    "\n",
    "print(f\"train_x의 shape : {train_x.shape},  train_y의 shape : {train_y.shape}\")\n",
    "print(f\"test_x의 shape  : {test_x.shape},  test_y의 shape  : {test_y.shape} \")"
   ]
  },
  {
   "cell_type": "code",
   "execution_count": 39,
   "metadata": {},
   "outputs": [
    {
     "name": "stdout",
     "output_type": "stream",
     "text": [
      "train_y의 label분포 : {0: 41, 1: 40, 2: 39}\n",
      "test_y의 label분포  : {0: 9, 1: 10, 2: 11}\n"
     ]
    }
   ],
   "source": [
    "train_label, tr_label_num = np.unique(train_y, return_counts=True)\n",
    "test_label, te_label_num = np.unique(test_y, return_counts=True)\n",
    "\n",
    "train_y_dict = {}\n",
    "for label, num in zip(train_label, tr_label_num):\n",
    "    train_y_dict[label] = num\n",
    "    \n",
    "test_y_dict = {}\n",
    "for label, num in zip(test_label, te_label_num):\n",
    "    test_y_dict[label] = num\n",
    "    \n",
    "print(f\"train_y의 label분포 : {train_y_dict}\")\n",
    "print(f\"test_y의 label분포  : {test_y_dict}\")"
   ]
  },
  {
   "cell_type": "code",
   "execution_count": 40,
   "metadata": {},
   "outputs": [
    {
     "data": {
      "text/plain": [
       "array([[0, 0, 0, 0, 0, 0, 0, 0, 0, 0, 0, 0, 0, 0, 0, 0, 0, 0, 0, 0, 0, 0,\n",
       "        0, 0, 0, 0, 0, 0, 0, 0, 0, 0, 0, 0, 0, 0, 0, 0, 0, 0, 0]])"
      ]
     },
     "execution_count": 40,
     "metadata": {},
     "output_type": "execute_result"
    }
   ],
   "source": [
    "train_y[:, np.where(train_y == 0)[1]]"
   ]
  },
  {
   "cell_type": "code",
   "execution_count": 41,
   "metadata": {},
   "outputs": [
    {
     "name": "stdout",
     "output_type": "stream",
     "text": [
      "train_y의 분포 : (array([0., 1.]), array([79, 41], dtype=int64))\n",
      "test_y의 분포 : (array([0., 1.]), array([21,  9], dtype=int64))\n"
     ]
    }
   ],
   "source": [
    "# To build a zero-classifier, map target value of 0 into 1 and map all other target values into 0\n",
    "train_y_new = np.zeros(train_y.shape)\n",
    "train_y_new[:, np.where(train_y == 0)[1]] = 1\n",
    "train_y = train_y_new\n",
    "print(f\"train_y의 분포 : {np.unique(train_y, return_counts=True)}\")\n",
    "\n",
    "test_y_new = np.zeros(test_y.shape)\n",
    "test_y_new[:, np.where(test_y == 0)[1]] = 1\n",
    "test_y = test_y_new\n",
    "print(f\"test_y의 분포 : {np.unique(test_y, return_counts=True)}\")"
   ]
  },
  {
   "cell_type": "code",
   "execution_count": 42,
   "metadata": {},
   "outputs": [
    {
     "name": "stdout",
     "output_type": "stream",
     "text": [
      "x_train의 shape : (4, 120),   y_train의 shape : (1, 120)\n",
      "x_test의  shape : (4, 30),   y_test의 shape :  (1, 30)\n"
     ]
    }
   ],
   "source": [
    "# We'll split data into train and test set. We also transpose data to keep each example as a column.\n",
    "x_train, x_test = train_x.T, test_x.T\n",
    "y_train, y_test = train_y, test_y\n",
    "\n",
    "print(f\"x_train의 shape : {x_train.shape},   y_train의 shape : {y_train.shape}\")\n",
    "print(f\"x_test의  shape : {x_test.shape},   y_test의 shape :  {y_test.shape}\")"
   ]
  },
  {
   "cell_type": "code",
   "execution_count": 43,
   "metadata": {},
   "outputs": [
    {
     "data": {
      "text/plain": [
       "((array([0., 1.]), array([79, 41], dtype=int64)),\n",
       " (array([0., 1.]), array([21,  9], dtype=int64)))"
      ]
     },
     "execution_count": 43,
     "metadata": {},
     "output_type": "execute_result"
    }
   ],
   "source": [
    "np.unique(y_train, return_counts=True), np.unique(y_test, return_counts=True)"
   ]
  },
  {
   "cell_type": "code",
   "execution_count": 44,
   "metadata": {},
   "outputs": [],
   "source": [
    "def sigmoid(z):\n",
    "    s = 1.0 / (1.0 + np.exp(-z))\n",
    "    return s"
   ]
  },
  {
   "cell_type": "code",
   "execution_count": 45,
   "metadata": {},
   "outputs": [],
   "source": [
    "def compute_loss(y, y_hat):\n",
    "    m = y.shape[1]\n",
    "    loss = -(1/m) * np.sum(np.multiply(y, np.log(y_hat)) + np.multiply((1-y), np.log(1-y_hat)))\n",
    "    return loss"
   ]
  },
  {
   "cell_type": "code",
   "execution_count": 46,
   "metadata": {},
   "outputs": [
    {
     "name": "stdout",
     "output_type": "stream",
     "text": [
      "W의 shape : (4, 1)\n",
      "X의 shpae : (4, 120)\n",
      "b의 shape : (1, 1)\n",
      "Z의 shape : (1, 120)\n",
      "A의 shape : (1, 120)\n",
      "cost의 value : 0.6924396879186446\n",
      "dW의 shape : (4, 1)\n",
      "db의 shape : (), Y의 shape (1, 120)\n"
     ]
    }
   ],
   "source": [
    "m = 60000\n",
    "learning_rate = 1\n",
    "\n",
    "X, Y = x_train, y_train\n",
    "n_x, m = X.shape[0], X.shape[1]\n",
    "\n",
    "W = np.random.randn(n_x, 1) * 0.01\n",
    "b = np.zeros((1, 1))\n",
    "\n",
    "Z = np.matmul(W.T, X) + b\n",
    "A = sigmoid(Z)\n",
    "\n",
    "cost = compute_loss(Y, A)\n",
    "\n",
    "dW = (1/m) * np.matmul(X, (Y-A).T)\n",
    "db = (1/m) * np.sum(Y-A)\n",
    "\n",
    "W -= learning_rate * dW\n",
    "b -= learning_rate * db\n",
    "\n",
    "print(f\"W의 shape : {W.shape}\\nX의 shpae : {X.shape}\\nb의 shape : {b.shape}\\nZ의 shape : {Z.shape}\\nA의 shape : {A.shape}\\ncost의 value : {cost}\")\n",
    "print(f\"dW의 shape : {dW.shape}\\ndb의 shape : {db.shape}, Y의 shape {Y.shape}\")"
   ]
  },
  {
   "cell_type": "code",
   "execution_count": 47,
   "metadata": {},
   "outputs": [
    {
     "name": "stdout",
     "output_type": "stream",
     "text": [
      "Epoch    0의 cost : 0.6941048511301275\n",
      "Epoch  100의 cost : 0.221563758385273\n",
      "Epoch  200의 cost : 0.13348031046976716\n",
      "Epoch  300의 cost : 0.09649635187351857\n",
      "Epoch  400의 cost : 0.07611181540319155\n",
      "Epoch  500의 cost : 0.06314600703797787\n",
      "Epoch  600의 cost : 0.05414073695256521\n",
      "Epoch  700의 cost : 0.04750330408643421\n",
      "Epoch  800의 cost : 0.042397128994964624\n",
      "Epoch  900의 cost : 0.03834000083922004\n",
      "Epoch 1000의 cost : 0.03503402742844641\n",
      "Epoch 1100의 cost : 0.032285027694207255\n",
      "Epoch 1200의 cost : 0.029960879150186234\n",
      "Epoch 1300의 cost : 0.027968478840440385\n",
      "Epoch 1400의 cost : 0.026240277458760685\n",
      "Epoch 1500의 cost : 0.024726041393971537\n",
      "Epoch 1600의 cost : 0.023387615741317327\n",
      "Epoch 1700의 cost : 0.022195484120121706\n",
      "Epoch 1800의 cost : 0.021126443892805342\n",
      "Epoch 1900의 cost : 0.020161995818563795\n",
      "Epoch 2000의 cost : 0.019287204036204434\n",
      "\n",
      "Final cost : 0.019287204036204434\n"
     ]
    }
   ],
   "source": [
    "learning_rate = 1\n",
    "\n",
    "X, Y = x_train, y_train\n",
    "n_x, m = X.shape[0], X.shape[1]\n",
    "\n",
    "W = np.random.randn(n_x, 1) * 0.01\n",
    "b = np.zeros((1, 1))\n",
    "\n",
    "for i in range(2001):\n",
    "    Z = np.matmul(W.T, X) + b\n",
    "    A = sigmoid(Z)\n",
    "    \n",
    "    cost = compute_loss(Y, A)\n",
    "    \n",
    "    dW = (1/m) * np.matmul(X, (A-Y).T)\n",
    "    db = (1/m) * np.sum(A - Y)\n",
    "\n",
    "    W -= learning_rate * dW\n",
    "    b -= learning_rate * db\n",
    "    \n",
    "    if i % 100 == 0:\n",
    "        print(f\"Epoch {i:4d}의 cost : {cost}\")\n",
    "print()       \n",
    "print(f\"Final cost : {cost}\")"
   ]
  },
  {
   "cell_type": "code",
   "execution_count": 48,
   "metadata": {},
   "outputs": [
    {
     "name": "stdout",
     "output_type": "stream",
     "text": [
      "[[21  0]\n",
      " [ 0  9]]\n"
     ]
    }
   ],
   "source": [
    "# To assess how well training performs, we'll see some accuracy measure\n",
    "from sklearn.metrics import classification_report, confusion_matrix\n",
    "\n",
    "Z = np.matmul(W.T, x_test) + b\n",
    "A = sigmoid(Z)\n",
    "\n",
    "predictions = (A > 0.5)[0, :]\n",
    "labels = (y_test == 1)[0, :]\n",
    "\n",
    "print(confusion_matrix(predictions, labels)) "
   ]
  },
  {
   "cell_type": "code",
   "execution_count": 49,
   "metadata": {},
   "outputs": [
    {
     "data": {
      "text/plain": [
       "(array([[False, False, False, False,  True, False, False, False, False,\n",
       "          True, False, False, False, False,  True,  True, False, False,\n",
       "          True, False, False,  True, False,  True, False, False, False,\n",
       "          True,  True, False]]),\n",
       " array([[False, False, False, False,  True, False, False, False, False,\n",
       "          True, False, False, False, False,  True,  True, False, False,\n",
       "          True, False, False,  True, False,  True, False, False, False,\n",
       "          True,  True, False]]))"
      ]
     },
     "execution_count": 49,
     "metadata": {},
     "output_type": "execute_result"
    }
   ],
   "source": [
    "A > 0.5, y_test == 1"
   ]
  },
  {
   "cell_type": "code",
   "execution_count": 51,
   "metadata": {},
   "outputs": [
    {
     "data": {
      "text/plain": [
       "30"
      ]
     },
     "execution_count": 51,
     "metadata": {},
     "output_type": "execute_result"
    }
   ],
   "source": [
    "len((A > 0.5)[0] == (y_test == 1)[0])"
   ]
  },
  {
   "cell_type": "code",
   "execution_count": 52,
   "metadata": {},
   "outputs": [
    {
     "name": "stdout",
     "output_type": "stream",
     "text": [
      "              precision    recall  f1-score   support\n",
      "\n",
      "       False       1.00      1.00      1.00        21\n",
      "        True       1.00      1.00      1.00         9\n",
      "\n",
      "    accuracy                           1.00        30\n",
      "   macro avg       1.00      1.00      1.00        30\n",
      "weighted avg       1.00      1.00      1.00        30\n",
      "\n"
     ]
    }
   ],
   "source": [
    "print(classification_report(predictions, labels))"
   ]
  },
  {
   "cell_type": "code",
   "execution_count": 1,
   "metadata": {},
   "outputs": [
    {
     "data": {
      "text/plain": [
       "913890"
      ]
     },
     "execution_count": 1,
     "metadata": {},
     "output_type": "execute_result"
    }
   ],
   "source": [
    "# 나의 한달 버짓\n",
    "913890"
   ]
  }
 ],
 "metadata": {
  "kernelspec": {
   "display_name": "tf_gpu",
   "language": "python",
   "name": "python3"
  },
  "language_info": {
   "codemirror_mode": {
    "name": "ipython",
    "version": 3
   },
   "file_extension": ".py",
   "mimetype": "text/x-python",
   "name": "python",
   "nbconvert_exporter": "python",
   "pygments_lexer": "ipython3",
   "version": "3.9.13"
  },
  "orig_nbformat": 4,
  "vscode": {
   "interpreter": {
    "hash": "7b18c970f1c267b2ae7de1f51c7b9ea29dc67f6c9f87d5b0ef47c4534e0830b3"
   }
  }
 },
 "nbformat": 4,
 "nbformat_minor": 2
}
