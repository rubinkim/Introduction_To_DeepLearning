{
 "cells": [
  {
   "cell_type": "code",
   "execution_count": 1,
   "metadata": {},
   "outputs": [],
   "source": [
    "import numpy as np\n",
    "import pandas as pd\n",
    "import matplotlib\n",
    "import matplotlib.pyplot as plt\n",
    "\n",
    "from sklearn.datasets import load_iris"
   ]
  },
  {
   "cell_type": "code",
   "execution_count": 71,
   "metadata": {},
   "outputs": [
    {
     "name": "stdout",
     "output_type": "stream",
     "text": [
      "data의 type : <class 'numpy.ndarray'>,  data의 shape : (150, 4)\n",
      "target의 type : <class 'numpy.ndarray'>,  target의 shape : (1, 150)\n"
     ]
    }
   ],
   "source": [
    "iris = load_iris()\n",
    "\n",
    "data, target = iris[\"data\"], iris[\"target\"].reshape(1, -1)\n",
    "print(f\"data의 type : {type(data)},  data의 shape : {data.shape}\")\n",
    "print(f\"target의 type : {type(target)},  target의 shape : {target.shape}\")"
   ]
  },
  {
   "cell_type": "code",
   "execution_count": 72,
   "metadata": {},
   "outputs": [
    {
     "data": {
      "text/plain": [
       "(array([0, 1, 2]), array([50, 50, 50], dtype=int64))"
      ]
     },
     "execution_count": 72,
     "metadata": {},
     "output_type": "execute_result"
    }
   ],
   "source": [
    "np.unique(target, return_counts=True)"
   ]
  },
  {
   "cell_type": "code",
   "execution_count": 73,
   "metadata": {},
   "outputs": [
    {
     "name": "stdout",
     "output_type": "stream",
     "text": [
      "7.9 0.1\n",
      "1.0 0.012658227848101266\n"
     ]
    }
   ],
   "source": [
    "print(np.max(data), np.min(data))\n",
    "\n",
    "# Normalize data to keep our gradients manageable\n",
    "data = data / 7.9\n",
    "print(np.max(data), np.min(data))"
   ]
  },
  {
   "cell_type": "code",
   "execution_count": 74,
   "metadata": {},
   "outputs": [
    {
     "data": {
      "text/plain": [
       "(array([0, 1, 2]), array([50, 50, 50], dtype=int64))"
      ]
     },
     "execution_count": 74,
     "metadata": {},
     "output_type": "execute_result"
    }
   ],
   "source": [
    "np.unique(target, return_counts=True)"
   ]
  },
  {
   "cell_type": "code",
   "execution_count": 78,
   "metadata": {},
   "outputs": [
    {
     "name": "stdout",
     "output_type": "stream",
     "text": [
      "[143  71  65 100  47  72  88 127 111  15  53 134 112 114  49  29  63 110\n",
      "  28  58 131  39  77  22 101  52 116   3  25  87]\n"
     ]
    }
   ],
   "source": [
    "# We'll shuffle the training set for a good measure\n",
    "np.random.seed(2023)\n",
    "shuffle_index = np.random.permutation(len(data))\n",
    "# print(shuffle_index)\n",
    "train_idx, test_idx = shuffle_index[:120], shuffle_index[120:]\n",
    "print(test_idx)"
   ]
  },
  {
   "cell_type": "code",
   "execution_count": 64,
   "metadata": {},
   "outputs": [],
   "source": [
    "# To build a zero-classifier, map target value of 0 into 1 and map all other target values into 0\n",
    "target_new = np.zeros(target.shape)\n",
    "target_new[np.where(target == 0)] = 1\n",
    "target = target_new"
   ]
  },
  {
   "cell_type": "code",
   "execution_count": 81,
   "metadata": {},
   "outputs": [
    {
     "name": "stdout",
     "output_type": "stream",
     "text": [
      "x_train의 shape : (4, 120),   y_train의 shape : (1, 120)\n",
      "x_test의  shape : (4, 30),   y_test의 shape :  (1, 30)\n"
     ]
    }
   ],
   "source": [
    "# We'll split data into train and test set. We also transpose data to keep each example as a column.\n",
    "x_train, x_test = data[train_idx].T, data[test_idx].T\n",
    "y_train, y_test = target[:, train_idx], target[:, test_idx]\n",
    "\n",
    "print(f\"x_train의 shape : {x_train.shape},   y_train의 shape : {y_train.shape}\")\n",
    "print(f\"x_test의  shape : {x_test.shape},   y_test의 shape :  {y_test.shape}\")"
   ]
  },
  {
   "cell_type": "code",
   "execution_count": 69,
   "metadata": {},
   "outputs": [
    {
     "data": {
      "text/plain": [
       "((array([0., 1.]), array([70, 50], dtype=int64)),\n",
       " (array([0.]), array([30], dtype=int64)))"
      ]
     },
     "execution_count": 69,
     "metadata": {},
     "output_type": "execute_result"
    }
   ],
   "source": [
    "np.unique(y_train, return_counts=True), np.unique(y_test, return_counts=True)"
   ]
  },
  {
   "cell_type": "code",
   "execution_count": 27,
   "metadata": {},
   "outputs": [],
   "source": [
    "def sigmoid(z):\n",
    "    s = 1.0 / (1.0 + np.exp(-z))\n",
    "    return s"
   ]
  },
  {
   "cell_type": "code",
   "execution_count": 28,
   "metadata": {},
   "outputs": [],
   "source": [
    "def compute_loss(y, y_hat):\n",
    "    m = y.shape[1]\n",
    "    loss = -(1/m) * np.sum(np.multiply(y, np.log(y_hat)) + np.multiply((1-y), np.log(1-y_hat)))\n",
    "    return loss"
   ]
  },
  {
   "cell_type": "code",
   "execution_count": 29,
   "metadata": {},
   "outputs": [
    {
     "name": "stdout",
     "output_type": "stream",
     "text": [
      "W의 shape : (4, 1)\n",
      "X의 shpae : (4, 120)\n",
      "b의 shape : (1, 1)\n",
      "Z의 shape : (1, 120)\n",
      "A의 shape : (1, 120)\n",
      "cost의 value : 0.6913363486331121\n",
      "dW의 shape : (4, 1)\n",
      "db의 shape : (), Y의 shape (1, 120)\n"
     ]
    }
   ],
   "source": [
    "m = 60000\n",
    "learning_rate = 1\n",
    "\n",
    "X, Y = x_train, y_train\n",
    "n_x, m = X.shape[0], X.shape[1]\n",
    "\n",
    "W = np.random.randn(n_x, 1) * 0.01\n",
    "b = np.zeros((1, 1))\n",
    "\n",
    "Z = np.matmul(W.T, X) + b\n",
    "A = sigmoid(Z)\n",
    "\n",
    "cost = compute_loss(Y, A)\n",
    "\n",
    "dW = (1/m) * np.matmul(X, (Y-A).T)\n",
    "db = (1/m) * np.sum(Y-A)\n",
    "\n",
    "W -= learning_rate * dW\n",
    "b -= learning_rate * db\n",
    "\n",
    "print(f\"W의 shape : {W.shape}\\nX의 shpae : {X.shape}\\nb의 shape : {b.shape}\\nZ의 shape : {Z.shape}\\nA의 shape : {A.shape}\\ncost의 value : {cost}\")\n",
    "print(f\"dW의 shape : {dW.shape}\\ndb의 shape : {db.shape}, Y의 shape {Y.shape}\")"
   ]
  },
  {
   "cell_type": "code",
   "execution_count": 30,
   "metadata": {},
   "outputs": [
    {
     "name": "stdout",
     "output_type": "stream",
     "text": [
      "Epoch    0의 cost : 0.6924733135364344\n",
      "Epoch  100의 cost : 0.23817671404614882\n",
      "Epoch  200의 cost : 0.14249143934333022\n",
      "Epoch  300의 cost : 0.10221388345302652\n",
      "Epoch  400의 cost : 0.08008600544527969\n",
      "Epoch  500의 cost : 0.06607778253209391\n",
      "Epoch  600의 cost : 0.05639576318346241\n",
      "Epoch  700의 cost : 0.04929222555773965\n",
      "Epoch  800의 cost : 0.04385042952917087\n",
      "Epoch  900의 cost : 0.03954311624149281\n",
      "Epoch 1000의 cost : 0.036045396089887674\n",
      "Epoch 1100의 cost : 0.03314605860534258\n",
      "Epoch 1200의 cost : 0.030701782019168813\n",
      "Epoch 1300의 cost : 0.02861183862290324\n",
      "Epoch 1400의 cost : 0.026803333988883727\n",
      "Epoch 1500의 cost : 0.02522219258391912\n",
      "Epoch 1600의 cost : 0.02382743765017366\n",
      "Epoch 1700의 cost : 0.02258744063553549\n",
      "Epoch 1800의 cost : 0.021477391373601936\n",
      "Epoch 1900의 cost : 0.020477548933156977\n",
      "Epoch 2000의 cost : 0.01957200557408419\n",
      "\n",
      "Final cost : 0.01957200557408419\n"
     ]
    }
   ],
   "source": [
    "learning_rate = 1\n",
    "\n",
    "X, Y = x_train, y_train\n",
    "n_x, m = X.shape[0], X.shape[1]\n",
    "\n",
    "W = np.random.randn(n_x, 1) * 0.01\n",
    "b = np.zeros((1, 1))\n",
    "\n",
    "for i in range(2001):\n",
    "    Z = np.matmul(W.T, X) + b\n",
    "    A = sigmoid(Z)\n",
    "    \n",
    "    cost = compute_loss(Y, A)\n",
    "    \n",
    "    dW = (1/m) * np.matmul(X, (A-Y).T)\n",
    "    db = (1/m) * np.sum(A - Y)\n",
    "\n",
    "    W -= learning_rate * dW\n",
    "    b -= learning_rate * db\n",
    "    \n",
    "    if i % 100 == 0:\n",
    "        print(f\"Epoch {i:4d}의 cost : {cost}\")\n",
    "print()       \n",
    "print(f\"Final cost : {cost}\")"
   ]
  },
  {
   "cell_type": "code",
   "execution_count": 31,
   "metadata": {},
   "outputs": [
    {
     "name": "stdout",
     "output_type": "stream",
     "text": [
      "[[30]]\n"
     ]
    }
   ],
   "source": [
    "# To assess how well training performs, we'll see some accuracy measure\n",
    "from sklearn.metrics import classification_report, confusion_matrix\n",
    "\n",
    "Z = np.matmul(W.T, x_test) + b\n",
    "A = sigmoid(Z)\n",
    "\n",
    "predictions = (A > 0.5)[0, :]\n",
    "labels = (y_test == 1)[0, :]\n",
    "\n",
    "print(confusion_matrix(predictions, labels)) "
   ]
  },
  {
   "cell_type": "code",
   "execution_count": 34,
   "metadata": {},
   "outputs": [
    {
     "data": {
      "text/plain": [
       "(array([[False, False, False, False, False, False, False, False, False,\n",
       "         False, False, False, False, False, False, False, False, False,\n",
       "         False, False, False, False, False, False, False, False, False,\n",
       "         False, False, False]]),\n",
       " array([[False, False, False, False, False, False, False, False, False,\n",
       "         False, False, False, False, False, False, False, False, False,\n",
       "         False, False, False, False, False, False, False, False, False,\n",
       "         False, False, False]]))"
      ]
     },
     "execution_count": 34,
     "metadata": {},
     "output_type": "execute_result"
    }
   ],
   "source": [
    "A > 0.5, y_test == 1"
   ]
  },
  {
   "cell_type": "code",
   "execution_count": 35,
   "metadata": {},
   "outputs": [
    {
     "data": {
      "text/plain": [
       "array([[1., 1., 1., 1., 1., 1., 1., 1., 1., 1., 1., 1., 1., 1., 1., 1.,\n",
       "        1., 1., 1., 1., 1., 1., 1., 1., 1., 1., 1., 1., 1., 1., 1., 1.,\n",
       "        1., 1., 1., 1., 1., 1., 1., 1., 1., 1., 1., 1., 1., 1., 1., 1.,\n",
       "        1., 1., 0., 0., 0., 0., 0., 0., 0., 0., 0., 0., 0., 0., 0., 0.,\n",
       "        0., 0., 0., 0., 0., 0., 0., 0., 0., 0., 0., 0., 0., 0., 0., 0.,\n",
       "        0., 0., 0., 0., 0., 0., 0., 0., 0., 0., 0., 0., 0., 0., 0., 0.,\n",
       "        0., 0., 0., 0., 0., 0., 0., 0., 0., 0., 0., 0., 0., 0., 0., 0.,\n",
       "        0., 0., 0., 0., 0., 0., 0., 0., 0., 0., 0., 0., 0., 0., 0., 0.,\n",
       "        0., 0., 0., 0., 0., 0., 0., 0., 0., 0., 0., 0., 0., 0., 0., 0.,\n",
       "        0., 0., 0., 0., 0., 0.]])"
      ]
     },
     "execution_count": 35,
     "metadata": {},
     "output_type": "execute_result"
    }
   ],
   "source": [
    "target"
   ]
  },
  {
   "cell_type": "code",
   "execution_count": 38,
   "metadata": {},
   "outputs": [
    {
     "data": {
      "text/plain": [
       "(array([0., 1.]), array([70, 50], dtype=int64))"
      ]
     },
     "execution_count": 38,
     "metadata": {},
     "output_type": "execute_result"
    }
   ],
   "source": [
    "np.unique(y_train, return_counts=True)"
   ]
  }
 ],
 "metadata": {
  "kernelspec": {
   "display_name": "tf_gpu",
   "language": "python",
   "name": "python3"
  },
  "language_info": {
   "codemirror_mode": {
    "name": "ipython",
    "version": 3
   },
   "file_extension": ".py",
   "mimetype": "text/x-python",
   "name": "python",
   "nbconvert_exporter": "python",
   "pygments_lexer": "ipython3",
   "version": "3.9.13"
  },
  "orig_nbformat": 4,
  "vscode": {
   "interpreter": {
    "hash": "7b18c970f1c267b2ae7de1f51c7b9ea29dc67f6c9f87d5b0ef47c4534e0830b3"
   }
  }
 },
 "nbformat": 4,
 "nbformat_minor": 2
}
