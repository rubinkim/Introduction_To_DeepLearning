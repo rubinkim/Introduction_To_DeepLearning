{
 "cells": [
  {
   "cell_type": "code",
   "execution_count": 1,
   "metadata": {},
   "outputs": [],
   "source": [
    "import numpy as np\n",
    "import pandas as pd\n",
    "import matplotlib.pyplot as plt\n",
    "\n",
    "from sklearn.datasets import fetch_openml"
   ]
  },
  {
   "cell_type": "code",
   "execution_count": null,
   "metadata": {},
   "outputs": [],
   "source": [
    "mnist = fetch_openml('mnist_784')"
   ]
  },
  {
   "cell_type": "code",
   "execution_count": 8,
   "metadata": {},
   "outputs": [
    {
     "name": "stdout",
     "output_type": "stream",
     "text": [
      "data의 type : <class 'pandas.core.frame.DataFrame'>,  data의 shape : (70000, 784)\n",
      "target의 type : <class 'pandas.core.series.Series'>,  target의 shape : (70000,)\n"
     ]
    }
   ],
   "source": [
    "data, target = mnist[\"data\"], mnist[\"target\"]\n",
    "print(f\"data의 type : {type(data)},  data의 shape : {data.shape}\")\n",
    "print(f\"target의 type : {type(target)},  target의 shape : {target.shape}\")"
   ]
  },
  {
   "cell_type": "code",
   "execution_count": 9,
   "metadata": {},
   "outputs": [
    {
     "data": {
      "text/plain": [
       "CategoricalDtype(categories=['0', '1', '2', '3', '4', '5', '6', '7', '8', '9'], ordered=False)"
      ]
     },
     "execution_count": 9,
     "metadata": {},
     "output_type": "execute_result"
    }
   ],
   "source": [
    "target.dtypes"
   ]
  },
  {
   "cell_type": "code",
   "execution_count": 14,
   "metadata": {},
   "outputs": [],
   "source": [
    "data, target = mnist[\"data\"], mnist[\"target\"]"
   ]
  },
  {
   "cell_type": "code",
   "execution_count": 15,
   "metadata": {},
   "outputs": [
    {
     "name": "stdout",
     "output_type": "stream",
     "text": [
      "data의 type :   <class 'numpy.ndarray'>,  data의 shape : (70000, 784)\n",
      "target의 type : <class 'numpy.ndarray'>,  target의 shape : (70000,),   target element의 type : <class 'numpy.int8'>\n"
     ]
    }
   ],
   "source": [
    "# Since data type of all elements of target is string, we'll convert them into integer\n",
    "target = target.astype(np.int8)\n",
    "\n",
    "# We'll extract only values from data and target.\n",
    "data, target = data.values, target.values\n",
    "\n",
    "print(f\"data의 type :   {type(data)},  data의 shape : {data.shape}\")\n",
    "print(f\"target의 type : {type(target)},  target의 shape : {target.shape},   target element의 type : {type(target[0])}\")"
   ]
  }
 ],
 "metadata": {
  "kernelspec": {
   "display_name": "tf_gpu",
   "language": "python",
   "name": "python3"
  },
  "language_info": {
   "codemirror_mode": {
    "name": "ipython",
    "version": 3
   },
   "file_extension": ".py",
   "mimetype": "text/x-python",
   "name": "python",
   "nbconvert_exporter": "python",
   "pygments_lexer": "ipython3",
   "version": "3.9.13"
  },
  "orig_nbformat": 4,
  "vscode": {
   "interpreter": {
    "hash": "7b18c970f1c267b2ae7de1f51c7b9ea29dc67f6c9f87d5b0ef47c4534e0830b3"
   }
  }
 },
 "nbformat": 4,
 "nbformat_minor": 2
}
