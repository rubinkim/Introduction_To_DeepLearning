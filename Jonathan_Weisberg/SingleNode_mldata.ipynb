{
 "cells": [
  {
   "cell_type": "code",
   "execution_count": 2,
   "metadata": {},
   "outputs": [],
   "source": [
    "# Because fetch_mldata is deprecated since scikit-learn 0.20, we'll use fetch_openml instead.\n",
    "\n",
    "import numpy as np\n",
    "import pandas as pd\n",
    "from sklearn.datasets import fetch_openml\n",
    "\n",
    "pd.set_option('display.max_columns', 18)\n",
    "pd.set_option('display.width', 300)"
   ]
  },
  {
   "cell_type": "code",
   "execution_count": 3,
   "metadata": {},
   "outputs": [],
   "source": [
    "mnist = fetch_openml('mnist_784', version=1, cache=True)"
   ]
  },
  {
   "cell_type": "code",
   "execution_count": 4,
   "metadata": {},
   "outputs": [
    {
     "name": "stdout",
     "output_type": "stream",
     "text": [
      "['DESCR', 'categories', 'data', 'details', 'feature_names', 'frame', 'target', 'target_names', 'url']\n"
     ]
    },
    {
     "data": {
      "text/plain": [
       "(70000, pandas.core.series.Series, 70000, pandas.core.frame.DataFrame)"
      ]
     },
     "execution_count": 4,
     "metadata": {},
     "output_type": "execute_result"
    }
   ],
   "source": [
    "print(dir(mnist))\n",
    "len(mnist['target']), type(mnist['target']), len(mnist['data']), type(mnist['data'])"
   ]
  },
  {
   "cell_type": "code",
   "execution_count": 5,
   "metadata": {},
   "outputs": [
    {
     "name": "stdout",
     "output_type": "stream",
     "text": [
      "https://www.openml.org/d/554\n",
      "\n",
      "       pixel1  pixel2  pixel3  pixel4  pixel5  pixel6  pixel7  pixel8  pixel9  ...  pixel776  pixel777  pixel778  pixel779  pixel780  pixel781  pixel782  pixel783  pixel784\n",
      "69995     0.0     0.0     0.0     0.0     0.0     0.0     0.0     0.0     0.0  ...       0.0       0.0       0.0       0.0       0.0       0.0       0.0       0.0       0.0\n",
      "69996     0.0     0.0     0.0     0.0     0.0     0.0     0.0     0.0     0.0  ...       0.0       0.0       0.0       0.0       0.0       0.0       0.0       0.0       0.0\n",
      "69997     0.0     0.0     0.0     0.0     0.0     0.0     0.0     0.0     0.0  ...       0.0       0.0       0.0       0.0       0.0       0.0       0.0       0.0       0.0\n",
      "69998     0.0     0.0     0.0     0.0     0.0     0.0     0.0     0.0     0.0  ...       0.0       0.0       0.0       0.0       0.0       0.0       0.0       0.0       0.0\n",
      "69999     0.0     0.0     0.0     0.0     0.0     0.0     0.0     0.0     0.0  ...       0.0       0.0       0.0       0.0       0.0       0.0       0.0       0.0       0.0\n",
      "\n",
      "[5 rows x 784 columns]\n",
      "\n",
      "['class']\n",
      "69995    2\n",
      "69996    3\n",
      "69997    4\n",
      "69998    5\n",
      "69999    6\n",
      "Name: class, dtype: category\n",
      "Categories (10, object): ['0', '1', '2', '3', ..., '6', '7', '8', '9']\n",
      "\n",
      "**Author**: Yann LeCun, Corinna Cortes, Christopher J.C. Burges  \n",
      "**Source**: [MNIST Website](http://yann.lecun.com/exdb/mnist/) - Date unknown  \n",
      "**Please cite**:  \n",
      "\n",
      "The MNIST database of handwritten digits with 784 features, raw data available at: http://yann.lecun.com/exdb/mnist/. It can be split in a training set of the first 60,000 examples, and a test set of 10,000 examples  \n",
      "\n",
      "It is a subset of a larger set available from NIST. The digits have been size-normalized and centered in a fixed-size image. It is a good database for people who want to try learning techniques and pattern recognition methods on real-world data while spending minimal efforts on preprocessing and formatting. The original black and white (bilevel) images from NIST were size normalized to fit in a 20x20 pixel box while preserving their aspect ratio. The resulting images contain grey levels as a result of the anti-aliasing technique used by the normalization algorithm. the images were centered in a 28x28 image by computing the center of mass of the pixels, and translating the image so as to position this point at the center of the 28x28 field.  \n",
      "\n",
      "With some classification methods (particularly template-based methods, such as SVM and K-nearest neighbors), the error rate improves when the digits are centered by bounding box rather than center of mass. If you do this kind of pre-processing, you should report it in your publications. The MNIST database was constructed from NIST's NIST originally designated SD-3 as their training set and SD-1 as their test set. However, SD-3 is much cleaner and easier to recognize than SD-1. The reason for this can be found on the fact that SD-3 was collected among Census Bureau employees, while SD-1 was collected among high-school students. Drawing sensible conclusions from learning experiments requires that the result be independent of the choice of training set and test among the complete set of samples. Therefore it was necessary to build a new database by mixing NIST's datasets.  \n",
      "\n",
      "The MNIST training set is composed of 30,000 patterns from SD-3 and 30,000 patterns from SD-1. Our test set was composed of 5,000 patterns from SD-3 and 5,000 patterns from SD-1. The 60,000 pattern training set contained examples from approximately 250 writers. We made sure that the sets of writers of the training set and test set were disjoint. SD-1 contains 58,527 digit images written by 500 different writers. In contrast to SD-3, where blocks of data from each writer appeared in sequence, the data in SD-1 is scrambled. Writer identities for SD-1 is available and we used this information to unscramble the writers. We then split SD-1 in two: characters written by the first 250 writers went into our new training set. The remaining 250 writers were placed in our test set. Thus we had two sets with nearly 30,000 examples each. The new training set was completed with enough examples from SD-3, starting at pattern # 0, to make a full set of 60,000 training patterns. Similarly, the new test set was completed with SD-3 examples starting at pattern # 35,000 to make a full set with 60,000 test patterns. Only a subset of 10,000 test images (5,000 from SD-1 and 5,000 from SD-3) is available on this site. The full 60,000 sample training set is available.\n",
      "\n",
      "Downloaded from openml.org.\n"
     ]
    }
   ],
   "source": [
    "print(mnist['url'])\n",
    "print()\n",
    "\n",
    "print(mnist['data'].tail())\n",
    "print()\n",
    "\n",
    "print(mnist['target_names'])\n",
    "print(mnist['target'].tail())\n",
    "print()\n",
    "print(mnist['DESCR'])"
   ]
  },
  {
   "cell_type": "code",
   "execution_count": 6,
   "metadata": {},
   "outputs": [
    {
     "data": {
      "text/plain": [
       "CategoricalDtype(categories=['0', '1', '2', '3', '4', '5', '6', '7', '8', '9'], ordered=False)"
      ]
     },
     "execution_count": 6,
     "metadata": {},
     "output_type": "execute_result"
    }
   ],
   "source": [
    "mnist['target'].dtype"
   ]
  },
  {
   "cell_type": "code",
   "execution_count": 7,
   "metadata": {},
   "outputs": [
    {
     "data": {
      "text/plain": [
       "dtype('int8')"
      ]
     },
     "execution_count": 7,
     "metadata": {},
     "output_type": "execute_result"
    }
   ],
   "source": [
    "# Since dtype of mnist['target'] is Category having a set of strings, we need to covert it to integer\n",
    "mnist['target'] = mnist['target'].astype(np.int8)\n",
    "\n",
    "mnist['target'].dtype"
   ]
  },
  {
   "cell_type": "code",
   "execution_count": 8,
   "metadata": {},
   "outputs": [
    {
     "name": "stdout",
     "output_type": "stream",
     "text": [
      "0    5\n",
      "1    0\n",
      "2    4\n",
      "3    1\n",
      "4    9\n",
      "Name: class, dtype: int8\n"
     ]
    }
   ],
   "source": [
    "print(mnist['target'].head())"
   ]
  },
  {
   "cell_type": "code",
   "execution_count": 9,
   "metadata": {},
   "outputs": [],
   "source": [
    "x, y = mnist[\"data\"], mnist[\"target\"]\n",
    "\n",
    "# We'll normalize the data to keep our gradient descents manageable\n",
    "x = x / 255"
   ]
  },
  {
   "cell_type": "code",
   "execution_count": 13,
   "metadata": {},
   "outputs": [
    {
     "data": {
      "text/plain": [
       "((70000, 784), (70000,))"
      ]
     },
     "execution_count": 13,
     "metadata": {},
     "output_type": "execute_result"
    }
   ],
   "source": [
    "x.shape, y.shape"
   ]
  },
  {
   "cell_type": "code",
   "execution_count": 11,
   "metadata": {},
   "outputs": [
    {
     "data": {
      "text/plain": [
       "0    6903\n",
       "1    7877\n",
       "2    6990\n",
       "3    7141\n",
       "4    6824\n",
       "5    6313\n",
       "6    6876\n",
       "7    7293\n",
       "8    6825\n",
       "9    6958\n",
       "Name: class, dtype: int64"
      ]
     },
     "execution_count": 11,
     "metadata": {},
     "output_type": "execute_result"
    }
   ],
   "source": [
    "# Check the distribution of target values\n",
    "y.value_counts().sort_index()"
   ]
  },
  {
   "cell_type": "code",
   "execution_count": 14,
   "metadata": {},
   "outputs": [],
   "source": [
    "# As building a zero-classifer, we label 1 for the target 0 and 0 otherwise. Note that y has type change from pd.Series to np.array.\n",
    "y_new = np.zeros(y.shape)\n",
    "y_new[np.where(y==0)] = 1\n",
    "y = y_new"
   ]
  },
  {
   "cell_type": "code",
   "execution_count": 16,
   "metadata": {},
   "outputs": [
    {
     "data": {
      "text/plain": [
       "(array([0., 1.]), array([63097,  6903], dtype=int64))"
      ]
     },
     "execution_count": 16,
     "metadata": {},
     "output_type": "execute_result"
    }
   ],
   "source": [
    "np.unique(y, return_counts=True)"
   ]
  },
  {
   "cell_type": "code",
   "execution_count": 23,
   "metadata": {},
   "outputs": [
    {
     "name": "stdout",
     "output_type": "stream",
     "text": [
      "<class 'pandas.core.frame.DataFrame'> <class 'numpy.ndarray'>\n",
      "<class 'numpy.ndarray'> <class 'numpy.ndarray'>\n"
     ]
    }
   ],
   "source": [
    "print(type(x), type(y))\n",
    "\n",
    "# Since type of x is pd.DataFrame, we'll convert it into np.array\n",
    "x = x.values\n",
    "print(type(x), type(y))"
   ]
  },
  {
   "cell_type": "code",
   "execution_count": 24,
   "metadata": {},
   "outputs": [
    {
     "data": {
      "text/plain": [
       "((70000, 784), (70000,))"
      ]
     },
     "execution_count": 24,
     "metadata": {},
     "output_type": "execute_result"
    }
   ],
   "source": [
    "x.shape, y.shape"
   ]
  },
  {
   "cell_type": "code",
   "execution_count": 25,
   "metadata": {},
   "outputs": [],
   "source": [
    "# We make the data split into train/test (60000 vs 10000). We alse transform each example\n",
    "m = 60000\n",
    "m_test = x.shape[0] - m\n",
    "\n",
    "x_train, x_test = x[:m].T,  x[m:].T\n",
    "y_train, y_test = y[:m].reshape(1, m), y[m:].reshape(1, m_test)"
   ]
  },
  {
   "cell_type": "code",
   "execution_count": 26,
   "metadata": {},
   "outputs": [
    {
     "data": {
      "text/plain": [
       "((784, 60000), (1, 60000), (784, 10000), (1, 10000))"
      ]
     },
     "execution_count": 26,
     "metadata": {},
     "output_type": "execute_result"
    }
   ],
   "source": [
    "x_train.shape, y_train.shape, x_test.shape, y_test.shape"
   ]
  },
  {
   "cell_type": "code",
   "execution_count": 27,
   "metadata": {},
   "outputs": [],
   "source": [
    "# Finally we'll shuffle the training data set for good measure\n",
    "np.random.seed(138)\n",
    "shuffle_index = np.random.permutation(m)\n",
    "x_train, y_train = x_train[:, shuffle_index], y_train[:, shuffle_index]"
   ]
  },
  {
   "cell_type": "code",
   "execution_count": 31,
   "metadata": {},
   "outputs": [
    {
     "name": "stdout",
     "output_type": "stream",
     "text": [
      "x_train ::  type : <class 'numpy.ndarray'>  & shape : (784, 60000)\n",
      "y_train ::  type : <class 'numpy.ndarray'>  & shape : (1, 60000)\n",
      "x_test  ::  type : <class 'numpy.ndarray'>  & shape : (784, 10000)\n",
      "y_test  ::  type : <class 'numpy.ndarray'>  & shape : (1, 10000)\n"
     ]
    }
   ],
   "source": [
    "# Finally we'll check the type and shape of our dataset\n",
    "print(f\"x_train ::  type : {type(x_train)}  & shape : {x_train.shape}\")\n",
    "print(f\"y_train ::  type : {type(y_train)}  & shape : {y_train.shape}\")\n",
    "print(f\"x_test  ::  type : {type(x_test)}  & shape : {x_test.shape}\")\n",
    "print(f\"y_test  ::  type : {type(y_test)}  & shape : {y_test.shape}\")"
   ]
  },
  {
   "cell_type": "code",
   "execution_count": null,
   "metadata": {},
   "outputs": [],
   "source": []
  }
 ],
 "metadata": {
  "kernelspec": {
   "display_name": "tf_gpu",
   "language": "python",
   "name": "python3"
  },
  "language_info": {
   "codemirror_mode": {
    "name": "ipython",
    "version": 3
   },
   "file_extension": ".py",
   "mimetype": "text/x-python",
   "name": "python",
   "nbconvert_exporter": "python",
   "pygments_lexer": "ipython3",
   "version": "3.9.13"
  },
  "orig_nbformat": 4,
  "vscode": {
   "interpreter": {
    "hash": "7b18c970f1c267b2ae7de1f51c7b9ea29dc67f6c9f87d5b0ef47c4534e0830b3"
   }
  }
 },
 "nbformat": 4,
 "nbformat_minor": 2
}
