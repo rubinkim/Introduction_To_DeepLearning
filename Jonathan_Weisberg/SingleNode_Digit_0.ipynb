{
 "cells": [
  {
   "attachments": {},
   "cell_type": "markdown",
   "metadata": {},
   "source": [
    "##### Hello, MNIST"
   ]
  },
  {
   "cell_type": "code",
   "execution_count": 1,
   "metadata": {},
   "outputs": [],
   "source": [
    "# import mnist dataset from sklearn\n",
    "from sklearn.datasets import load_digits"
   ]
  },
  {
   "cell_type": "code",
   "execution_count": 3,
   "metadata": {},
   "outputs": [
    {
     "name": "stdout",
     "output_type": "stream",
     "text": [
      "<class 'numpy.ndarray'> (1797, 64)\n",
      "<class 'numpy.ndarray'> (1797,)\n"
     ]
    }
   ],
   "source": [
    "# load_digits() is a short version of mnist dataset\n",
    "\"\"\"\n",
    "mnist = load_digits()\n",
    "x, y = mnist['data'], mnist['target']\n",
    "\n",
    "print(type(x), x.shape)\n",
    "print(type(y), y.shape)\n",
    "\"\"\""
   ]
  },
  {
   "cell_type": "code",
   "execution_count": 36,
   "metadata": {},
   "outputs": [
    {
     "name": "stdout",
     "output_type": "stream",
     "text": [
      "(70000, 784) (70000,)\n"
     ]
    }
   ],
   "source": [
    "# import mnist dataset from sklearn\n",
    "from sklearn.datasets import fetch_openml\n",
    "mnist = fetch_openml('mnist_784')\n",
    "x, y = mnist['data'].values, mnist['target']\n",
    "\n",
    "print(x.shape, y.shape)"
   ]
  },
  {
   "cell_type": "code",
   "execution_count": 37,
   "metadata": {},
   "outputs": [
    {
     "name": "stdout",
     "output_type": "stream",
     "text": [
      "<class 'numpy.ndarray'> <class 'pandas.core.series.Series'>\n",
      "<class 'numpy.ndarray'> <class 'pandas.core.arrays.categorical.Categorical'>\n",
      "(70000, 784) (70000,)\n"
     ]
    }
   ],
   "source": [
    "print(type(x), type(y))\n",
    "\n",
    "y = y.values\n",
    "print(type(x), type(y))\n",
    "print(x.shape, y.shape)"
   ]
  },
  {
   "cell_type": "code",
   "execution_count": 38,
   "metadata": {},
   "outputs": [
    {
     "name": "stdout",
     "output_type": "stream",
     "text": [
      "<class 'str'>\n",
      "<class 'numpy.int32'>\n"
     ]
    }
   ],
   "source": [
    "print(type(y[0]))\n",
    "y = y.astype(int)\n",
    "print(type(y[0]))"
   ]
  },
  {
   "cell_type": "code",
   "execution_count": 39,
   "metadata": {},
   "outputs": [
    {
     "name": "stdout",
     "output_type": "stream",
     "text": [
      "<class 'numpy.ndarray'>\n"
     ]
    },
    {
     "data": {
      "text/plain": [
       "(array([0, 1, 2, 3, 4, 5, 6, 7, 8, 9]),\n",
       " array([6903, 7877, 6990, 7141, 6824, 6313, 6876, 7293, 6825, 6958],\n",
       "       dtype=int64))"
      ]
     },
     "execution_count": 39,
     "metadata": {},
     "output_type": "execute_result"
    }
   ],
   "source": [
    "import numpy as np\n",
    "\n",
    "print(type(y))\n",
    "np.unique(y, return_counts=True)"
   ]
  },
  {
   "cell_type": "code",
   "execution_count": 41,
   "metadata": {},
   "outputs": [],
   "source": [
    "# normalize x to keep our gradients manageable\n",
    "x = x / 255"
   ]
  },
  {
   "cell_type": "code",
   "execution_count": 42,
   "metadata": {},
   "outputs": [],
   "source": [
    "# to build a zero-classifier, make the label 1 when we have a zero, and 0 otherwise\n",
    "y_new = np.zeros(shape=y.shape)\n",
    "y_new[np.where(y == 8)] = 1\n",
    "y = y_new"
   ]
  },
  {
   "cell_type": "code",
   "execution_count": 48,
   "metadata": {},
   "outputs": [
    {
     "data": {
      "text/plain": [
       "(array([0., 1.]), array([63175,  6825], dtype=int64))"
      ]
     },
     "execution_count": 48,
     "metadata": {},
     "output_type": "execute_result"
    }
   ],
   "source": [
    "np.unique(y, return_counts=True)"
   ]
  },
  {
   "cell_type": "code",
   "execution_count": 58,
   "metadata": {},
   "outputs": [
    {
     "name": "stdout",
     "output_type": "stream",
     "text": [
      "(784, 60000) (60000,) (784, 10000) (10000,)\n",
      "(784,) (60000,)\n"
     ]
    }
   ],
   "source": [
    "# we can make our train/test split. we'll also transform the data into the shape we want, with each example in a column(instead of a row)\n",
    "m = 60000\n",
    "m_test = x.shape[0] - m\n",
    "\n",
    "x_train, x_test = x[:m].T, x[m:].T\n",
    "y_train, y_test = y[:m], y[m:]\n",
    "\n",
    "print(x_train.shape, y_train.shape, x_test.shape, y_test.shape)\n",
    "print(x_train[:,0].shape, y_train.shape)"
   ]
  },
  {
   "cell_type": "code",
   "execution_count": 37,
   "metadata": {},
   "outputs": [
    {
     "name": "stdout",
     "output_type": "stream",
     "text": [
      "(784, 1)\n",
      "(1,)\n"
     ]
    }
   ],
   "source": [
    "\"\"\"\n",
    "x_train_0 = x_train[:, 0].reshape(-1, 1)\n",
    "y_train_0 = np.array([y_train[0, 0]])\n",
    "print(x_train_0.shape)\n",
    "print(y_train_0.shape)\n",
    "\"\"\""
   ]
  },
  {
   "cell_type": "code",
   "execution_count": 62,
   "metadata": {},
   "outputs": [
    {
     "data": {
      "text/plain": [
       "array([0., 0., 0., ..., 0., 0., 1.])"
      ]
     },
     "execution_count": 62,
     "metadata": {},
     "output_type": "execute_result"
    }
   ],
   "source": [
    "y_train"
   ]
  },
  {
   "cell_type": "code",
   "execution_count": 68,
   "metadata": {},
   "outputs": [
    {
     "name": "stdout",
     "output_type": "stream",
     "text": [
      "[0. 1.] [54149  5851]\n"
     ]
    }
   ],
   "source": [
    "q, w = np.unique(y_train, return_counts=True)\n",
    "print(q, w)"
   ]
  },
  {
   "cell_type": "code",
   "execution_count": 27,
   "metadata": {},
   "outputs": [
    {
     "name": "stdout",
     "output_type": "stream",
     "text": [
      "(784, 60000) (1, 60000)\n"
     ]
    }
   ],
   "source": [
    "# finally we shuffle the training set for good measure\n",
    "np.random.seed(138)\n",
    "shuffle_index = np.random.permutation(m)\n",
    "x_train, y_train = x_train[:, shuffle_index], y_train[:, shuffle_index]\n",
    "print(x_train.shape, y_train.shape)"
   ]
  },
  {
   "cell_type": "code",
   "execution_count": 41,
   "metadata": {},
   "outputs": [
    {
     "name": "stdout",
     "output_type": "stream",
     "text": [
      "(784, 1) (1,)\n"
     ]
    }
   ],
   "source": [
    "# finally we shuffle the training set for good measure\n",
    "m = 1\n",
    "np.random.seed(138)\n",
    "shuffle_index = np.random.permutation(m)\n",
    "x_train_0, y_train_0 = x_train_0[:, shuffle_index], y_train_0[shuffle_index]\n",
    "print(x_train_0.shape, y_train_0.shape)"
   ]
  },
  {
   "cell_type": "code",
   "execution_count": 42,
   "metadata": {},
   "outputs": [
    {
     "name": "stdout",
     "output_type": "stream",
     "text": [
      "[0.]\n"
     ]
    }
   ],
   "source": [
    "print(y_train_0)"
   ]
  },
  {
   "cell_type": "code",
   "execution_count": 29,
   "metadata": {},
   "outputs": [
    {
     "data": {
      "image/png": "[encoded data removed]",
      "text/plain": [
       "<Figure size 640x480 with 1 Axes>"
      ]
     },
     "metadata": {},
     "output_type": "display_data"
    },
    {
     "name": "stdout",
     "output_type": "stream",
     "text": [
      "0.0\n"
     ]
    }
   ],
   "source": [
    "# take a look at a random image\n",
    "import matplotlib\n",
    "import matplotlib.pyplot as plt\n",
    "\n",
    "i = 0\n",
    "plt.imshow(x_train[:, i].reshape(28, 28), cmap=matplotlib.cm.binary)\n",
    "plt.axis('off')\n",
    "plt.show()\n",
    "print(y_train[0][i])"
   ]
  },
  {
   "attachments": {},
   "cell_type": "markdown",
   "metadata": {},
   "source": [
    "##### Build & Train"
   ]
  },
  {
   "cell_type": "code",
   "execution_count": 43,
   "metadata": {},
   "outputs": [],
   "source": [
    "def sigmoid(z):\n",
    "    s = 1 / (1 + np.exp(-z))\n",
    "    return s\n",
    "\n",
    "def compute_loss(Y, Y_hat):\n",
    "    m = Y.shape[1]\n",
    "    L = -(1.0/m) * (np.sum(np.multiply(np.log(Y_hat), Y)) + np.sum(np.multiply(np.log(1-Y_hat), (1-Y))))\n",
    "    return L"
   ]
  },
  {
   "cell_type": "code",
   "execution_count": 56,
   "metadata": {},
   "outputs": [],
   "source": [
    "def sigmoid(z):\n",
    "    s = 1 / (1 + np.exp(-z))\n",
    "    return s\n",
    "\n",
    "def compute_loss(Y, Y_hat):\n",
    "    m = Y.shape[0]\n",
    "    L = -(1.0/m) * (np.sum(np.multiply(np.log(Y_hat), Y)) + np.sum(np.multiply(np.log(1-Y_hat), (1-Y))))\n",
    "    return L"
   ]
  },
  {
   "cell_type": "code",
   "execution_count": 44,
   "metadata": {},
   "outputs": [],
   "source": [
    "learning_rate = 1"
   ]
  },
  {
   "cell_type": "code",
   "execution_count": 11,
   "metadata": {},
   "outputs": [
    {
     "name": "stdout",
     "output_type": "stream",
     "text": [
      "(784, 60000) (1, 60000)\n"
     ]
    }
   ],
   "source": [
    "X, Y = x_train, y_train\n",
    "print(X.shape, Y.shape)"
   ]
  },
  {
   "cell_type": "code",
   "execution_count": 45,
   "metadata": {},
   "outputs": [
    {
     "name": "stdout",
     "output_type": "stream",
     "text": [
      "(784, 1) (1,)\n"
     ]
    }
   ],
   "source": [
    "X, Y = x_train_0, y_train_0\n",
    "print(X.shape, Y.shape)"
   ]
  },
  {
   "cell_type": "code",
   "execution_count": 46,
   "metadata": {},
   "outputs": [
    {
     "name": "stdout",
     "output_type": "stream",
     "text": [
      "784 1\n"
     ]
    }
   ],
   "source": [
    "n_x = X.shape[0]    # number of features\n",
    "m = X.shape[1]      # number of examples\n",
    "print(n_x, m)"
   ]
  },
  {
   "cell_type": "code",
   "execution_count": 47,
   "metadata": {},
   "outputs": [
    {
     "name": "stdout",
     "output_type": "stream",
     "text": [
      "W.shape : (784, 1),  b.shape : (1, 1)\n"
     ]
    }
   ],
   "source": [
    "W = np.random.randn(n_x, 1) * 0.01\n",
    "b = np.zeros((1,1))\n",
    "print(f\"W.shape : {W.shape},  b.shape : {b.shape}\")"
   ]
  },
  {
   "cell_type": "code",
   "execution_count": 48,
   "metadata": {},
   "outputs": [
    {
     "name": "stdout",
     "output_type": "stream",
     "text": [
      "Z.shape : (1, 1)\n",
      "A.shape : (1, 1)\n",
      "(A-Y).T shape : (1, 1)\n",
      "dW.shape : (784, 1)\n",
      "db.shape : (1, 1)\n",
      "[[0.51649487]]\n"
     ]
    }
   ],
   "source": [
    "Z = np.matmul(W.T, X) + b\n",
    "print(f\"Z.shape : {Z.shape}\")\n",
    "\n",
    "A = sigmoid(Z)\n",
    "print(f\"A.shape : {A.shape}\")\n",
    "\n",
    "print(f\"(A-Y).T shape : {((A-Y).T).shape}\")\n",
    "\n",
    "\n",
    "dW = (1/m) * np.matmul(X, (A-Y).T)\n",
    "print(f\"dW.shape : {dW.shape}\")\n",
    "\n",
    "db = (1/m) * np.sum((A-Y)).reshape(-1,1)\n",
    "print(f\"db.shape : {db.shape}\")\n",
    "print(db)"
   ]
  },
  {
   "cell_type": "code",
   "execution_count": 35,
   "metadata": {},
   "outputs": [
    {
     "name": "stdout",
     "output_type": "stream",
     "text": [
      "Z.shape : (1, 60000)\n",
      "A.shape : (1, 60000)\n",
      "(A-Y).T shape : (60000, 1)\n",
      "dW.shape : (784, 1)\n",
      "db.shape : (1, 1)\n",
      "[[0.39332872]]\n"
     ]
    }
   ],
   "source": [
    "Z = np.matmul(W.T, X) + b\n",
    "print(f\"Z.shape : {Z.shape}\")\n",
    "\n",
    "A = sigmoid(Z)\n",
    "print(f\"A.shape : {A.shape}\")\n",
    "\n",
    "print(f\"(A-Y).T shape : {((A-Y).T).shape}\")\n",
    "\n",
    "\n",
    "dW = (1/m) * np.matmul(X, (A-Y).T)\n",
    "print(f\"dW.shape : {dW.shape}\")\n",
    "\n",
    "db = (1/m) * np.sum((A-Y)).reshape(-1,1)\n",
    "print(f\"db.shape : {db.shape}\")\n",
    "print(db)"
   ]
  },
  {
   "cell_type": "code",
   "execution_count": 15,
   "metadata": {},
   "outputs": [
    {
     "name": "stdout",
     "output_type": "stream",
     "text": [
      "Epoch    0   cost : 0.6840801595436431\n",
      "Epoch  100   cost : 0.04130516205834276\n",
      "Epoch  200   cost : 0.03578100961598483\n",
      "Epoch  300   cost : 0.03321767707346867\n",
      "Epoch  400   cost : 0.03161825052130717\n",
      "Epoch  500   cost : 0.030479879921669627\n",
      "Epoch  600   cost : 0.02960915858162471\n",
      "Epoch  700   cost : 0.028912781392366863\n",
      "Epoch  800   cost : 0.02833872379857555\n",
      "Epoch  900   cost : 0.027854953682088075\n",
      "Epoch 1000   cost : 0.027440305793554814\n",
      "Epoch 1100   cost : 0.027080051475541836\n",
      "Epoch 1200   cost : 0.026763531573280784\n",
      "Epoch 1300   cost : 0.02648279278126125\n",
      "Epoch 1400   cost : 0.026231753648863553\n",
      "Epoch 1500   cost : 0.02600566948528407\n",
      "Epoch 1600   cost : 0.025800775443605373\n",
      "Epoch 1700   cost : 0.02561404072768779\n",
      "Epoch 1800   cost : 0.02544299474890846\n",
      "Epoch 1900   cost : 0.025285601356506867\n",
      "Final cost : 0.025141566084818247\n"
     ]
    }
   ],
   "source": [
    "A_list = []\n",
    "\n",
    "for i in range(2000):\n",
    "    Z = np.matmul(W.T, X) + b\n",
    "    A = sigmoid(Z)\n",
    "    \n",
    "    cost = compute_loss(Y, A)\n",
    "    \n",
    "    dW = (1/m) * np.matmul(X, (A-Y).T)\n",
    "    db = (1/m) * np.sum((A-Y)).reshape(-1,1)\n",
    "    \n",
    "    W -= learning_rate * dW\n",
    "    b -= learning_rate * db\n",
    "    \n",
    "    if (i % 100 == 0):\n",
    "        print(f\"Epoch {i:>4d}   cost : {cost}\")        \n",
    "        first_digit = A[:, 0]\n",
    "        A_list.append(first_digit)\n",
    "        \n",
    "print(f\"Final cost : {cost}\")"
   ]
  },
  {
   "cell_type": "code",
   "execution_count": 61,
   "metadata": {},
   "outputs": [
    {
     "name": "stdout",
     "output_type": "stream",
     "text": [
      "Epoch    0   cost : -0.0\n",
      "Epoch  100   cost : -0.0\n",
      "Epoch  200   cost : -0.0\n",
      "Epoch  300   cost : -0.0\n",
      "Epoch  400   cost : -0.0\n",
      "Epoch  500   cost : -0.0\n",
      "Epoch  600   cost : -0.0\n",
      "Epoch  700   cost : -0.0\n",
      "Epoch  800   cost : -0.0\n",
      "Epoch  900   cost : -0.0\n",
      "Epoch 1000   cost : -0.0\n",
      "Epoch 1100   cost : -0.0\n",
      "Epoch 1200   cost : -0.0\n",
      "Epoch 1300   cost : -0.0\n",
      "Epoch 1400   cost : -0.0\n",
      "Epoch 1500   cost : -0.0\n",
      "Epoch 1600   cost : -0.0\n",
      "Epoch 1700   cost : -0.0\n",
      "Epoch 1800   cost : -0.0\n",
      "Epoch 1900   cost : -0.0\n",
      "Final cost : -0.0\n"
     ]
    }
   ],
   "source": [
    "X_list = []\n",
    "\n",
    "for i in range(2000):\n",
    "    Z = np.matmul(W.T, X) + b\n",
    "    A = sigmoid(Z)\n",
    "    \n",
    "    cost = compute_loss(Y, A)\n",
    "    \n",
    "    dW = (1/m) * np.matmul(X, (A-Y).T)\n",
    "    db = (1/m) * np.sum((A-Y)).reshape(-1,1)\n",
    "    \n",
    "    W -= learning_rate * dW\n",
    "    b -= learning_rate * db\n",
    "    \n",
    "    if (i % 100 == 0):\n",
    "        print(f\"Epoch {i:>4d}   cost : {cost}\")        \n",
    "        first_digit = A[:, 0] / W * 255.0\n",
    "        X_list.append(first_digit)\n",
    "        \n",
    "print(f\"Final cost : {cost}\")"
   ]
  },
  {
   "cell_type": "code",
   "execution_count": 58,
   "metadata": {},
   "outputs": [
    {
     "data": {
      "text/plain": [
       "20"
      ]
     },
     "execution_count": 58,
     "metadata": {},
     "output_type": "execute_result"
    }
   ],
   "source": [
    "len(X_list)"
   ]
  },
  {
   "cell_type": "code",
   "execution_count": 62,
   "metadata": {},
   "outputs": [
    {
     "data": {
      "text/plain": [
       "(array([[ 6.24795847e-17],\n",
       "        [ 5.14260682e-17],\n",
       "        [ 1.62895471e-16],\n",
       "        [-4.18631351e-16],\n",
       "        [-4.29218773e-17]]),\n",
       " array([[ 6.24795847e-17],\n",
       "        [ 5.14260682e-17],\n",
       "        [ 1.62895471e-16],\n",
       "        [-4.18631351e-16],\n",
       "        [-4.29218773e-17]]))"
      ]
     },
     "execution_count": 62,
     "metadata": {},
     "output_type": "execute_result"
    }
   ],
   "source": [
    "X_list[0][:5], X_list[10][:5]"
   ]
  },
  {
   "cell_type": "code",
   "execution_count": 70,
   "metadata": {},
   "outputs": [
    {
     "data": {
      "image/png": "[encoded data removed]",
      "text/plain": [
       "<Figure size 1600x2000 with 20 Axes>"
      ]
     },
     "metadata": {},
     "output_type": "display_data"
    }
   ],
   "source": [
    "plt.figure(figsize=(16, 20))\n",
    "\n",
    "for l in range(len(X_list)):\n",
    "    row = l // 5\n",
    "    col = l % 4\n",
    "    plt.subplot(4, 5, l+1)\n",
    "    img = X_list[l].reshape(28, 28)\n",
    "    plt.imshow(img, cmap='gray')\n",
    "    \n",
    "plt.show()"
   ]
  },
  {
   "cell_type": "code",
   "execution_count": null,
   "metadata": {},
   "outputs": [],
   "source": []
  },
  {
   "cell_type": "code",
   "execution_count": null,
   "metadata": {},
   "outputs": [],
   "source": []
  },
  {
   "cell_type": "code",
   "execution_count": null,
   "metadata": {},
   "outputs": [],
   "source": []
  }
 ],
 "metadata": {
  "kernelspec": {
   "display_name": "tf_gpu",
   "language": "python",
   "name": "python3"
  },
  "language_info": {
   "codemirror_mode": {
    "name": "ipython",
    "version": 3
   },
   "file_extension": ".py",
   "mimetype": "text/x-python",
   "name": "python",
   "nbconvert_exporter": "python",
   "pygments_lexer": "ipython3",
   "version": "3.9.13"
  },
  "orig_nbformat": 4,
  "vscode": {
   "interpreter": {
    "hash": "7b18c970f1c267b2ae7de1f51c7b9ea29dc67f6c9f87d5b0ef47c4534e0830b3"
   }
  }
 },
 "nbformat": 4,
 "nbformat_minor": 2
}
