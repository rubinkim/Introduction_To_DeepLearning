{
 "cells": [
  {
   "attachments": {},
   "cell_type": "markdown",
   "metadata": {},
   "source": [
    "##### Hello, MNIST"
   ]
  },
  {
   "cell_type": "code",
   "execution_count": 45,
   "metadata": {},
   "outputs": [
    {
     "data": {
      "text/plain": [
       "((70000, 784), (70000,))"
      ]
     },
     "execution_count": 45,
     "metadata": {},
     "output_type": "execute_result"
    }
   ],
   "source": [
    "# import mnist dataset from sklearn\n",
    "from sklearn.datasets import fetch_openml\n",
    "mnist = fetch_openml('mnist_784')\n",
    "x, y = mnist['data'], mnist['target']\n",
    "x.shape, y.shape"
   ]
  },
  {
   "cell_type": "code",
   "execution_count": 46,
   "metadata": {},
   "outputs": [
    {
     "name": "stdout",
     "output_type": "stream",
     "text": [
      "<class 'pandas.core.frame.DataFrame'>\n",
      "<class 'pandas.core.series.Series'>\n",
      "category\n",
      "[<class 'str'>]\n",
      "[<class 'float'>]\n"
     ]
    }
   ],
   "source": [
    "print(type(x))\n",
    "print(type(y))\n",
    "print(y.dtypes)\n",
    "print([type(i) for i in y[:1]])\n",
    "\n",
    "# since y' dtype is str, we need to convert it to float\n",
    "y = y.astype(float)\n",
    "print([type(i) for i in y[:1]])"
   ]
  },
  {
   "cell_type": "code",
   "execution_count": 48,
   "metadata": {},
   "outputs": [],
   "source": [
    "# normalize x to keep our gradients manageable\n",
    "x = x / 255"
   ]
  },
  {
   "cell_type": "code",
   "execution_count": 50,
   "metadata": {},
   "outputs": [],
   "source": [
    "# to build a zero-classifier, make the label 1 when we have a zero, and 0 otherwise\n",
    "import numpy as np\n",
    "y_new = np.zeros(shape=y.shape)\n",
    "y_new[np.where(y == 0.0)] = 1\n",
    "y = y_new"
   ]
  },
  {
   "cell_type": "code",
   "execution_count": 51,
   "metadata": {},
   "outputs": [
    {
     "name": "stdout",
     "output_type": "stream",
     "text": [
      "(784, 60000) (1, 60000) (784, 10000) (1, 10000)\n"
     ]
    }
   ],
   "source": [
    "# we can make our train/test split. we'll also transform the data into the shape we want, with each example in a column(instead of a row)\n",
    "m = 60000\n",
    "m_test = x.shape[0] - m\n",
    "\n",
    "x_train, x_test = x[:m].T, x[m:].T\n",
    "y_train, y_test = y[:m].reshape(1,m), y[m:].reshape(1,m_test)\n",
    "\n",
    "print(x_train.shape, y_train.shape, x_test.shape, y_test.shape)"
   ]
  },
  {
   "cell_type": "code",
   "execution_count": 56,
   "metadata": {},
   "outputs": [
    {
     "name": "stdout",
     "output_type": "stream",
     "text": [
      "Index(['pixel1', 'pixel2', 'pixel3', 'pixel4', 'pixel5', 'pixel6', 'pixel7',\n",
      "       'pixel8', 'pixel9', 'pixel10',\n",
      "       ...\n",
      "       'pixel775', 'pixel776', 'pixel777', 'pixel778', 'pixel779', 'pixel780',\n",
      "       'pixel781', 'pixel782', 'pixel783', 'pixel784'],\n",
      "      dtype='object', length=784)\n",
      "Index(['pixel1', 'pixel2', 'pixel3', 'pixel4', 'pixel5', 'pixel6', 'pixel7',\n",
      "       'pixel8', 'pixel9', 'pixel10',\n",
      "       ...\n",
      "       'pixel775', 'pixel776', 'pixel777', 'pixel778', 'pixel779', 'pixel780',\n",
      "       'pixel781', 'pixel782', 'pixel783', 'pixel784'],\n",
      "      dtype='object', length=784)\n"
     ]
    }
   ],
   "source": [
    "print(x_train.index)\n",
    "print(x_test.index)\n",
    "\n",
    "# since "
   ]
  },
  {
   "cell_type": "code",
   "execution_count": 58,
   "metadata": {},
   "outputs": [
    {
     "name": "stdout",
     "output_type": "stream",
     "text": [
      "(784, 60000) (1, 10000)\n"
     ]
    }
   ],
   "source": [
    "# finally we shuffle the training set for good measure\n",
    "np.random.seed(138)\n",
    "shuffle_index = np.random.permutation(m)\n",
    "x_train, y_train = x_train.loc[:, shuffle_index], y_train[:, shuffle_index]\n",
    "print(x_train.shape, y_test.shape)"
   ]
  }
 ],
 "metadata": {
  "kernelspec": {
   "display_name": "tf_gpu",
   "language": "python",
   "name": "python3"
  },
  "language_info": {
   "codemirror_mode": {
    "name": "ipython",
    "version": 3
   },
   "file_extension": ".py",
   "mimetype": "text/x-python",
   "name": "python",
   "nbconvert_exporter": "python",
   "pygments_lexer": "ipython3",
   "version": "3.9.13"
  },
  "orig_nbformat": 4,
  "vscode": {
   "interpreter": {
    "hash": "7b18c970f1c267b2ae7de1f51c7b9ea29dc67f6c9f87d5b0ef47c4534e0830b3"
   }
  }
 },
 "nbformat": 4,
 "nbformat_minor": 2
}
