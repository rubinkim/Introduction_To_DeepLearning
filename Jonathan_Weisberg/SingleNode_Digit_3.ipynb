{
 "cells": [
  {
   "cell_type": "code",
   "execution_count": 1,
   "metadata": {},
   "outputs": [],
   "source": [
    "import numpy as np\n",
    "import pandas as pd\n",
    "import matplotlib\n",
    "import matplotlib.pyplot as plt\n",
    "\n",
    "from sklearn.datasets import fetch_openml"
   ]
  },
  {
   "cell_type": "code",
   "execution_count": 2,
   "metadata": {},
   "outputs": [],
   "source": [
    "mnist = fetch_openml('mnist_784')"
   ]
  },
  {
   "cell_type": "code",
   "execution_count": 14,
   "metadata": {},
   "outputs": [
    {
     "name": "stdout",
     "output_type": "stream",
     "text": [
      "data의 type : <class 'pandas.core.frame.DataFrame'>,  data의 shape : (70000, 784)\n",
      "target의 type : <class 'pandas.core.series.Series'>,  target의 shape : (70000,)\n"
     ]
    }
   ],
   "source": [
    "data, target = mnist[\"data\"], mnist[\"target\"]\n",
    "print(f\"data의 type : {type(data)},  data의 shape : {data.shape}\")\n",
    "print(f\"target의 type : {type(target)},  target의 shape : {target.shape}\")"
   ]
  },
  {
   "cell_type": "code",
   "execution_count": 15,
   "metadata": {},
   "outputs": [
    {
     "data": {
      "text/plain": [
       "CategoricalDtype(categories=['0', '1', '2', '3', '4', '5', '6', '7', '8', '9'], ordered=False)"
      ]
     },
     "execution_count": 15,
     "metadata": {},
     "output_type": "execute_result"
    }
   ],
   "source": [
    "target.dtypes"
   ]
  },
  {
   "cell_type": "code",
   "execution_count": 17,
   "metadata": {},
   "outputs": [],
   "source": [
    "data, target = mnist[\"data\"], mnist[\"target\"]"
   ]
  },
  {
   "cell_type": "code",
   "execution_count": 18,
   "metadata": {},
   "outputs": [
    {
     "name": "stdout",
     "output_type": "stream",
     "text": [
      "data의 type :   <class 'numpy.ndarray'>,  data의 shape : (70000, 784)\n",
      "target의 type : <class 'numpy.ndarray'>,  target의 shape : (1, 70000),   target element의 type : <class 'numpy.ndarray'>\n"
     ]
    }
   ],
   "source": [
    "# Since data type of all elements of target is string, we'll convert them into integer\n",
    "target = target.astype(np.int8)\n",
    "\n",
    "# We'll extract only values from data and target.\n",
    "data, target = data.values, target.values.reshape(1, -1)\n",
    "\n",
    "print(f\"data의 type :   {type(data)},  data의 shape : {data.shape}\")\n",
    "print(f\"target의 type : {type(target)},  target의 shape : {target.shape},   target element의 type : {type(target[0])}\")"
   ]
  },
  {
   "cell_type": "code",
   "execution_count": 19,
   "metadata": {},
   "outputs": [
    {
     "name": "stdout",
     "output_type": "stream",
     "text": [
      "{0: 6903, 1: 7877, 2: 6990, 3: 7141, 4: 6824, 5: 6313, 6: 6876, 7: 7293, 8: 6825, 9: 6958}\n"
     ]
    }
   ],
   "source": [
    "target_dict = {}\n",
    "label, freq = np.unique(target, return_counts=True)\n",
    "for l, f in zip(label, freq):\n",
    "    target_dict[l] = f\n",
    "    \n",
    "print(target_dict)"
   ]
  },
  {
   "cell_type": "code",
   "execution_count": 20,
   "metadata": {},
   "outputs": [
    {
     "name": "stdout",
     "output_type": "stream",
     "text": [
      "1.0 0.0\n"
     ]
    }
   ],
   "source": [
    "# Normalize data to keep our gradients manageable\n",
    "data = data / 255\n",
    "print(np.max(data), np.min(data))"
   ]
  },
  {
   "cell_type": "code",
   "execution_count": 24,
   "metadata": {},
   "outputs": [
    {
     "data": {
      "text/plain": [
       "(10, 70000)"
      ]
     },
     "execution_count": 24,
     "metadata": {},
     "output_type": "execute_result"
    }
   ],
   "source": [
    "digits = 10\n",
    "examples = target.shape[1]\n",
    "\n",
    "target_new = np.eye(digits)[target]\n",
    "target_new = target_new.T.reshape(digits, examples)\n",
    "target_new.shape"
   ]
  },
  {
   "cell_type": "code",
   "execution_count": 25,
   "metadata": {},
   "outputs": [
    {
     "name": "stdout",
     "output_type": "stream",
     "text": [
      "x_train의 shape : (784, 60000),   y_train의 shape : (10, 60000)\n",
      "x_test의  shape : (784, 10000),   y_test의 shape :  (10, 10000)\n"
     ]
    }
   ],
   "source": [
    "# We'll split data into train and test set. We also transpose data to keep each example as a column.\n",
    "m = 60000\n",
    "m_test = data.shape[0] - m\n",
    "\n",
    "x_train, x_test = data[:m].T, data[m:].T\n",
    "y_train, y_test = target_new[:, :m], target_new[:, m:]\n",
    "\n",
    "print(f\"x_train의 shape : {x_train.shape},   y_train의 shape : {y_train.shape}\")\n",
    "print(f\"x_test의  shape : {x_test.shape},   y_test의 shape :  {y_test.shape}\")"
   ]
  },
  {
   "cell_type": "code",
   "execution_count": 26,
   "metadata": {},
   "outputs": [
    {
     "name": "stdout",
     "output_type": "stream",
     "text": [
      "x_train의 shape : (784, 60000),   y_train의 shape : (10, 60000)\n",
      "x_test의  shape : (784, 10000),   y_test의 shape :  (10, 10000)\n"
     ]
    }
   ],
   "source": [
    "np.random.seed(2023)\n",
    "shuffle_index = np.random.permutation(m)\n",
    "x_train, y_train = x_train[:, shuffle_index], y_train[:, shuffle_index]\n",
    "\n",
    "print(f\"x_train의 shape : {x_train.shape},   y_train의 shape : {y_train.shape}\")\n",
    "print(f\"x_test의  shape : {x_test.shape},   y_test의 shape :  {y_test.shape}\")"
   ]
  },
  {
   "cell_type": "code",
   "execution_count": 27,
   "metadata": {},
   "outputs": [
    {
     "data": {
      "image/png": "[encoded data removed]",
      "text/plain": [
       "<Figure size 640x480 with 1 Axes>"
      ]
     },
     "metadata": {},
     "output_type": "display_data"
    },
    {
     "data": {
      "text/plain": [
       "array([0., 0., 1., 0., 0., 0., 0., 0., 0., 0.])"
      ]
     },
     "execution_count": 27,
     "metadata": {},
     "output_type": "execute_result"
    }
   ],
   "source": [
    "import matplotlib\n",
    "import matplotlib.pyplot as plt\n",
    "\n",
    "i = 12\n",
    "plt.imshow(x_train[:, i].reshape(28, 28), cmap=matplotlib.cm.binary)\n",
    "plt.axis(\"off\")\n",
    "plt.show()\n",
    "y_train[:, i]"
   ]
  },
  {
   "cell_type": "code",
   "execution_count": 30,
   "metadata": {},
   "outputs": [],
   "source": [
    "def sigmoid(z):\n",
    "    s = 1.0 / (1.0 + np.exp(-z))\n",
    "    return s"
   ]
  },
  {
   "cell_type": "code",
   "execution_count": 28,
   "metadata": {},
   "outputs": [],
   "source": [
    "def comput_multiclass_loss(y, y_hat):\n",
    "    L_sum = np.sum(np.multiply(y, np.log(y_hat)))\n",
    "    m = y.shape[1]\n",
    "    L = -(1/m) * L_sum\n",
    "    return L"
   ]
  },
  {
   "cell_type": "code",
   "execution_count": 29,
   "metadata": {},
   "outputs": [
    {
     "name": "stdout",
     "output_type": "stream",
     "text": [
      "X의 shape : (784, 60000),   Y의 shape : (10, 60000)\n"
     ]
    }
   ],
   "source": [
    "digits = 10\n",
    "n_x, n_h = x_train.shape[0], 64\n",
    "learning_rate = 1\n",
    "\n",
    "w1 = np.random.randn(n_h, n_x)\n",
    "b1 = np.zeros((n_h, 1))\n",
    "w2 = np.random.randn(digits, n_h)\n",
    "b2 = np.zeros((digits, 1))\n",
    "\n",
    "X, Y = x_train, y_train\n",
    "\n",
    "print(f\"X의 shape : {X.shape},   Y의 shape : {Y.shape}\")"
   ]
  },
  {
   "cell_type": "code",
   "execution_count": 31,
   "metadata": {},
   "outputs": [
    {
     "name": "stdout",
     "output_type": "stream",
     "text": [
      "Epoch    0       cost : 9.734082013758602\n",
      "Epoch  100       cost : 0.7505197512444232\n",
      "Epoch  200       cost : 0.5605266132154871\n",
      "Epoch  300       cost : 0.4815003598755821\n",
      "Epoch  400       cost : 0.4348225551354636\n",
      "Epoch  500       cost : 0.40250199554601135\n",
      "Epoch  600       cost : 0.3779448680030466\n",
      "Epoch  700       cost : 0.35826004197892525\n",
      "Epoch  800       cost : 0.34191000788620574\n",
      "Epoch  900       cost : 0.32794299968753315\n",
      "Epoch  1000       cost : 0.31574902353437423\n",
      "Epoch  1100       cost : 0.3049308507524267\n",
      "Epoch  1200       cost : 0.29522007444119647\n",
      "Epoch  1300       cost : 0.2864181098235761\n",
      "Epoch  1400       cost : 0.27837030343276775\n",
      "Epoch  1500       cost : 0.27095795549846335\n",
      "Epoch  1600       cost : 0.26409153380932615\n",
      "Epoch  1700       cost : 0.25770261948573064\n",
      "Epoch  1800       cost : 0.25173770010981844\n",
      "Epoch  1900       cost : 0.2461524459434124\n",
      "Final cost :  0.24095866567169494\n"
     ]
    }
   ],
   "source": [
    "for i in range(2000):\n",
    "    Z1 = np.matmul(w1, X) + b1\n",
    "    A1 = sigmoid(Z1)\n",
    "    Z2 = np.matmul(w2, A1) + b2\n",
    "    A2 = np.exp(Z2) / np.sum(np.exp(Z2), axis=0)\n",
    "    \n",
    "    cost = comput_multiclass_loss(Y, A2)\n",
    "    \n",
    "    dZ2 = A2 - Y\n",
    "    dW2 = (1./m) * np.matmul(dZ2, A1.T)\n",
    "    db2 = (1./m) * np.sum(dZ2, axis=1, keepdims=True)\n",
    "    \n",
    "    dA1 = np.matmul(w2.T, dZ2)\n",
    "    dZ1 = dA1 * sigmoid(Z1) * (1 - sigmoid(Z1))\n",
    "    dW1 = (1./m) * np.matmul(dZ1, X.T)\n",
    "    db1 = (1./m) * np.sum(dZ1, axis=1, keepdims=True)\n",
    "    \n",
    "    w2 -= learning_rate * dW2\n",
    "    b2 -= learning_rate * db2\n",
    "    w1 -= learning_rate * dW1\n",
    "    b1 -= learning_rate * db1\n",
    "    \n",
    "    if (i % 100 == 0):\n",
    "        print(f\"Epoch {i: .4d}       cost : {cost}\")\n",
    "print(\"Final cost : \", cost)"
   ]
  },
  {
   "cell_type": "code",
   "execution_count": 33,
   "metadata": {},
   "outputs": [
    {
     "name": "stdout",
     "output_type": "stream",
     "text": [
      "w1의 shape : (64, 784), b1의 shape : (64, 1), z1의 shape : (64, 60000)\n",
      "w2의 shape : (10, 64),  b2의 shape : (10, 1), z2의 shape : (10, 60000)\n"
     ]
    }
   ],
   "source": [
    "print(f\"w1의 shape : {w1.shape}, b1의 shape : {b1.shape}, z1의 shape : {Z1.shape}\")   # (64, 784), (64, 1), (64, 60000)\n",
    "print(f\"w2의 shape : {w2.shape},  b2의 shape : {b2.shape}, z2의 shape : {Z2.shape}\")   # (10, 64),  (10, 1), (10, 60000)"
   ]
  },
  {
   "cell_type": "code",
   "execution_count": 34,
   "metadata": {},
   "outputs": [],
   "source": [
    "from sklearn.metrics import confusion_matrix, classification_report\n",
    "\n",
    "z1_test = np.matmul(w1, x_test) + b1\n",
    "a1_test = sigmoid(z1_test)\n",
    "z2_test = np.matmul(w2, a1_test) + b2\n",
    "a2_test = np.exp(z2_test) / np.sum(np.exp(z2_test), axis=0)"
   ]
  },
  {
   "cell_type": "code",
   "execution_count": 36,
   "metadata": {},
   "outputs": [
    {
     "name": "stdout",
     "output_type": "stream",
     "text": [
      "predictions의 shape : (10000,),   labels의 shape : (10000,)\n"
     ]
    }
   ],
   "source": [
    "predictions = np.argmax(a2_test, axis=0)\n",
    "labels = np.argmax(y_test, axis=0)\n",
    "\n",
    "print(f\"predictions의 shape : {predictions.shape},   labels의 shape : {labels.shape}\")"
   ]
  },
  {
   "cell_type": "code",
   "execution_count": 37,
   "metadata": {},
   "outputs": [
    {
     "name": "stdout",
     "output_type": "stream",
     "text": [
      "[[ 947    0   13    5    1   11   16    3   11    6]\n",
      " [   0 1114    9    2    2    0    2    9    4    5]\n",
      " [   2    2  921   22    7    7   17   31   11    5]\n",
      " [   6    3   18  922    2   33    1   10   21   10]\n",
      " [   0    1    7    1  904    6   12    5   12   37]\n",
      " [  10    1    6   33    2  787   16    2   14   11]\n",
      " [  10    3   14    0   13    9  886    0    7    1]\n",
      " [   2    1   12    9    5    6    0  934    7   19]\n",
      " [   3    9   30    9   13   21    8    1  875   14]\n",
      " [   0    1    2    7   33   12    0   33   12  901]]\n"
     ]
    }
   ],
   "source": [
    "print(confusion_matrix(predictions, labels))"
   ]
  },
  {
   "cell_type": "code",
   "execution_count": 38,
   "metadata": {},
   "outputs": [
    {
     "name": "stdout",
     "output_type": "stream",
     "text": [
      "              precision    recall  f1-score   support\n",
      "\n",
      "           0       0.97      0.93      0.95      1013\n",
      "           1       0.98      0.97      0.98      1147\n",
      "           2       0.89      0.90      0.90      1025\n",
      "           3       0.91      0.90      0.91      1026\n",
      "           4       0.92      0.92      0.92       985\n",
      "           5       0.88      0.89      0.89       882\n",
      "           6       0.92      0.94      0.93       943\n",
      "           7       0.91      0.94      0.92       995\n",
      "           8       0.90      0.89      0.89       983\n",
      "           9       0.89      0.90      0.90      1001\n",
      "\n",
      "    accuracy                           0.92     10000\n",
      "   macro avg       0.92      0.92      0.92     10000\n",
      "weighted avg       0.92      0.92      0.92     10000\n",
      "\n"
     ]
    }
   ],
   "source": [
    "print(classification_report(predictions, labels))"
   ]
  },
  {
   "cell_type": "code",
   "execution_count": null,
   "metadata": {},
   "outputs": [],
   "source": []
  },
  {
   "cell_type": "code",
   "execution_count": null,
   "metadata": {},
   "outputs": [],
   "source": []
  },
  {
   "cell_type": "code",
   "execution_count": null,
   "metadata": {},
   "outputs": [],
   "source": [
    "digits = 10\n",
    "n_x, n_h = x_train.shape[0], 64\n",
    "learning_rate = 1\n",
    "\n",
    "w1 = np.random.randn(n_h, n_x)\n",
    "b1 = np.zeros((n_h, 1))\n",
    "w2 = np.random.randn(digits, n_h)\n",
    "b2 = np.zeros((digits, 1))\n",
    "\n",
    "X, Y = x_train, y_train\n",
    "\n",
    "# print(f\"X의 shape : {X.shape},   Y의 shape : {Y.shape}\")\n",
    "\n",
    "for i in range(500):\n",
    "    Z1 = np.matmul(w1, X) + b1\n",
    "    A1 = sigmoid(Z1)\n",
    "    Z2 = np.matmul(w2, A1) + b2\n",
    "    A2 = np.exp(Z2) / np.sum(np.exp(Z2), axis=0)\n",
    "    \n",
    "    cost = comput_multiclass_loss(Y, A2)\n",
    "    \n",
    "    dZ2 = A2 - Y\n",
    "    dW2 = (1./m) * np.matmul(dZ2, A1.T)\n",
    "    db2 = (1./m) * np.sum(dZ2, axis=1, keepdims=True)\n",
    "    \n",
    "    dA1 = np.matmul(w2.T, dZ2)\n",
    "    dZ1 = dA1 * sigmoid(Z1) * (1 - sigmoid(Z1))\n",
    "    dW1 = (1./m) * np.matmul(dZ1, X.T)\n",
    "    db1 = (1./m) * np.sum(dZ1, axis=1, keepdims=True)\n",
    "    \n",
    "    w2 -= learning_rate * dW2\n",
    "    b2 -= learning_rate * db2\n",
    "    w1 -= learning_rate * dW1\n",
    "    b1 -= learning_rate * db1\n",
    "    \n",
    "    if (i % 50 == 0):\n",
    "        print(f\"Epoch {i: .4d}       cost : {cost}\")\n",
    "        \n",
    "    \n",
    "    \n",
    "    \n",
    "print(\"Final cost : \", cost)"
   ]
  },
  {
   "cell_type": "code",
   "execution_count": 81,
   "metadata": {},
   "outputs": [
    {
     "data": {
      "text/plain": [
       "((3, 3), (3, 7), (3, 1))"
      ]
     },
     "execution_count": 81,
     "metadata": {},
     "output_type": "execute_result"
    }
   ],
   "source": [
    "w11 = np.array([[3,7,5],[6,4,2],[0,1,8]])\n",
    "x11 = np.array([[2,9,3,7,1,3,8],[2,3,8,0,5,6,3],[4,2,9,5,1,7,9]])\n",
    "b11 = np.array([[2],[8],[7]])\n",
    "\n",
    "w11.shape, x11.shape, b11.shape"
   ]
  },
  {
   "cell_type": "code",
   "execution_count": 82,
   "metadata": {},
   "outputs": [
    {
     "name": "stdout",
     "output_type": "stream",
     "text": [
      "[[3 7 5]\n",
      " [6 4 2]\n",
      " [0 1 8]]\n",
      "\n",
      "[[2 9 3 7 1 3 8]\n",
      " [2 3 8 0 5 6 3]\n",
      " [4 2 9 5 1 7 9]]\n",
      "\n",
      "[[2]\n",
      " [8]\n",
      " [7]]\n"
     ]
    }
   ],
   "source": [
    "print(w11)\n",
    "print()\n",
    "print(x11)\n",
    "print()\n",
    "print(b11)"
   ]
  },
  {
   "cell_type": "code",
   "execution_count": 83,
   "metadata": {},
   "outputs": [
    {
     "name": "stdout",
     "output_type": "stream",
     "text": [
      "(3, 7)\n",
      "[[ 42  60 112  48  45  88  92]\n",
      " [ 36  78  76  60  36  64  86]\n",
      " [ 41  26  87  47  20  69  82]]\n"
     ]
    }
   ],
   "source": [
    "z11 = np.matmul(w11, x11) + b11\n",
    "print(z11.shape)\n",
    "print(z11)"
   ]
  },
  {
   "cell_type": "code",
   "execution_count": 84,
   "metadata": {},
   "outputs": [
    {
     "name": "stdout",
     "output_type": "stream",
     "text": [
      "(3, 7)\n",
      "\n",
      "[[2 9 2 7 0 2 7]\n",
      " [1 2 8 0 4 5 2]\n",
      " [4 2 9 5 1 7 9]]\n",
      "\n",
      "[[2 9 3 7 1 3 8]\n",
      " [2 3 8 0 5 6 3]\n",
      " [4 2 9 5 1 7 9]]\n"
     ]
    }
   ],
   "source": [
    "x11_reverse = np.matmul(np.linalg.inv(w11), (z11-b11)).astype(int)\n",
    "\n",
    "print(x11_reverse.shape)\n",
    "print()\n",
    "print(np.round(x11_reverse))\n",
    "print()\n",
    "print(x11)"
   ]
  }
 ],
 "metadata": {
  "kernelspec": {
   "display_name": "tf_gpu",
   "language": "python",
   "name": "python3"
  },
  "language_info": {
   "codemirror_mode": {
    "name": "ipython",
    "version": 3
   },
   "file_extension": ".py",
   "mimetype": "text/x-python",
   "name": "python",
   "nbconvert_exporter": "python",
   "pygments_lexer": "ipython3",
   "version": "3.9.13"
  },
  "orig_nbformat": 4,
  "vscode": {
   "interpreter": {
    "hash": "7b18c970f1c267b2ae7de1f51c7b9ea29dc67f6c9f87d5b0ef47c4534e0830b3"
   }
  }
 },
 "nbformat": 4,
 "nbformat_minor": 2
}
