{
 "cells": [
  {
   "cell_type": "code",
   "execution_count": 1,
   "metadata": {},
   "outputs": [],
   "source": [
    "import numpy as np\n",
    "from skimage.util.shape import view_as_windows\n",
    "from numpy.lib.stride_tricks import as_strided"
   ]
  },
  {
   "attachments": {},
   "cell_type": "markdown",
   "metadata": {},
   "source": [
    "##### Input Layer"
   ]
  },
  {
   "cell_type": "code",
   "execution_count": 2,
   "metadata": {},
   "outputs": [
    {
     "name": "stdout",
     "output_type": "stream",
     "text": [
      "(7, 5)\n"
     ]
    }
   ],
   "source": [
    "input_data_list = [[-1, 1, 1, 1,-1],\n",
    "                   [-1, 1,-1, 1,-1],\n",
    "                   [-1, 1, 1, 1,-1],\n",
    "                   [-1,-1,-1, 1,-1],\n",
    "                   [-1,-1,-1, 1,-1],\n",
    "                   [-1,-1, 1,-1,-1],\n",
    "                   [-1, 1,-1,-1,-1]]\n",
    "\n",
    "# Convert list to input data matrix\n",
    "input_data_matrix = np.asarray(a=input_data_list, dtype=np.float32)\n",
    "\n",
    "print(input_data_matrix.shape)"
   ]
  },
  {
   "attachments": {},
   "cell_type": "markdown",
   "metadata": {},
   "source": [
    "##### Convolution Layer(convolution operation)"
   ]
  },
  {
   "cell_type": "code",
   "execution_count": 3,
   "metadata": {},
   "outputs": [],
   "source": [
    "box_filter_list = [[1, 1, 1],\n",
    "                   [1,-1, 1],\n",
    "                   [1, 1, 1]]\n",
    "\n",
    "vertical_line_filter_list = [[-1, 1,-1],\n",
    "                      [-1, 1,-1],\n",
    "                      [-1, 1,-1]]\n",
    "\n",
    "diagonal_line_filter_list = [[-1,-1,-1],\n",
    "                             [-1, 1,-1],\n",
    "                             [ 1,-1,-1]]"
   ]
  },
  {
   "cell_type": "code",
   "execution_count": 4,
   "metadata": {},
   "outputs": [
    {
     "name": "stdout",
     "output_type": "stream",
     "text": [
      "box_filter_matrix's shape : (3, 3)\n",
      "vertical_line_filter_matrix's shape : (3, 3)\n",
      "diagonal_line_filter_matrix's shape : (3, 3)\n"
     ]
    }
   ],
   "source": [
    "# Convert all filter lists into matrices\n",
    "box_filter_matrix = np.asarray(box_filter_list, dtype=np.float32)\n",
    "vertical_line_filter_matrix = np.asarray(vertical_line_filter_list, dtype=np.float32)\n",
    "diagonal_line_filter_matrix = np.asarray(diagonal_line_filter_list, dtype=np.float32)\n",
    "\n",
    "print(f\"box_filter_matrix's shape : {box_filter_matrix.shape}\")\n",
    "print(f\"vertical_line_filter_matrix's shape : {vertical_line_filter_matrix.shape}\")\n",
    "print(f\"diagonal_line_filter_matrix's shape : {diagonal_line_filter_matrix.shape}\")"
   ]
  },
  {
   "cell_type": "code",
   "execution_count": null,
   "metadata": {},
   "outputs": [],
   "source": []
  },
  {
   "cell_type": "code",
   "execution_count": null,
   "metadata": {},
   "outputs": [],
   "source": []
  }
 ],
 "metadata": {
  "kernelspec": {
   "display_name": "tf_gpu",
   "language": "python",
   "name": "python3"
  },
  "language_info": {
   "codemirror_mode": {
    "name": "ipython",
    "version": 3
   },
   "file_extension": ".py",
   "mimetype": "text/x-python",
   "name": "python",
   "nbconvert_exporter": "python",
   "pygments_lexer": "ipython3",
   "version": "3.9.13"
  },
  "orig_nbformat": 4
 },
 "nbformat": 4,
 "nbformat_minor": 2
}
