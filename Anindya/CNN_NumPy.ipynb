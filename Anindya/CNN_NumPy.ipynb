{
 "cells": [
  {
   "cell_type": "code",
   "execution_count": 1,
   "metadata": {},
   "outputs": [],
   "source": [
    "import numpy as np\n",
    "from skimage.util.shape import view_as_windows\n",
    "from numpy.lib.stride_tricks import as_strided"
   ]
  },
  {
   "attachments": {},
   "cell_type": "markdown",
   "metadata": {},
   "source": [
    "##### Input Layer"
   ]
  },
  {
   "cell_type": "code",
   "execution_count": 2,
   "metadata": {},
   "outputs": [
    {
     "name": "stdout",
     "output_type": "stream",
     "text": [
      "(7, 5)\n"
     ]
    }
   ],
   "source": [
    "input_data_list = [[-1, 1, 1, 1,-1],\n",
    "                   [-1, 1,-1, 1,-1],\n",
    "                   [-1, 1, 1, 1,-1],\n",
    "                   [-1,-1,-1, 1,-1],\n",
    "                   [-1,-1,-1, 1,-1],\n",
    "                   [-1,-1, 1,-1,-1],\n",
    "                   [-1, 1,-1,-1,-1]]\n",
    "\n",
    "# Convert list to input data matrix\n",
    "input_data_matrix = np.asarray(a=input_data_list, dtype=np.float32)\n",
    "\n",
    "print(input_data_matrix.shape)"
   ]
  },
  {
   "attachments": {},
   "cell_type": "markdown",
   "metadata": {},
   "source": [
    "##### Convolution Layer(convolution operation)"
   ]
  },
  {
   "cell_type": "code",
   "execution_count": 3,
   "metadata": {},
   "outputs": [],
   "source": [
    "box_filter_list = [[1, 1, 1],\n",
    "                   [1,-1, 1],\n",
    "                   [1, 1, 1]]\n",
    "\n",
    "vertical_line_filter_list = [[-1, 1,-1],\n",
    "                             [-1, 1,-1],\n",
    "                             [-1, 1,-1]]\n",
    "\n",
    "diagonal_line_filter_list = [[-1,-1, 1],\n",
    "                             [-1, 1,-1],\n",
    "                             [ 1,-1,-1]]"
   ]
  },
  {
   "cell_type": "code",
   "execution_count": 4,
   "metadata": {},
   "outputs": [
    {
     "name": "stdout",
     "output_type": "stream",
     "text": [
      "box_filter_matrix's shape : (3, 3)\n",
      "vertical_line_filter_matrix's shape : (3, 3)\n",
      "diagonal_line_filter_matrix's shape : (3, 3)\n"
     ]
    }
   ],
   "source": [
    "# Convert all filter lists into matrices\n",
    "box_filter_matrix = np.asarray(box_filter_list, dtype=np.float32)\n",
    "vertical_line_filter_matrix = np.asarray(vertical_line_filter_list, dtype=np.float32)\n",
    "diagonal_line_filter_matrix = np.asarray(diagonal_line_filter_list, dtype=np.float32)\n",
    "\n",
    "print(f\"box_filter_matrix's shape : {box_filter_matrix.shape}\")\n",
    "print(f\"vertical_line_filter_matrix's shape : {vertical_line_filter_matrix.shape}\")\n",
    "print(f\"diagonal_line_filter_matrix's shape : {diagonal_line_filter_matrix.shape}\")"
   ]
  },
  {
   "cell_type": "code",
   "execution_count": 5,
   "metadata": {},
   "outputs": [],
   "source": [
    "# Extract each window from input matrix by stride operation\n",
    "def strided4D_v2(input_matrix, kernel_matrix, stride):\n",
    "    return view_as_windows(input_matrix, kernel_matrix.shape, step=stride)"
   ]
  },
  {
   "cell_type": "code",
   "execution_count": 6,
   "metadata": {},
   "outputs": [
    {
     "name": "stdout",
     "output_type": "stream",
     "text": [
      "featureMap_row : 5,   featureMap_col : 3\n"
     ]
    }
   ],
   "source": [
    "# Calculate shape of the feature map (output matrix from convolution layer)   # (5, 3, 3, 3) : feature map's shape is (5, 3) ==> (5, 3, 3, 3)\n",
    "featureMap_row = strided4D_v2(input_data_matrix, box_filter_matrix, 1).shape[0]  # 5\n",
    "featureMap_col = strided4D_v2(input_data_matrix, box_filter_matrix, 1).shape[1]  # 3\n",
    "\n",
    "print(f\"featureMap_row : {featureMap_row},   featureMap_col : {featureMap_col}\")"
   ]
  },
  {
   "cell_type": "code",
   "execution_count": 7,
   "metadata": {},
   "outputs": [],
   "source": [
    "# Calculate featuremap matrix for box filter\n",
    "def conv2d(input_matrix, kernel_matrix):\n",
    "    # Create blank featuremap matrix for stride 1\n",
    "    featureMap_output = np.zeros((featureMap_row, featureMap_col))\n",
    "    \n",
    "    for row in range(featureMap_row):\n",
    "        for col in range(featureMap_col):\n",
    "            window = strided4D_v2(input_matrix, kernel_matrix, 1)[row][col]\n",
    "            featureMap_output[row, col] = np.sum(np.multiply(kernel_matrix, window))\n",
    "            \n",
    "            # To format floats in numpy array\n",
    "            np.set_printoptions(precision=2)\n",
    "            \n",
    "            # Take average with divided by 9(total number of elements in filter matrix)\n",
    "            total_num_of_elements_in_filter_matrix = kernel_matrix.shape[0] * kernel_matrix.shape[1]\n",
    "            \n",
    "    return featureMap_output / total_num_of_elements_in_filter_matrix"
   ]
  },
  {
   "attachments": {},
   "cell_type": "markdown",
   "metadata": {},
   "source": [
    "##### Box Filter Operation"
   ]
  },
  {
   "cell_type": "code",
   "execution_count": 8,
   "metadata": {},
   "outputs": [
    {
     "name": "stdout",
     "output_type": "stream",
     "text": [
      "[[-0.11  1.   -0.11]\n",
      " [-0.56  0.11 -0.33]\n",
      " [-0.33  0.33 -0.33]\n",
      " [-0.56 -0.11 -0.56]\n",
      " [-0.33 -0.56 -0.33]]\n"
     ]
    }
   ],
   "source": [
    "featureMap_box = conv2d(input_data_matrix, box_filter_matrix)\n",
    "print(featureMap_box)"
   ]
  },
  {
   "attachments": {},
   "cell_type": "markdown",
   "metadata": {},
   "source": [
    "##### Vertical Filter Operation"
   ]
  },
  {
   "cell_type": "code",
   "execution_count": 9,
   "metadata": {},
   "outputs": [
    {
     "name": "stdout",
     "output_type": "stream",
     "text": [
      "[[ 0.56 -0.56  0.56]\n",
      " [ 0.56 -0.56  0.78]\n",
      " [ 0.33 -0.33  0.78]\n",
      " [ 0.11  0.11  0.56]\n",
      " [ 0.33  0.11  0.33]]\n"
     ]
    }
   ],
   "source": [
    "featureMap_vertical = conv2d(input_data_matrix, vertical_line_filter_matrix)\n",
    "print(featureMap_vertical)"
   ]
  },
  {
   "attachments": {},
   "cell_type": "markdown",
   "metadata": {},
   "source": [
    "##### Diagonal Filter Operation"
   ]
  },
  {
   "cell_type": "code",
   "execution_count": 10,
   "metadata": {},
   "outputs": [
    {
     "name": "stdout",
     "output_type": "stream",
     "text": [
      "[[ 0.11 -0.56  0.11]\n",
      " [ 0.11 -0.11 -0.11]\n",
      " [ 0.33 -0.33 -0.11]\n",
      " [ 0.11  0.11  0.56]\n",
      " [-0.11  1.   -0.11]]\n"
     ]
    }
   ],
   "source": [
    "featureMap_diagonal = conv2d(input_data_matrix, diagonal_line_filter_matrix)\n",
    "print(featureMap_diagonal)"
   ]
  },
  {
   "attachments": {},
   "cell_type": "markdown",
   "metadata": {},
   "source": [
    "##### Box ReLU Operation"
   ]
  },
  {
   "cell_type": "code",
   "execution_count": 49,
   "metadata": {},
   "outputs": [
    {
     "name": "stdout",
     "output_type": "stream",
     "text": [
      "[[0.00 1.00 0.00 0.00 0.56 0.00 0.56 0.00 0.11 0.00 0.11]\n",
      " [0.00 0.11 0.00 0.00 0.56 0.00 0.78 0.00 0.11 0.00 0.00]\n",
      " [0.00 0.33 0.00 0.00 0.33 0.00 0.78 0.00 0.33 0.00 0.00]\n",
      " [0.00 0.00 0.00 0.00 0.11 0.11 0.56 0.00 0.11 0.11 0.56]\n",
      " [0.00 0.00 0.00 0.00 0.33 0.11 0.33 0.00 0.00 1.00 0.00]]\n"
     ]
    }
   ],
   "source": [
    "featureMap_box_relu = np.maximum(featureMap_box, 0)\n",
    "featureMap_vertical_relu = np.maximum(featureMap_vertical, 0)\n",
    "featureMap_diagonal_relu = np.maximum(featureMap_diagonal, 0)\n",
    "\n",
    "# np.set_printoptions(suppress=True, linewidth=300)\n",
    "np.set_printoptions(formatter={'float_kind':'{:.2f}'.format}, linewidth=300)\n",
    "all_kinds_relu = np.concatenate((featureMap_box_relu, np.empty((5,1)), featureMap_vertical_relu, np.empty((5,1)), featureMap_diagonal_relu), axis=1)\n",
    "print(all_kinds_relu)\n"
   ]
  },
  {
   "attachments": {},
   "cell_type": "markdown",
   "metadata": {},
   "source": [
    "##### Pooling Layer"
   ]
  },
  {
   "cell_type": "code",
   "execution_count": 57,
   "metadata": {},
   "outputs": [],
   "source": [
    "def pool2d(input_matrix, kernel_size, stride, padding, pool_mode='max'):\n",
    "    \n",
    "    # padding\n",
    "    input_matrix = np.pad(input_matrix, padding, mode='constant')\n",
    "    \n",
    "    # window view of input_matrix\n",
    "    output_shape = ((input_matrix.shape[0]-kernel_size)//stride + 1, (input_matrix.shape[1]-kernel_size)//stride + 1)\n",
    "    kernel_size = (kernel_size, kernel_size)\n",
    "    # as_strided : 주어진 모양 및 보폭으로 배열을 만듦\n",
    "    input_matrix_w = as_strided(input_matrix, shape=output_shape + kernel_size,\n",
    "                                strides = (stride * input_matrix.strides[0], stride * input_matrix.strides[1]) + input_matrix.strides)\n",
    "    input_matrix_w = input_matrix_w.reshape(-1, *kernel_size)\n",
    "    \n",
    "    # Return the result of pooling\n",
    "    # Max Pooling\n",
    "    if pool_mode == \"max\":\n",
    "        return input_matrix_w.max(axis=(1,2)).reshape(output_shape)\n",
    "    # Average Pooling\n",
    "    elif pool_mode == \"avg\":\n",
    "        return input_matrix_w.mean(axis=(1,2)).reshape(output_shape)   "
   ]
  },
  {
   "cell_type": "code",
   "execution_count": 60,
   "metadata": {},
   "outputs": [
    {
     "name": "stdout",
     "output_type": "stream",
     "text": [
      "[[1.00 1.00 0.00 0.56 0.78 0.00 0.11 0.11]\n",
      " [0.33 0.33 0.00 0.56 0.78 0.00 0.33 0.00]\n",
      " [0.33 0.33 0.00 0.33 0.78 0.00 0.33 0.56]\n",
      " [0.00 0.00 0.00 0.33 0.56 0.00 1.00 1.00]]\n"
     ]
    }
   ],
   "source": [
    "# Max Pooling with 2*2 filter & shape=1\n",
    "featureMap_box_relu_maxpool = pool2d(featureMap_box_relu, kernel_size=2, stride=1, padding=0, pool_mode=\"max\")\n",
    "featuremap_vertical_relu_maxpool = pool2d(featureMap_vertical_relu, kernel_size=2, stride=1, padding=0, pool_mode=\"max\")\n",
    "featureMap_diagonal_relu_maxpool = pool2d(featureMap_diagonal_relu, kernel_size=2, stride=1, padding=0, pool_mode=\"max\")\n",
    "\n",
    "np.set_printoptions(formatter={'float_kind':'{:.2f}'.format}, linewidth=300)\n",
    "all_kinds_relu = np.concatenate((featureMap_box_relu_maxpool, np.empty((4,1)), featuremap_vertical_relu_maxpool, np.empty((4,1)), featureMap_diagonal_relu_maxpool), axis=1)\n",
    "print(all_kinds_relu)"
   ]
  },
  {
   "cell_type": "code",
   "execution_count": 56,
   "metadata": {},
   "outputs": [
    {
     "name": "stdout",
     "output_type": "stream",
     "text": [
      "[[0 1 2 3 4]\n",
      " [5 6 7 8 9]]\n",
      "x의 shape : (2, 5)\n",
      "x의 strides : (20, 4)\n"
     ]
    }
   ],
   "source": [
    "# Imagine an array of 32-bit integers (each 4 bytes)\n",
    "# The strides of an array tell us how many bytes we have to skip in memory to move to the next position along a certain axis. \n",
    "# For example, we have to skip 4 bytes (1 value) to move to the next column, but 20 bytes (5 values) to get to the same position in the next row. \n",
    "# As such, the strides for the array x will be (20, 4)\n",
    "x = np.array([[0, 1, 2, 3, 4],[5, 6, 7, 8, 9]], dtype=np.int32)\n",
    "print(x)\n",
    "print(f\"x의 shape : {x.shape}\")\n",
    "print(f\"x의 strides : {x.strides}\")"
   ]
  }
 ],
 "metadata": {
  "kernelspec": {
   "display_name": "tf_gpu",
   "language": "python",
   "name": "python3"
  },
  "language_info": {
   "codemirror_mode": {
    "name": "ipython",
    "version": 3
   },
   "file_extension": ".py",
   "mimetype": "text/x-python",
   "name": "python",
   "nbconvert_exporter": "python",
   "pygments_lexer": "ipython3",
   "version": "3.9.13"
  },
  "orig_nbformat": 4
 },
 "nbformat": 4,
 "nbformat_minor": 2
}
