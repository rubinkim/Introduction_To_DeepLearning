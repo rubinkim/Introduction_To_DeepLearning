{
 "cells": [
  {
   "cell_type": "code",
   "execution_count": 1,
   "metadata": {},
   "outputs": [],
   "source": [
    "import numpy as np\n",
    "import matplotlib.pyplot as plt\n",
    "\n",
    "from tensorflow.keras.layers import SimpleRNN, Flatten, Dense\n",
    "from tensorflow.keras.models import Sequential"
   ]
  },
  {
   "cell_type": "code",
   "execution_count": 2,
   "metadata": {},
   "outputs": [
    {
     "name": "stdout",
     "output_type": "stream",
     "text": [
      "x_train의 shape : (315, 10, 1),  y_train의 shape : (315, 1)\n",
      "x_test의 shape : (36, 10, 1), y_test의 shape : (36, 1)\n"
     ]
    }
   ],
   "source": [
    "# Load cosine data\n",
    "x_train = np.load(file='../순환신경망/x_train_cos.npy')\n",
    "x_test = np.load(file='../순환신경망/x_test_cost.npy')\n",
    "y_train = np.load(file='../순환신경망/y_train_cos.npy')\n",
    "y_test = np.load(file='../순환신경망/y_test_cos.npy')\n",
    "\n",
    "print(f\"x_train의 shape : {x_train.shape},  y_train의 shape : {y_train.shape}\")\n",
    "print(f\"x_test의 shape : {x_test.shape}, y_test의 shape : {y_test.shape}\")"
   ]
  }
 ],
 "metadata": {
  "kernelspec": {
   "display_name": "tf_gpu",
   "language": "python",
   "name": "python3"
  },
  "language_info": {
   "codemirror_mode": {
    "name": "ipython",
    "version": 3
   },
   "file_extension": ".py",
   "mimetype": "text/x-python",
   "name": "python",
   "nbconvert_exporter": "python",
   "pygments_lexer": "ipython3",
   "version": "3.9.13"
  },
  "orig_nbformat": 4,
  "vscode": {
   "interpreter": {
    "hash": "7b18c970f1c267b2ae7de1f51c7b9ea29dc67f6c9f87d5b0ef47c4534e0830b3"
   }
  }
 },
 "nbformat": 4,
 "nbformat_minor": 2
}
