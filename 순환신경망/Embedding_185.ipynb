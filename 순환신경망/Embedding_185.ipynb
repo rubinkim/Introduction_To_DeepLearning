{
 "cells": [
  {
   "attachments": {},
   "cell_type": "markdown",
   "metadata": {},
   "source": [
    "##### 토큰화 작업 수행하기"
   ]
  },
  {
   "cell_type": "code",
   "execution_count": 1,
   "metadata": {},
   "outputs": [],
   "source": [
    "from tensorflow.keras.preprocessing.text import Tokenizer\n",
    "from tensorflow.keras.utils import to_categorical"
   ]
  },
  {
   "cell_type": "code",
   "execution_count": 38,
   "metadata": {},
   "outputs": [],
   "source": [
    "texts = ['You are the Best', 'You are the Nice']"
   ]
  },
  {
   "cell_type": "code",
   "execution_count": 39,
   "metadata": {},
   "outputs": [],
   "source": [
    "tokenizer = Tokenizer(num_words=10, oov_token='<OOV>')\n",
    "tokenizer.fit_on_texts(texts)"
   ]
  },
  {
   "cell_type": "code",
   "execution_count": 40,
   "metadata": {},
   "outputs": [
    {
     "name": "stdout",
     "output_type": "stream",
     "text": [
      "['__class__', '__delattr__', '__dict__', '__dir__', '__doc__', '__eq__', '__format__', '__ge__', '__getattribute__', '__gt__', '__hash__', '__init__', '__init_subclass__', '__le__', '__lt__', '__module__', '__ne__', '__new__', '__reduce__', '__reduce_ex__', '__repr__', '__setattr__', '__sizeof__', '__str__', '__subclasshook__', '__weakref__', '_keras_api_names', '_keras_api_names_v1', 'analyzer', 'char_level', 'document_count', 'filters', 'fit_on_sequences', 'fit_on_texts', 'get_config', 'index_docs', 'index_word', 'lower', 'num_words', 'oov_token', 'sequences_to_matrix', 'sequences_to_texts', 'sequences_to_texts_generator', 'split', 'texts_to_matrix', 'texts_to_sequences', 'texts_to_sequences_generator', 'to_json', 'word_counts', 'word_docs', 'word_index']\n"
     ]
    }
   ],
   "source": [
    "print(dir(tokenizer))"
   ]
  },
  {
   "cell_type": "code",
   "execution_count": 41,
   "metadata": {},
   "outputs": [
    {
     "data": {
      "text/plain": [
       "'{\"class_name\": \"Tokenizer\", \"config\": {\"num_words\": 10, \"filters\": \"!\\\\\"#$%&()*+,-./:;<=>?@[\\\\\\\\]^_`{|}~\\\\t\\\\n\", \"lower\": true, \"split\": \" \", \"char_level\": false, \"oov_token\": \"<OOV>\", \"document_count\": 2, \"word_counts\": \"{\\\\\"you\\\\\": 2, \\\\\"are\\\\\": 2, \\\\\"the\\\\\": 2, \\\\\"best\\\\\": 1, \\\\\"nice\\\\\": 1}\", \"word_docs\": \"{\\\\\"are\\\\\": 2, \\\\\"best\\\\\": 1, \\\\\"the\\\\\": 2, \\\\\"you\\\\\": 2, \\\\\"nice\\\\\": 1}\", \"index_docs\": \"{\\\\\"3\\\\\": 2, \\\\\"5\\\\\": 1, \\\\\"4\\\\\": 2, \\\\\"2\\\\\": 2, \\\\\"6\\\\\": 1}\", \"index_word\": \"{\\\\\"1\\\\\": \\\\\"<OOV>\\\\\", \\\\\"2\\\\\": \\\\\"you\\\\\", \\\\\"3\\\\\": \\\\\"are\\\\\", \\\\\"4\\\\\": \\\\\"the\\\\\", \\\\\"5\\\\\": \\\\\"best\\\\\", \\\\\"6\\\\\": \\\\\"nice\\\\\"}\", \"word_index\": \"{\\\\\"<OOV>\\\\\": 1, \\\\\"you\\\\\": 2, \\\\\"are\\\\\": 3, \\\\\"the\\\\\": 4, \\\\\"best\\\\\": 5, \\\\\"nice\\\\\": 6}\"}}'"
      ]
     },
     "execution_count": 41,
     "metadata": {},
     "output_type": "execute_result"
    }
   ],
   "source": [
    "tokenizer.to_json()"
   ]
  },
  {
   "cell_type": "code",
   "execution_count": 42,
   "metadata": {},
   "outputs": [
    {
     "name": "stdout",
     "output_type": "stream",
     "text": [
      "{\"class_name\": \"Tokenizer\", \"config\": {\"num_words\": 10, \"filters\": \"!\\\"#$%&()*+,-./:;<=>?@[\\\\]^_`{|}~\\t\\n\", \"lower\": True, \"split\": \" \", \"char_level\": False, \"oov_token\": \"<OOV>\", \"document_count\": 2, \"word_counts\": \"{\\\"you\\\": 2, \\\"are\\\": 2, \\\"the\\\": 2, \\\"best\\\": 1, \\\"nice\\\": 1}\", \"word_docs\": \"{\\\"are\\\": 2, \\\"best\\\": 1, \\\"the\\\": 2, \\\"you\\\": 2, \\\"nice\\\": 1}\", \"index_docs\": \"{\\\"3\\\": 2, \\\"5\\\": 1, \\\"4\\\": 2, \\\"2\\\": 2, \\\"6\\\": 1}\", \"index_word\": \"{\\\"1\\\": \\\"<OOV>\\\", \\\"2\\\": \\\"you\\\", \\\"3\\\": \\\"are\\\", \\\"4\\\": \\\"the\\\", \\\"5\\\": \\\"best\\\", \\\"6\\\": \\\"nice\\\"}\", \"word_index\": \"{\\\"<OOV>\\\": 1, \\\"you\\\": 2, \\\"are\\\": 3, \\\"the\\\": 4, \\\"best\\\": 5, \\\"nice\\\": 6}\"}}\n"
     ]
    }
   ],
   "source": [
    "tokenizer_json = tokenizer.to_json().replace('false', 'False')\n",
    "tokenizer_json = tokenizer_json.replace('true', 'True')\n",
    "print(tokenizer_json)"
   ]
  },
  {
   "cell_type": "code",
   "execution_count": 46,
   "metadata": {},
   "outputs": [
    {
     "ename": "ValueError",
     "evalue": "dictionary update sequence element #0 has length 1; 2 is required",
     "output_type": "error",
     "traceback": [
      "\u001b[1;31m---------------------------------------------------------------------------\u001b[0m",
      "\u001b[1;31mValueError\u001b[0m                                Traceback (most recent call last)",
      "\u001b[1;32me:\\딥러닝입문\\순환신경망\\Embedding_185.ipynb Cell 8\u001b[0m in \u001b[0;36m<cell line: 1>\u001b[1;34m()\u001b[0m\n\u001b[1;32m----> <a href='vscode-notebook-cell:/e%3A/%EB%94%A5%EB%9F%AC%EB%8B%9D%EC%9E%85%EB%AC%B8/%EC%88%9C%ED%99%98%EC%8B%A0%EA%B2%BD%EB%A7%9D/Embedding_185.ipynb#X15sZmlsZQ%3D%3D?line=0'>1</a>\u001b[0m tokenizer_json \u001b[39m=\u001b[39m \u001b[39mdict\u001b[39;49m(tokenizer_json)\n",
      "\u001b[1;31mValueError\u001b[0m: dictionary update sequence element #0 has length 1; 2 is required"
     ]
    }
   ],
   "source": [
    "tokenizer_json = dict(tokenizer_json)"
   ]
  }
 ],
 "metadata": {
  "kernelspec": {
   "display_name": "tf_gpu",
   "language": "python",
   "name": "python3"
  },
  "language_info": {
   "codemirror_mode": {
    "name": "ipython",
    "version": 3
   },
   "file_extension": ".py",
   "mimetype": "text/x-python",
   "name": "python",
   "nbconvert_exporter": "python",
   "pygments_lexer": "ipython3",
   "version": "3.9.13"
  },
  "orig_nbformat": 4,
  "vscode": {
   "interpreter": {
    "hash": "7b18c970f1c267b2ae7de1f51c7b9ea29dc67f6c9f87d5b0ef47c4534e0830b3"
   }
  }
 },
 "nbformat": 4,
 "nbformat_minor": 2
}
