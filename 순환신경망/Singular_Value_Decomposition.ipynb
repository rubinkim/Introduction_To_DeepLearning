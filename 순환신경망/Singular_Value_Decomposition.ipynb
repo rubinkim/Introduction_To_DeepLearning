{
 "cells": [
  {
   "attachments": {},
   "cell_type": "markdown",
   "metadata": {},
   "source": [
    "##### 1.Visualization of U,S, and V for Singular Value Decomposition of a square matrix M, where m=n"
   ]
  },
  {
   "cell_type": "code",
   "execution_count": 1,
   "metadata": {},
   "outputs": [],
   "source": [
    "import numpy as np\n",
    "from matplotlib import pyplot as plt\n",
    "plt.rcParams['image.cmap'] = 'RdBu_r'"
   ]
  },
  {
   "cell_type": "code",
   "execution_count": 2,
   "metadata": {},
   "outputs": [],
   "source": [
    "PRECISION = 3\n",
    "\n",
    "def svd(M):\n",
    "    \"\"\"Returns the Singular Value Decomposition of M (via numpy), with all components returned in \n",
    "    matrix format\n",
    "    \"\"\"\n",
    "    U, s, Vt = np.linalg.svd(M)\n",
    "    \n",
    "    # Put the vector singular values into a padded matrix\n",
    "    S = np.zeros(M.shape)\n",
    "    np.fill_diagonal(S, s)\n",
    "    \n",
    "    # Rounding for display\n",
    "    return np.round(U, PRECISION), np.round(S, PRECISION), np.round(Vt.T, PRECISION)"
   ]
  }
 ],
 "metadata": {
  "kernelspec": {
   "display_name": "tf_gpu",
   "language": "python",
   "name": "python3"
  },
  "language_info": {
   "codemirror_mode": {
    "name": "ipython",
    "version": 3
   },
   "file_extension": ".py",
   "mimetype": "text/x-python",
   "name": "python",
   "nbconvert_exporter": "python",
   "pygments_lexer": "ipython3",
   "version": "3.9.13"
  },
  "orig_nbformat": 4,
  "vscode": {
   "interpreter": {
    "hash": "7b18c970f1c267b2ae7de1f51c7b9ea29dc67f6c9f87d5b0ef47c4534e0830b3"
   }
  }
 },
 "nbformat": 4,
 "nbformat_minor": 2
}
