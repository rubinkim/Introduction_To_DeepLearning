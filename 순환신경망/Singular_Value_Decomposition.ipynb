{
 "cells": [
  {
   "attachments": {},
   "cell_type": "markdown",
   "metadata": {},
   "source": [
    "##### 1.Visualization of U,S, and V for Singular Value Decomposition of a square matrix M, where m=n"
   ]
  },
  {
   "cell_type": "code",
   "execution_count": 1,
   "metadata": {},
   "outputs": [],
   "source": [
    "import numpy as np\n",
    "from matplotlib import pyplot as plt\n",
    "plt.rcParams['image.cmap'] = 'RdBu_r'"
   ]
  },
  {
   "cell_type": "code",
   "execution_count": 2,
   "metadata": {},
   "outputs": [],
   "source": [
    "PRECISION = 3\n",
    "\n",
    "def svd(M):\n",
    "    \"\"\"Returns the Singular Value Decomposition of M (via numpy), with all components returned in \n",
    "    matrix format\n",
    "    \"\"\"\n",
    "    U, s, Vt = np.linalg.svd(M)\n",
    "    \n",
    "    # Put the vector singular values into a padded matrix\n",
    "    S = np.zeros(M.shape)\n",
    "    np.fill_diagonal(S, s)\n",
    "    \n",
    "    # Rounding for display\n",
    "    return np.round(U, PRECISION), np.round(S, PRECISION), np.round(Vt.T, PRECISION)"
   ]
  },
  {
   "cell_type": "code",
   "execution_count": 19,
   "metadata": {},
   "outputs": [],
   "source": [
    "def visualize_svd(m, n, fig_height=5):\n",
    "           \n",
    "    \"\"\"Show the Singular Value Decomposition of a random matrix of size `m x `n\n",
    "    Parameters\n",
    "    ----------\n",
    "    m : int, The number of rows in the random matrix\n",
    "    n : int, The number of columns\n",
    "    fig_height : float, Fiddle parameter to make figures render better(because I'm lazy and\n",
    "                        don't want to work out the scaling arithmetic).\"\"\"\n",
    "    \n",
    "    np.random.seed(3)\n",
    "    \n",
    "    M = np.random.randn(m, n)\n",
    "    U, S, V = svd(M)\n",
    "    \n",
    "    # Visualization\n",
    "    fig, axs = plt.subplots(1, 6, figsize=(12, fig_height))\n",
    "    \n",
    "    plt.sca(axs[0])\n",
    "    plt.imshow(M)\n",
    "    plt.title(f\"$M \\\\in \\\\mathbb{{R}} ^{{{m} \\\\times {n}}}$\")\n",
    "    \n",
    "    plt.sca(axs[1])\n",
    "    plt.text(0.25, 0.4, '=', fontsize=48)\n",
    "    plt.axis('off')\n",
    "    \n",
    "    plt.sca(axs[2])\n",
    "    plt.imshow(U)\n",
    "    plt.title(f\"$U \\\\in \\\\mathbb{{R}} ^{{{m} \\\\times {n}}}$\")\n",
    "    \n",
    "    plt.sca(axs[3])\n",
    "    plt.text(0.25, 0.4, \"$\\\\times$\", fontsize=48)\n",
    "    plt.axis('off')\n",
    "    \n",
    "    plt.sca(axs[4])\n",
    "    plt.imshow(S)\n",
    "    plt.title(f\"$S \\\\in \\\\mathbb{{R}} ^{{{m} \\\\times {n}}}$\")\n",
    "    \n",
    "    plt.sca(axs[5])\n",
    "    plt.text(0.25, 0.4, '$\\\\times$', fontsize=48)\n",
    "    plt.axis('off')"
   ]
  },
  {
   "cell_type": "code",
   "execution_count": 20,
   "metadata": {},
   "outputs": [
    {
     "data": {
      "image/png": "[encoded data removed]",
      "text/plain": [
       "<Figure size 1200x300 with 6 Axes>"
      ]
     },
     "metadata": {},
     "output_type": "display_data"
    }
   ],
   "source": [
    "visualize_svd(4, 4, fig_height=3)"
   ]
  },
  {
   "cell_type": "code",
   "execution_count": null,
   "metadata": {},
   "outputs": [],
   "source": []
  },
  {
   "cell_type": "code",
   "execution_count": null,
   "metadata": {},
   "outputs": [],
   "source": []
  },
  {
   "cell_type": "code",
   "execution_count": null,
   "metadata": {},
   "outputs": [],
   "source": []
  },
  {
   "cell_type": "code",
   "execution_count": null,
   "metadata": {},
   "outputs": [],
   "source": []
  },
  {
   "cell_type": "code",
   "execution_count": null,
   "metadata": {},
   "outputs": [],
   "source": []
  },
  {
   "cell_type": "code",
   "execution_count": null,
   "metadata": {},
   "outputs": [],
   "source": []
  },
  {
   "cell_type": "code",
   "execution_count": null,
   "metadata": {},
   "outputs": [],
   "source": []
  },
  {
   "cell_type": "code",
   "execution_count": null,
   "metadata": {},
   "outputs": [],
   "source": []
  },
  {
   "cell_type": "code",
   "execution_count": null,
   "metadata": {},
   "outputs": [],
   "source": []
  },
  {
   "cell_type": "code",
   "execution_count": null,
   "metadata": {},
   "outputs": [],
   "source": []
  },
  {
   "cell_type": "code",
   "execution_count": null,
   "metadata": {},
   "outputs": [],
   "source": []
  },
  {
   "cell_type": "code",
   "execution_count": 5,
   "metadata": {},
   "outputs": [
    {
     "name": "stdout",
     "output_type": "stream",
     "text": [
      "[[ 1.78862847  0.43650985  0.09649747 -1.8634927 ]\n",
      " [-0.2773882  -0.35475898 -0.08274148 -0.62700068]\n",
      " [-0.04381817 -0.47721803 -1.31386475  0.88462238]\n",
      " [ 0.88131804  1.70957306  0.05003364 -0.40467741]]\n"
     ]
    }
   ],
   "source": [
    "np.random.seed(3)    \n",
    "M = np.random.randn(4, 4)\n",
    "print(M)"
   ]
  },
  {
   "cell_type": "code",
   "execution_count": 14,
   "metadata": {},
   "outputs": [
    {
     "name": "stdout",
     "output_type": "stream",
     "text": [
      "[[-0.801 -0.392 -0.405 -0.2  ]\n",
      " [-0.022 -0.425  0.007  0.905]\n",
      " [ 0.332  0.208 -0.913  0.113]\n",
      " [-0.498  0.789  0.043  0.358]] \n",
      "\n",
      "[[3.107 0.    0.    0.   ]\n",
      " [0.    1.523 0.    0.   ]\n",
      " [0.    0.    1.373 0.   ]\n",
      " [0.    0.    0.    0.468]] \n",
      "\n",
      "[[-0.605  0.067 -0.472 -0.637]\n",
      " [-0.435  0.807  0.24   0.32 ]\n",
      " [-0.173 -0.155  0.846 -0.479]\n",
      " [ 0.644  0.566 -0.055 -0.512]]\n"
     ]
    }
   ],
   "source": [
    "x, y, z = svd(M)\n",
    "print(x, '\\n')\n",
    "print(y, '\\n')\n",
    "print(z)"
   ]
  },
  {
   "cell_type": "code",
   "execution_count": 13,
   "metadata": {},
   "outputs": [
    {
     "name": "stdout",
     "output_type": "stream",
     "text": [
      "[[-1.879735  0.208169 -1.466504 -1.979159]\n",
      " [-0.662505  1.229061  0.36552   0.48736 ]\n",
      " [-0.237529 -0.212815  1.161558 -0.657667]\n",
      " [ 0.301392  0.264888 -0.02574  -0.239616]] \n",
      "\n",
      "[[ 1.80129054 -0.61532281  0.56610287  1.70853957]\n",
      " [ 0.59401585 -0.28869671 -0.13824671 -0.38504265]\n",
      " [-0.51095179  0.54898923 -1.47426224  0.01766345]\n",
      " [ 0.51107617  0.95173983  1.05944635  1.25608601]]\n"
     ]
    }
   ],
   "source": [
    "yz = np.dot(y, z)\n",
    "print(yz, '\\n')\n",
    "xyz = np.dot(x, yz)\n",
    "print(xyz)"
   ]
  },
  {
   "cell_type": "code",
   "execution_count": 12,
   "metadata": {},
   "outputs": [
    {
     "name": "stdout",
     "output_type": "stream",
     "text": [
      "[[-2.488707 -0.597016 -0.556065 -0.0936  ]\n",
      " [-0.068354 -0.647275  0.009611  0.42354 ]\n",
      " [ 1.031524  0.316784 -1.253549  0.052884]\n",
      " [-1.547286  1.201647  0.059039  0.167544]] \n",
      "\n",
      "[[ 1.80129054 -0.61532281  0.56610287  1.70853957]\n",
      " [ 0.59401585 -0.28869671 -0.13824671 -0.38504265]\n",
      " [-0.51095179  0.54898923 -1.47426224  0.01766345]\n",
      " [ 0.51107617  0.95173983  1.05944635  1.25608601]]\n"
     ]
    }
   ],
   "source": [
    "xy = np.dot(x, y)\n",
    "print(xy, '\\n')\n",
    "xyz = np.dot(xy, z)\n",
    "print(xyz)"
   ]
  },
  {
   "cell_type": "code",
   "execution_count": null,
   "metadata": {},
   "outputs": [],
   "source": []
  },
  {
   "cell_type": "code",
   "execution_count": null,
   "metadata": {},
   "outputs": [],
   "source": []
  },
  {
   "cell_type": "code",
   "execution_count": null,
   "metadata": {},
   "outputs": [],
   "source": []
  },
  {
   "cell_type": "code",
   "execution_count": null,
   "metadata": {},
   "outputs": [],
   "source": []
  },
  {
   "cell_type": "code",
   "execution_count": null,
   "metadata": {},
   "outputs": [],
   "source": []
  },
  {
   "cell_type": "code",
   "execution_count": null,
   "metadata": {},
   "outputs": [],
   "source": []
  },
  {
   "cell_type": "code",
   "execution_count": null,
   "metadata": {},
   "outputs": [],
   "source": []
  },
  {
   "cell_type": "code",
   "execution_count": 25,
   "metadata": {},
   "outputs": [
    {
     "name": "stdout",
     "output_type": "stream",
     "text": [
      "$U \\in \\mathbb10^4 \\times 4$\n"
     ]
    }
   ],
   "source": [
    "R, m = 10, 4\n",
    "print(f\"$U \\\\in \\\\mathbb{R}^{m} \\\\times {m}$\")"
   ]
  },
  {
   "cell_type": "code",
   "execution_count": 16,
   "metadata": {},
   "outputs": [
    {
     "name": "stdout",
     "output_type": "stream",
     "text": [
      "[[-1.0856306   0.99734545  0.2829785  -1.50629471]\n",
      " [-0.57860025  1.65143654 -2.42667924 -0.42891263]\n",
      " [ 1.26593626 -0.8667404  -0.67888615 -0.09470897]\n",
      " [ 1.49138963 -0.638902   -0.44398196 -0.43435128]\n",
      " [ 2.20593008  2.18678609  1.0040539   0.3861864 ]]\n",
      "\n",
      "U shape : (5, 5),  s shape : (4,),  Vt shape : (4, 4)\n",
      "\n",
      "[3.42555004 3.17379117 2.5402854  1.42968271]\n",
      "\n",
      "[[3.42555004 0.         0.         0.        ]\n",
      " [0.         3.17379117 0.         0.        ]\n",
      " [0.         0.         2.5402854  0.        ]\n",
      " [0.         0.         0.         1.42968271]\n",
      " [0.         0.         0.         0.        ]]\n"
     ]
    }
   ],
   "source": [
    "np.random.seed(123)\n",
    "\n",
    "M = np.random.randn(5, 4)\n",
    "print(M)\n",
    "print()\n",
    "\n",
    "U, s, Vt = np.linalg.svd(M)\n",
    "print(f\"U shape : {U.shape},  s shape : {s.shape},  Vt shape : {Vt.shape}\")\n",
    "print()\n",
    "\n",
    "print(s)\n",
    "print()\n",
    "\n",
    "S = np.zeros(M.shape)\n",
    "np.fill_diagonal(S, s)\n",
    "print(S)"
   ]
  },
  {
   "cell_type": "code",
   "execution_count": null,
   "metadata": {},
   "outputs": [],
   "source": [
    "def visualize_svd(m, n, fig_height=5):\n",
    "           \n",
    "    \"\"\"Show the Singular Value Decomposition of a random matrix of size `m x `n\n",
    "    Parameters\n",
    "    ----------\n",
    "    m : int, The number of rows in the random matrix\n",
    "    n : int, The number of columns\n",
    "    fig_height : float, Fiddle parameter to make figures render better(because I'm lazy and\n",
    "                        don't want to work out the scaling arithmetic).\n",
    "    \"\"\"\n",
    "    np.random.seed(123)\n",
    "    \n",
    "    # Generate a random matrix\n",
    "    M = np.random.randn(m, n)\n",
    "    \n",
    "    # Run SVD\n",
    "    U, S, V = svd(M)\n",
    "    \n",
    "    # Visulaization\n",
    "    fig, axs = plt.subplots(1, 7, figsize=(12, fig_height))\n",
    "    \n",
    "    plt.sca(axs[0])  # Set the current Axes to axs[0] and the current Figure to the parent of axs[0].\n",
    "    plt.imshow(M)\n",
    "    # plt.title(f\"$M \\\\in \\\\mathbb^{m} \\\\times {n}$\", fontsize=14)\n",
    "    \n",
    "    plt.sca(axs[1])\n",
    "    # plt.text(.25, .25, '=', fontsize=48)\n",
    "    plt.axis('off')\n",
    "    \n",
    "    plt.sca(axs[2])\n",
    "    plt.imshow(U)\n",
    "    # plt.title(f\"$U \\\\in \\\\mathbb{R}^{m} \\\\times {m}$\", fontsize=14)\n",
    "    \n",
    "    plt.sca(axs[3])\n",
    "    # plt.text(.25, .25, '$\\\\times$', fontsize=48)\n",
    "    plt.axis('off')\n",
    "    \n",
    "    plt.sca(axs[4])\n",
    "    plt.imshow(S)\n",
    "    # plt.title(f\"$S \\\\in \\\\mathbb{R}^{m} \\\\times {n}$\")\n",
    "    \n",
    "    plt.sca(axs[5])\n",
    "    # plt.text(.25, .25, '$\\\\times$', fontsize=48)\n",
    "    plt.axis('off')\n",
    "    \n",
    "    plt.sca(axs[6])\n",
    "    cmap = plt.imshow(V.T)\n",
    "    plt.colorbar(cmap, ax=axs, orientation='horizontal', aspect=50)\n",
    "    # plt.title(f\"SVD Components $m={m}, n={n}$\", fontsize=18)\n",
    "    \n",
    "    # fname = f\"/tmp/svd-{m}x{n}.png\"\n",
    "    # plt.savefig(fname, bbox_inches='tight', dpi=300)\n",
    "    # print(fname)"
   ]
  }
 ],
 "metadata": {
  "kernelspec": {
   "display_name": "tf_gpu",
   "language": "python",
   "name": "python3"
  },
  "language_info": {
   "codemirror_mode": {
    "name": "ipython",
    "version": 3
   },
   "file_extension": ".py",
   "mimetype": "text/x-python",
   "name": "python",
   "nbconvert_exporter": "python",
   "pygments_lexer": "ipython3",
   "version": "3.9.13"
  },
  "orig_nbformat": 4,
  "vscode": {
   "interpreter": {
    "hash": "7b18c970f1c267b2ae7de1f51c7b9ea29dc67f6c9f87d5b0ef47c4534e0830b3"
   }
  }
 },
 "nbformat": 4,
 "nbformat_minor": 2
}
