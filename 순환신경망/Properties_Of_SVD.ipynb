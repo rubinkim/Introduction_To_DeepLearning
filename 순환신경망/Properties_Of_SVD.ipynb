{
 "cells": [
  {
   "attachments": {},
   "cell_type": "markdown",
   "metadata": {},
   "source": [
    "##### Properties of SVD"
   ]
  },
  {
   "cell_type": "code",
   "execution_count": 4,
   "metadata": {},
   "outputs": [],
   "source": [
    "import numpy as np\n",
    "from my_utils import svd"
   ]
  },
  {
   "cell_type": "code",
   "execution_count": 1,
   "metadata": {},
   "outputs": [],
   "source": [
    "def matrix_column_l2_norm(M):\n",
    "    \"\"\"Returns the l2 norm of each column of matrix M, \"\"\"\n",
    "    return (M ** 2).sum(0)"
   ]
  },
  {
   "cell_type": "code",
   "execution_count": 3,
   "metadata": {},
   "outputs": [
    {
     "name": "stdout",
     "output_type": "stream",
     "text": [
      "[[-1.0856306   0.99734545  0.2829785  -1.50629471 -0.57860025]\n",
      " [ 1.65143654 -2.42667924 -0.42891263  1.26593626 -0.8667404 ]\n",
      " [-0.67888615 -0.09470897  1.49138963 -0.638902   -0.44398196]\n",
      " [-0.43435128  2.20593008  2.18678609  1.0040539   0.3861864 ]\n",
      " [ 0.73736858  1.49073203 -0.93583387  1.17582904 -1.25388067]\n",
      " [-0.6377515   0.9071052  -1.4286807  -0.14006872 -0.8617549 ]\n",
      " [-0.25561937 -2.79858911 -1.7715331  -0.69987723  0.92746243]\n",
      " [-0.17363568  0.00284592  0.68822271 -0.87953634  0.28362732]\n",
      " [-0.80536652 -1.72766949 -0.39089979  0.57380586  0.33858905]\n",
      " [-0.01183049  2.39236527  0.41291216  0.97873601  2.23814334]]\n"
     ]
    }
   ],
   "source": [
    "# Generate random m x n matrix, M\n",
    "m, n = 10, 5\n",
    "np.random.seed(123)      # reproducibility\n",
    "M = np.random.randn(m, n)\n",
    "print(M)"
   ]
  },
  {
   "cell_type": "code",
   "execution_count": 5,
   "metadata": {},
   "outputs": [
    {
     "name": "stdout",
     "output_type": "stream",
     "text": [
      "[[-0.161  0.401 -0.418  0.028  0.013 -0.462 -0.271 -0.014 -0.376  0.457]\n",
      " [ 0.42  -0.47   0.207  0.392  0.091  0.133 -0.227  0.115 -0.372  0.42 ]\n",
      " [-0.086  0.331  0.012  0.424 -0.173  0.366  0.463 -0.239  0.205  0.474]\n",
      " [-0.501 -0.041  0.288  0.265 -0.373 -0.061  0.209  0.203 -0.547 -0.261]\n",
      " [-0.133 -0.582 -0.382 -0.033 -0.083 -0.358  0.48   0.207  0.203  0.215]\n",
      " [-0.033 -0.097 -0.533 -0.29  -0.333  0.648 -0.125  0.158 -0.224  0.014]\n",
      " [ 0.519  0.234  0.127 -0.43  -0.016 -0.084  0.551  0.071 -0.396  0.04 ]\n",
      " [-0.046  0.278  0.048  0.092  0.289  0.118  0.02   0.88   0.178  0.075]\n",
      " [ 0.252  0.083  0.215 -0.072 -0.782 -0.222 -0.244  0.2    0.315  0.135]\n",
      " [-0.431 -0.138  0.452 -0.558  0.095  0.117 -0.075 -0.036  0.015  0.499]]\n"
     ]
    }
   ],
   "source": [
    "# Run the SVD\n",
    "U, S, V = svd(M)\n",
    "print(U)"
   ]
  },
  {
   "cell_type": "code",
   "execution_count": 15,
   "metadata": {},
   "outputs": [
    {
     "data": {
      "text/plain": [
       "array([[ 1., -0.,  0., -0.,  0.,  0., -0., -0.,  0.,  0.],\n",
       "       [-0.,  1., -0., -0., -0., -0.,  0., -0., -0., -0.],\n",
       "       [ 0., -0.,  1.,  0., -0., -0., -0., -0., -0.,  0.],\n",
       "       [-0., -0.,  0.,  1., -0., -0., -0.,  0., -0., -0.],\n",
       "       [ 0., -0., -0., -0.,  1., -0.,  0., -0.,  0., -0.],\n",
       "       [ 0., -0., -0., -0., -0.,  1.,  0., -0.,  0.,  0.],\n",
       "       [-0.,  0., -0., -0.,  0.,  0.,  1., -0., -0.,  0.],\n",
       "       [-0., -0., -0.,  0., -0., -0., -0.,  1.,  0.,  0.],\n",
       "       [ 0., -0., -0., -0.,  0.,  0., -0.,  0.,  1., -0.],\n",
       "       [ 0., -0.,  0., -0., -0.,  0.,  0.,  0., -0.,  1.]])"
      ]
     },
     "execution_count": 15,
     "metadata": {},
     "output_type": "execute_result"
    }
   ],
   "source": [
    "np.round(np.dot(U.T, U), 2)"
   ]
  },
  {
   "cell_type": "code",
   "execution_count": 16,
   "metadata": {},
   "outputs": [
    {
     "name": "stdout",
     "output_type": "stream",
     "text": [
      "[[2 3]\n",
      " [1 5]]\n"
     ]
    }
   ],
   "source": [
    "x = np.array([[2, 3],[1,5]])\n",
    "print(x)"
   ]
  },
  {
   "cell_type": "code",
   "execution_count": 18,
   "metadata": {},
   "outputs": [
    {
     "data": {
      "text/plain": [
       "(array([[ 4,  9],\n",
       "        [ 1, 25]], dtype=int32),\n",
       " array([ 5, 34], dtype=int32))"
      ]
     },
     "execution_count": 18,
     "metadata": {},
     "output_type": "execute_result"
    }
   ],
   "source": [
    "x ** 2, (x ** 2).sum(axis=0)"
   ]
  }
 ],
 "metadata": {
  "kernelspec": {
   "display_name": "tf_gpu",
   "language": "python",
   "name": "python3"
  },
  "language_info": {
   "codemirror_mode": {
    "name": "ipython",
    "version": 3
   },
   "file_extension": ".py",
   "mimetype": "text/x-python",
   "name": "python",
   "nbconvert_exporter": "python",
   "pygments_lexer": "ipython3",
   "version": "3.9.13"
  },
  "orig_nbformat": 4,
  "vscode": {
   "interpreter": {
    "hash": "7b18c970f1c267b2ae7de1f51c7b9ea29dc67f6c9f87d5b0ef47c4534e0830b3"
   }
  }
 },
 "nbformat": 4,
 "nbformat_minor": 2
}
