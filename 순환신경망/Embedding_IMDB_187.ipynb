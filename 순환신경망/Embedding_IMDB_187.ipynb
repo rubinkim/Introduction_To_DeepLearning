{
 "cells": [
  {
   "cell_type": "code",
   "execution_count": 1,
   "metadata": {},
   "outputs": [],
   "source": [
    "# IMDB 데이터셋에 Embedding layer를 사용해보자. 데이터는 이미 전처리가 전부 수행되어 있다.  \n",
    "from tensorflow.keras.datasets import imdb"
   ]
  },
  {
   "cell_type": "code",
   "execution_count": 2,
   "metadata": {},
   "outputs": [
    {
     "name": "stdout",
     "output_type": "stream",
     "text": [
      "X_train의 shape : (25000,), y_train의 shape는 (25000,)이다.\n",
      "X_test의 shape는 (25000,), y_test의 shape는 (25000,)이다.\n"
     ]
    }
   ],
   "source": [
    "# num_words는 데이터셋에서 가장 빈번하게 사용되는 단어의 개수이다.\n",
    "num_words = 10000\n",
    "(X_train, y_train),(X_test, y_test) = imdb.load_data(num_words=num_words)\n",
    "\n",
    "# train가 test 데이터가 5:5비율로 나뉘어 반환되고 있다.\n",
    "print(f\"X_train의 shape : {X_train.shape}, y_train의 shape는 {y_train.shape}이다.\")\n",
    "print(f\"X_test의 shape는 {X_test.shape}, y_test의 shape는 {y_test.shape}이다.\")"
   ]
  }
 ],
 "metadata": {
  "kernelspec": {
   "display_name": "tf_gpu",
   "language": "python",
   "name": "python3"
  },
  "language_info": {
   "codemirror_mode": {
    "name": "ipython",
    "version": 3
   },
   "file_extension": ".py",
   "mimetype": "text/x-python",
   "name": "python",
   "nbconvert_exporter": "python",
   "pygments_lexer": "ipython3",
   "version": "3.9.13"
  },
  "orig_nbformat": 4,
  "vscode": {
   "interpreter": {
    "hash": "7b18c970f1c267b2ae7de1f51c7b9ea29dc67f6c9f87d5b0ef47c4534e0830b3"
   }
  }
 },
 "nbformat": 4,
 "nbformat_minor": 2
}
