{
 "cells": [
  {
   "cell_type": "code",
   "execution_count": 5,
   "metadata": {},
   "outputs": [],
   "source": [
    "#from random import random, seed\n",
    "from math import exp\n",
    "import numpy as np"
   ]
  },
  {
   "cell_type": "code",
   "execution_count": 55,
   "metadata": {},
   "outputs": [],
   "source": [
    "# Initialize a network\n",
    "def initialize_network(n_inputs, n_hidden, n_outputs):\n",
    "    \n",
    "    network = list()\n",
    "    \n",
    "    hidden_layer = [{\"weights\" : [np.random.rand() for i in range(n_inputs+1)]} for i in range(n_hidden)]\n",
    "    network.append(hidden_layer)\n",
    "    \n",
    "    output_layer = [{\"weights\" : [np.random.rand() for i in range(n_hidden+1)]} for i in range(n_outputs)]\n",
    "    network.append(output_layer)\n",
    "    \n",
    "    return network\n",
    "\n",
    "# Calculate neuron activation for an input\n",
    "def activate(weights, inputs):\n",
    "    activation = weights[-1]\n",
    "    for i in range(len(weights)-1):\n",
    "        activation += weights[i] * inputs[i]\n",
    "    return activation\n",
    "\n",
    "# Transfer neuron activation\n",
    "def transfer(activation):\n",
    "    # Sigmoid(Logistic) function is applied.\n",
    "    return 1.0 / (1.0 + exp(-activation))\n"
   ]
  },
  {
   "cell_type": "code",
   "execution_count": 50,
   "metadata": {},
   "outputs": [
    {
     "name": "stdout",
     "output_type": "stream",
     "text": [
      "[[{'weights': [0.6964691855978616, 0.28613933495037946, 0.2268514535642031]}], [{'weights': [0.5513147690828912, 0.7194689697855631]}, {'weights': [0.42310646012446096, 0.9807641983846155]}]]\n"
     ]
    }
   ],
   "source": [
    "print(network)"
   ]
  },
  {
   "cell_type": "code",
   "execution_count": 28,
   "metadata": {},
   "outputs": [
    {
     "name": "stdout",
     "output_type": "stream",
     "text": [
      "{'weights': [0.6964691855978616, 0.28613933495037946, 0.2268514535642031]}\n",
      "{'weights': [0.5513147690828912, 0.7194689697855631]}\n",
      "{'weights': [0.42310646012446096, 0.9807641983846155]}\n"
     ]
    }
   ],
   "source": [
    "np.random.seed(123)\n",
    "\n",
    "network = initialize_network(2,1,2)\n",
    "\n",
    "for layer in network:\n",
    "    for neuron in layer:\n",
    "        print(neuron)"
   ]
  },
  {
   "cell_type": "code",
   "execution_count": 48,
   "metadata": {},
   "outputs": [
    {
     "name": "stdout",
     "output_type": "stream",
     "text": [
      "[2 7 1]\n",
      "3.622765169412583\n"
     ]
    },
    {
     "data": {
      "text/plain": [
       "3.622765169412583"
      ]
     },
     "execution_count": 48,
     "metadata": {},
     "output_type": "execute_result"
    }
   ],
   "source": [
    "inputs = np.array([2, 7, 1])\n",
    "print(inputs)\n",
    "\n",
    "print(np.dot(network[0][0]['weights'], inputs))\n",
    "\n",
    "0.6964691855978616 * 2 + 0.28613933495037946 * 7 + 0.2268514535642031 * 1"
   ]
  },
  {
   "cell_type": "code",
   "execution_count": 56,
   "metadata": {},
   "outputs": [
    {
     "name": "stdout",
     "output_type": "stream",
     "text": [
      "3.622765169412583\n",
      "0.9739860783992703\n"
     ]
    }
   ],
   "source": [
    "h1 = activate(network[0][0]['weights'], [2, 7])\n",
    "print(h1)\n",
    "\n",
    "a1 = transfer(h1)\n",
    "print(a1)"
   ]
  },
  {
   "cell_type": "code",
   "execution_count": 61,
   "metadata": {},
   "outputs": [
    {
     "name": "stdout",
     "output_type": "stream",
     "text": [
      "1.2564418796882075 0.7784129891201365\n"
     ]
    },
    {
     "data": {
      "text/plain": [
       "1.2564418796882075"
      ]
     },
     "execution_count": 61,
     "metadata": {},
     "output_type": "execute_result"
    }
   ],
   "source": [
    "z1 = np.dot(network[1][0]['weights'], np.array([a1, 1]))\n",
    "o1 = transfer(z1)\n",
    "print(z1, o1)\n",
    "\n",
    "0.9739860783992703 * 0.5513147690828912 + 0.7194689697855631"
   ]
  }
 ],
 "metadata": {
  "kernelspec": {
   "display_name": "tf_gpu",
   "language": "python",
   "name": "python3"
  },
  "language_info": {
   "codemirror_mode": {
    "name": "ipython",
    "version": 3
   },
   "file_extension": ".py",
   "mimetype": "text/x-python",
   "name": "python",
   "nbconvert_exporter": "python",
   "pygments_lexer": "ipython3",
   "version": "3.9.13"
  },
  "orig_nbformat": 4,
  "vscode": {
   "interpreter": {
    "hash": "7b18c970f1c267b2ae7de1f51c7b9ea29dc67f6c9f87d5b0ef47c4534e0830b3"
   }
  }
 },
 "nbformat": 4,
 "nbformat_minor": 2
}
