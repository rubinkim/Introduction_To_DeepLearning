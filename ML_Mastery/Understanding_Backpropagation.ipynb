{
 "cells": [
  {
   "cell_type": "code",
   "execution_count": 1,
   "metadata": {},
   "outputs": [],
   "source": [
    "# Import necessary modules\n",
    "import numpy as np\n",
    "import pandas as pd\n",
    "from random import random, seed\n",
    "from math import exp"
   ]
  },
  {
   "cell_type": "code",
   "execution_count": 26,
   "metadata": {},
   "outputs": [],
   "source": [
    "# Initialize Network\n",
    "def initialize_network(n_inputs, n_hiddens, n_hidden_neurons, n_outputs):\n",
    "    # Create network with 2 hidden layers\n",
    "    network = {}\n",
    "    network['input_layer'] = {}\n",
    "        \n",
    "    n = 1\n",
    "    while(n <= n_hiddens):\n",
    "        network['hidden_' + str(n) + '_layer'] = {}\n",
    "        if n == 1:\n",
    "            network['hidden_' + str(n) + '_layer']['weights'] = np.random.random((n_hidden_neurons, n_inputs))\n",
    "        else:\n",
    "            network['hidden_' + str(n) + '_layer']['weights'] = np.random.random((n_hidden_neurons, n_hidden_neurons))\n",
    "        n += 1\n",
    "    \n",
    "    network['output_layer']= {}    \n",
    "    \n",
    "    return network"
   ]
  },
  {
   "cell_type": "code",
   "execution_count": 27,
   "metadata": {},
   "outputs": [
    {
     "data": {
      "text/plain": [
       "{'input_layer': {},\n",
       " 'hidden_1_layer': {'weights': array([[0.59589645, 0.58404148, 0.80026061, 0.17832339],\n",
       "         [0.59275222, 0.31201096, 0.44721804, 0.30506231]])},\n",
       " 'hidden_2_layer': {'weights': array([[0.86851501, 0.94828076],\n",
       "         [0.16771067, 0.17958513]])},\n",
       " 'hidden_3_layer': {'weights': array([[0.02089769, 0.49145022],\n",
       "         [0.60998807, 0.4300795 ]])},\n",
       " 'output_layer': {}}"
      ]
     },
     "execution_count": 27,
     "metadata": {},
     "output_type": "execute_result"
    }
   ],
   "source": [
    "initialize_network(4, 3, 2, 3)"
   ]
  },
  {
   "cell_type": "code",
   "execution_count": 4,
   "metadata": {},
   "outputs": [
    {
     "ename": "NameError",
     "evalue": "name 'network' is not defined",
     "output_type": "error",
     "traceback": [
      "\u001b[1;31m---------------------------------------------------------------------------\u001b[0m",
      "\u001b[1;31mNameError\u001b[0m                                 Traceback (most recent call last)",
      "\u001b[1;32me:\\딥러닝입문\\ML_Mastery\\Understanding_Backpropagation.ipynb Cell 4\u001b[0m in \u001b[0;36m<cell line: 1>\u001b[1;34m()\u001b[0m\n\u001b[1;32m----> <a href='vscode-notebook-cell:/e%3A/%EB%94%A5%EB%9F%AC%EB%8B%9D%EC%9E%85%EB%AC%B8/ML_Mastery/Understanding_Backpropagation.ipynb#W3sZmlsZQ%3D%3D?line=0'>1</a>\u001b[0m network\n",
      "\u001b[1;31mNameError\u001b[0m: name 'network' is not defined"
     ]
    }
   ],
   "source": [
    "network"
   ]
  }
 ],
 "metadata": {
  "kernelspec": {
   "display_name": "tf_gpu",
   "language": "python",
   "name": "python3"
  },
  "language_info": {
   "codemirror_mode": {
    "name": "ipython",
    "version": 3
   },
   "file_extension": ".py",
   "mimetype": "text/x-python",
   "name": "python",
   "nbconvert_exporter": "python",
   "pygments_lexer": "ipython3",
   "version": "3.9.13"
  },
  "orig_nbformat": 4,
  "vscode": {
   "interpreter": {
    "hash": "7b18c970f1c267b2ae7de1f51c7b9ea29dc67f6c9f87d5b0ef47c4534e0830b3"
   }
  }
 },
 "nbformat": 4,
 "nbformat_minor": 2
}
