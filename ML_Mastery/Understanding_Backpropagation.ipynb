{
 "cells": [
  {
   "cell_type": "code",
   "execution_count": 1,
   "metadata": {},
   "outputs": [],
   "source": [
    "# Import necessary modules\n",
    "import numpy as np\n",
    "import pandas as pd\n",
    "from math import exp"
   ]
  },
  {
   "cell_type": "code",
   "execution_count": 2,
   "metadata": {},
   "outputs": [],
   "source": [
    "# Initialize Network\n",
    "def initialize_network(inputs, n_hiddens, n_hidden_neurons, n_outputs):\n",
    "    # Create network with n hidden layers with each having n neurons\n",
    "    network = {}\n",
    "    network['input_layer'] = {}\n",
    "        \n",
    "    n = 1\n",
    "    while(n <= n_hiddens):\n",
    "        network['hidden_' + str(n) + '_layer'] = {}\n",
    "        if n == 1:\n",
    "            network['hidden_' + str(n) + '_layer']['weights']\\\n",
    "                                                    = np.random.random((n_hidden_neurons, len(inputs)+1))\n",
    "        else:\n",
    "            network['hidden_' + str(n) + '_layer']['weights']\\\n",
    "                                                = np.random.random((n_hidden_neurons, n_hidden_neurons+1))\n",
    "        n += 1\n",
    "    \n",
    "    network['output_layer']= {} \n",
    "    network['output_layer']['weights'] = np.random.random((n_outputs, n_hidden_neurons+1))\n",
    "    \n",
    "    return network"
   ]
  },
  {
   "cell_type": "code",
   "execution_count": 3,
   "metadata": {},
   "outputs": [],
   "source": [
    "# Calculate neuron\n",
    "def calculate_neuron(weights, inputs):\n",
    "    inputs_plus_bias = np.append(inputs, 1)\n",
    "    outputs = np.dot(weights, inputs_plus_bias)\n",
    "    \n",
    "    return outputs"
   ]
  },
  {
   "cell_type": "code",
   "execution_count": 4,
   "metadata": {},
   "outputs": [],
   "source": [
    "# Activate neuron using Sigmoid \n",
    "def activate_sigmoid(output):\n",
    "    return 1.0 / (1.0 + exp(-output))"
   ]
  },
  {
   "cell_type": "code",
   "execution_count": 5,
   "metadata": {},
   "outputs": [],
   "source": [
    "# Forward propagate inputs\n",
    "def forward_propagate(network, inputs):\n",
    "    for layer, values in network.items():\n",
    "        if layer == 'input_layer':\n",
    "            continue\n",
    "         \n",
    "        outputs = calculate_neuron(values['weights'], inputs)\n",
    "        \n",
    "        outputs_list = []  \n",
    "        for output in outputs:\n",
    "            sigmoid_output = activate_sigmoid(output)\n",
    "            outputs_list.append(sigmoid_output)\n",
    "        sigmoid_outputs = np.array(outputs_list)\n",
    "        \n",
    "        values['outputs'] = outputs\n",
    "        values['sigmoid'] = sigmoid_outputs\n",
    "        inputs = values['sigmoid']\n",
    "        \n",
    "    return inputs                 "
   ]
  },
  {
   "cell_type": "code",
   "execution_count": 5,
   "metadata": {},
   "outputs": [],
   "source": [
    "# Forward propagate inputs\n",
    "def forward_propagate(network, inputs):\n",
    "    for layer, values in network.items():\n",
    "        if layer == 'input_layer':\n",
    "            values['outputs'] = inputs\n",
    "        else:\n",
    "            outputs = calculate_neuron(values['weights'], inputs)            \n",
    "            outputs_list = []  \n",
    "            for output in outputs:\n",
    "                sigmoid_output = activate_sigmoid(output)\n",
    "                outputs_list.append(sigmoid_output)\n",
    "            sigmoid_outputs = np.array(outputs_list)\n",
    "            \n",
    "            values['outputs'] = outputs\n",
    "            values['sigmoid'] = sigmoid_outputs\n",
    "            inputs = values['sigmoid']\n",
    "        \n",
    "    return inputs                 "
   ]
  },
  {
   "cell_type": "code",
   "execution_count": 6,
   "metadata": {},
   "outputs": [
    {
     "name": "stdout",
     "output_type": "stream",
     "text": [
      "input_layer {}\n",
      "hidden_1_layer {'weights': array([[0.3219883 , 0.89042245, 0.58805226, 0.12659609, 0.14134122],\n",
      "       [0.46789559, 0.02208966, 0.72727471, 0.52438734, 0.54493524]])}\n",
      "hidden_2_layer {'weights': array([[0.45637326, 0.50138226, 0.39446855],\n",
      "       [0.1511723 , 0.36087518, 0.16207701]])}\n",
      "hidden_3_layer {'weights': array([[0.33795869, 0.18032328, 0.3909914 ],\n",
      "       [0.03564821, 0.56486165, 0.20346149]])}\n",
      "output_layer {'weights': array([[0.32060446, 0.37656378, 0.18405414],\n",
      "       [0.10395184, 0.45492722, 0.19586384],\n",
      "       [0.37852542, 0.93053196, 0.76015971]])}\n"
     ]
    }
   ],
   "source": [
    "np.random.seed(2023)\n",
    "inputs = np.array([14.88, 14.57, 0.8811, 5.554])\n",
    "network = initialize_network(inputs, 3, 2, 3)\n",
    "\n",
    "for key, value in network.items():\n",
    "    print(key, value)"
   ]
  },
  {
   "cell_type": "code",
   "execution_count": 8,
   "metadata": {},
   "outputs": [
    {
     "name": "stdout",
     "output_type": "stream",
     "text": [
      "input_layer {'outputs': array([14.88  , 14.57  ,  0.8811,  5.554 ])}\n",
      "hidden_1_layer {'weights': array([[0.3219883 , 0.89042245, 0.58805226, 0.12659609, 0.14134122],\n",
      "       [0.46789559, 0.02208966, 0.72727471, 0.52438734, 0.54493524]]), 'outputs': array([19.12722985, 11.38231707]), 'sigmoid': array([1.       , 0.9999886])}\n",
      "hidden_2_layer {'weights': array([[0.45637326, 0.50138226, 0.39446855],\n",
      "       [0.1511723 , 0.36087518, 0.16207701]]), 'outputs': array([1.35221836, 0.67412037]), 'sigmoid': array([0.79449207, 0.66242517])}\n",
      "hidden_3_layer {'weights': array([[0.33795869, 0.18032328, 0.3909914 ],\n",
      "       [0.03564821, 0.56486165, 0.20346149]]), 'outputs': array([0.77894758, 0.60596228]), 'sigmoid': array([0.68545325, 0.6470192 ])}\n",
      "output_layer {'weights': array([[0.32060446, 0.37656378, 0.18405414],\n",
      "       [0.10395184, 0.45492722, 0.19586384],\n",
      "       [0.37852542, 0.93053196, 0.76015971]]), 'outputs': array([0.6474575 , 0.56146461, 1.62169323]), 'sigmoid': array([0.65643729, 0.63679135, 0.83502852])}\n"
     ]
    }
   ],
   "source": [
    "for layer, values in network.items():\n",
    "    print(layer, values)"
   ]
  },
  {
   "cell_type": "code",
   "execution_count": 18,
   "metadata": {},
   "outputs": [],
   "source": [
    "# Calculate the derivative of an neuron output\n",
    "def transfer_derivative_sigmoid(output):\n",
    "    return output * (1.0 - output)"
   ]
  },
  {
   "cell_type": "code",
   "execution_count": 19,
   "metadata": {},
   "outputs": [],
   "source": [
    "# Backpropagate error and store in neurons\n",
    "def backward_propagate_error(network, expected):\n",
    "    for i in range(len(network)-1, -1, -1):\n",
    "        layer = network[i]\n",
    "        errors, error_signals = [],[]\n",
    "        \n",
    "        for j, neuron in enumerate(layer):\n",
    "            if i == len(network) -1:\n",
    "                error = neuron[\"output\"] - expected[j]\n",
    "                error_signal = error * transfer_derivative_sigmoid(neuron[\"output\"])\n",
    "                \n",
    "            else:\n",
    "                error = 0\n",
    "                for k, next_neuron in enumerate(network[i+1]):\n",
    "                    error += next_neuron[\"weights\"][j] * next_neuron[\"delta\"]\n",
    "                    error_signal = error * transfer_derivative_sigmoid(neuron[\"output\"])\n",
    "                    errors.append(error)\n",
    "                    error_signals.append(error_signal) \n",
    "            \n",
    "            errors.append(error)\n",
    "            error_signals.append(error_signal) \n",
    "            neuron['delta'] = error_signal\n",
    "        "
   ]
  },
  {
   "cell_type": "code",
   "execution_count": 20,
   "metadata": {},
   "outputs": [],
   "source": [
    "# Update network weights with error\n",
    "def update_weights(network, row, l_rate):\n",
    "    for i in range(len(network)):\n",
    "        if i == 0:\n",
    "            inputs = row[:-1]\n",
    "        else:\n",
    "            inputs = [neuron['output'] for neuron in network[i-1]]\n",
    "            \n",
    "        for neuron in network[i]:\n",
    "            for j in range(len(inputs)):\n",
    "                neuron[\"weights\"][j] -= l_rate * neuron['delta'] * inputs[j]\n",
    "                neuron[\"weights\"][-1] -= l_rate * neuron['delta']"
   ]
  },
  {
   "cell_type": "code",
   "execution_count": 22,
   "metadata": {},
   "outputs": [],
   "source": [
    "# Train a network for a fixed number of epochs\n",
    "def train_network(network, train, l_rate, n_epoch, n_outputs):\n",
    "    for epoch in range(n_epoch):\n",
    "        sum_error = 0\n",
    "        for row in train:\n",
    "            outputs = forward_propagate(network, row)\n",
    "            expected = [0 for i in range(n_outputs)]\n",
    "            expected[int(row[-1])] = 1   \n",
    "            sum_error += sum([(expected[i] - outputs[i]) ** 2 for i in range(n_outputs)]) \n",
    "            backward_propagate_error(network, expected)\n",
    "            update_weights(network, row, l_rate)\n",
    "        print(f\"epoch:{epoch:2d},  lrate:{l_rate},  error:{sum_error:.4f}\")    "
   ]
  },
  {
   "cell_type": "code",
   "execution_count": 37,
   "metadata": {},
   "outputs": [
    {
     "name": "stdout",
     "output_type": "stream",
     "text": [
      "(209, 8)\n",
      "[[14.88, 14.57, 0.8811, 5.554, 3.333, 1.018, 4.956], [14.29, 14.09, 0.905, 5.291, 3.337, 2.699, 4.825]]\n",
      "[1.0, 1.0]\n"
     ]
    }
   ],
   "source": [
    "url = 'https://raw.githubusercontent.com/jbrownlee/Datasets/master/wheat-seeds.csv'\n",
    "dataset = pd.read_csv(url)\n",
    "\n",
    "wheat_seeds = []\n",
    "for idx, row in dataset.iterrows():\n",
    "    row_list = []\n",
    "    for num in row:\n",
    "        row_list.append(num)\n",
    "    wheat_seeds.append(row_list)\n",
    "    \n",
    "print(np.shape(wheat_seeds))\n",
    "\n",
    "wheat_inputs = [x[:-1] for x in wheat_seeds[:2]]\n",
    "wheat_outputs = [x[-1] for x in wheat_seeds[:2]]\n",
    "print(wheat_inputs)\n",
    "print(wheat_outputs)"
   ]
  },
  {
   "cell_type": "code",
   "execution_count": 46,
   "metadata": {},
   "outputs": [
    {
     "name": "stdout",
     "output_type": "stream",
     "text": [
      "input_layer\n",
      "{}\n",
      "\n",
      "hidden_1_layer\n",
      "{'weights': array([[4.17022005e-01, 7.20324493e-01, 1.14374817e-04, 3.02332573e-01,\n",
      "        1.46755891e-01, 9.23385948e-02, 1.86260211e-01, 3.45560727e-01],\n",
      "       [3.96767474e-01, 5.38816734e-01, 4.19194514e-01, 6.85219500e-01,\n",
      "        2.04452250e-01, 8.78117436e-01, 2.73875932e-02, 6.70467510e-01],\n",
      "       [4.17304802e-01, 5.58689828e-01, 1.40386939e-01, 1.98101489e-01,\n",
      "        8.00744569e-01, 9.68261576e-01, 3.13424178e-01, 6.92322616e-01],\n",
      "       [8.76389152e-01, 8.94606664e-01, 8.50442114e-02, 3.90547832e-02,\n",
      "        1.69830420e-01, 8.78142503e-01, 9.83468338e-02, 4.21107625e-01]])}\n",
      "\n",
      "hidden_2_layer\n",
      "{'weights': array([[0.95788953, 0.53316528, 0.69187711, 0.31551563, 0.68650093],\n",
      "       [0.83462567, 0.01828828, 0.75014431, 0.98886109, 0.74816565],\n",
      "       [0.28044399, 0.78927933, 0.10322601, 0.44789353, 0.9085955 ],\n",
      "       [0.29361415, 0.28777534, 0.13002857, 0.01936696, 0.67883553]])}\n",
      "\n",
      "output_layer\n",
      "{'weights': array([[0.21162812, 0.26554666, 0.49157316, 0.05336255, 0.57411761],\n",
      "       [0.14672857, 0.58930554, 0.69975836, 0.10233443, 0.41405599],\n",
      "       [0.69440016, 0.41417927, 0.04995346, 0.53589641, 0.66379465]])}\n",
      "\n"
     ]
    }
   ],
   "source": [
    "np.random.seed(1)\n",
    "\n",
    "network = initialize_network(inputs=wheat_inputs[0],n_hiddens=2,n_hidden_neurons=4,n_outputs=3)\n",
    "\n",
    "for layer, values in network.items():\n",
    "    print(layer)\n",
    "    print(values)\n",
    "    print()"
   ]
  },
  {
   "cell_type": "code",
   "execution_count": 47,
   "metadata": {},
   "outputs": [
    {
     "ename": "IndexError",
     "evalue": "list assignment index out of range",
     "output_type": "error",
     "traceback": [
      "\u001b[1;31m---------------------------------------------------------------------------\u001b[0m",
      "\u001b[1;31mIndexError\u001b[0m                                Traceback (most recent call last)",
      "\u001b[1;32me:\\딥러닝입문\\ML_Mastery\\Understanding_Backpropagation.ipynb Cell 15\u001b[0m in \u001b[0;36m<cell line: 1>\u001b[1;34m()\u001b[0m\n\u001b[1;32m----> <a href='vscode-notebook-cell:/e%3A/%EB%94%A5%EB%9F%AC%EB%8B%9D%EC%9E%85%EB%AC%B8/ML_Mastery/Understanding_Backpropagation.ipynb#X31sZmlsZQ%3D%3D?line=0'>1</a>\u001b[0m train_network(network, wheat_inputs, \u001b[39m0.3\u001b[39;49m, \u001b[39m100\u001b[39;49m, \u001b[39m3\u001b[39;49m)\n",
      "\u001b[1;32me:\\딥러닝입문\\ML_Mastery\\Understanding_Backpropagation.ipynb Cell 15\u001b[0m in \u001b[0;36mtrain_network\u001b[1;34m(network, train, l_rate, n_epoch, n_outputs)\u001b[0m\n\u001b[0;32m      <a href='vscode-notebook-cell:/e%3A/%EB%94%A5%EB%9F%AC%EB%8B%9D%EC%9E%85%EB%AC%B8/ML_Mastery/Understanding_Backpropagation.ipynb#X31sZmlsZQ%3D%3D?line=5'>6</a>\u001b[0m outputs \u001b[39m=\u001b[39m forward_propagate(network, row)\n\u001b[0;32m      <a href='vscode-notebook-cell:/e%3A/%EB%94%A5%EB%9F%AC%EB%8B%9D%EC%9E%85%EB%AC%B8/ML_Mastery/Understanding_Backpropagation.ipynb#X31sZmlsZQ%3D%3D?line=6'>7</a>\u001b[0m expected \u001b[39m=\u001b[39m [\u001b[39m0\u001b[39m \u001b[39mfor\u001b[39;00m i \u001b[39min\u001b[39;00m \u001b[39mrange\u001b[39m(n_outputs)]\n\u001b[1;32m----> <a href='vscode-notebook-cell:/e%3A/%EB%94%A5%EB%9F%AC%EB%8B%9D%EC%9E%85%EB%AC%B8/ML_Mastery/Understanding_Backpropagation.ipynb#X31sZmlsZQ%3D%3D?line=7'>8</a>\u001b[0m expected[\u001b[39mint\u001b[39m(row[\u001b[39m-\u001b[39m\u001b[39m1\u001b[39m])] \u001b[39m=\u001b[39m \u001b[39m1\u001b[39m   \n\u001b[0;32m      <a href='vscode-notebook-cell:/e%3A/%EB%94%A5%EB%9F%AC%EB%8B%9D%EC%9E%85%EB%AC%B8/ML_Mastery/Understanding_Backpropagation.ipynb#X31sZmlsZQ%3D%3D?line=8'>9</a>\u001b[0m sum_error \u001b[39m+\u001b[39m\u001b[39m=\u001b[39m \u001b[39msum\u001b[39m([(expected[i] \u001b[39m-\u001b[39m outputs[i]) \u001b[39m*\u001b[39m\u001b[39m*\u001b[39m \u001b[39m2\u001b[39m \u001b[39mfor\u001b[39;00m i \u001b[39min\u001b[39;00m \u001b[39mrange\u001b[39m(n_outputs)]) \n\u001b[0;32m     <a href='vscode-notebook-cell:/e%3A/%EB%94%A5%EB%9F%AC%EB%8B%9D%EC%9E%85%EB%AC%B8/ML_Mastery/Understanding_Backpropagation.ipynb#X31sZmlsZQ%3D%3D?line=9'>10</a>\u001b[0m backward_propagate_error(network, expected)\n",
      "\u001b[1;31mIndexError\u001b[0m: list assignment index out of range"
     ]
    }
   ],
   "source": [
    "train_network(network, wheat_inputs, 0.3, 100, 3)"
   ]
  },
  {
   "cell_type": "code",
   "execution_count": null,
   "metadata": {},
   "outputs": [],
   "source": []
  },
  {
   "cell_type": "code",
   "execution_count": null,
   "metadata": {},
   "outputs": [],
   "source": []
  },
  {
   "cell_type": "code",
   "execution_count": null,
   "metadata": {},
   "outputs": [],
   "source": []
  },
  {
   "cell_type": "code",
   "execution_count": null,
   "metadata": {},
   "outputs": [],
   "source": []
  },
  {
   "cell_type": "code",
   "execution_count": null,
   "metadata": {},
   "outputs": [],
   "source": []
  },
  {
   "cell_type": "code",
   "execution_count": 16,
   "metadata": {},
   "outputs": [
    {
     "name": "stdout",
     "output_type": "stream",
     "text": [
      "[0.6474575  0.56146461 1.62169323]\n"
     ]
    }
   ],
   "source": [
    "weights = np.array([[0.32060446, 0.37656378, 0.18405414],\n",
    "       [0.10395184, 0.45492722, 0.19586384],\n",
    "       [0.37852542, 0.93053196, 0.76015971]])\n",
    "inputs = np.array([0.68545325, 0.6470192 , 1])\n",
    "outputs = np.dot(weights, inputs)\n",
    "\n",
    "print(outputs)"
   ]
  },
  {
   "cell_type": "code",
   "execution_count": 10,
   "metadata": {},
   "outputs": [
    {
     "name": "stdout",
     "output_type": "stream",
     "text": [
      "\n",
      "\n",
      "[0.65643729 0.63679135 0.83502852]\n"
     ]
    }
   ],
   "source": [
    "output = forward_propagate(network, inputs)\n",
    "print()\n",
    "print()\n",
    "print(output)"
   ]
  }
 ],
 "metadata": {
  "kernelspec": {
   "display_name": "tf_gpu",
   "language": "python",
   "name": "python3"
  },
  "language_info": {
   "codemirror_mode": {
    "name": "ipython",
    "version": 3
   },
   "file_extension": ".py",
   "mimetype": "text/x-python",
   "name": "python",
   "nbconvert_exporter": "python",
   "pygments_lexer": "ipython3",
   "version": "3.9.13 (main, Aug 25 2022, 23:51:50) [MSC v.1916 64 bit (AMD64)]"
  },
  "orig_nbformat": 4,
  "vscode": {
   "interpreter": {
    "hash": "7b18c970f1c267b2ae7de1f51c7b9ea29dc67f6c9f87d5b0ef47c4534e0830b3"
   }
  }
 },
 "nbformat": 4,
 "nbformat_minor": 2
}
