{
 "cells": [
  {
   "cell_type": "code",
   "execution_count": 68,
   "metadata": {},
   "outputs": [],
   "source": [
    "# Import necessary modules\n",
    "import numpy as np\n",
    "import pandas as pd\n",
    "from math import exp"
   ]
  },
  {
   "cell_type": "code",
   "execution_count": 167,
   "metadata": {},
   "outputs": [],
   "source": [
    "# Initialize Network\n",
    "def initialize_network(inputs, n_hiddens, n_hidden_neurons, n_outputs):\n",
    "    # Create network with 2 hidden layers\n",
    "    network = {}\n",
    "    network['input_layer'] = {}\n",
    "        \n",
    "    n = 1\n",
    "    while(n <= n_hiddens):\n",
    "        network['hidden_' + str(n) + '_layer'] = {}\n",
    "        if n == 1:\n",
    "            network['hidden_' + str(n) + '_layer']['weights']\\\n",
    "                                                    = np.random.random((n_hidden_neurons, len(inputs)+1))\n",
    "        else:\n",
    "            network['hidden_' + str(n) + '_layer']['weights']\\\n",
    "                                                = np.random.random((n_hidden_neurons, n_hidden_neurons+1))\n",
    "        n += 1\n",
    "    \n",
    "    network['output_layer']= {} \n",
    "    network['output_layer']['weights'] = np.random.random((n_outputs, n_hidden_neurons+1))\n",
    "    \n",
    "    return network"
   ]
  },
  {
   "cell_type": "code",
   "execution_count": 168,
   "metadata": {},
   "outputs": [],
   "source": [
    "# Calculate neuron\n",
    "def calculate_neuron(weights, inputs):\n",
    "    inputs_plus_bias = np.append(inputs, 1)\n",
    "    outputs = np.dot(weights, inputs_plus_bias)\n",
    "    \n",
    "    return outputs"
   ]
  },
  {
   "cell_type": "code",
   "execution_count": 169,
   "metadata": {},
   "outputs": [],
   "source": [
    "# Activate neuron using Sigmoid \n",
    "def activate_sigmoid(output):\n",
    "    return 1.0 / (1.0 + output)"
   ]
  },
  {
   "cell_type": "code",
   "execution_count": 170,
   "metadata": {},
   "outputs": [],
   "source": [
    "# Forward propagate inputs\n",
    "def forward_propagate(network, inputs):\n",
    "    for layer, values in network.items():\n",
    "        if layer == 'input_layer':\n",
    "            continue\n",
    "        print(values['weights'])\n",
    "        \n",
    "        \n",
    "        outputs = calculate_neuron(values['weights'], inputs)\n",
    "        values['outputs'] = outputs\n",
    "        print(values['outputs'])\n",
    "        print()\n",
    "        inputs = values['outputs']\n",
    "    return inputs                 "
   ]
  },
  {
   "cell_type": "code",
   "execution_count": 171,
   "metadata": {},
   "outputs": [
    {
     "name": "stdout",
     "output_type": "stream",
     "text": [
      "input_layer {}\n",
      "hidden_1_layer {'weights': array([[0.3219883 , 0.89042245, 0.58805226, 0.12659609, 0.14134122],\n",
      "       [0.46789559, 0.02208966, 0.72727471, 0.52438734, 0.54493524]])}\n",
      "hidden_2_layer {'weights': array([[0.45637326, 0.50138226, 0.39446855],\n",
      "       [0.1511723 , 0.36087518, 0.16207701]])}\n",
      "hidden_3_layer {'weights': array([[0.33795869, 0.18032328, 0.3909914 ],\n",
      "       [0.03564821, 0.56486165, 0.20346149]])}\n",
      "output_layer {'weights': array([[0.32060446, 0.37656378, 0.18405414],\n",
      "       [0.10395184, 0.45492722, 0.19586384],\n",
      "       [0.37852542, 0.93053196, 0.76015971]])}\n"
     ]
    }
   ],
   "source": [
    "np.random.seed(2023)\n",
    "inputs = np.array([14.88, 14.57, 0.8811, 5.554])\n",
    "network = initialize_network(inputs, 3, 2, 3)\n",
    "\n",
    "for key, value in network.items():\n",
    "    print(key, value)"
   ]
  },
  {
   "cell_type": "code",
   "execution_count": 146,
   "metadata": {},
   "outputs": [
    {
     "data": {
      "text/plain": [
       "array([4.59687603, 3.82991987, 6.84056844])"
      ]
     },
     "execution_count": 146,
     "metadata": {},
     "output_type": "execute_result"
    }
   ],
   "source": [
    "np.dot(np.array([[0.33795869, 0.18032328],[0.3909914 , 0.03564821],[0.56486165, 0.20346149]]), \n",
    "       np.array([9.0109182 , 8.60431288]))"
   ]
  },
  {
   "cell_type": "code",
   "execution_count": 180,
   "metadata": {},
   "outputs": [
    {
     "data": {
      "text/plain": [
       "array([4.12924294, 3.06504811, 7.73952303])"
      ]
     },
     "execution_count": 180,
     "metadata": {},
     "output_type": "execute_result"
    }
   ],
   "source": [
    "weights = np.array([[0.32060446, 0.37656378, 0.18405414],\n",
    "       [0.10395184, 0.45492722, 0.19586384],\n",
    "       [0.37852542, 0.93053196, 0.76015971]])\n",
    "outputs = np.array([6.69442093, 4.77721886, 1])\n",
    "np.dot(weights, outputs)"
   ]
  },
  {
   "cell_type": "code",
   "execution_count": 174,
   "metadata": {},
   "outputs": [
    {
     "name": "stdout",
     "output_type": "stream",
     "text": [
      "[[0.3219883  0.89042245 0.58805226 0.12659609 0.14134122]\n",
      " [0.46789559 0.02208966 0.72727471 0.52438734 0.54493524]]\n",
      "[19.12722985 11.38231707]\n",
      "\n",
      "[[0.45637326 0.50138226 0.39446855]\n",
      " [0.1511723  0.36087518 0.16207701]]\n",
      "[14.83051671  7.16118009]\n",
      "\n",
      "[[0.33795869 0.18032328 0.3909914 ]\n",
      " [0.03564821 0.56486165 0.20346149]]\n",
      "[6.69442093 4.77721886]\n",
      "\n",
      "[[0.32060446 0.37656378 0.18405414]\n",
      " [0.10395184 0.45492722 0.19586384]\n",
      " [0.37852542 0.93053196 0.76015971]]\n",
      "[4.12924294 3.06504811 7.73952306]\n",
      "\n",
      "\n",
      "\n",
      "[4.12924294 3.06504811 7.73952306]\n"
     ]
    }
   ],
   "source": [
    "output = forward_propagate(network, inputs)\n",
    "print()\n",
    "print()\n",
    "print(output)"
   ]
  },
  {
   "cell_type": "code",
   "execution_count": 175,
   "metadata": {},
   "outputs": [
    {
     "name": "stdout",
     "output_type": "stream",
     "text": [
      "input_layer {}\n",
      "hidden_1_layer {'weights': array([[0.3219883 , 0.89042245, 0.58805226, 0.12659609, 0.14134122],\n",
      "       [0.46789559, 0.02208966, 0.72727471, 0.52438734, 0.54493524]]), 'outputs': array([19.12722985, 11.38231707])}\n",
      "hidden_2_layer {'weights': array([[0.45637326, 0.50138226, 0.39446855],\n",
      "       [0.1511723 , 0.36087518, 0.16207701]]), 'outputs': array([14.83051671,  7.16118009])}\n",
      "hidden_3_layer {'weights': array([[0.33795869, 0.18032328, 0.3909914 ],\n",
      "       [0.03564821, 0.56486165, 0.20346149]]), 'outputs': array([6.69442093, 4.77721886])}\n",
      "output_layer {'weights': array([[0.32060446, 0.37656378, 0.18405414],\n",
      "       [0.10395184, 0.45492722, 0.19586384],\n",
      "       [0.37852542, 0.93053196, 0.76015971]]), 'outputs': array([4.12924294, 3.06504811, 7.73952306])}\n"
     ]
    }
   ],
   "source": [
    "for layer, values in network.items():\n",
    "    print(layer, values)"
   ]
  }
 ],
 "metadata": {
  "kernelspec": {
   "display_name": "tf_gpu",
   "language": "python",
   "name": "python3"
  },
  "language_info": {
   "codemirror_mode": {
    "name": "ipython",
    "version": 3
   },
   "file_extension": ".py",
   "mimetype": "text/x-python",
   "name": "python",
   "nbconvert_exporter": "python",
   "pygments_lexer": "ipython3",
   "version": "3.9.13"
  },
  "orig_nbformat": 4,
  "vscode": {
   "interpreter": {
    "hash": "7b18c970f1c267b2ae7de1f51c7b9ea29dc67f6c9f87d5b0ef47c4534e0830b3"
   }
  }
 },
 "nbformat": 4,
 "nbformat_minor": 2
}
