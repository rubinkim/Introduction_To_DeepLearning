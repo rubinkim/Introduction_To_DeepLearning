{
 "cells": [
  {
   "cell_type": "code",
   "execution_count": 1,
   "metadata": {},
   "outputs": [],
   "source": [
    "# Import necessary modules\n",
    "import numpy as np\n",
    "import pandas as pd\n",
    "from math import exp"
   ]
  },
  {
   "cell_type": "code",
   "execution_count": 2,
   "metadata": {},
   "outputs": [],
   "source": [
    "# Initialize Network\n",
    "def initialize_network(inputs, n_hiddens, n_hidden_neurons, n_outputs):\n",
    "    # Create network with n hidden layers with each having n neurons\n",
    "    network = {}\n",
    "    network['input_layer'] = {}\n",
    "        \n",
    "    n = 1\n",
    "    while(n <= n_hiddens):\n",
    "        network['hidden_' + str(n) + '_layer'] = {}\n",
    "        if n == 1:\n",
    "            network['hidden_' + str(n) + '_layer']['weights']\\\n",
    "                                                    = np.random.random((n_hidden_neurons, len(inputs)+1))\n",
    "        else:\n",
    "            network['hidden_' + str(n) + '_layer']['weights']\\\n",
    "                                                = np.random.random((n_hidden_neurons, n_hidden_neurons+1))\n",
    "        n += 1\n",
    "    \n",
    "    network['output_layer']= {} \n",
    "    network['output_layer']['weights'] = np.random.random((n_outputs, n_hidden_neurons+1))\n",
    "    \n",
    "    return network"
   ]
  },
  {
   "cell_type": "code",
   "execution_count": 3,
   "metadata": {},
   "outputs": [],
   "source": [
    "# Calculate neuron\n",
    "def calculate_neuron(weights, inputs):\n",
    "    inputs_plus_bias = np.append(inputs, 1)\n",
    "    outputs = np.dot(weights, inputs_plus_bias)\n",
    "    \n",
    "    return outputs"
   ]
  },
  {
   "cell_type": "code",
   "execution_count": 4,
   "metadata": {},
   "outputs": [],
   "source": [
    "# Activate neuron using Sigmoid \n",
    "def activate_sigmoid(output):\n",
    "    return 1.0 / (1.0 + exp(-output))"
   ]
  },
  {
   "cell_type": "code",
   "execution_count": 5,
   "metadata": {},
   "outputs": [],
   "source": [
    "# Forward propagate inputs\n",
    "def forward_propagate(network, inputs):\n",
    "    for layer, values in network.items():\n",
    "        if layer == 'input_layer':\n",
    "            continue\n",
    "         \n",
    "        outputs = calculate_neuron(values['weights'], inputs)\n",
    "        \n",
    "        outputs_list = []  \n",
    "        for output in outputs:\n",
    "            sigmoid_output = activate_sigmoid(output)\n",
    "            outputs_list.append(sigmoid_output)\n",
    "        sigmoid_outputs = np.array(outputs_list)\n",
    "        \n",
    "        values['outputs'] = outputs\n",
    "        values['sigmoid'] = sigmoid_outputs\n",
    "        inputs = values['sigmoid']\n",
    "        \n",
    "    return inputs                 "
   ]
  },
  {
   "cell_type": "code",
   "execution_count": 5,
   "metadata": {},
   "outputs": [],
   "source": [
    "# Forward propagate inputs\n",
    "def forward_propagate(network, inputs):\n",
    "    for layer, values in network.items():\n",
    "        if layer == 'input_layer':\n",
    "            values['outputs'] = inputs\n",
    "        else:\n",
    "            outputs = calculate_neuron(values['weights'], inputs)            \n",
    "            outputs_list = []  \n",
    "            for output in outputs:\n",
    "                sigmoid_output = activate_sigmoid(output)\n",
    "                outputs_list.append(sigmoid_output)\n",
    "            sigmoid_outputs = np.array(outputs_list)\n",
    "            \n",
    "            values['outputs'] = outputs\n",
    "            values['sigmoid'] = sigmoid_outputs\n",
    "            inputs = values['sigmoid']\n",
    "        \n",
    "    return inputs                 "
   ]
  },
  {
   "cell_type": "code",
   "execution_count": 6,
   "metadata": {},
   "outputs": [
    {
     "name": "stdout",
     "output_type": "stream",
     "text": [
      "input_layer {}\n",
      "hidden_1_layer {'weights': array([[0.3219883 , 0.89042245, 0.58805226, 0.12659609, 0.14134122],\n",
      "       [0.46789559, 0.02208966, 0.72727471, 0.52438734, 0.54493524]])}\n",
      "hidden_2_layer {'weights': array([[0.45637326, 0.50138226, 0.39446855],\n",
      "       [0.1511723 , 0.36087518, 0.16207701]])}\n",
      "hidden_3_layer {'weights': array([[0.33795869, 0.18032328, 0.3909914 ],\n",
      "       [0.03564821, 0.56486165, 0.20346149]])}\n",
      "output_layer {'weights': array([[0.32060446, 0.37656378, 0.18405414],\n",
      "       [0.10395184, 0.45492722, 0.19586384],\n",
      "       [0.37852542, 0.93053196, 0.76015971]])}\n"
     ]
    }
   ],
   "source": [
    "np.random.seed(2023)\n",
    "inputs = np.array([14.88, 14.57, 0.8811, 5.554])\n",
    "network = initialize_network(inputs, 3, 2, 3)\n",
    "\n",
    "for key, value in network.items():\n",
    "    print(key, value)"
   ]
  },
  {
   "cell_type": "code",
   "execution_count": 8,
   "metadata": {},
   "outputs": [
    {
     "name": "stdout",
     "output_type": "stream",
     "text": [
      "input_layer {'outputs': array([14.88  , 14.57  ,  0.8811,  5.554 ])}\n",
      "hidden_1_layer {'weights': array([[0.3219883 , 0.89042245, 0.58805226, 0.12659609, 0.14134122],\n",
      "       [0.46789559, 0.02208966, 0.72727471, 0.52438734, 0.54493524]]), 'outputs': array([19.12722985, 11.38231707]), 'sigmoid': array([1.       , 0.9999886])}\n",
      "hidden_2_layer {'weights': array([[0.45637326, 0.50138226, 0.39446855],\n",
      "       [0.1511723 , 0.36087518, 0.16207701]]), 'outputs': array([1.35221836, 0.67412037]), 'sigmoid': array([0.79449207, 0.66242517])}\n",
      "hidden_3_layer {'weights': array([[0.33795869, 0.18032328, 0.3909914 ],\n",
      "       [0.03564821, 0.56486165, 0.20346149]]), 'outputs': array([0.77894758, 0.60596228]), 'sigmoid': array([0.68545325, 0.6470192 ])}\n",
      "output_layer {'weights': array([[0.32060446, 0.37656378, 0.18405414],\n",
      "       [0.10395184, 0.45492722, 0.19586384],\n",
      "       [0.37852542, 0.93053196, 0.76015971]]), 'outputs': array([0.6474575 , 0.56146461, 1.62169323]), 'sigmoid': array([0.65643729, 0.63679135, 0.83502852])}\n"
     ]
    }
   ],
   "source": [
    "for layer, values in network.items():\n",
    "    print(layer, values)"
   ]
  },
  {
   "cell_type": "code",
   "execution_count": 16,
   "metadata": {},
   "outputs": [
    {
     "name": "stdout",
     "output_type": "stream",
     "text": [
      "[0.6474575  0.56146461 1.62169323]\n"
     ]
    }
   ],
   "source": [
    "weights = np.array([[0.32060446, 0.37656378, 0.18405414],\n",
    "       [0.10395184, 0.45492722, 0.19586384],\n",
    "       [0.37852542, 0.93053196, 0.76015971]])\n",
    "inputs = np.array([0.68545325, 0.6470192 , 1])\n",
    "outputs = np.dot(weights, inputs)\n",
    "\n",
    "print(outputs)"
   ]
  },
  {
   "cell_type": "code",
   "execution_count": 10,
   "metadata": {},
   "outputs": [
    {
     "name": "stdout",
     "output_type": "stream",
     "text": [
      "\n",
      "\n",
      "[0.65643729 0.63679135 0.83502852]\n"
     ]
    }
   ],
   "source": [
    "output = forward_propagate(network, inputs)\n",
    "print()\n",
    "print()\n",
    "print(output)"
   ]
  }
 ],
 "metadata": {
  "kernelspec": {
   "display_name": "tf_gpu",
   "language": "python",
   "name": "python3"
  },
  "language_info": {
   "codemirror_mode": {
    "name": "ipython",
    "version": 3
   },
   "file_extension": ".py",
   "mimetype": "text/x-python",
   "name": "python",
   "nbconvert_exporter": "python",
   "pygments_lexer": "ipython3",
   "version": "3.9.13"
  },
  "orig_nbformat": 4,
  "vscode": {
   "interpreter": {
    "hash": "7b18c970f1c267b2ae7de1f51c7b9ea29dc67f6c9f87d5b0ef47c4534e0830b3"
   }
  }
 },
 "nbformat": 4,
 "nbformat_minor": 2
}
