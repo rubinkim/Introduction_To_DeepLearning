{
 "cells": [
  {
   "cell_type": "code",
   "execution_count": 68,
   "metadata": {},
   "outputs": [],
   "source": [
    "# Import necessary modules\n",
    "import numpy as np\n",
    "import pandas as pd\n",
    "from math import exp"
   ]
  },
  {
   "cell_type": "code",
   "execution_count": 69,
   "metadata": {},
   "outputs": [],
   "source": [
    "# Initialize Network\n",
    "def initialize_network(inputs, n_hiddens, n_hidden_neurons, n_outputs):\n",
    "    # Create network with 2 hidden layers\n",
    "    network = {}\n",
    "    network['input_layer'] = {}\n",
    "        \n",
    "    n = 1\n",
    "    while(n <= n_hiddens):\n",
    "        network['hidden_' + str(n) + '_layer'] = {}\n",
    "        if n == 1:\n",
    "            network['hidden_' + str(n) + '_layer']['weights']\\\n",
    "                                                    = np.random.random((n_hidden_neurons, len(inputs)+1))\n",
    "        else:\n",
    "            network['hidden_' + str(n) + '_layer']['weights']\\\n",
    "                                                = np.random.random((n_hidden_neurons, n_hidden_neurons+1))\n",
    "        n += 1\n",
    "    \n",
    "    network['output_layer']= {}    \n",
    "    \n",
    "    return network"
   ]
  },
  {
   "cell_type": "code",
   "execution_count": 70,
   "metadata": {},
   "outputs": [],
   "source": [
    "# Calculate neuron\n",
    "def calculate_neuron(weights, inputs):\n",
    "    inputs_plus_bias = np.append(inputs, 1)\n",
    "    "
   ]
  },
  {
   "cell_type": "code",
   "execution_count": 71,
   "metadata": {},
   "outputs": [
    {
     "name": "stdout",
     "output_type": "stream",
     "text": [
      "input_layer {}\n",
      "hidden_1_layer {'weights': array([[0.3219883 , 0.89042245, 0.58805226, 0.12659609, 0.14134122],\n",
      "       [0.46789559, 0.02208966, 0.72727471, 0.52438734, 0.54493524]])}\n",
      "hidden_2_layer {'weights': array([[0.45637326, 0.50138226, 0.39446855],\n",
      "       [0.1511723 , 0.36087518, 0.16207701]])}\n",
      "hidden_3_layer {'weights': array([[0.33795869, 0.18032328, 0.3909914 ],\n",
      "       [0.03564821, 0.56486165, 0.20346149]])}\n",
      "output_layer {}\n"
     ]
    }
   ],
   "source": [
    "np.random.seed(2023)\n",
    "inputs = np.array([14.88, 14.57, 0.8811, 5.554])\n",
    "network = initialize_network(inputs, 3, 2, 3)\n",
    "\n",
    "for key, value in network.items():\n",
    "    print(key, value)"
   ]
  },
  {
   "cell_type": "code",
   "execution_count": 73,
   "metadata": {},
   "outputs": [
    {
     "data": {
      "text/plain": [
       "array([19.12722975, 11.382317  ])"
      ]
     },
     "execution_count": 73,
     "metadata": {},
     "output_type": "execute_result"
    }
   ],
   "source": [
    "a = np.append(inputs, 1)\n",
    "b = np.array([[0.3219883 , 0.89042245, 0.58805226, 0.12659609, 0.14134122],\n",
    "              [0.46789559, 0.02208966, 0.72727471, 0.52438734, 0.54493524]])\n",
    "np.dot(b, a)"
   ]
  },
  {
   "cell_type": "code",
   "execution_count": null,
   "metadata": {},
   "outputs": [],
   "source": []
  }
 ],
 "metadata": {
  "kernelspec": {
   "display_name": "tf_gpu",
   "language": "python",
   "name": "python3"
  },
  "language_info": {
   "codemirror_mode": {
    "name": "ipython",
    "version": 3
   },
   "file_extension": ".py",
   "mimetype": "text/x-python",
   "name": "python",
   "nbconvert_exporter": "python",
   "pygments_lexer": "ipython3",
   "version": "3.9.13"
  },
  "orig_nbformat": 4,
  "vscode": {
   "interpreter": {
    "hash": "7b18c970f1c267b2ae7de1f51c7b9ea29dc67f6c9f87d5b0ef47c4534e0830b3"
   }
  }
 },
 "nbformat": 4,
 "nbformat_minor": 2
}
