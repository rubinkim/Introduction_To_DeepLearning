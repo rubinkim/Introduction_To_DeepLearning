{
 "cells": [
  {
   "cell_type": "code",
   "execution_count": 1,
   "metadata": {},
   "outputs": [],
   "source": [
    "# Import necessary modules\n",
    "import numpy as np\n",
    "import pandas as pd\n",
    "from math import exp"
   ]
  },
  {
   "cell_type": "code",
   "execution_count": 59,
   "metadata": {},
   "outputs": [],
   "source": [
    "# Initialize Network\n",
    "def initialize_network(inputs, n_hiddens, n_hidden_neurons, n_outputs):\n",
    "    # Create network with 2 hidden layers\n",
    "    network = {}\n",
    "    network['input_layer'] = {}\n",
    "        \n",
    "    n = 1\n",
    "    while(n <= n_hiddens):\n",
    "        network['hidden_' + str(n) + '_layer'] = {}\n",
    "        if n == 1:\n",
    "            network['hidden_' + str(n) + '_layer']['weights']\\\n",
    "                                                    = np.random.random((n_hidden_neurons, len(inputs)+1))\n",
    "        else:\n",
    "            network['hidden_' + str(n) + '_layer']['weights']\\\n",
    "                                                = np.random.random((n_hidden_neurons, n_hidden_neurons+1))\n",
    "        n += 1\n",
    "    \n",
    "    network['output_layer']= {}    \n",
    "    \n",
    "    return network"
   ]
  },
  {
   "cell_type": "code",
   "execution_count": null,
   "metadata": {},
   "outputs": [],
   "source": [
    "# Calculate neuron\n",
    "def calculate_neuron(weights, inputs):\n"
   ]
  },
  {
   "cell_type": "code",
   "execution_count": 60,
   "metadata": {},
   "outputs": [
    {
     "name": "stdout",
     "output_type": "stream",
     "text": [
      "input_layer {}\n",
      "hidden_1_layer {'weights': array([[0.3219883 , 0.89042245, 0.58805226, 0.12659609, 0.14134122],\n",
      "       [0.46789559, 0.02208966, 0.72727471, 0.52438734, 0.54493524]])}\n",
      "hidden_2_layer {'weights': array([[0.45637326, 0.50138226, 0.39446855],\n",
      "       [0.1511723 , 0.36087518, 0.16207701]])}\n",
      "hidden_3_layer {'weights': array([[0.33795869, 0.18032328, 0.3909914 ],\n",
      "       [0.03564821, 0.56486165, 0.20346149]])}\n",
      "output_layer {}\n"
     ]
    }
   ],
   "source": [
    "np.random.seed(2023)\n",
    "inputs = np.array([14.88, 14.57, 0.8811, 5.554])\n",
    "network = initialize_network(inputs, 3, 2, 3)\n",
    "\n",
    "for key, value in network.items():\n",
    "    print(key, value)"
   ]
  },
  {
   "cell_type": "code",
   "execution_count": 66,
   "metadata": {},
   "outputs": [
    {
     "ename": "ValueError",
     "evalue": "all the input arrays must have same number of dimensions, but the array at index 0 has 1 dimension(s) and the array at index 1 has 0 dimension(s)",
     "output_type": "error",
     "traceback": [
      "\u001b[1;31m---------------------------------------------------------------------------\u001b[0m",
      "\u001b[1;31mValueError\u001b[0m                                Traceback (most recent call last)",
      "\u001b[1;32me:\\딥러닝입문\\ML_Mastery\\Understanding_Backpropagation.ipynb Cell 5\u001b[0m in \u001b[0;36m<cell line: 1>\u001b[1;34m()\u001b[0m\n\u001b[1;32m----> <a href='vscode-notebook-cell:/e%3A/%EB%94%A5%EB%9F%AC%EB%8B%9D%EC%9E%85%EB%AC%B8/ML_Mastery/Understanding_Backpropagation.ipynb#W4sZmlsZQ%3D%3D?line=0'>1</a>\u001b[0m np\u001b[39m.\u001b[39;49mconcatenate((inputs, \u001b[39m1\u001b[39;49m))\n",
      "File \u001b[1;32m<__array_function__ internals>:180\u001b[0m, in \u001b[0;36mconcatenate\u001b[1;34m(*args, **kwargs)\u001b[0m\n",
      "\u001b[1;31mValueError\u001b[0m: all the input arrays must have same number of dimensions, but the array at index 0 has 1 dimension(s) and the array at index 1 has 0 dimension(s)"
     ]
    }
   ],
   "source": [
    "np.concatenate((inputs, 1))"
   ]
  }
 ],
 "metadata": {
  "kernelspec": {
   "display_name": "tf_gpu",
   "language": "python",
   "name": "python3"
  },
  "language_info": {
   "codemirror_mode": {
    "name": "ipython",
    "version": 3
   },
   "file_extension": ".py",
   "mimetype": "text/x-python",
   "name": "python",
   "nbconvert_exporter": "python",
   "pygments_lexer": "ipython3",
   "version": "3.9.13"
  },
  "orig_nbformat": 4,
  "vscode": {
   "interpreter": {
    "hash": "7b18c970f1c267b2ae7de1f51c7b9ea29dc67f6c9f87d5b0ef47c4534e0830b3"
   }
  }
 },
 "nbformat": 4,
 "nbformat_minor": 2
}
