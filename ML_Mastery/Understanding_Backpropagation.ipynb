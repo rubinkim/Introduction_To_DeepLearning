{
 "cells": [
  {
   "cell_type": "code",
   "execution_count": 1,
   "metadata": {},
   "outputs": [],
   "source": [
    "# Import necessary modules\n",
    "import numpy as np\n",
    "import pandas as pd\n",
    "from math import exp"
   ]
  },
  {
   "cell_type": "code",
   "execution_count": 52,
   "metadata": {},
   "outputs": [],
   "source": [
    "# Initialize Network\n",
    "def initialize_network(inputs, n_hiddens, n_hidden_neurons, n_outputs):\n",
    "    # Create network with 2 hidden layers\n",
    "    network = {}\n",
    "    network['input_layer'] = {}\n",
    "        \n",
    "    n = 1\n",
    "    while(n <= n_hiddens):\n",
    "        network['hidden_' + str(n) + '_layer'] = {}\n",
    "        if n == 1:\n",
    "            network['hidden_' + str(n) + '_layer']['weights']\\\n",
    "                                                    = np.random.random((n_hidden_neurons, len(inputs)))\n",
    "        else:\n",
    "            network['hidden_' + str(n) + '_layer']['weights']\\\n",
    "                                                    = np.random.random((n_hidden_neurons, n_hidden_neurons))\n",
    "        n += 1\n",
    "    \n",
    "    network['output_layer']= {}    \n",
    "    \n",
    "    return network"
   ]
  },
  {
   "cell_type": "code",
   "execution_count": null,
   "metadata": {},
   "outputs": [],
   "source": [
    "# Calculate neuron\n",
    "def calculate_neuron(weights, inputs):\n",
    "    "
   ]
  },
  {
   "cell_type": "code",
   "execution_count": 56,
   "metadata": {},
   "outputs": [
    {
     "name": "stdout",
     "output_type": "stream",
     "text": [
      "{'input_layer': {}, 'hidden_1_layer': {'weights': array([[0.3219883 , 0.89042245, 0.58805226, 0.12659609],\n",
      "       [0.14134122, 0.46789559, 0.02208966, 0.72727471]])}, 'hidden_2_layer': {'weights': array([[0.52438734, 0.54493524],\n",
      "       [0.45637326, 0.50138226]])}, 'hidden_3_layer': {'weights': array([[0.39446855, 0.1511723 ],\n",
      "       [0.36087518, 0.16207701]])}, 'output_layer': {}}\n"
     ]
    }
   ],
   "source": [
    "np.random.seed(2023)\n",
    "inputs = np.array([14.88, 14.57, 0.8811, 5.554])\n",
    "network = initialize_network(inputs, 3, 2, 3)\n",
    "print(network)"
   ]
  },
  {
   "cell_type": "code",
   "execution_count": null,
   "metadata": {},
   "outputs": [],
   "source": []
  }
 ],
 "metadata": {
  "kernelspec": {
   "display_name": "tf_gpu",
   "language": "python",
   "name": "python3"
  },
  "language_info": {
   "codemirror_mode": {
    "name": "ipython",
    "version": 3
   },
   "file_extension": ".py",
   "mimetype": "text/x-python",
   "name": "python",
   "nbconvert_exporter": "python",
   "pygments_lexer": "ipython3",
   "version": "3.9.13"
  },
  "orig_nbformat": 4,
  "vscode": {
   "interpreter": {
    "hash": "7b18c970f1c267b2ae7de1f51c7b9ea29dc67f6c9f87d5b0ef47c4534e0830b3"
   }
  }
 },
 "nbformat": 4,
 "nbformat_minor": 2
}
