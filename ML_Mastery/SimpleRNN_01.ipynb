{
 "cells": [
  {
   "cell_type": "code",
   "execution_count": 1,
   "metadata": {},
   "outputs": [],
   "source": [
    "import numpy as np\n",
    "import pandas as pd\n",
    "import matplotlib.pyplot as plt\n",
    "import math\n",
    "\n",
    "from tensorflow.keras.models import Sequential\n",
    "from tensorflow.keras.layers import SimpleRNN, Dense\n",
    "from sklearn.preprocessing import MinMaxScaler\n",
    "from sklearn.metrics import mean_squared_error"
   ]
  },
  {
   "cell_type": "code",
   "execution_count": 6,
   "metadata": {},
   "outputs": [],
   "source": [
    "# The function called 'create_RNN' returns a model that includes a SimpleRNN layer and a Dense layer for\n",
    "# learning sequential data. The input_shape specifies the parameter(time_steps, x features).\n",
    "# We will simplify everything and use univariate data,i.e., one feature only; the time steps are discussed\n",
    "# below.\n",
    "\n",
    "def create_RNN(hidden_units, dense_units, input_shape, activation):\n",
    "    model = Sequential()\n",
    "    model.add(SimpleRNN(hidden_units, input_shape=input_shape, activation=activation[0]))\n",
    "    model.add(Dense(dense_units, activation=activation[1]))\n",
    "    model.compile(loss='mean_squared_error', optimizer='adam')\n",
    "    return model              "
   ]
  },
  {
   "cell_type": "code",
   "execution_count": 7,
   "metadata": {},
   "outputs": [
    {
     "name": "stdout",
     "output_type": "stream",
     "text": [
      "Model: \"sequential_1\"\n",
      "_________________________________________________________________\n",
      " Layer (type)                Output Shape              Param #   \n",
      "=================================================================\n",
      " simple_rnn_1 (SimpleRNN)    (None, 2)                 8         \n",
      "                                                                 \n",
      " dense (Dense)               (None, 1)                 3         \n",
      "                                                                 \n",
      "=================================================================\n",
      "Total params: 11\n",
      "Trainable params: 11\n",
      "Non-trainable params: 0\n",
      "_________________________________________________________________\n"
     ]
    }
   ],
   "source": [
    "demo_model = create_RNN(hidden_units=2, dense_units=1, input_shape=(3,1), activation=['linear', 'linear'])\n",
    "demo_model.summary()"
   ]
  },
  {
   "attachments": {},
   "cell_type": "markdown",
   "metadata": {},
   "source": [
    "##### If we have m hidden units(m=2 in this case), then:\n",
    "- Input : $x \\in R$<br>\n",
    "- Hidden unit : $h \\in R^{m}$<br>\n",
    "- Weights for the input units : $w_{x} \\in R^{m}$<br>\n",
    "- Weights for the hidden units : $w_{h} \\in R^{m*m}$<br>\n",
    "- Bias for the hidden units : $b_{h} \\in R^{m}$<br>\n",
    "- Weight for the dense layer : $w_{y} \\in R^{m}$<br>\n",
    "- Bias for the dense layer : $b_{y} \\in R$"
   ]
  },
  {
   "cell_type": "code",
   "execution_count": 12,
   "metadata": {},
   "outputs": [
    {
     "name": "stdout",
     "output_type": "stream",
     "text": [
      "wx=[[ 0.677106  -0.6184709]],\n",
      "wh=[[ 0.5515145  0.8341653]\n",
      " [-0.8341653  0.5515145]],\n",
      "bh=[0. 0.],\n",
      "wy=[[-0.46552944]\n",
      " [ 0.9985508 ]],\n",
      "by=[0.]\n"
     ]
    }
   ],
   "source": [
    "# Let's look at the above weights. Note: As the weights are randomly initialized, the results posted here\n",
    "# will be different from yours. The important thing is to learn what the structure of each object being used\n",
    "# looks like and how it interacts with others to produce the final output.\n",
    "\n",
    "wx = demo_model.get_weights()[0]\n",
    "wh = demo_model.get_weights()[1]\n",
    "bh = demo_model.get_weights()[2]\n",
    "wy = demo_model.get_weights()[3]\n",
    "by = demo_model.get_weights()[4]\n",
    "\n",
    "print(f\"wx={wx},\\nwh={wh},\\nbh={bh},\\nwy={wy},\\nby={by}\")"
   ]
  },
  {
   "cell_type": "code",
   "execution_count": 15,
   "metadata": {},
   "outputs": [
    {
     "name": "stdout",
     "output_type": "stream",
     "text": [
      "1/1 [==============================] - 0s 30ms/step\n",
      "h0 = [0. 0.],\n",
      "h1 = [[ 0.67710602 -0.61847091]],\n",
      "h2 = [[ 4.11386222 -0.54272395]],\n",
      "h3 = [[ 4.11386222 -0.54272395]]\n",
      "Prediction from network  [[-2.4570615]]\n",
      "prediction from our computation  [[-2.4570614]]\n"
     ]
    }
   ],
   "source": [
    "# We will input x for 3 time steps and let the network generate an output. The values of the hidden units\n",
    "# at time steps 1,2,and 3 will be computed. h0 is initialized to the zero vector. The output o3 is computed\n",
    "# from h3 and Wy. An activation function is not required as we are using linear units.\n",
    "\n",
    "x = np.array([1,2,3])\n",
    "# Reshape the input to the required sample_size * time_steps * features\n",
    "x_input = x.reshape(-1, len(x), 1)\n",
    "y_pred_model = demo_model.predict(x_input)\n",
    "\n",
    "m = 2\n",
    "h0 = np.zeros(m)\n",
    "h1 = np.dot(x[0], wx) + h0 + bh\n",
    "h2 = np.dot(x[1], wx) + np.dot(h1, wh) + bh\n",
    "h3 = np.dot(x[2], wx) + np.dot(h2, wh) + bh\n",
    "o3 = np.dot(h3, wy) + by\n",
    "\n",
    "print(f\"h0 = {h0},\\nh1 = {h1},\\nh2 = it{h3},\\nh3 = {h3}\")\n",
    "print(\"Prediction from network \", y_pred_model)\n",
    "print(\"prediction from our computation \", o3)"
   ]
  },
  {
   "cell_type": "code",
   "execution_count": null,
   "metadata": {},
   "outputs": [],
   "source": []
  }
 ],
 "metadata": {
  "kernelspec": {
   "display_name": "tf_gpu",
   "language": "python",
   "name": "python3"
  },
  "language_info": {
   "codemirror_mode": {
    "name": "ipython",
    "version": 3
   },
   "file_extension": ".py",
   "mimetype": "text/x-python",
   "name": "python",
   "nbconvert_exporter": "python",
   "pygments_lexer": "ipython3",
   "version": "3.9.13 (main, Aug 25 2022, 23:51:50) [MSC v.1916 64 bit (AMD64)]"
  },
  "orig_nbformat": 4,
  "vscode": {
   "interpreter": {
    "hash": "7b18c970f1c267b2ae7de1f51c7b9ea29dc67f6c9f87d5b0ef47c4534e0830b3"
   }
  }
 },
 "nbformat": 4,
 "nbformat_minor": 2
}
