{
 "cells": [
  {
   "cell_type": "code",
   "execution_count": 1,
   "metadata": {},
   "outputs": [],
   "source": [
    "import numpy as np\n",
    "import pandas as pd\n",
    "import matplotlib.pyplot as plt"
   ]
  },
  {
   "cell_type": "code",
   "execution_count": 3,
   "metadata": {},
   "outputs": [
    {
     "name": "stdout",
     "output_type": "stream",
     "text": [
      "<class 'pandas.core.frame.DataFrame'>\n",
      "Float64Index: 210 entries, 15.26 to 12.3\n",
      "Data columns (total 7 columns):\n",
      " #   Column         Non-Null Count  Dtype  \n",
      "---  ------         --------------  -----  \n",
      " 0   area           210 non-null    float64\n",
      " 1   perimeter      210 non-null    float64\n",
      " 2   compactness    210 non-null    float64\n",
      " 3   kernel_length  210 non-null    float64\n",
      " 4   kernel_width   210 non-null    float64\n",
      " 5   asym_coeff     210 non-null    float64\n",
      " 6   groove_length  210 non-null    int64  \n",
      "dtypes: float64(6), int64(1)\n",
      "memory usage: 13.1 KB\n"
     ]
    }
   ],
   "source": [
    "cols = [\"area\",\"perimeter\",\"compactness\",\"kernel_length\",\"kernel_width\",\"asym_coeff\",\"groove_length\"]\n",
    "seeds = pd.read_csv(\"seeds_dataset.csv\", names=cols)\n",
    "seeds.info()"
   ]
  }
 ],
 "metadata": {
  "kernelspec": {
   "display_name": "tf_gpu",
   "language": "python",
   "name": "python3"
  },
  "language_info": {
   "codemirror_mode": {
    "name": "ipython",
    "version": 3
   },
   "file_extension": ".py",
   "mimetype": "text/x-python",
   "name": "python",
   "nbconvert_exporter": "python",
   "pygments_lexer": "ipython3",
   "version": "3.9.13"
  },
  "orig_nbformat": 4,
  "vscode": {
   "interpreter": {
    "hash": "7b18c970f1c267b2ae7de1f51c7b9ea29dc67f6c9f87d5b0ef47c4534e0830b3"
   }
  }
 },
 "nbformat": 4,
 "nbformat_minor": 2
}
