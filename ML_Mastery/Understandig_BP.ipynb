{
 "cells": [
  {
   "cell_type": "code",
   "execution_count": 1,
   "metadata": {},
   "outputs": [],
   "source": [
    "import numpy as np\n",
    "import pandas as pd\n",
    "import matplotlib.pyplot as plt\n",
    "from sklearn.preprocessing import MinMaxScaler\n",
    "\n",
    "large_width = 500\n",
    "np.set_printoptions(linewidth=large_width)"
   ]
  },
  {
   "cell_type": "code",
   "execution_count": 2,
   "metadata": {},
   "outputs": [
    {
     "name": "stdout",
     "output_type": "stream",
     "text": [
      "<class 'pandas.core.frame.DataFrame'>\n",
      "Float64Index: 210 entries, 15.26 to 12.3\n",
      "Data columns (total 7 columns):\n",
      " #   Column         Non-Null Count  Dtype  \n",
      "---  ------         --------------  -----  \n",
      " 0   area           210 non-null    float64\n",
      " 1   perimeter      210 non-null    float64\n",
      " 2   compactness    210 non-null    float64\n",
      " 3   kernel_length  210 non-null    float64\n",
      " 4   kernel_width   210 non-null    float64\n",
      " 5   asym_coeff     210 non-null    float64\n",
      " 6   groove_length  210 non-null    int64  \n",
      "dtypes: float64(6), int64(1)\n",
      "memory usage: 13.1 KB\n"
     ]
    },
    {
     "data": {
      "text/html": [
       "<div>\n",
       "<style scoped>\n",
       "    .dataframe tbody tr th:only-of-type {\n",
       "        vertical-align: middle;\n",
       "    }\n",
       "\n",
       "    .dataframe tbody tr th {\n",
       "        vertical-align: top;\n",
       "    }\n",
       "\n",
       "    .dataframe thead th {\n",
       "        text-align: right;\n",
       "    }\n",
       "</style>\n",
       "<table border=\"1\" class=\"dataframe\">\n",
       "  <thead>\n",
       "    <tr style=\"text-align: right;\">\n",
       "      <th></th>\n",
       "      <th>area</th>\n",
       "      <th>perimeter</th>\n",
       "      <th>compactness</th>\n",
       "      <th>kernel_length</th>\n",
       "      <th>kernel_width</th>\n",
       "      <th>asym_coeff</th>\n",
       "      <th>groove_length</th>\n",
       "    </tr>\n",
       "  </thead>\n",
       "  <tbody>\n",
       "    <tr>\n",
       "      <th>15.26</th>\n",
       "      <td>14.84</td>\n",
       "      <td>0.8710</td>\n",
       "      <td>5.763</td>\n",
       "      <td>3.312</td>\n",
       "      <td>2.221</td>\n",
       "      <td>5.220</td>\n",
       "      <td>1</td>\n",
       "    </tr>\n",
       "    <tr>\n",
       "      <th>14.88</th>\n",
       "      <td>14.57</td>\n",
       "      <td>0.8811</td>\n",
       "      <td>5.554</td>\n",
       "      <td>3.333</td>\n",
       "      <td>1.018</td>\n",
       "      <td>4.956</td>\n",
       "      <td>1</td>\n",
       "    </tr>\n",
       "    <tr>\n",
       "      <th>14.29</th>\n",
       "      <td>14.09</td>\n",
       "      <td>0.9050</td>\n",
       "      <td>5.291</td>\n",
       "      <td>3.337</td>\n",
       "      <td>2.699</td>\n",
       "      <td>4.825</td>\n",
       "      <td>1</td>\n",
       "    </tr>\n",
       "  </tbody>\n",
       "</table>\n",
       "</div>"
      ],
      "text/plain": [
       "        area  perimeter  compactness  kernel_length  kernel_width  asym_coeff  \\\n",
       "15.26  14.84     0.8710        5.763          3.312         2.221       5.220   \n",
       "14.88  14.57     0.8811        5.554          3.333         1.018       4.956   \n",
       "14.29  14.09     0.9050        5.291          3.337         2.699       4.825   \n",
       "\n",
       "       groove_length  \n",
       "15.26              1  \n",
       "14.88              1  \n",
       "14.29              1  "
      ]
     },
     "execution_count": 2,
     "metadata": {},
     "output_type": "execute_result"
    }
   ],
   "source": [
    "cols = [\"area\",\"perimeter\",\"compactness\",\"kernel_length\",\"kernel_width\",\"asym_coeff\",\"groove_length\"]\n",
    "seeds = pd.read_csv(\"seeds_dataset.csv\", names=cols)\n",
    "seeds.info()\n",
    "seeds.head(3)"
   ]
  },
  {
   "cell_type": "code",
   "execution_count": 3,
   "metadata": {},
   "outputs": [
    {
     "data": {
      "text/plain": [
       "((210, 6), (210, 1))"
      ]
     },
     "execution_count": 3,
     "metadata": {},
     "output_type": "execute_result"
    }
   ],
   "source": [
    "features = seeds[[\"area\",\"perimeter\",\"compactness\",\"kernel_length\",\"kernel_width\",\"asym_coeff\"]]\n",
    "labels = seeds[[\"groove_length\"]]\n",
    "\n",
    "features.shape, labels.shape"
   ]
  },
  {
   "cell_type": "code",
   "execution_count": 4,
   "metadata": {},
   "outputs": [],
   "source": [
    "# Since features are distributed with different ranges, we need to scale them.\n",
    "scaler = MinMaxScaler()\n",
    "features = scaler.fit_transform(features)"
   ]
  },
  {
   "cell_type": "code",
   "execution_count": 5,
   "metadata": {},
   "outputs": [
    {
     "data": {
      "text/html": [
       "<div>\n",
       "<style scoped>\n",
       "    .dataframe tbody tr th:only-of-type {\n",
       "        vertical-align: middle;\n",
       "    }\n",
       "\n",
       "    .dataframe tbody tr th {\n",
       "        vertical-align: top;\n",
       "    }\n",
       "\n",
       "    .dataframe thead th {\n",
       "        text-align: right;\n",
       "    }\n",
       "</style>\n",
       "<table border=\"1\" class=\"dataframe\">\n",
       "  <thead>\n",
       "    <tr style=\"text-align: right;\">\n",
       "      <th></th>\n",
       "      <th>0</th>\n",
       "      <th>1</th>\n",
       "      <th>2</th>\n",
       "      <th>3</th>\n",
       "      <th>4</th>\n",
       "      <th>5</th>\n",
       "    </tr>\n",
       "  </thead>\n",
       "  <tbody>\n",
       "    <tr>\n",
       "      <th>count</th>\n",
       "      <td>210.000</td>\n",
       "      <td>210.000</td>\n",
       "      <td>210.000</td>\n",
       "      <td>210.000</td>\n",
       "      <td>210.000</td>\n",
       "      <td>210.000</td>\n",
       "    </tr>\n",
       "    <tr>\n",
       "      <th>mean</th>\n",
       "      <td>0.444</td>\n",
       "      <td>0.571</td>\n",
       "      <td>0.411</td>\n",
       "      <td>0.448</td>\n",
       "      <td>0.382</td>\n",
       "      <td>0.438</td>\n",
       "    </tr>\n",
       "    <tr>\n",
       "      <th>std</th>\n",
       "      <td>0.270</td>\n",
       "      <td>0.214</td>\n",
       "      <td>0.249</td>\n",
       "      <td>0.269</td>\n",
       "      <td>0.195</td>\n",
       "      <td>0.242</td>\n",
       "    </tr>\n",
       "    <tr>\n",
       "      <th>min</th>\n",
       "      <td>0.000</td>\n",
       "      <td>0.000</td>\n",
       "      <td>0.000</td>\n",
       "      <td>0.000</td>\n",
       "      <td>0.000</td>\n",
       "      <td>0.000</td>\n",
       "    </tr>\n",
       "    <tr>\n",
       "      <th>25%</th>\n",
       "      <td>0.215</td>\n",
       "      <td>0.443</td>\n",
       "      <td>0.205</td>\n",
       "      <td>0.224</td>\n",
       "      <td>0.234</td>\n",
       "      <td>0.259</td>\n",
       "    </tr>\n",
       "    <tr>\n",
       "      <th>50%</th>\n",
       "      <td>0.395</td>\n",
       "      <td>0.593</td>\n",
       "      <td>0.352</td>\n",
       "      <td>0.433</td>\n",
       "      <td>0.368</td>\n",
       "      <td>0.347</td>\n",
       "    </tr>\n",
       "    <tr>\n",
       "      <th>75%</th>\n",
       "      <td>0.683</td>\n",
       "      <td>0.723</td>\n",
       "      <td>0.609</td>\n",
       "      <td>0.664</td>\n",
       "      <td>0.521</td>\n",
       "      <td>0.669</td>\n",
       "    </tr>\n",
       "    <tr>\n",
       "      <th>max</th>\n",
       "      <td>1.000</td>\n",
       "      <td>1.000</td>\n",
       "      <td>1.000</td>\n",
       "      <td>1.000</td>\n",
       "      <td>1.000</td>\n",
       "      <td>1.000</td>\n",
       "    </tr>\n",
       "  </tbody>\n",
       "</table>\n",
       "</div>"
      ],
      "text/plain": [
       "             0        1        2        3        4        5\n",
       "count  210.000  210.000  210.000  210.000  210.000  210.000\n",
       "mean     0.444    0.571    0.411    0.448    0.382    0.438\n",
       "std      0.270    0.214    0.249    0.269    0.195    0.242\n",
       "min      0.000    0.000    0.000    0.000    0.000    0.000\n",
       "25%      0.215    0.443    0.205    0.224    0.234    0.259\n",
       "50%      0.395    0.593    0.352    0.433    0.368    0.347\n",
       "75%      0.683    0.723    0.609    0.664    0.521    0.669\n",
       "max      1.000    1.000    1.000    1.000    1.000    1.000"
      ]
     },
     "execution_count": 5,
     "metadata": {},
     "output_type": "execute_result"
    }
   ],
   "source": [
    "pd.DataFrame(features).describe().round(3)"
   ]
  },
  {
   "cell_type": "code",
   "execution_count": 6,
   "metadata": {},
   "outputs": [
    {
     "data": {
      "text/plain": [
       "(array([1, 2, 3], dtype=int64), array([70, 70, 70], dtype=int64))"
      ]
     },
     "execution_count": 6,
     "metadata": {},
     "output_type": "execute_result"
    }
   ],
   "source": [
    "np.unique(labels, return_counts=True)"
   ]
  },
  {
   "cell_type": "code",
   "execution_count": 7,
   "metadata": {},
   "outputs": [
    {
     "data": {
      "text/plain": [
       "(array([[0.50207],\n",
       "        [0.57078],\n",
       "        [0.48649],\n",
       "        [0.4861 ],\n",
       "        [0.1893 ],\n",
       "        [0.34515]]),\n",
       " (6, 1))"
      ]
     },
     "execution_count": 7,
     "metadata": {},
     "output_type": "execute_result"
    }
   ],
   "source": [
    "X = np.round(features[:1], 5)\n",
    "X = X.reshape(-1, 1)\n",
    "\n",
    "y = labels\n",
    "X, X.shape"
   ]
  },
  {
   "attachments": {},
   "cell_type": "markdown",
   "metadata": {},
   "source": [
    "##### Creating a network : 4-layers (input, hidden1, hidden2, output)"
   ]
  },
  {
   "cell_type": "code",
   "execution_count": 11,
   "metadata": {},
   "outputs": [],
   "source": [
    "def sigmoid(x):\n",
    "    return 1.0 / (1.0 + np.exp(-x))"
   ]
  },
  {
   "cell_type": "code",
   "execution_count": 20,
   "metadata": {},
   "outputs": [
    {
     "name": "stdout",
     "output_type": "stream",
     "text": [
      "(6, 1) (2, 6) (2, 1) (2, 1)\n"
     ]
    }
   ],
   "source": [
    "np.random.seed(2023)\n",
    "\n",
    "num_z2_neurons, num_z3_neurons = 2, 2\n",
    "\n",
    "a1 = X\n",
    "w_1 = np.random.rand(num_z2_neurons, a1.shape[0])\n",
    "b_1 = np.random.rand(num_z2_neurons, 1)\n",
    "z2 = np.dot(w_1, a1)\n",
    "a2 = sigmoid(z2)\n",
    "\n",
    "print(a1.shape, w_1.shape, z2.shape, a2.shape)\n"
   ]
  },
  {
   "cell_type": "code",
   "execution_count": 19,
   "metadata": {},
   "outputs": [
    {
     "name": "stdout",
     "output_type": "stream",
     "text": [
      "[[0.00346135 0.8635231  0.83911566 0.59160837 0.45014653 0.28849115]\n",
      " [0.91433018 0.50554781 0.19440911 0.29067182 0.0491357  0.7514515 ]]\n",
      "\n",
      "[[1.37520723]\n",
      " [1.25215286]]\n",
      "\n",
      "[[0.79822016]\n",
      " [0.77767231]]\n"
     ]
    }
   ],
   "source": [
    "print(w_1)\n",
    "print()\n",
    "print(z2)\n",
    "print()\n",
    "print(a2)"
   ]
  }
 ],
 "metadata": {
  "kernelspec": {
   "display_name": "tf_gpu",
   "language": "python",
   "name": "python3"
  },
  "language_info": {
   "codemirror_mode": {
    "name": "ipython",
    "version": 3
   },
   "file_extension": ".py",
   "mimetype": "text/x-python",
   "name": "python",
   "nbconvert_exporter": "python",
   "pygments_lexer": "ipython3",
   "version": "3.9.13"
  },
  "orig_nbformat": 4,
  "vscode": {
   "interpreter": {
    "hash": "7b18c970f1c267b2ae7de1f51c7b9ea29dc67f6c9f87d5b0ef47c4534e0830b3"
   }
  }
 },
 "nbformat": 4,
 "nbformat_minor": 2
}
