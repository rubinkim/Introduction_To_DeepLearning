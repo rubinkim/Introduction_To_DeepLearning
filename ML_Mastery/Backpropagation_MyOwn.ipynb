{
 "cells": [
  {
   "cell_type": "code",
   "execution_count": 41,
   "metadata": {},
   "outputs": [],
   "source": [
    "# import necessary modules\n",
    "import numpy as np\n",
    "import pandas as pd\n",
    "from random import random, seed\n",
    "from math import exp"
   ]
  },
  {
   "cell_type": "code",
   "execution_count": 42,
   "metadata": {},
   "outputs": [],
   "source": [
    "# Initialize Network\n",
    "def initialize_network(n_inputs, n_hidden, n_outputs):\n",
    "    # Create network and layers as lists\n",
    "    network = []\n",
    "    # Create the hidden and output layer where neurons are saved as dictionaries\n",
    "    hidden_layer = [{\"weights\":[random() for i in range(n_inputs+1)]} for i in range(n_hidden)]\n",
    "    network.append(hidden_layer)\n",
    "    \n",
    "    output_layer = [{\"weights\":[random() for i in range(n_hidden+1)]} for i in range(n_outputs)]\n",
    "    network.append(output_layer)\n",
    "    \n",
    "    return network"
   ]
  },
  {
   "cell_type": "code",
   "execution_count": 43,
   "metadata": {},
   "outputs": [],
   "source": [
    "# Calculate neuron activation for an input\n",
    "def activate_neuron(weights, inputs):\n",
    "    activation = weights[-1]\n",
    "    for i in range(len(weights)-1):\n",
    "        activation += weights[i] * inputs[i]\n",
    "    return activation"
   ]
  },
  {
   "cell_type": "code",
   "execution_count": 44,
   "metadata": {},
   "outputs": [],
   "source": [
    "# transfer neuron\n",
    "def transfer_neuron_sigmoid(activation):\n",
    "    return 1.0 / (1.0 + exp(-activation))"
   ]
  },
  {
   "cell_type": "code",
   "execution_count": 45,
   "metadata": {},
   "outputs": [],
   "source": [
    "# forward propagate inputs to a network output\n",
    "def forward_propagate(network, row):\n",
    "    inputs = row\n",
    "    for i, layer in enumerate(network):\n",
    "        net_inputs = []\n",
    "        for j, neuron in enumerate(layer):\n",
    "            activation = activate_neuron(neuron[\"weights\"], inputs)\n",
    "            neuron[\"output\"] = transfer_neuron_sigmoid(activation)\n",
    "            net_inputs.append(neuron[\"output\"])\n",
    "        inputs = net_inputs\n",
    "    return inputs        "
   ]
  },
  {
   "cell_type": "code",
   "execution_count": 46,
   "metadata": {},
   "outputs": [],
   "source": [
    "# Calculate the derivative of an neuron output\n",
    "def transfer_derivative_sigmoid(output):\n",
    "    return output * (1.0 - output)"
   ]
  },
  {
   "cell_type": "code",
   "execution_count": 47,
   "metadata": {},
   "outputs": [],
   "source": [
    "# Backpropagate error and store in neurons\n",
    "def backward_propagate_error(network, expected):\n",
    "    for i in range(len(network)-1, -1, -1):\n",
    "        layer = network[i]\n",
    "        errors, error_signals = [],[]\n",
    "        \n",
    "        for j, neuron in enumerate(layer):\n",
    "            if i == len(network) -1:\n",
    "                error = neuron[\"output\"] - expected[j]\n",
    "                error_signal = error * transfer_derivative_sigmoid(neuron[\"output\"])\n",
    "                \n",
    "            else:\n",
    "                error = 0\n",
    "                for k, next_neuron in enumerate(network[i+1]):\n",
    "                    error += next_neuron[\"weights\"][j] * next_neuron[\"delta\"]\n",
    "                    error_signal = error * transfer_derivative_sigmoid(neuron[\"output\"])\n",
    "                    errors.append(error)\n",
    "                    error_signals.append(error_signal) \n",
    "            \n",
    "            errors.append(error)\n",
    "            error_signals.append(error_signal) \n",
    "            neuron['delta'] = error_signal\n",
    "        "
   ]
  },
  {
   "cell_type": "code",
   "execution_count": 49,
   "metadata": {},
   "outputs": [],
   "source": [
    "# Update network weights with error\n",
    "def update_weights(network, row, l_rate):\n",
    "    for i in range(len(network)):\n",
    "        if i == 0:\n",
    "            inputs = row[:-1]\n",
    "        else:\n",
    "            inputs = [neuron['output'] for neuron in network[i-1]]\n",
    "            \n",
    "        for neuron in network[i]:\n",
    "            for j in range(len(inputs)):\n",
    "                neuron[\"weights\"][j] -= l_rate * neuron['delta'] * inputs[j]\n",
    "                neuron[\"weights\"][-1] -= l_rate * neuron['delta']"
   ]
  },
  {
   "cell_type": "code",
   "execution_count": 75,
   "metadata": {},
   "outputs": [],
   "source": [
    "# Train a network for a fixed number of epochs\n",
    "def train_network(network, train, l_rate, n_epoch, n_outputs):\n",
    "    for epoch in range(n_epoch):\n",
    "        sum_error = 0\n",
    "        for row in train:\n",
    "            outputs = forward_propagate(network, row)\n",
    "            expected = [0 for i in range(n_outputs)]\n",
    "            expected[int(row[-1])] = 1   \n",
    "            sum_error += sum([(expected[i] - outputs[i]) ** 2 for i in range(n_outputs)]) \n",
    "            backward_propagate_error(network, expected)\n",
    "            update_weights(network, row, l_rate)\n",
    "        print(f\"epoch:{epoch:2d},  lrate:{l_rate},  error:{sum_error:.4f}\")    "
   ]
  },
  {
   "cell_type": "code",
   "execution_count": null,
   "metadata": {},
   "outputs": [],
   "source": []
  },
  {
   "cell_type": "code",
   "execution_count": 70,
   "metadata": {},
   "outputs": [
    {
     "name": "stdout",
     "output_type": "stream",
     "text": [
      "(209, 8)\n",
      "[[14.88, 14.57, 0.8811, 5.554, 3.333, 1.018, 4.956, 1.0], [14.29, 14.09, 0.905, 5.291, 3.337, 2.699, 4.825, 1.0]]\n"
     ]
    }
   ],
   "source": [
    "url = 'https://raw.githubusercontent.com/jbrownlee/Datasets/master/wheat-seeds.csv'\n",
    "dataset = pd.read_csv(url)\n",
    "\n",
    "wheat_seeds = []\n",
    "for idx, row in dataset.iterrows():\n",
    "    row_list = []\n",
    "    for num in row:\n",
    "        row_list.append(num)\n",
    "    wheat_seeds.append(row_list)\n",
    "    \n",
    "print(np.shape(wheat_seeds))\n",
    "\n",
    "wheat_inputs = wheat_seeds[:2]\n",
    "print(wheat_inputs)"
   ]
  },
  {
   "cell_type": "code",
   "execution_count": 71,
   "metadata": {},
   "outputs": [
    {
     "name": "stdout",
     "output_type": "stream",
     "text": [
      "[[{'weights': [0.13436424411240122, 0.8474337369372327, 0.763774618976614, 0.2550690257394217, 0.49543508709194095, 0.4494910647887381, 0.651592972722763, 0.7887233511355132]}, {'weights': [0.0938595867742349, 0.02834747652200631, 0.8357651039198697, 0.43276706790505337, 0.762280082457942, 0.0021060533511106927, 0.4453871940548014, 0.7215400323407826]}], [{'weights': [0.22876222127045265, 0.9452706955539223, 0.9014274576114836]}, {'weights': [0.030589983033553536, 0.0254458609934608, 0.5414124727934966]}, {'weights': [0.9391491627785106, 0.38120423768821243, 0.21659939713061338]}]]\n"
     ]
    }
   ],
   "source": [
    "seed(1)\n",
    "\n",
    "network = initialize_network(7,2,3)\n",
    "print(network)"
   ]
  },
  {
   "cell_type": "code",
   "execution_count": 78,
   "metadata": {},
   "outputs": [
    {
     "name": "stdout",
     "output_type": "stream",
     "text": [
      "epoch: 0,  lrate:0.3,  error:0.0190\n",
      "epoch: 1,  lrate:0.3,  error:0.0188\n",
      "epoch: 2,  lrate:0.3,  error:0.0185\n",
      "epoch: 3,  lrate:0.3,  error:0.0183\n",
      "epoch: 4,  lrate:0.3,  error:0.0181\n",
      "epoch: 5,  lrate:0.3,  error:0.0178\n",
      "epoch: 6,  lrate:0.3,  error:0.0176\n",
      "epoch: 7,  lrate:0.3,  error:0.0174\n",
      "epoch: 8,  lrate:0.3,  error:0.0172\n",
      "epoch: 9,  lrate:0.3,  error:0.0170\n",
      "epoch:10,  lrate:0.3,  error:0.0167\n",
      "epoch:11,  lrate:0.3,  error:0.0165\n",
      "epoch:12,  lrate:0.3,  error:0.0164\n",
      "epoch:13,  lrate:0.3,  error:0.0162\n",
      "epoch:14,  lrate:0.3,  error:0.0160\n",
      "epoch:15,  lrate:0.3,  error:0.0158\n",
      "epoch:16,  lrate:0.3,  error:0.0156\n",
      "epoch:17,  lrate:0.3,  error:0.0154\n",
      "epoch:18,  lrate:0.3,  error:0.0153\n",
      "epoch:19,  lrate:0.3,  error:0.0151\n",
      "epoch:20,  lrate:0.3,  error:0.0149\n",
      "epoch:21,  lrate:0.3,  error:0.0148\n",
      "epoch:22,  lrate:0.3,  error:0.0146\n",
      "epoch:23,  lrate:0.3,  error:0.0145\n",
      "epoch:24,  lrate:0.3,  error:0.0143\n",
      "epoch:25,  lrate:0.3,  error:0.0142\n",
      "epoch:26,  lrate:0.3,  error:0.0140\n",
      "epoch:27,  lrate:0.3,  error:0.0139\n",
      "epoch:28,  lrate:0.3,  error:0.0137\n",
      "epoch:29,  lrate:0.3,  error:0.0136\n",
      "epoch:30,  lrate:0.3,  error:0.0135\n",
      "epoch:31,  lrate:0.3,  error:0.0133\n",
      "epoch:32,  lrate:0.3,  error:0.0132\n",
      "epoch:33,  lrate:0.3,  error:0.0131\n",
      "epoch:34,  lrate:0.3,  error:0.0130\n",
      "epoch:35,  lrate:0.3,  error:0.0128\n",
      "epoch:36,  lrate:0.3,  error:0.0127\n",
      "epoch:37,  lrate:0.3,  error:0.0126\n",
      "epoch:38,  lrate:0.3,  error:0.0125\n",
      "epoch:39,  lrate:0.3,  error:0.0124\n",
      "epoch:40,  lrate:0.3,  error:0.0123\n",
      "epoch:41,  lrate:0.3,  error:0.0122\n",
      "epoch:42,  lrate:0.3,  error:0.0121\n",
      "epoch:43,  lrate:0.3,  error:0.0119\n",
      "epoch:44,  lrate:0.3,  error:0.0118\n",
      "epoch:45,  lrate:0.3,  error:0.0117\n",
      "epoch:46,  lrate:0.3,  error:0.0116\n",
      "epoch:47,  lrate:0.3,  error:0.0115\n",
      "epoch:48,  lrate:0.3,  error:0.0114\n",
      "epoch:49,  lrate:0.3,  error:0.0114\n",
      "epoch:50,  lrate:0.3,  error:0.0113\n",
      "epoch:51,  lrate:0.3,  error:0.0112\n",
      "epoch:52,  lrate:0.3,  error:0.0111\n",
      "epoch:53,  lrate:0.3,  error:0.0110\n",
      "epoch:54,  lrate:0.3,  error:0.0109\n",
      "epoch:55,  lrate:0.3,  error:0.0108\n",
      "epoch:56,  lrate:0.3,  error:0.0107\n",
      "epoch:57,  lrate:0.3,  error:0.0106\n",
      "epoch:58,  lrate:0.3,  error:0.0106\n",
      "epoch:59,  lrate:0.3,  error:0.0105\n",
      "epoch:60,  lrate:0.3,  error:0.0104\n",
      "epoch:61,  lrate:0.3,  error:0.0103\n",
      "epoch:62,  lrate:0.3,  error:0.0102\n",
      "epoch:63,  lrate:0.3,  error:0.0102\n",
      "epoch:64,  lrate:0.3,  error:0.0101\n",
      "epoch:65,  lrate:0.3,  error:0.0100\n",
      "epoch:66,  lrate:0.3,  error:0.0099\n",
      "epoch:67,  lrate:0.3,  error:0.0099\n",
      "epoch:68,  lrate:0.3,  error:0.0098\n",
      "epoch:69,  lrate:0.3,  error:0.0097\n",
      "epoch:70,  lrate:0.3,  error:0.0097\n",
      "epoch:71,  lrate:0.3,  error:0.0096\n",
      "epoch:72,  lrate:0.3,  error:0.0095\n",
      "epoch:73,  lrate:0.3,  error:0.0095\n",
      "epoch:74,  lrate:0.3,  error:0.0094\n",
      "epoch:75,  lrate:0.3,  error:0.0093\n",
      "epoch:76,  lrate:0.3,  error:0.0093\n",
      "epoch:77,  lrate:0.3,  error:0.0092\n",
      "epoch:78,  lrate:0.3,  error:0.0091\n",
      "epoch:79,  lrate:0.3,  error:0.0091\n",
      "epoch:80,  lrate:0.3,  error:0.0090\n",
      "epoch:81,  lrate:0.3,  error:0.0090\n",
      "epoch:82,  lrate:0.3,  error:0.0089\n",
      "epoch:83,  lrate:0.3,  error:0.0088\n",
      "epoch:84,  lrate:0.3,  error:0.0088\n",
      "epoch:85,  lrate:0.3,  error:0.0087\n",
      "epoch:86,  lrate:0.3,  error:0.0087\n",
      "epoch:87,  lrate:0.3,  error:0.0086\n",
      "epoch:88,  lrate:0.3,  error:0.0086\n",
      "epoch:89,  lrate:0.3,  error:0.0085\n",
      "epoch:90,  lrate:0.3,  error:0.0084\n",
      "epoch:91,  lrate:0.3,  error:0.0084\n",
      "epoch:92,  lrate:0.3,  error:0.0083\n",
      "epoch:93,  lrate:0.3,  error:0.0083\n",
      "epoch:94,  lrate:0.3,  error:0.0082\n",
      "epoch:95,  lrate:0.3,  error:0.0082\n",
      "epoch:96,  lrate:0.3,  error:0.0081\n",
      "epoch:97,  lrate:0.3,  error:0.0081\n",
      "epoch:98,  lrate:0.3,  error:0.0080\n",
      "epoch:99,  lrate:0.3,  error:0.0080\n"
     ]
    }
   ],
   "source": [
    "train_network(network, wheat_inputs, 0.3, 100, 3)"
   ]
  }
 ],
 "metadata": {
  "kernelspec": {
   "display_name": "tf_gpu",
   "language": "python",
   "name": "python3"
  },
  "language_info": {
   "codemirror_mode": {
    "name": "ipython",
    "version": 3
   },
   "file_extension": ".py",
   "mimetype": "text/x-python",
   "name": "python",
   "nbconvert_exporter": "python",
   "pygments_lexer": "ipython3",
   "version": "3.9.13 (main, Aug 25 2022, 23:51:50) [MSC v.1916 64 bit (AMD64)]"
  },
  "orig_nbformat": 4,
  "vscode": {
   "interpreter": {
    "hash": "7b18c970f1c267b2ae7de1f51c7b9ea29dc67f6c9f87d5b0ef47c4534e0830b3"
   }
  }
 },
 "nbformat": 4,
 "nbformat_minor": 2
}
