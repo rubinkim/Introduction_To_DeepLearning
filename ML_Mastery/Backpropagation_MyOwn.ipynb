{
 "cells": [
  {
   "cell_type": "code",
   "execution_count": 41,
   "metadata": {},
   "outputs": [],
   "source": [
    "# import necessary modules\n",
    "import numpy as np\n",
    "import pandas as pd\n",
    "from random import random, seed\n",
    "from math import exp"
   ]
  },
  {
   "cell_type": "code",
   "execution_count": 42,
   "metadata": {},
   "outputs": [],
   "source": [
    "# Initialize Network\n",
    "def initialize_network(n_inputs, n_hidden, n_outputs):\n",
    "    # Create network and layers as lists\n",
    "    network = []\n",
    "    # Create the hidden and output layer where neurons are saved as dictionaries\n",
    "    hidden_layer = [{\"weights\":[random() for i in range(n_inputs+1)]} for i in range(n_hidden)]\n",
    "    network.append(hidden_layer)\n",
    "    \n",
    "    output_layer = [{\"weights\":[random() for i in range(n_hidden+1)]} for i in range(n_outputs)]\n",
    "    network.append(output_layer)\n",
    "    \n",
    "    return network"
   ]
  },
  {
   "cell_type": "code",
   "execution_count": 43,
   "metadata": {},
   "outputs": [],
   "source": [
    "# Calculate neuron activation for an input\n",
    "def activate_neuron(weights, inputs):\n",
    "    activation = weights[-1]\n",
    "    for i in range(len(weights)-1):\n",
    "        activation += weights[i] * inputs[i]\n",
    "    return activation"
   ]
  },
  {
   "cell_type": "code",
   "execution_count": 44,
   "metadata": {},
   "outputs": [],
   "source": [
    "# transfer neuron\n",
    "def transfer_neuron_sigmoid(activation):\n",
    "    return 1.0 / (1.0 + exp(-activation))"
   ]
  },
  {
   "cell_type": "code",
   "execution_count": 45,
   "metadata": {},
   "outputs": [],
   "source": [
    "# forward propagate inputs to a network output\n",
    "def forward_propagate(network, row):\n",
    "    inputs = row\n",
    "    for i, layer in enumerate(network):\n",
    "        net_inputs = []\n",
    "        for j, neuron in enumerate(layer):\n",
    "            activation = activate_neuron(neuron[\"weights\"], inputs)\n",
    "            neuron[\"output\"] = transfer_neuron_sigmoid(activation)\n",
    "            net_inputs.append(neuron[\"output\"])\n",
    "        inputs = net_inputs\n",
    "    return inputs        "
   ]
  },
  {
   "cell_type": "code",
   "execution_count": 46,
   "metadata": {},
   "outputs": [],
   "source": [
    "# Calculate the derivative of an neuron output\n",
    "def transfer_derivative_sigmoid(output):\n",
    "    return output * (1.0 - output)"
   ]
  },
  {
   "cell_type": "code",
   "execution_count": 47,
   "metadata": {},
   "outputs": [],
   "source": [
    "# Backpropagate error and store in neurons\n",
    "def backward_propagate_error(network, expected):\n",
    "    for i in range(len(network)-1, -1, -1):\n",
    "        layer = network[i]\n",
    "        errors, error_signals = [],[]\n",
    "        \n",
    "        for j, neuron in enumerate(layer):\n",
    "            if i == len(network) -1:\n",
    "                error = neuron[\"output\"] - expected[j]\n",
    "                error_signal = error * transfer_derivative_sigmoid(neuron[\"output\"])\n",
    "                \n",
    "            else:\n",
    "                error = 0\n",
    "                for k, next_neuron in enumerate(network[i+1]):\n",
    "                    error += next_neuron[\"weights\"][j] * next_neuron[\"delta\"]\n",
    "                    error_signal = error * transfer_derivative_sigmoid(neuron[\"output\"])\n",
    "                    errors.append(error)\n",
    "                    error_signals.append(error_signal) \n",
    "            \n",
    "            errors.append(error)\n",
    "            error_signals.append(error_signal) \n",
    "            neuron['delta'] = error_signal\n",
    "        "
   ]
  },
  {
   "cell_type": "code",
   "execution_count": 49,
   "metadata": {},
   "outputs": [],
   "source": [
    "# Update network weights with error\n",
    "def update_weights(network, row, l_rate):\n",
    "    for i in range(len(network)):\n",
    "        if i == 0:\n",
    "            inputs = row[:-1]\n",
    "        else:\n",
    "            inputs = [neuron['output'] for neuron in network[i-1]]\n",
    "            \n",
    "        for neuron in network[i]:\n",
    "            for j in range(len(inputs)):\n",
    "                neuron[\"weights\"][j] -= l_rate * neuron['delta'] * inputs[j]\n",
    "                neuron[\"weights\"][-1] -= l_rate * neuron['delta']"
   ]
  },
  {
   "cell_type": "code",
   "execution_count": 75,
   "metadata": {},
   "outputs": [],
   "source": [
    "# Train a network for a fixed number of epochs\n",
    "def train_network(network, train, l_rate, n_epoch, n_outputs):\n",
    "    for epoch in range(n_epoch):\n",
    "        sum_error = 0\n",
    "        for row in train:\n",
    "            outputs = forward_propagate(network, row)\n",
    "            expected = [0 for i in range(n_outputs)]\n",
    "            expected[int(row[-1])] = 1   \n",
    "            sum_error += sum([(expected[i] - outputs[i]) ** 2 for i in range(n_outputs)]) \n",
    "            backward_propagate_error(network, expected)\n",
    "            update_weights(network, row, l_rate)\n",
    "        print(f\"epoch:{epoch:2d},  lrate:{l_rate},  error:{sum_error:.4f}\")    "
   ]
  },
  {
   "cell_type": "code",
   "execution_count": null,
   "metadata": {},
   "outputs": [],
   "source": []
  },
  {
   "cell_type": "code",
   "execution_count": 70,
   "metadata": {},
   "outputs": [
    {
     "name": "stdout",
     "output_type": "stream",
     "text": [
      "(209, 8)\n",
      "[[14.88, 14.57, 0.8811, 5.554, 3.333, 1.018, 4.956, 1.0], [14.29, 14.09, 0.905, 5.291, 3.337, 2.699, 4.825, 1.0]]\n"
     ]
    }
   ],
   "source": [
    "url = 'https://raw.githubusercontent.com/jbrownlee/Datasets/master/wheat-seeds.csv'\n",
    "dataset = pd.read_csv(url)\n",
    "\n",
    "wheat_seeds = []\n",
    "for idx, row in dataset.iterrows():\n",
    "    row_list = []\n",
    "    for num in row:\n",
    "        row_list.append(num)\n",
    "    wheat_seeds.append(row_list)\n",
    "    \n",
    "print(np.shape(wheat_seeds))\n",
    "\n",
    "wheat_inputs = wheat_seeds[:2]\n",
    "print(wheat_inputs)"
   ]
  },
  {
   "cell_type": "code",
   "execution_count": 71,
   "metadata": {},
   "outputs": [
    {
     "name": "stdout",
     "output_type": "stream",
     "text": [
      "[[{'weights': [0.13436424411240122, 0.8474337369372327, 0.763774618976614, 0.2550690257394217, 0.49543508709194095, 0.4494910647887381, 0.651592972722763, 0.7887233511355132]}, {'weights': [0.0938595867742349, 0.02834747652200631, 0.8357651039198697, 0.43276706790505337, 0.762280082457942, 0.0021060533511106927, 0.4453871940548014, 0.7215400323407826]}], [{'weights': [0.22876222127045265, 0.9452706955539223, 0.9014274576114836]}, {'weights': [0.030589983033553536, 0.0254458609934608, 0.5414124727934966]}, {'weights': [0.9391491627785106, 0.38120423768821243, 0.21659939713061338]}]]\n"
     ]
    }
   ],
   "source": [
    "seed(1)\n",
    "\n",
    "network = initialize_network(7,2,3)\n",
    "print(network)"
   ]
  },
  {
   "cell_type": "code",
   "execution_count": 77,
   "metadata": {},
   "outputs": [
    {
     "name": "stdout",
     "output_type": "stream",
     "text": [
      "epoch: 0,  lrate:0.5,  error:0.0344\n",
      "epoch: 1,  lrate:0.5,  error:0.0331\n",
      "epoch: 2,  lrate:0.5,  error:0.0319\n",
      "epoch: 3,  lrate:0.5,  error:0.0307\n",
      "epoch: 4,  lrate:0.5,  error:0.0297\n",
      "epoch: 5,  lrate:0.5,  error:0.0287\n",
      "epoch: 6,  lrate:0.5,  error:0.0278\n",
      "epoch: 7,  lrate:0.5,  error:0.0269\n",
      "epoch: 8,  lrate:0.5,  error:0.0261\n",
      "epoch: 9,  lrate:0.5,  error:0.0253\n",
      "epoch:10,  lrate:0.5,  error:0.0245\n",
      "epoch:11,  lrate:0.5,  error:0.0239\n",
      "epoch:12,  lrate:0.5,  error:0.0232\n",
      "epoch:13,  lrate:0.5,  error:0.0226\n",
      "epoch:14,  lrate:0.5,  error:0.0220\n",
      "epoch:15,  lrate:0.5,  error:0.0214\n",
      "epoch:16,  lrate:0.5,  error:0.0209\n",
      "epoch:17,  lrate:0.5,  error:0.0204\n",
      "epoch:18,  lrate:0.5,  error:0.0199\n",
      "epoch:19,  lrate:0.5,  error:0.0194\n"
     ]
    }
   ],
   "source": [
    "train_network(network, wheat_inputs, 0.5, 20, 3)"
   ]
  }
 ],
 "metadata": {
  "kernelspec": {
   "display_name": "tf_gpu",
   "language": "python",
   "name": "python3"
  },
  "language_info": {
   "codemirror_mode": {
    "name": "ipython",
    "version": 3
   },
   "file_extension": ".py",
   "mimetype": "text/x-python",
   "name": "python",
   "nbconvert_exporter": "python",
   "pygments_lexer": "ipython3",
   "version": "3.9.13"
  },
  "orig_nbformat": 4,
  "vscode": {
   "interpreter": {
    "hash": "7b18c970f1c267b2ae7de1f51c7b9ea29dc67f6c9f87d5b0ef47c4534e0830b3"
   }
  }
 },
 "nbformat": 4,
 "nbformat_minor": 2
}
