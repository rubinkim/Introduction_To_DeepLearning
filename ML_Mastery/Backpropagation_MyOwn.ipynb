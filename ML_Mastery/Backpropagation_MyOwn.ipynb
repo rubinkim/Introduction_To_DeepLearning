{
 "cells": [
  {
   "cell_type": "code",
   "execution_count": 30,
   "metadata": {},
   "outputs": [],
   "source": [
    "# import necessary modules\n",
    "import numpy as np\n",
    "import pandas as pd\n",
    "from random import random, seed\n",
    "from math import exp"
   ]
  },
  {
   "cell_type": "code",
   "execution_count": 12,
   "metadata": {},
   "outputs": [],
   "source": [
    "# Initialize Network\n",
    "def initialize_network(n_inputs, n_hidden, n_outputs):\n",
    "    # Create network and layers as lists\n",
    "    network = []\n",
    "    # Create the hidden and output layer where neurons are saved as dictionaries\n",
    "    hidden_layer = [{\"weights\":[random() for i in range(n_inputs+1)]} for i in range(n_hidden)]\n",
    "    network.append(hidden_layer)\n",
    "    \n",
    "    output_layer = [{\"weights\":[random() for i in range(n_hidden+1)]} for i in range(n_outputs)]\n",
    "    network.append(output_layer)\n",
    "    \n",
    "    return network"
   ]
  },
  {
   "cell_type": "code",
   "execution_count": 17,
   "metadata": {},
   "outputs": [],
   "source": [
    "# Calculate neuron activation for an input\n",
    "def activate_neuron(weights, inputs):\n",
    "    activation = weights[-1]\n",
    "    for i in range(len(weights)-1):\n",
    "        activation += weights[i] * inputs[i]\n",
    "    return activation"
   ]
  },
  {
   "cell_type": "code",
   "execution_count": 31,
   "metadata": {},
   "outputs": [],
   "source": [
    "# transfer neuron\n",
    "def transfer_neuron_sigmoid(activation):\n",
    "    return 1.0 / (1.0 + exp(-activation))"
   ]
  },
  {
   "cell_type": "code",
   "execution_count": 41,
   "metadata": {},
   "outputs": [],
   "source": [
    "# forward propagate inputs to a network output\n",
    "def forward_propagate(network, row):\n",
    "    inputs = row\n",
    "    for i, layer in enumerate(network):\n",
    "        net_inputs = []\n",
    "        for j, neuron in enumerate(layer):\n",
    "            activation = activate_neuron(neuron[\"weights\"], inputs)\n",
    "            neuron[\"output\"] = transfer_neuron_sigmoid(activation)\n",
    "            net_inputs.append(neuron[\"output\"])\n",
    "        inputs = net_inputs\n",
    "    return inputs        "
   ]
  },
  {
   "cell_type": "code",
   "execution_count": 42,
   "metadata": {},
   "outputs": [
    {
     "name": "stdout",
     "output_type": "stream",
     "text": [
      "(209, 8)\n",
      "[[14.88, 14.57, 0.8811, 5.554, 3.333, 1.018, 4.956, 1.0], [14.29, 14.09, 0.905, 5.291, 3.337, 2.699, 4.825, 1.0]]\n"
     ]
    }
   ],
   "source": [
    "url = 'https://raw.githubusercontent.com/jbrownlee/Datasets/master/wheat-seeds.csv'\n",
    "dataset = pd.read_csv(url)\n",
    "\n",
    "wheat_seeds = []\n",
    "for idx, row in dataset.iterrows():\n",
    "    row_list = []\n",
    "    for num in row:\n",
    "        row_list.append(num)\n",
    "    wheat_seeds.append(row_list)\n",
    "    \n",
    "print(np.shape(wheat_seeds))\n",
    "\n",
    "wheat_inputs = wheat_seeds[:2]\n",
    "print(wheat_inputs)"
   ]
  },
  {
   "cell_type": "code",
   "execution_count": 38,
   "metadata": {},
   "outputs": [
    {
     "name": "stdout",
     "output_type": "stream",
     "text": [
      "weights : [0.1344, 0.8474, 0.7638, 0.2551, 0.4954, 0.4495, 0.6516, 0.7887]\n",
      "output : 1.0\n",
      "\n",
      "weights : [0.0939, 0.0283, 0.8358, 0.4328, 0.7623, 0.0021, 0.4454, 0.7215]\n",
      "output : 1.0\n",
      "\n",
      "\n",
      "weights : [0.2288, 0.9453, 0.9014]\n",
      "output : 1.0\n",
      "\n",
      "weights : [0.0306, 0.0254, 0.5414]\n",
      "output : 0.792\n",
      "\n",
      "weights : [0.9391, 0.3812, 0.2166]\n",
      "output : 1.0\n",
      "\n",
      "\n"
     ]
    }
   ],
   "source": [
    "seed(1)\n",
    "\n",
    "network = initialize_network(7,2,3)\n",
    "\n",
    "for i, layer in enumerate(network):\n",
    "    for k, neuron in enumerate(layer):\n",
    "        neuron['output'] = transfer_neuron_sigmoid(activate_neuron(neuron[\"weights\"], wheat_inputs[i]))\n",
    "        print(f\"weights : {[np.round(x,4) for x in neuron['weights']]}\")\n",
    "        print(f\"output : {np.round(neuron['output'], 4)}\")\n",
    "        print()\n",
    "    print()\n",
    "    "
   ]
  },
  {
   "cell_type": "code",
   "execution_count": null,
   "metadata": {},
   "outputs": [],
   "source": [
    "seed(1)\n",
    "\n",
    "network = initialize_network(7,2,3)\n",
    "\n",
    "for i, row in enumerate(wheat_inputs):\n",
    "    for j, layer in enumerate(network):\n",
    "        for k, neuron in enumerate(layer):\n",
    "            activation = activate_neuron(neuron[\"weights\"], row)\n",
    "            output = transfer_neuron_sigmoid(activation)\n",
    "            print(f\"weights : {[np.round(x,4) for x in neuron['weights']]}\")\n",
    "            print(f\"output : {np.round(neuron['output'], 4)}\")\n",
    "            print()\n",
    "        print()\n",
    "    print()"
   ]
  },
  {
   "cell_type": "code",
   "execution_count": 40,
   "metadata": {},
   "outputs": [
    {
     "name": "stdout",
     "output_type": "stream",
     "text": [
      "weights : [0.1344, 0.8474, 0.7638, 0.2551, 0.4954, 0.4495, 0.6516, 0.7887]\n",
      "output : 1.0\n",
      "\n",
      "weights : [0.0939, 0.0283, 0.8358, 0.4328, 0.7623, 0.0021, 0.4454, 0.7215]\n",
      "output : 1.0\n",
      "\n",
      "\n",
      "weights : [0.2288, 0.9453, 0.9014]\n",
      "output : 1.0\n",
      "\n",
      "weights : [0.0306, 0.0254, 0.5414]\n",
      "output : 0.7969\n",
      "\n",
      "weights : [0.9391, 0.3812, 0.2166]\n",
      "output : 1.0\n",
      "\n",
      "\n",
      "\n",
      "weights : [0.1344, 0.8474, 0.7638, 0.2551, 0.4954, 0.4495, 0.6516, 0.7887]\n",
      "output : 1.0\n",
      "\n",
      "weights : [0.0939, 0.0283, 0.8358, 0.4328, 0.7623, 0.0021, 0.4454, 0.7215]\n",
      "output : 1.0\n",
      "\n",
      "\n",
      "weights : [0.2288, 0.9453, 0.9014]\n",
      "output : 1.0\n",
      "\n",
      "weights : [0.0306, 0.0254, 0.5414]\n",
      "output : 0.792\n",
      "\n",
      "weights : [0.9391, 0.3812, 0.2166]\n",
      "output : 1.0\n",
      "\n",
      "\n",
      "\n"
     ]
    }
   ],
   "source": [
    "seed(1)\n",
    "\n",
    "network = initialize_network(7,2,3)\n",
    "\n",
    "for i, row in enumerate(wheat_inputs):\n",
    "    for j, layer in enumerate(network):\n",
    "        for k, neuron in enumerate(layer):\n",
    "            neuron['output'] = transfer_neuron_sigmoid(activate_neuron(neuron[\"weights\"], wheat_inputs[i]))\n",
    "            print(f\"weights : {[np.round(x,4) for x in neuron['weights']]}\")\n",
    "            print(f\"output : {np.round(neuron['output'], 4)}\")\n",
    "            print()\n",
    "        print()\n",
    "    print()"
   ]
  },
  {
   "cell_type": "code",
   "execution_count": 34,
   "metadata": {},
   "outputs": [
    {
     "name": "stdout",
     "output_type": "stream",
     "text": [
      "[[{'weights': [0.13436424411240122, 0.8474337369372327, 0.763774618976614, 0.2550690257394217, 0.49543508709194095, 0.4494910647887381, 0.651592972722763, 0.7887233511355132], 'output': 22.700295361186395}, {'weights': [0.0938595867742349, 0.02834747652200631, 0.8357651039198697, 0.43276706790505337, 0.762280082457942, 0.0021060533511106927, 0.4453871940548014, 0.7215400323407826], 'output': 10.206753531344006}], [{'weights': [0.22876222127045265, 0.9452706955539223, 0.9014274576114836], 'output': 17.489303699921017}, {'weights': [0.030589983033553536, 0.0254458609934608, 0.5414124727934966], 'output': 1.3370755117408393}, {'weights': [0.9391491627785106, 0.38120423768821243, 0.21659939713061338], 'output': 19.008208642262442}]]\n"
     ]
    }
   ],
   "source": [
    "print(network)"
   ]
  },
  {
   "cell_type": "code",
   "execution_count": null,
   "metadata": {},
   "outputs": [],
   "source": []
  }
 ],
 "metadata": {
  "kernelspec": {
   "display_name": "tf_gpu",
   "language": "python",
   "name": "python3"
  },
  "language_info": {
   "codemirror_mode": {
    "name": "ipython",
    "version": 3
   },
   "file_extension": ".py",
   "mimetype": "text/x-python",
   "name": "python",
   "nbconvert_exporter": "python",
   "pygments_lexer": "ipython3",
   "version": "3.9.13"
  },
  "orig_nbformat": 4,
  "vscode": {
   "interpreter": {
    "hash": "7b18c970f1c267b2ae7de1f51c7b9ea29dc67f6c9f87d5b0ef47c4534e0830b3"
   }
  }
 },
 "nbformat": 4,
 "nbformat_minor": 2
}
