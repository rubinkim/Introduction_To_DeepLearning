{
 "cells": [
  {
   "cell_type": "code",
   "execution_count": 41,
   "metadata": {},
   "outputs": [],
   "source": [
    "# import necessary modules\n",
    "import numpy as np\n",
    "import pandas as pd\n",
    "from random import random, seed\n",
    "from math import exp"
   ]
  },
  {
   "cell_type": "code",
   "execution_count": 42,
   "metadata": {},
   "outputs": [],
   "source": [
    "# Initialize Network\n",
    "def initialize_network(n_inputs, n_hidden, n_outputs):\n",
    "    # Create network and layers as lists\n",
    "    network = []\n",
    "    # Create the hidden and output layer where neurons are saved as dictionaries\n",
    "    hidden_layer = [{\"weights\":[random() for i in range(n_inputs+1)]} for i in range(n_hidden)]\n",
    "    network.append(hidden_layer)\n",
    "    \n",
    "    output_layer = [{\"weights\":[random() for i in range(n_hidden+1)]} for i in range(n_outputs)]\n",
    "    network.append(output_layer)\n",
    "    \n",
    "    return network"
   ]
  },
  {
   "cell_type": "code",
   "execution_count": 43,
   "metadata": {},
   "outputs": [],
   "source": [
    "# Calculate neuron activation for an input\n",
    "def activate_neuron(weights, inputs):\n",
    "    activation = weights[-1]\n",
    "    for i in range(len(weights)-1):\n",
    "        activation += weights[i] * inputs[i]\n",
    "    return activation"
   ]
  },
  {
   "cell_type": "code",
   "execution_count": 44,
   "metadata": {},
   "outputs": [],
   "source": [
    "# transfer neuron\n",
    "def transfer_neuron_sigmoid(activation):\n",
    "    return 1.0 / (1.0 + exp(-activation))"
   ]
  },
  {
   "cell_type": "code",
   "execution_count": 45,
   "metadata": {},
   "outputs": [],
   "source": [
    "# forward propagate inputs to a network output\n",
    "def forward_propagate(network, row):\n",
    "    inputs = row\n",
    "    for i, layer in enumerate(network):\n",
    "        net_inputs = []\n",
    "        for j, neuron in enumerate(layer):\n",
    "            activation = activate_neuron(neuron[\"weights\"], inputs)\n",
    "            neuron[\"output\"] = transfer_neuron_sigmoid(activation)\n",
    "            net_inputs.append(neuron[\"output\"])\n",
    "        inputs = net_inputs\n",
    "    return inputs        "
   ]
  },
  {
   "cell_type": "code",
   "execution_count": 46,
   "metadata": {},
   "outputs": [],
   "source": [
    "# Calculate the derivative of an neuron output\n",
    "def transfer_derivative_sigmoid(output):\n",
    "    return output * (1.0 - output)"
   ]
  },
  {
   "cell_type": "code",
   "execution_count": 47,
   "metadata": {},
   "outputs": [],
   "source": [
    "# Backpropagate error and store in neurons\n",
    "def backward_propagate_error(network, expected):\n",
    "    for i in range(len(network)-1, -1, -1):\n",
    "        layer = network[i]\n",
    "        errors, error_signals = [],[]\n",
    "        \n",
    "        for j, neuron in enumerate(layer):\n",
    "            if i == len(network) -1:\n",
    "                error = neuron[\"output\"] - expected[j]\n",
    "                error_signal = error * transfer_derivative_sigmoid(neuron[\"output\"])\n",
    "                \n",
    "            else:\n",
    "                error = 0\n",
    "                for k, next_neuron in enumerate(network[i+1]):\n",
    "                    error += next_neuron[\"weights\"][j] * next_neuron[\"delta\"]\n",
    "                    error_signal = error * transfer_derivative_sigmoid(neuron[\"output\"])\n",
    "                    errors.append(error)\n",
    "                    error_signals.append(error_signal) \n",
    "            \n",
    "            errors.append(error)\n",
    "            error_signals.append(error_signal) \n",
    "            neuron['delta'] = error_signal\n",
    "        "
   ]
  },
  {
   "cell_type": "code",
   "execution_count": 49,
   "metadata": {},
   "outputs": [],
   "source": [
    "# Update network weights with error\n",
    "def update_weights(network, row, l_rate):\n",
    "    for i in range(len(network)):\n",
    "        if i == 0:\n",
    "            inputs = row[:-1]\n",
    "        else:\n",
    "            inputs = [neuron['output'] for neuron in network[i-1]]\n",
    "            \n",
    "        for neuron in network[i]:\n",
    "            for j in range(len(inputs)):\n",
    "                neuron[\"weights\"][j] -= l_rate * neuron['delta'] * inputs[j]\n",
    "                neuron[\"weights\"][-1] -= l_rate * neuron['delta']"
   ]
  },
  {
   "cell_type": "code",
   "execution_count": null,
   "metadata": {},
   "outputs": [],
   "source": [
    "#"
   ]
  },
  {
   "cell_type": "code",
   "execution_count": null,
   "metadata": {},
   "outputs": [],
   "source": []
  },
  {
   "cell_type": "code",
   "execution_count": null,
   "metadata": {},
   "outputs": [],
   "source": [
    "url = 'https://raw.githubusercontent.com/jbrownlee/Datasets/master/wheat-seeds.csv'\n",
    "dataset = pd.read_csv(url)\n",
    "\n",
    "wheat_seeds = []\n",
    "for idx, row in dataset.iterrows():\n",
    "    row_list = []\n",
    "    for num in row:\n",
    "        row_list.append(num)\n",
    "    wheat_seeds.append(row_list)\n",
    "    \n",
    "print(np.shape(wheat_seeds))\n",
    "\n",
    "wheat_inputs = wheat_seeds[:2]\n",
    "print(wheat_inputs)"
   ]
  },
  {
   "cell_type": "code",
   "execution_count": null,
   "metadata": {},
   "outputs": [],
   "source": [
    "seed(1)\n",
    "\n",
    "network = initialize_network(7,2,3)\n",
    "print(network)"
   ]
  },
  {
   "cell_type": "code",
   "execution_count": null,
   "metadata": {},
   "outputs": [],
   "source": [
    "for row in wheat_inputs:\n",
    "    for layer in network:\n",
    "        for neuron in layer:\n",
    "            inputs = forward_propagate(network, row)            "
   ]
  },
  {
   "cell_type": "code",
   "execution_count": null,
   "metadata": {},
   "outputs": [],
   "source": [
    "for layer in network:\n",
    "    for neuron in layer:\n",
    "        print(neuron)\n",
    "        print()\n",
    "    print()\n",
    "print()"
   ]
  },
  {
   "cell_type": "code",
   "execution_count": null,
   "metadata": {},
   "outputs": [],
   "source": [
    "print(forward_propagate(network, wheat_inputs[0]))\n",
    "print(forward_propagate(network, wheat_inputs[1]))"
   ]
  },
  {
   "cell_type": "code",
   "execution_count": null,
   "metadata": {},
   "outputs": [],
   "source": [
    "# Train a network for a fixed number of epochs\n",
    "def train_network(network, train, l_rate, n_epoch, n_outputs):\n",
    "\tfor epoch in range(n_epoch):\n",
    "\t\tsum_error = 0\n",
    "\t\tfor row in train:\n",
    "\t\t\toutputs = forward_propagate(network, row)\n",
    "\t\t\texpected = [0 for i in range(n_outputs)]\n",
    "\t\t\texpected[row[-1]] = 1\n",
    "\t\t\tsum_error += sum([(expected[i]-outputs[i])**2 for i in range(len(expected))])\n",
    "\t\t\tbackward_propagate_error(network, expected)\n",
    "\t\t\tupdate_weights(network, row, l_rate)\n",
    "\t\tprint('>epoch=%d, lrate=%.3f, error=%.3f' % (epoch, l_rate, sum_error))"
   ]
  }
 ],
 "metadata": {
  "kernelspec": {
   "display_name": "tf_gpu",
   "language": "python",
   "name": "python3"
  },
  "language_info": {
   "codemirror_mode": {
    "name": "ipython",
    "version": 3
   },
   "file_extension": ".py",
   "mimetype": "text/x-python",
   "name": "python",
   "nbconvert_exporter": "python",
   "pygments_lexer": "ipython3",
   "version": "3.9.13"
  },
  "orig_nbformat": 4,
  "vscode": {
   "interpreter": {
    "hash": "7b18c970f1c267b2ae7de1f51c7b9ea29dc67f6c9f87d5b0ef47c4534e0830b3"
   }
  }
 },
 "nbformat": 4,
 "nbformat_minor": 2
}
