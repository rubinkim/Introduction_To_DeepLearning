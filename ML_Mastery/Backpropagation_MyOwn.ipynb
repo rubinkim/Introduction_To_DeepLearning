{
 "cells": [
  {
   "cell_type": "code",
   "execution_count": 5,
   "metadata": {},
   "outputs": [],
   "source": [
    "# import necessary modules\n",
    "import numpy as np\n",
    "import pandas as pd\n",
    "from random import random, seed"
   ]
  },
  {
   "cell_type": "code",
   "execution_count": 2,
   "metadata": {},
   "outputs": [],
   "source": [
    "# Initialize Network\n",
    "def initialize_network(n_inputs, n_hidden, n_outputs):\n",
    "    # Create network and layers as lists\n",
    "    network = []\n",
    "    # Create the hidden and output layer where neurons are saved as dictionaries\n",
    "    hidden_layer = [{\"weights\":[random() for i in range(n_inputs+1)]} for i in range(n_hidden)]\n",
    "    network.append(hidden_layer)\n",
    "    \n",
    "    output_layer = [{\"weights\":[random() for i in range(n_hidden+1)]} for i in range(n_outputs)]\n",
    "    network.append(output_layer)\n",
    "    \n",
    "    return network"
   ]
  },
  {
   "cell_type": "code",
   "execution_count": 9,
   "metadata": {},
   "outputs": [
    {
     "name": "stdout",
     "output_type": "stream",
     "text": [
      "{'weights': [0.13436424, 0.84743374, 0.76377462, 0.25506903, 0.49543509, 0.44949106, 0.65159297, 0.78872335]}\n",
      "{'weights': [0.09385959, 0.02834748, 0.8357651, 0.43276707, 0.76228008, 0.00210605, 0.44538719, 0.72154003]}\n",
      "\n",
      "{'weights': [0.22876222, 0.9452707, 0.90142746]}\n",
      "{'weights': [0.03058998, 0.02544586, 0.54141247]}\n",
      "{'weights': [0.93914916, 0.38120424, 0.2165994]}\n",
      "\n"
     ]
    }
   ],
   "source": [
    "seed(1)\n",
    "\n",
    "network = initialize_network(7,2,3)\n",
    "\n",
    "for i, layer in enumerate(network):\n",
    "    for k, neuron in enumerate(layer):\n",
    "        weights = [np.round(x, 8) for x in neuron[\"weights\"]]\n",
    "        neuron[\"weights\"] = weights\n",
    "        print(neuron)\n",
    "    print()"
   ]
  }
 ],
 "metadata": {
  "kernelspec": {
   "display_name": "tf_gpu",
   "language": "python",
   "name": "python3"
  },
  "language_info": {
   "codemirror_mode": {
    "name": "ipython",
    "version": 3
   },
   "file_extension": ".py",
   "mimetype": "text/x-python",
   "name": "python",
   "nbconvert_exporter": "python",
   "pygments_lexer": "ipython3",
   "version": "3.9.13"
  },
  "orig_nbformat": 4,
  "vscode": {
   "interpreter": {
    "hash": "7b18c970f1c267b2ae7de1f51c7b9ea29dc67f6c9f87d5b0ef47c4534e0830b3"
   }
  }
 },
 "nbformat": 4,
 "nbformat_minor": 2
}
