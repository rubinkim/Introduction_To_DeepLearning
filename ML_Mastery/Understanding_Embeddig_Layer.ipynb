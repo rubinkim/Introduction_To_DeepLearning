{
 "cells": [
  {
   "cell_type": "code",
   "execution_count": 1,
   "metadata": {},
   "outputs": [],
   "source": [
    "import numpy as np\n",
    "from tensorflow.keras.preprocessing.text import one_hot\n",
    "from tensorflow.keras.preprocessing.sequence import pad_sequences\n",
    "from tensorflow.keras.models import Sequential\n",
    "from tensorflow.keras.layers import Embedding, Flatten, Dense"
   ]
  },
  {
   "cell_type": "code",
   "execution_count": 29,
   "metadata": {},
   "outputs": [],
   "source": [
    "reviews = [\"Never coming back\", \"horrible service\", \"rude waitress\", \"cold food\", \"horrible food\",\n",
    "           \"awesome\", \"awesome services!\", \"rocks\", \"poor work\", \"couldn\\'t have done better\"]\n",
    "\n",
    "labels = [1 for i in range(5)] + [0 for i in range(5)]   # [1, 1, 1, 1, 1, 0, 0, 0, 0, 0]\n",
    "labels = np.array(labels)"
   ]
  },
  {
   "cell_type": "code",
   "execution_count": 8,
   "metadata": {},
   "outputs": [
    {
     "name": "stdout",
     "output_type": "stream",
     "text": [
      "encoded_reviews : [[33, 24, 28], [49, 23], [27, 11], [32, 28], [49, 28], [12], [12, 25], [33], [12, 7], [44, 36, 26, 27]]\n"
     ]
    }
   ],
   "source": [
    "vocab_size = 50\n",
    "encoded_reviews = [one_hot(d, vocab_size) for d in reviews]\n",
    "print(f\"encoded_reviews : {encoded_reviews}\")"
   ]
  },
  {
   "cell_type": "code",
   "execution_count": 9,
   "metadata": {},
   "outputs": [
    {
     "name": "stdout",
     "output_type": "stream",
     "text": [
      "[[33 24 28  0]\n",
      " [49 23  0  0]\n",
      " [27 11  0  0]\n",
      " [32 28  0  0]\n",
      " [49 28  0  0]\n",
      " [12  0  0  0]\n",
      " [12 25  0  0]\n",
      " [33  0  0  0]\n",
      " [12  7  0  0]\n",
      " [44 36 26 27]]\n"
     ]
    }
   ],
   "source": [
    "max_length = 4\n",
    "padded_reviews = pad_sequences(encoded_reviews, maxlen=max_length, padding='post')\n",
    "print(padded_reviews)"
   ]
  },
  {
   "cell_type": "code",
   "execution_count": 27,
   "metadata": {},
   "outputs": [
    {
     "name": "stdout",
     "output_type": "stream",
     "text": [
      "Model: \"sequential\"\n",
      "_________________________________________________________________\n",
      " Layer (type)                Output Shape              Param #   \n",
      "=================================================================\n",
      " embedding (Embedding)       (None, 4, 8)              400       \n",
      "                                                                 \n",
      " flatten (Flatten)           (None, 32)                0         \n",
      "                                                                 \n",
      " dense (Dense)               (None, 1)                 33        \n",
      "                                                                 \n",
      "=================================================================\n",
      "Total params: 433\n",
      "Trainable params: 433\n",
      "Non-trainable params: 0\n",
      "_________________________________________________________________\n"
     ]
    }
   ],
   "source": [
    "model = Sequential()\n",
    "embedding_layer = Embedding(input_dim=vocab_size, output_dim=8, input_length=max_length)\n",
    "model.add(embedding_layer)\n",
    "model.add(Flatten())\n",
    "model.add(Dense(1, activation='sigmoid'))\n",
    "\n",
    "model.compile(optimizer='adam', loss='binary_crossentropy', metrics=['acc'])\n",
    "model.summary()"
   ]
  },
  {
   "cell_type": "code",
   "execution_count": 30,
   "metadata": {},
   "outputs": [
    {
     "data": {
      "text/plain": [
       "<keras.callbacks.History at 0x20d1fd78f40>"
      ]
     },
     "execution_count": 30,
     "metadata": {},
     "output_type": "execute_result"
    }
   ],
   "source": [
    "model.fit(padded_reviews, labels, epochs=100, verbose=0)"
   ]
  },
  {
   "cell_type": "code",
   "execution_count": 34,
   "metadata": {},
   "outputs": [
    {
     "name": "stdout",
     "output_type": "stream",
     "text": [
      "[0.1326, 0.1034, 0.1217, -0.1528, 0.0588, 0.0855, 0.0986, -0.09]\n",
      "[0.0238, 0.0045, -0.0195, -0.0091, 0.0074, -0.0092, -0.0201, -0.04]\n",
      "[0.0283, 0.0378, 0.0009, -0.006, -0.0097, 0.0166, -0.0457, -0.0025]\n",
      "[0.0048, -0.0231, 0.0434, -0.0258, -0.0229, -0.0254, 0.0272, -0.0046]\n",
      "[0.038, 0.0136, 0.0188, 0.04, -0.0005, -0.048, -0.0094, 0.0316]\n",
      "[-0.0053, 0.0443, 0.0086, -0.0293, -0.0268, -0.0097, 0.0102, 0.0254]\n",
      "[0.0412, 0.0227, -0.0143, -0.0398, 0.0419, -0.0434, 0.0052, -0.0402]\n",
      "[0.1363, 0.1136, 0.1122, -0.0797, 0.0817, 0.0838, 0.0712, -0.1221]\n",
      "[0.041, -0.0181, 0.0454, 0.0104, 0.0334, 0.0044, -0.0177, 0.0235]\n",
      "[-0.0287, -0.0489, 0.0124, -0.044, -0.017, 0.0352, 0.042, -0.0149]\n",
      "[0.0286, -0.0476, 0.0016, 0.042, -0.0074, 0.0153, 0.0244, 0.0167]\n",
      "[-0.1447, -0.0824, -0.1357, 0.1227, -0.1388, -0.1136, -0.1229, 0.1024]\n",
      "[0.0504, 0.1039, -0.1, 0.0799, 0.1543, -0.134, -0.0763, 0.066]\n",
      "[-0.0264, -0.0378, 0.0079, -0.0389, -0.0288, -1e-04, 0.0223, 0.0314]\n",
      "[0.0022, 0.0365, -0.0085, -0.0198, 0.0185, 0.0392, -0.005, -0.0253]\n",
      "[-0.038, -0.0415, -0.0015, 0.0158, 0.0457, -0.041, 0.0211, -0.0029]\n",
      "[0.0345, 0.0192, 0.0153, -0.0461, 0.0064, 0.0488, 0.0126, -0.0008]\n",
      "[0.0223, -0.0246, -0.0004, -0.0201, -0.0241, -0.0185, 0.0019, 0.0236]\n",
      "[-0.0409, -0.0396, 0.0434, 0.026, -0.0273, 0.0451, -0.0497, 0.0406]\n",
      "[0.0203, 0.0261, -0.0251, 0.0096, -0.0237, -0.0051, -0.0277, 0.0188]\n",
      "[0.0436, -0.0319, 0.0045, 0.0013, 0.0008, -0.0298, -0.0338, -0.0297]\n",
      "[-0.0495, 0.0349, 0.0482, -0.0087, -0.0458, -0.0346, -0.0346, 0.0055]\n",
      "[-0.0371, -0.0349, -0.0098, -0.0412, -0.0177, 0.0104, 0.0256, -0.0313]\n",
      "[-0.0721, -0.0887, -0.1208, 0.1206, -0.0611, -0.1394, -0.0573, 0.1384]\n",
      "[-0.1264, -0.1536, -0.1613, 0.1415, -0.073, -0.0677, -0.1506, 0.0799]\n",
      "[0.0766, 0.1425, 0.084, -0.1124, 0.1025, 0.1226, 0.1349, -0.1216]\n",
      "[0.076, -0.092, -0.0014, -0.0461, -0.1242, 0.0823, -0.1302, -0.0432]\n",
      "[-0.0593, -0.141, 0.0725, -0.1142, -0.1152, 0.1602, 0.1262, 0.0878]\n",
      "[-0.1435, -0.0642, -0.1039, 0.0575, -0.0623, -0.0629, -0.075, 0.0665]\n",
      "[0.0124, 0.0011, 0.0371, -0.0385, 0.0028, -0.0418, 0.0402, -0.0129]\n",
      "[-0.0315, -0.021, -0.0161, -0.0288, 0.0498, -0.0263, -0.0408, 0.0303]\n",
      "[-0.0493, 0.0144, -0.0161, 0.0066, -0.022, 0.0152, -0.0189, 0.0174]\n",
      "[-0.0496, -0.1117, 0.1006, -0.0995, -0.1246, 0.0594, 0.1207, -0.1348]\n",
      "[0.0607, 0.036, -0.0275, 0.0628, 0.0926, -0.0051, -0.0721, -0.0212]\n",
      "[-0.0369, 0.0003, 0.0246, 0.0066, 0.003, -0.0043, 0.0469, -0.0048]\n",
      "[0.0096, 0.0023, -0.0213, -0.0263, -0.0483, -0.0367, -0.0182, -0.0007]\n",
      "[0.1335, 0.1181, 0.1303, -0.0859, 0.1371, 0.0616, 0.0984, -0.1424]\n",
      "[0.016, -0.0236, 0.0092, 0.0432, -0.0221, -0.0418, -0.0491, 0.0212]\n",
      "[0.0313, -0.015, 0.0411, -0.0344, -0.0418, 0.0441, -0.0484, -0.0424]\n",
      "[0.0461, -0.018, 0.0311, 0.0444, 0.0329, -0.0455, 0.0084, 0.0015]\n",
      "[-0.0187, 0.0067, 0.0384, -0.0026, 0.0033, 0.0383, 0.0391, 0.0392]\n",
      "[0.0279, -0.019, 0.0437, -0.0025, 0.0236, 0.0275, 0.0167, -0.0353]\n",
      "[-0.0152, 0.0009, -0.0286, -0.0351, 0.0162, -0.0057, -0.0412, 0.0031]\n",
      "[-0.0282, -0.0035, 0.0248, -0.0256, 0.0124, 0.0243, 0.0277, -0.0138]\n",
      "[0.0593, 0.0602, -0.0741, 0.0561, 0.0995, -0.0975, -0.134, 0.0661]\n",
      "[-0.022, -0.0413, 0.0112, -0.0227, -0.0018, -0.0066, 0.0323, 0.0177]\n",
      "[0.0064, 0.0249, -0.0165, -0.048, -0.0241, 0.0484, 0.024, -0.0492]\n",
      "[-0.0398, -0.0161, 0.0245, -0.0101, 0.0461, -0.0436, 0.0357, 0.0481]\n",
      "[-0.0175, 0.0114, 0.0377, -0.0145, 0.0182, -0.0316, -0.0292, 0.0342]\n",
      "[-0.1072, -0.1212, 0.105, -0.0895, -0.1388, 0.0999, 0.0796, -0.068]\n"
     ]
    }
   ],
   "source": [
    "for embeddings in embedding_layer.get_weights()[0]:\n",
    "    print([np.round(x, 4) for x in embeddings])"
   ]
  },
  {
   "cell_type": "code",
   "execution_count": 40,
   "metadata": {},
   "outputs": [],
   "source": [
    "embeddings = embedding_layer.get_weights()[0]"
   ]
  },
  {
   "cell_type": "code",
   "execution_count": 41,
   "metadata": {},
   "outputs": [
    {
     "name": "stdout",
     "output_type": "stream",
     "text": [
      "['T', '__abs__', '__add__', '__and__', '__array__', '__array_finalize__', '__array_function__', '__array_interface__', '__array_prepare__', '__array_priority__', '__array_struct__', '__array_ufunc__', '__array_wrap__', '__bool__', '__class__', '__class_getitem__', '__complex__', '__contains__', '__copy__', '__deepcopy__', '__delattr__', '__delitem__', '__dir__', '__divmod__', '__dlpack__', '__dlpack_device__', '__doc__', '__eq__', '__float__', '__floordiv__', '__format__', '__ge__', '__getattribute__', '__getitem__', '__gt__', '__hash__', '__iadd__', '__iand__', '__ifloordiv__', '__ilshift__', '__imatmul__', '__imod__', '__imul__', '__index__', '__init__', '__init_subclass__', '__int__', '__invert__', '__ior__', '__ipow__', '__irshift__', '__isub__', '__iter__', '__itruediv__', '__ixor__', '__le__', '__len__', '__lshift__', '__lt__', '__matmul__', '__mod__', '__mul__', '__ne__', '__neg__', '__new__', '__or__', '__pos__', '__pow__', '__radd__', '__rand__', '__rdivmod__', '__reduce__', '__reduce_ex__', '__repr__', '__rfloordiv__', '__rlshift__', '__rmatmul__', '__rmod__', '__rmul__', '__ror__', '__rpow__', '__rrshift__', '__rshift__', '__rsub__', '__rtruediv__', '__rxor__', '__setattr__', '__setitem__', '__setstate__', '__sizeof__', '__str__', '__sub__', '__subclasshook__', '__truediv__', '__xor__', 'all', 'any', 'argmax', 'argmin', 'argpartition', 'argsort', 'astype', 'base', 'byteswap', 'choose', 'clip', 'compress', 'conj', 'conjugate', 'copy', 'ctypes', 'cumprod', 'cumsum', 'data', 'diagonal', 'dot', 'dtype', 'dump', 'dumps', 'fill', 'flags', 'flat', 'flatten', 'getfield', 'imag', 'item', 'itemset', 'itemsize', 'max', 'mean', 'min', 'nbytes', 'ndim', 'newbyteorder', 'nonzero', 'partition', 'prod', 'ptp', 'put', 'ravel', 'real', 'repeat', 'reshape', 'resize', 'round', 'searchsorted', 'setfield', 'setflags', 'shape', 'size', 'sort', 'squeeze', 'std', 'strides', 'sum', 'swapaxes', 'take', 'tobytes', 'tofile', 'tolist', 'tostring', 'trace', 'transpose', 'var', 'view']\n"
     ]
    }
   ],
   "source": [
    "print(dir(embeddings))"
   ]
  }
 ],
 "metadata": {
  "kernelspec": {
   "display_name": "tf_gpu",
   "language": "python",
   "name": "python3"
  },
  "language_info": {
   "codemirror_mode": {
    "name": "ipython",
    "version": 3
   },
   "file_extension": ".py",
   "mimetype": "text/x-python",
   "name": "python",
   "nbconvert_exporter": "python",
   "pygments_lexer": "ipython3",
   "version": "3.9.13"
  },
  "orig_nbformat": 4,
  "vscode": {
   "interpreter": {
    "hash": "7b18c970f1c267b2ae7de1f51c7b9ea29dc67f6c9f87d5b0ef47c4534e0830b3"
   }
  }
 },
 "nbformat": 4,
 "nbformat_minor": 2
}
