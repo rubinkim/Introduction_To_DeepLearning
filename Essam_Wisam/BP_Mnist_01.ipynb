{
 "cells": [
  {
   "cell_type": "code",
   "execution_count": 1,
   "metadata": {},
   "outputs": [],
   "source": [
    "import numpy as np\n",
    "import pandas as pd\n",
    "import matplotlib\n",
    "import matplotlib.pyplot as plt\n",
    "from sklearn.datasets import fetch_openml\n",
    "from sklearn.metrics import confusion_matrix, classification_report"
   ]
  },
  {
   "cell_type": "code",
   "execution_count": 2,
   "metadata": {},
   "outputs": [],
   "source": [
    "mnist = fetch_openml('mnist_784')"
   ]
  },
  {
   "cell_type": "code",
   "execution_count": 3,
   "metadata": {},
   "outputs": [
    {
     "name": "stdout",
     "output_type": "stream",
     "text": [
      "data의 type   : <class 'pandas.core.frame.DataFrame'>,  data의 shape : (70000, 784)\n",
      "target의 type : <class 'pandas.core.series.Series'>,    target의 shape : (70000,)\n"
     ]
    }
   ],
   "source": [
    "data, target = mnist[\"data\"], mnist[\"target\"]\n",
    "\n",
    "print(f\"data의 type   : {type(data)},  data의 shape : {data.shape}\")\n",
    "print(f\"target의 type : {type(target)},    target의 shape : {target.shape}\")"
   ]
  },
  {
   "cell_type": "code",
   "execution_count": 4,
   "metadata": {},
   "outputs": [
    {
     "data": {
      "text/plain": [
       "CategoricalDtype(categories=['0', '1', '2', '3', '4', '5', '6', '7', '8', '9'], ordered=False)"
      ]
     },
     "execution_count": 4,
     "metadata": {},
     "output_type": "execute_result"
    }
   ],
   "source": [
    "target.dtypes"
   ]
  },
  {
   "cell_type": "code",
   "execution_count": 5,
   "metadata": {},
   "outputs": [
    {
     "name": "stdout",
     "output_type": "stream",
     "text": [
      "data의 type   : <class 'numpy.ndarray'>,  data의 shape : (70000, 784)\n",
      "target의 type : <class 'numpy.ndarray'>,    target의 shape : (70000,)\n"
     ]
    }
   ],
   "source": [
    "target = target.astype(np.int8)\n",
    "data, target = data.values, target.values\n",
    "\n",
    "print(f\"data의 type   : {type(data)},  data의 shape : {data.shape}\")\n",
    "print(f\"target의 type : {type(target)},    target의 shape : {target.shape}\")"
   ]
  },
  {
   "cell_type": "code",
   "execution_count": 6,
   "metadata": {},
   "outputs": [
    {
     "name": "stdout",
     "output_type": "stream",
     "text": [
      "[3 5 3 6 1 7 2 8 6 9]\n"
     ]
    }
   ],
   "source": [
    "print(target[10:20])"
   ]
  },
  {
   "cell_type": "code",
   "execution_count": 7,
   "metadata": {},
   "outputs": [
    {
     "name": "stdout",
     "output_type": "stream",
     "text": [
      "{0: 6903, 1: 7877, 2: 6990, 3: 7141, 4: 6824, 5: 6313, 6: 6876, 7: 7293, 8: 6825, 9: 6958}\n"
     ]
    }
   ],
   "source": [
    "target_dict = {}\n",
    "label, freq = np.unique(target, return_counts=True)\n",
    "\n",
    "for l, f in zip(label, freq):\n",
    "    target_dict[l] = f\n",
    "    \n",
    "print(target_dict)"
   ]
  },
  {
   "cell_type": "code",
   "execution_count": 8,
   "metadata": {},
   "outputs": [
    {
     "name": "stdout",
     "output_type": "stream",
     "text": [
      "255.0 0.0\n",
      "1.0 0.0\n"
     ]
    }
   ],
   "source": [
    "print(np.max(data), np.min(data))\n",
    "\n",
    "data = data / 255      # To keep our gradients manageable\n",
    "print(np.max(data), np.min(data))"
   ]
  },
  {
   "cell_type": "code",
   "execution_count": 9,
   "metadata": {},
   "outputs": [],
   "source": [
    "digits = 10\n",
    "examples = target.shape[0]     # 70000\n",
    "target_new = np.eye(digits)[target.reshape(1, -1)]"
   ]
  },
  {
   "cell_type": "code",
   "execution_count": 10,
   "metadata": {},
   "outputs": [
    {
     "name": "stdout",
     "output_type": "stream",
     "text": [
      "target_new의 shape : (1, 70000, 10)\n",
      "\n",
      "[3 5 3 6 1 7 2 8 6 9]\n",
      "\n",
      "[[0. 0. 0. 1. 0. 0. 0. 0. 0. 0.]\n",
      " [0. 0. 0. 0. 0. 1. 0. 0. 0. 0.]\n",
      " [0. 0. 0. 1. 0. 0. 0. 0. 0. 0.]\n",
      " [0. 0. 0. 0. 0. 0. 1. 0. 0. 0.]\n",
      " [0. 1. 0. 0. 0. 0. 0. 0. 0. 0.]\n",
      " [0. 0. 0. 0. 0. 0. 0. 1. 0. 0.]\n",
      " [0. 0. 1. 0. 0. 0. 0. 0. 0. 0.]\n",
      " [0. 0. 0. 0. 0. 0. 0. 0. 1. 0.]\n",
      " [0. 0. 0. 0. 0. 0. 1. 0. 0. 0.]\n",
      " [0. 0. 0. 0. 0. 0. 0. 0. 0. 1.]]\n"
     ]
    }
   ],
   "source": [
    "print(f\"target_new의 shape : {target_new.shape}\")\n",
    "print()\n",
    "print(target[10:20])\n",
    "print()\n",
    "print(target_new[0, 10:20, :])"
   ]
  },
  {
   "cell_type": "code",
   "execution_count": 11,
   "metadata": {},
   "outputs": [
    {
     "name": "stdout",
     "output_type": "stream",
     "text": [
      "target의 shape : (70000, 10)\n",
      "\n",
      "[[0. 0. 0. 1. 0. 0. 0. 0. 0. 0.]\n",
      " [0. 0. 0. 0. 0. 1. 0. 0. 0. 0.]\n",
      " [0. 0. 0. 1. 0. 0. 0. 0. 0. 0.]\n",
      " [0. 0. 0. 0. 0. 0. 1. 0. 0. 0.]\n",
      " [0. 1. 0. 0. 0. 0. 0. 0. 0. 0.]\n",
      " [0. 0. 0. 0. 0. 0. 0. 1. 0. 0.]\n",
      " [0. 0. 1. 0. 0. 0. 0. 0. 0. 0.]\n",
      " [0. 0. 0. 0. 0. 0. 0. 0. 1. 0.]\n",
      " [0. 0. 0. 0. 0. 0. 1. 0. 0. 0.]\n",
      " [0. 0. 0. 0. 0. 0. 0. 0. 0. 1.]]\n"
     ]
    }
   ],
   "source": [
    "target_new = target_new.reshape(-1, 10)\n",
    "print(f\"target의 shape : {target_new.shape}\")\n",
    "print()\n",
    "print(target_new[10:20, :])"
   ]
  },
  {
   "cell_type": "code",
   "execution_count": 12,
   "metadata": {},
   "outputs": [
    {
     "name": "stdout",
     "output_type": "stream",
     "text": [
      "x_train의 shape : (784, 60000),     y_train의 shape : (10, 60000)\n",
      "x_test의 shape  : (784, 10000),     y_test의 shape  : (10, 10000)\n"
     ]
    }
   ],
   "source": [
    "m = 60000\n",
    "m_test = data.shape[0] - m\n",
    "\n",
    "x_train, x_test = data[:m].T, data[m:].T\n",
    "y_train, y_test = target_new[:m].T, target_new[m:].T\n",
    "\n",
    "print(f\"x_train의 shape : {x_train.shape},     y_train의 shape : {y_train.shape}\")\n",
    "print(f\"x_test의 shape  : {x_test.shape},     y_test의 shape  : {y_test.shape}\")"
   ]
  },
  {
   "cell_type": "code",
   "execution_count": 13,
   "metadata": {},
   "outputs": [
    {
     "name": "stdout",
     "output_type": "stream",
     "text": [
      "x_train의 shape : (784, 60000),     y_train의 shape : (10, 60000)\n",
      "x_test의 shape  : (784, 10000),     y_test의 shape  : (10, 10000)\n"
     ]
    }
   ],
   "source": [
    "np.random.seed(2023)\n",
    "\n",
    "shuffle_index = np.random.permutation(m)\n",
    "x_train, y_train = x_train[:, shuffle_index], y_train[:, shuffle_index]\n",
    "\n",
    "print(f\"x_train의 shape : {x_train.shape},     y_train의 shape : {y_train.shape}\")\n",
    "print(f\"x_test의 shape  : {x_test.shape},     y_test의 shape  : {y_test.shape}\")"
   ]
  },
  {
   "cell_type": "code",
   "execution_count": 14,
   "metadata": {},
   "outputs": [
    {
     "data": {
      "image/png": "[encoded data removed]",
      "text/plain": [
       "<Figure size 640x480 with 1 Axes>"
      ]
     },
     "metadata": {},
     "output_type": "display_data"
    },
    {
     "name": "stdout",
     "output_type": "stream",
     "text": [
      "[0. 0. 0. 1. 0. 0. 0. 0. 0. 0.]\n"
     ]
    }
   ],
   "source": [
    "i = 2023\n",
    "plt.imshow(x_train[:, i].reshape(28, 28), cmap=matplotlib.cm.binary)\n",
    "plt.axis(\"off\")\n",
    "plt.show()\n",
    "print(y_train[:, i])"
   ]
  },
  {
   "cell_type": "code",
   "execution_count": 15,
   "metadata": {},
   "outputs": [],
   "source": [
    "def sigmoid(z):\n",
    "    s = 1.0 / (1.0 + np.exp(-z))\n",
    "    return s\n",
    "\n",
    "def compute_multiclass_loss(y, y_hat):\n",
    "    L_sum = np.sum(np.multiply(y, np.log(y_hat)))\n",
    "    m = y.shape[1]\n",
    "    L = -(1.0/m) * L_sum\n",
    "    return L"
   ]
  },
  {
   "cell_type": "code",
   "execution_count": 17,
   "metadata": {},
   "outputs": [],
   "source": [
    "def feed_forward(X, params):\n",
    "    cache = {}\n",
    "    cache[\"Z0\"] = np.matmul(params[\"W0\"].T, X) + params[\"b0\"]\n",
    "    cache[\"A0\"] = sigmoid(cache[\"Z0\"])\n",
    "    cache[\"Z1\"] = np.matmul(params[\"W1\"].T, cache[\"A0\"]) + params[\"b1\"]\n",
    "    cache[\"A1\"] = np.exp(cache[\"Z1\"]) / np.sum(np.exp(cache[\"Z1\"]), axis=0)\n",
    "    return cache"
   ]
  },
  {
   "cell_type": "code",
   "execution_count": 18,
   "metadata": {},
   "outputs": [],
   "source": [
    "def back_propagate(X, Y, params, cache, m_batch):\n",
    "    delta1 = cache[\"A1\"] - Y\n",
    "    dw1 = (1.0/m_batch) * np.matmul(cache[\"A0\"], delta1.T)\n",
    "    db1 = (1.0/m_batch) * np.sum(delta1, axis=1, keepdims=True)\n",
    "    \n",
    "    delta0 = sigmoid(cache[\"Z0\"]) * (1.0 - sigmoid(cache[\"Z0\"])) * np.matmul(params[\"W1\"], delta1.T) \n",
    "    dw0 = (1.0/m_batch) * np.matmul(X, delta0.T)\n",
    "    db0 = (1.0/m_batch) * np.sum(delta0, axis=1, keepdims=True)"
   ]
  },
  {
   "cell_type": "code",
   "execution_count": null,
   "metadata": {},
   "outputs": [],
   "source": []
  },
  {
   "cell_type": "code",
   "execution_count": null,
   "metadata": {},
   "outputs": [],
   "source": []
  },
  {
   "cell_type": "code",
   "execution_count": null,
   "metadata": {},
   "outputs": [],
   "source": []
  },
  {
   "cell_type": "code",
   "execution_count": null,
   "metadata": {},
   "outputs": [],
   "source": []
  },
  {
   "cell_type": "code",
   "execution_count": null,
   "metadata": {},
   "outputs": [],
   "source": []
  }
 ],
 "metadata": {
  "kernelspec": {
   "display_name": "tf_gpu",
   "language": "python",
   "name": "python3"
  },
  "language_info": {
   "codemirror_mode": {
    "name": "ipython",
    "version": 3
   },
   "file_extension": ".py",
   "mimetype": "text/x-python",
   "name": "python",
   "nbconvert_exporter": "python",
   "pygments_lexer": "ipython3",
   "version": "3.9.13"
  },
  "orig_nbformat": 4,
  "vscode": {
   "interpreter": {
    "hash": "7b18c970f1c267b2ae7de1f51c7b9ea29dc67f6c9f87d5b0ef47c4534e0830b3"
   }
  }
 },
 "nbformat": 4,
 "nbformat_minor": 2
}
