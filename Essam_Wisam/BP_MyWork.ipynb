{
 "cells": [
  {
   "cell_type": "code",
   "execution_count": 1,
   "metadata": {},
   "outputs": [],
   "source": [
    "import numpy as np\n",
    "from sklearn.datasets import load_iris"
   ]
  },
  {
   "cell_type": "code",
   "execution_count": 2,
   "metadata": {},
   "outputs": [
    {
     "name": "stdout",
     "output_type": "stream",
     "text": [
      "[4, 2, 2, 3]\n"
     ]
    }
   ],
   "source": [
    "# Construct a list that contains the number of neurons of each layer in your network.\n",
    "structure = input(\"Enter the number of neurons of each layer in your network\").split(' ')\n",
    "structure = [int(x) for x in structure]\n",
    "print(structure)    "
   ]
  },
  {
   "cell_type": "code",
   "execution_count": 9,
   "metadata": {},
   "outputs": [
    {
     "name": "stdout",
     "output_type": "stream",
     "text": [
      "bias vector of each layer\n",
      "\n",
      "[[-1.0856306 ]\n",
      " [ 0.99734545]]\n",
      "\n",
      "[[ 0.2829785 ]\n",
      " [-1.50629471]]\n",
      "\n",
      "[[-0.57860025]\n",
      " [ 1.65143654]\n",
      " [-2.42667924]]\n",
      "\n"
     ]
    }
   ],
   "source": [
    "# Construct a list that contains all the bias vectors of your network(_n means it has all vectors)\n",
    "np.random.seed(123)\n",
    "B_n = [np.random.randn(l, 1) for l in structure[1:]]\n",
    "print(\"bias vector of each layer\\n\")\n",
    "for B in B_n:\n",
    "    print(B)\n",
    "    print()"
   ]
  },
  {
   "cell_type": "code",
   "execution_count": 10,
   "metadata": {},
   "outputs": [
    {
     "name": "stdout",
     "output_type": "stream",
     "text": [
      "weight matrix of each layer\n",
      "\n",
      "[[-1.0856306   0.99734545]\n",
      " [ 0.2829785  -1.50629471]\n",
      " [-0.57860025  1.65143654]\n",
      " [-2.42667924 -0.42891263]]\n",
      "\n",
      "[[ 1.26593626 -0.8667404 ]\n",
      " [-0.67888615 -0.09470897]]\n",
      "\n",
      "[[ 1.49138963 -0.638902   -0.44398196]\n",
      " [-0.43435128  2.20593008  2.18678609]]\n",
      "\n"
     ]
    }
   ],
   "source": [
    "# Construct a list that contains all the weight matrices of your network(_n means it has all matrices)\n",
    "np.random.seed(123)\n",
    "W_n = [np.random.randn(l, next_l) for l, next_l in zip(structure[:-1], structure[1:])]\n",
    "print(\"weight matrix of each layer\\n\")\n",
    "for W in W_n:\n",
    "    print(W)\n",
    "    print()"
   ]
  },
  {
   "attachments": {},
   "cell_type": "markdown",
   "metadata": {},
   "source": [
    "##### Don't forget W_n & B_n is of list where a set of numpy.array are contained."
   ]
  },
  {
   "attachments": {},
   "cell_type": "markdown",
   "metadata": {},
   "source": [
    "##### Load training and test datasets"
   ]
  },
  {
   "cell_type": "code",
   "execution_count": 11,
   "metadata": {},
   "outputs": [
    {
     "data": {
      "text/plain": [
       "dict_keys(['data', 'target', 'frame', 'target_names', 'DESCR', 'feature_names', 'filename', 'data_module'])"
      ]
     },
     "execution_count": 11,
     "metadata": {},
     "output_type": "execute_result"
    }
   ],
   "source": [
    "load_iris().keys()"
   ]
  },
  {
   "cell_type": "code",
   "execution_count": 12,
   "metadata": {},
   "outputs": [
    {
     "name": "stdout",
     "output_type": "stream",
     "text": [
      "<class 'numpy.ndarray'> <class 'numpy.ndarray'>\n",
      "(150, 4) (150,)\n",
      "150 150\n"
     ]
    }
   ],
   "source": [
    "data = load_iris()['data']\n",
    "target = load_iris()['target']\n",
    "\n",
    "print(type(data), type(target))\n",
    "print(data.shape, target.shape)\n",
    "print(len(data), len(target))"
   ]
  },
  {
   "cell_type": "code",
   "execution_count": 13,
   "metadata": {},
   "outputs": [
    {
     "name": "stdout",
     "output_type": "stream",
     "text": [
      "[[5.1 3.5 1.4 0.2]\n",
      " [6.9 3.1 4.9 1.5]\n",
      " [6.7 2.5 5.8 1.8]\n",
      " [5.  3.3 1.4 0.2]\n",
      " [5.8 2.7 5.1 1.9]\n",
      " [5.6 3.  4.1 1.3]]\n",
      "[0 1 2 0 2 1]\n"
     ]
    }
   ],
   "source": [
    "# Just pick up 5 indexes out of dataset randomly\n",
    "indexes = [0, 52, 108, 49, 142, 88]\n",
    "\n",
    "data = data[indexes]\n",
    "target = target[indexes]\n",
    "\n",
    "print(data)\n",
    "print(target)"
   ]
  },
  {
   "cell_type": "code",
   "execution_count": 14,
   "metadata": {},
   "outputs": [
    {
     "name": "stdout",
     "output_type": "stream",
     "text": [
      "[[6.9 3.1 4.9 1.5]\n",
      " [5.  3.3 1.4 0.2]\n",
      " [5.8 2.7 5.1 1.9]\n",
      " [5.1 3.5 1.4 0.2]\n",
      " [6.7 2.5 5.8 1.8]\n",
      " [5.6 3.  4.1 1.3]]\n",
      "[1 0 2 0 2 1]\n"
     ]
    }
   ],
   "source": [
    "# Randomly shuffle the data\n",
    "np.random.seed(123)\n",
    "np.random.shuffle(data)\n",
    "\n",
    "np.random.seed(123)\n",
    "np.random.shuffle(target)\n",
    "\n",
    "print(data)\n",
    "print(target)   #2"
   ]
  },
  {
   "attachments": {},
   "cell_type": "markdown",
   "metadata": {},
   "source": [
    "##### Forward Pass"
   ]
  },
  {
   "cell_type": "code",
   "execution_count": 15,
   "metadata": {},
   "outputs": [],
   "source": [
    "# Provide sigmoid and sigmoid_derivative function\n",
    "def sigmoid(x):\n",
    "    return 1.0 / (1.0 + np.exp(-x))\n",
    "\n",
    "def sigmoid_derivative(x):\n",
    "    return sigmoid(x) * (1.0 - sigmoid(x))"
   ]
  },
  {
   "cell_type": "code",
   "execution_count": 34,
   "metadata": {},
   "outputs": [
    {
     "name": "stdout",
     "output_type": "stream",
     "text": [
      "[5.6 3.  4.1 1.3]\n",
      "[[0]\n",
      " [1]\n",
      " [0]]\n"
     ]
    }
   ],
   "source": [
    "chosen = 5\n",
    "X = data[chosen]\n",
    "print(X)\n",
    "\n",
    "y = np.array([0, 0, 0])\n",
    "y[target[chosen]] = 1\n",
    "y = y.reshape(-1, 1)\n",
    "print(y)"
   ]
  },
  {
   "cell_type": "code",
   "execution_count": 26,
   "metadata": {},
   "outputs": [
    {
     "data": {
      "text/plain": [
       "array([[-11.84317054],\n",
       "       [  8.27689919]])"
      ]
     },
     "execution_count": 26,
     "metadata": {},
     "output_type": "execute_result"
    }
   ],
   "source": [
    "np.dot(W_n[0].T, X).reshape(-1,1) + B_n[0]"
   ]
  },
  {
   "cell_type": "code",
   "execution_count": 27,
   "metadata": {},
   "outputs": [],
   "source": [
    "# Create two lists that contain pre and post activation vector of each layer, respectively\n",
    "Z_n, A_n = [], []\n",
    "\n",
    "# Forward pass layer by layer from L=0(First hidden layer) thru L=H(Output layer)\n",
    "for i, (b, W) in enumerate(zip(B_n, W_n)):\n",
    "    if i == 0:\n",
    "        z = np.dot(np.array(W).T, X).reshape(-1, 1) + np.array(b)\n",
    "    else:\n",
    "        z = np.dot(np.array(W).T, a).reshape(-1, 1) + np.array(b)\n",
    "    a = sigmoid(z)\n",
    "\n",
    "    Z_n.append(z)\n",
    "    A_n.append(a)"
   ]
  },
  {
   "cell_type": "code",
   "execution_count": 28,
   "metadata": {},
   "outputs": [
    {
     "name": "stdout",
     "output_type": "stream",
     "text": [
      "[[-11.8432]\n",
      " [  8.2769]]\n",
      "[[0.    ]\n",
      " [0.9997]]\n",
      "\n",
      "[[-0.3957]\n",
      " [-1.601 ]]\n",
      "[[0.4023]\n",
      " [0.1678]]\n",
      "\n",
      "[[-0.0515]\n",
      " [ 1.7646]\n",
      " [-2.2383]]\n",
      "[[0.4871]\n",
      " [0.8538]\n",
      " [0.0964]]\n",
      "\n"
     ]
    }
   ],
   "source": [
    "for z, a in zip(Z_n, A_n):\n",
    "    print(np.round(z, 4))\n",
    "    print(np.round(a, 4))\n",
    "    print()"
   ]
  },
  {
   "attachments": {},
   "cell_type": "markdown",
   "metadata": {},
   "source": [
    "##### Backpropagation "
   ]
  },
  {
   "cell_type": "code",
   "execution_count": 31,
   "metadata": {},
   "outputs": [],
   "source": [
    "# Initialize a list called e_Je_W_ns that will contain e_Je_W matrices for each layer in the network.\n",
    "e_Je_W_ns = [np.zeros(W.shape) for W in W_n]    # (4, 2), (2, 2), (2, 3)\n",
    "\n",
    "# Initialize a list called e_Je_B_ns that will contain e_Je_B vectors for each layer in the network.\n",
    "e_Je_B_ns = [np.zeros(B.shape) for B in B_n]    # (2, 1), (2, 1), (3, 1)"
   ]
  },
  {
   "cell_type": "code",
   "execution_count": 36,
   "metadata": {},
   "outputs": [
    {
     "data": {
      "text/plain": [
       "(array([[0],\n",
       "        [1],\n",
       "        [0]]),\n",
       " array([[0.48713827],\n",
       "        [0.85378893],\n",
       "        [0.0963659 ]]))"
      ]
     },
     "execution_count": 36,
     "metadata": {},
     "output_type": "execute_result"
    }
   ],
   "source": [
    "y, A_n[2]"
   ]
  },
  {
   "cell_type": "code",
   "execution_count": 43,
   "metadata": {},
   "outputs": [
    {
     "data": {
      "text/plain": [
       "array([[ 0.18944364],\n",
       "       [-0.07477456]])"
      ]
     },
     "execution_count": 43,
     "metadata": {},
     "output_type": "execute_result"
    }
   ],
   "source": [
    "np.dot(W_n[2], sigmoid_derivative(Z_n[2]) * (A_n[2] - y))"
   ]
  },
  {
   "cell_type": "code",
   "execution_count": 44,
   "metadata": {},
   "outputs": [
    {
     "name": "stdout",
     "output_type": "stream",
     "text": [
      "2 : [[ 0.12170398]\n",
      " [-0.01825202]\n",
      " [ 0.0083915 ]]\n",
      "1 : [[ 0.04555408]\n",
      " [-0.01044394]]\n",
      "0 : [[ 4.79546853e-07]\n",
      " [-7.60981914e-06]]\n"
     ]
    }
   ],
   "source": [
    "H = len(structure) - 2\n",
    "\n",
    "for L in range(H, -1, -1):\n",
    "    if L != H:\n",
    "        delta = sigmoid_derivative(Z_n[L]) * np.dot(W_n[L+1], delta)\n",
    "    else:\n",
    "        delta = sigmoid_derivative(Z_n[L]) * (A_n[L] - y)\n",
    "    e_Je_B_ns[L] = delta\n",
    "    # print(f\"{L} : {delta}\")"
   ]
  },
  {
   "cell_type": "code",
   "execution_count": 54,
   "metadata": {},
   "outputs": [
    {
     "name": "stdout",
     "output_type": "stream",
     "text": [
      "(2, 1)\n",
      "\n",
      "(1, 3)\n"
     ]
    }
   ],
   "source": [
    "H = len(structure) - 2\n",
    "deltas = []\n",
    "e_Je_W_n, e_Je_B_n = [], []\n",
    "\n",
    "for L in range(H, -1, -1):\n",
    "    if L == H:\n",
    "        delta = sigmoid_derivative(Z_n[L]) * (A_n[L] - y)                \n",
    "    else:\n",
    "        delta = sigmoid_derivative(Z_n[L]) * np.dot(W_n[L+1], delta)    \n",
    "    \n",
    "    if L == 0:\n",
    "        e_Je_W = np.dot(X.reshape(-1,1), delta.reshape(-1,1).T)\n",
    "    else:              \n",
    "        e_Je_W = np.dot(A_n[L-1].reshape(-1,1), delta.reshape(-1,1).T)\n",
    "    e_Je_B = delta\n",
    "    \n",
    "    deltas.append(delta)\n",
    "    e_Je_W_n.append(e_Je_W)\n",
    "    e_Je_B_n.append(e_Je_B)"
   ]
  },
  {
   "cell_type": "code",
   "execution_count": 57,
   "metadata": {},
   "outputs": [
    {
     "name": "stdout",
     "output_type": "stream",
     "text": [
      "[array([ 0.02341772, -0.03778126,  0.14210594]), array([ 5.67217781e-06, -3.31249893e-07])]\n",
      "[array([ 0.02341772, -0.03778126,  0.14210594]), array([ 5.67217781e-06, -3.31249893e-07])]\n",
      "[array([[ 0.02341685, -0.03777985,  0.14210064],\n",
      "       [ 0.02341766, -0.03778117,  0.14210559]]), array([[ 3.91380269e-05, -2.28562426e-06],\n",
      "       [ 1.75837512e-05, -1.02687467e-06],\n",
      "       [ 2.77936713e-05, -1.62312447e-06],\n",
      "       [ 8.50826672e-06, -4.96874839e-07]])]\n"
     ]
    }
   ],
   "source": [
    "print(deltas)\n",
    "print(e_Je_B_n)\n",
    "print(e_Je_W_n)"
   ]
  },
  {
   "cell_type": "code",
   "execution_count": 58,
   "metadata": {},
   "outputs": [
    {
     "name": "stdout",
     "output_type": "stream",
     "text": [
      "[array([ 5.67217781e-06, -3.31249893e-07]), array([ 0.02341772, -0.03778126,  0.14210594])]\n",
      "\n",
      "[array([ 5.67217781e-06, -3.31249893e-07]), array([ 0.02341772, -0.03778126,  0.14210594])]\n",
      "\n",
      "[array([[ 3.91380269e-05, -2.28562426e-06],\n",
      "       [ 1.75837512e-05, -1.02687467e-06],\n",
      "       [ 2.77936713e-05, -1.62312447e-06],\n",
      "       [ 8.50826672e-06, -4.96874839e-07]]), array([[ 0.02341685, -0.03777985,  0.14210064],\n",
      "       [ 0.02341766, -0.03778117,  0.14210559]])]\n"
     ]
    }
   ],
   "source": [
    "deltas, e_Je_W_n, e_Je_B_n = deltas[::-1], e_Je_W_n[::-1], e_Je_B_n[::-1]\n",
    "\n",
    "print(deltas)\n",
    "print()\n",
    "print(e_Je_B_n)\n",
    "print()\n",
    "print(e_Je_W_n)"
   ]
  },
  {
   "cell_type": "code",
   "execution_count": null,
   "metadata": {},
   "outputs": [],
   "source": []
  },
  {
   "cell_type": "code",
   "execution_count": null,
   "metadata": {},
   "outputs": [],
   "source": []
  },
  {
   "cell_type": "code",
   "execution_count": null,
   "metadata": {},
   "outputs": [],
   "source": []
  },
  {
   "cell_type": "code",
   "execution_count": null,
   "metadata": {},
   "outputs": [],
   "source": []
  },
  {
   "cell_type": "code",
   "execution_count": null,
   "metadata": {},
   "outputs": [],
   "source": []
  },
  {
   "cell_type": "code",
   "execution_count": null,
   "metadata": {},
   "outputs": [],
   "source": []
  },
  {
   "cell_type": "code",
   "execution_count": null,
   "metadata": {},
   "outputs": [],
   "source": []
  },
  {
   "cell_type": "code",
   "execution_count": 36,
   "metadata": {},
   "outputs": [
    {
     "data": {
      "text/plain": [
       "array([ 0.02341772, -0.03778126,  0.14210594])"
      ]
     },
     "execution_count": 36,
     "metadata": {},
     "output_type": "execute_result"
    }
   ],
   "source": [
    "sigmoid_derivative(Z_n[1]) * (A_n[1] - y)  "
   ]
  },
  {
   "cell_type": "code",
   "execution_count": 38,
   "metadata": {},
   "outputs": [
    {
     "ename": "IndexError",
     "evalue": "list assignment index out of range",
     "output_type": "error",
     "traceback": [
      "\u001b[1;31m---------------------------------------------------------------------------\u001b[0m",
      "\u001b[1;31mIndexError\u001b[0m                                Traceback (most recent call last)",
      "\u001b[1;32me:\\딥러닝입문\\Essam_Wisam\\BP_MyWork.ipynb Cell 19\u001b[0m in \u001b[0;36m<cell line: 1>\u001b[1;34m()\u001b[0m\n\u001b[1;32m----> <a href='vscode-notebook-cell:/e%3A/%EB%94%A5%EB%9F%AC%EB%8B%9D%EC%9E%85%EB%AC%B8/Essam_Wisam/BP_MyWork.ipynb#X36sZmlsZQ%3D%3D?line=0'>1</a>\u001b[0m deltas[\u001b[39m0\u001b[39m] \u001b[39m=\u001b[39m sigmoid_derivative(Z_n[\u001b[39m1\u001b[39m]) \u001b[39m*\u001b[39m (A_n[\u001b[39m1\u001b[39m] \u001b[39m-\u001b[39m y)\n",
      "\u001b[1;31mIndexError\u001b[0m: list assignment index out of range"
     ]
    }
   ],
   "source": [
    "deltas[0] = sigmoid_derivative(Z_n[1]) * (A_n[1] - y) "
   ]
  },
  {
   "cell_type": "code",
   "execution_count": 41,
   "metadata": {},
   "outputs": [
    {
     "name": "stdout",
     "output_type": "stream",
     "text": [
      "[array([ 0.02341772, -0.03778126,  0.14210594]), array([ 5.67217781e-06, -3.31249893e-07])]\n"
     ]
    }
   ],
   "source": [
    "print(deltas)"
   ]
  },
  {
   "cell_type": "code",
   "execution_count": 42,
   "metadata": {},
   "outputs": [
    {
     "data": {
      "text/plain": [
       "[array([ 5.67217781e-06, -3.31249893e-07]),\n",
       " array([ 0.02341772, -0.03778126,  0.14210594])]"
      ]
     },
     "execution_count": 42,
     "metadata": {},
     "output_type": "execute_result"
    }
   ],
   "source": [
    "deltas[::-1]"
   ]
  },
  {
   "cell_type": "code",
   "execution_count": null,
   "metadata": {},
   "outputs": [],
   "source": [
    "e_Je_W, e_Je_B = [], []\n",
    "\n",
    "for L in range(H, -1, -1):\n",
    "    if L == H:\n",
    "        e_Je_W       "
   ]
  },
  {
   "cell_type": "code",
   "execution_count": null,
   "metadata": {},
   "outputs": [],
   "source": [
    "for L in range(H, -1, -1):\n",
    "            if L != H:\n",
    "                delta = sigmoid_derivative(Z_n[L]) * np.dot(self.W_n[L+1], delta)\n",
    "            else:\n",
    "                delta = sigmoid_derivative(Z_n[L]) * (A_n[L] - y)\n",
    "                \n",
    "if L != 0:\n",
    "                e_Je_W_ns[L] = np.dot(A_n[L-1], delta.T)    \n",
    "            else:\n",
    "                e_Je_W_ns[L] = np.dot(x, delta.T) "
   ]
  },
  {
   "cell_type": "code",
   "execution_count": null,
   "metadata": {},
   "outputs": [],
   "source": []
  },
  {
   "cell_type": "code",
   "execution_count": 54,
   "metadata": {},
   "outputs": [
    {
     "data": {
      "text/plain": [
       "[array([[-0.07351368],\n",
       "        [ 1.81403277],\n",
       "        [-0.44199761]]),\n",
       " array([[ 1.38951142],\n",
       "        [-1.07746533],\n",
       "        [ 0.23848917]])]"
      ]
     },
     "execution_count": 54,
     "metadata": {},
     "output_type": "execute_result"
    }
   ],
   "source": [
    "B_n"
   ]
  },
  {
   "cell_type": "code",
   "execution_count": 14,
   "metadata": {},
   "outputs": [
    {
     "name": "stdout",
     "output_type": "stream",
     "text": [
      "[-4.08966282  0.40870132]\n",
      "[0.01646911 0.60077644]\n"
     ]
    }
   ],
   "source": [
    "q = np.array([[ 0.08290516,  1.15085031], [-0.46114854, -0.34309745],\n",
    "              [-0.01330717, -1.15759124], [-1.68601068, -0.13406605]])\n",
    "\n",
    "r = np.array([-0.6379268, -0.59526757])\n",
    "\n",
    "t = np.dot(q.T, X) + r\n",
    "u = sigmoid(t)\n",
    "\n",
    "print(t)\n",
    "print(u)"
   ]
  },
  {
   "cell_type": "code",
   "execution_count": null,
   "metadata": {},
   "outputs": [],
   "source": []
  },
  {
   "cell_type": "code",
   "execution_count": null,
   "metadata": {},
   "outputs": [],
   "source": []
  }
 ],
 "metadata": {
  "kernelspec": {
   "display_name": "tf_gpu",
   "language": "python",
   "name": "python3"
  },
  "language_info": {
   "codemirror_mode": {
    "name": "ipython",
    "version": 3
   },
   "file_extension": ".py",
   "mimetype": "text/x-python",
   "name": "python",
   "nbconvert_exporter": "python",
   "pygments_lexer": "ipython3",
   "version": "3.9.13"
  },
  "orig_nbformat": 4,
  "vscode": {
   "interpreter": {
    "hash": "7b18c970f1c267b2ae7de1f51c7b9ea29dc67f6c9f87d5b0ef47c4534e0830b3"
   }
  }
 },
 "nbformat": 4,
 "nbformat_minor": 2
}
