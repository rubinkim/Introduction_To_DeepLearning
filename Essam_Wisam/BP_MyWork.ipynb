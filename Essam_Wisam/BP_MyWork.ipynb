{
 "cells": [
  {
   "cell_type": "code",
   "execution_count": 1,
   "metadata": {},
   "outputs": [],
   "source": [
    "import numpy as np"
   ]
  },
  {
   "cell_type": "code",
   "execution_count": 2,
   "metadata": {},
   "outputs": [
    {
     "name": "stdout",
     "output_type": "stream",
     "text": [
      "5\n"
     ]
    }
   ],
   "source": [
    "# Enter the number of layers of your network\n",
    "num_layers = int(input(\"Enter the number of layers : \"))\n",
    "\n",
    "# Enter the number of neurons of your network\n",
    "split_int = lambda x : int(x.split(' '))\n",
    "num_neurons = input(\"Enter the number of neurons of each layer in your network\")\n",
    "\n",
    "split_int(num_neurons)"
   ]
  },
  {
   "cell_type": "code",
   "execution_count": 14,
   "metadata": {},
   "outputs": [
    {
     "name": "stdout",
     "output_type": "stream",
     "text": [
      "[2, 5, 3]\n"
     ]
    }
   ],
   "source": [
    "# Construct a list that contains the number of neurons of each layer in your network.\n",
    "structure = input(\"Enter the number of neurons of each layer in your network\").split(' ')\n",
    "structure = [int(x) for x in structure]\n",
    "print(structure)    "
   ]
  },
  {
   "cell_type": "code",
   "execution_count": 19,
   "metadata": {},
   "outputs": [
    {
     "name": "stdout",
     "output_type": "stream",
     "text": [
      "bias vector of each layer\n",
      "\n",
      "[[-2.32202785]\n",
      " [-0.04901366]\n",
      " [ 0.22587579]\n",
      " [-0.2931704 ]\n",
      " [ 1.01739342]]\n",
      "\n",
      "[[ 2.01690202]\n",
      " [ 1.830421  ]\n",
      " [-2.05348695]]\n",
      "\n",
      "weight matrix of each layer\n",
      "\n",
      "[[ 0.59716928 -1.62108939 -0.22605826  0.3382741  -2.54043146]\n",
      " [ 0.88824668 -0.11187268 -0.72703204 -2.72262173  0.07305009]]\n",
      "\n",
      "[[ 0.85730031 -0.56459314 -0.28259055]\n",
      " [ 0.9084166  -1.4537277   0.09349522]\n",
      " [-0.55943577  1.34928798 -0.24278885]\n",
      " [-0.63823328 -0.03144898  0.80522977]\n",
      " [-0.11595886 -0.389975   -0.06478941]]\n",
      "\n"
     ]
    }
   ],
   "source": [
    "# Construct a list that contains all the bias vectors of your network(_n means it has all vectors)\n",
    "B_n = [np.random.randn(l, 1) for l in structure[1:]]\n",
    "\n",
    "print(\"bias vector of each layer\\n\")\n",
    "for B in B_n:\n",
    "    print(B)\n",
    "    print()\n",
    "\n",
    "# Construct a list that contains all the weight matrices of your network(_n means it has all matrices)\n",
    "W_n = [np.random.randn(l, next_l) for l, next_l in zip(structure[:-1], structure[1:])]\n",
    "\n",
    "print(\"weight matrix of each layer\\n\")\n",
    "for W in W_n:\n",
    "    print(W)\n",
    "    print()"
   ]
  }
 ],
 "metadata": {
  "kernelspec": {
   "display_name": "tf_gpu",
   "language": "python",
   "name": "python3"
  },
  "language_info": {
   "codemirror_mode": {
    "name": "ipython",
    "version": 3
   },
   "file_extension": ".py",
   "mimetype": "text/x-python",
   "name": "python",
   "nbconvert_exporter": "python",
   "pygments_lexer": "ipython3",
   "version": "3.9.13"
  },
  "orig_nbformat": 4,
  "vscode": {
   "interpreter": {
    "hash": "7b18c970f1c267b2ae7de1f51c7b9ea29dc67f6c9f87d5b0ef47c4534e0830b3"
   }
  }
 },
 "nbformat": 4,
 "nbformat_minor": 2
}
