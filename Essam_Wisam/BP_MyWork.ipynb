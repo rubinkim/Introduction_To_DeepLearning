{
 "cells": [
  {
   "cell_type": "code",
   "execution_count": 1,
   "metadata": {},
   "outputs": [],
   "source": [
    "import numpy as np"
   ]
  },
  {
   "cell_type": "code",
   "execution_count": 50,
   "metadata": {},
   "outputs": [
    {
     "name": "stdout",
     "output_type": "stream",
     "text": [
      "[2, 3, 2]\n"
     ]
    }
   ],
   "source": [
    "# Construct a list that contains the number of neurons of each layer in your network.\n",
    "structure = input(\"Enter the number of neurons of each layer in your network\").split(' ')\n",
    "structure = [int(x) for x in structure]\n",
    "print(structure)    "
   ]
  },
  {
   "cell_type": "code",
   "execution_count": 51,
   "metadata": {},
   "outputs": [
    {
     "name": "stdout",
     "output_type": "stream",
     "text": [
      "bias vector of each layer\n",
      "\n",
      "[[-0.79470329]\n",
      " [-0.79819553]\n",
      " [ 0.2514908 ]]\n",
      "\n",
      "[[1.61843934]\n",
      " [1.37334835]]\n",
      "\n",
      "weight matrix of each layer\n",
      "\n",
      "[[ 0.54686406  0.16518578 -0.87594857]\n",
      " [ 0.5951226   0.49727308  0.43360012]]\n",
      "\n",
      "[[ 0.76307621 -0.94700626]\n",
      " [ 0.15605292 -0.03794118]\n",
      " [ 0.15664071 -0.79214579]]\n",
      "\n"
     ]
    }
   ],
   "source": [
    "# Construct a list that contains all the bias vectors of your network(_n means it has all vectors)\n",
    "B_n = [np.random.randn(l, 1) for l in structure[1:]]\n",
    "print(\"bias vector of each layer\\n\")\n",
    "for B in B_n:\n",
    "    print(B)\n",
    "    print()\n",
    "\n",
    "# Construct a list that contains all the weight matrices of your network(_n means it has all matrices)\n",
    "W_n = [np.random.randn(l, next_l) for l, next_l in zip(structure[:-1], structure[1:])]\n",
    "print(\"weight matrix of each layer\\n\")\n",
    "for W in W_n:\n",
    "    print(W)\n",
    "    print()"
   ]
  },
  {
   "attachments": {},
   "cell_type": "markdown",
   "metadata": {},
   "source": [
    "##### Forward Pass"
   ]
  },
  {
   "cell_type": "code",
   "execution_count": 60,
   "metadata": {},
   "outputs": [
    {
     "data": {
      "text/plain": [
       "[array([[-0.79470329],\n",
       "        [-0.79819553],\n",
       "        [ 0.2514908 ]]),\n",
       " array([[1.61843934],\n",
       "        [1.37334835]])]"
      ]
     },
     "execution_count": 60,
     "metadata": {},
     "output_type": "execute_result"
    }
   ],
   "source": [
    "B_n"
   ]
  },
  {
   "cell_type": "code",
   "execution_count": 52,
   "metadata": {},
   "outputs": [],
   "source": [
    "# Provide sigmoid and sigmoid_derivative function\n",
    "def sigmoid(x):\n",
    "    return 1.0 / (1.0 + np.exp(-x))\n",
    "\n",
    "def sigmoid_derivative(x):\n",
    "    return sigmoid(x) * (1.0 - sigmoid(x))"
   ]
  },
  {
   "cell_type": "code",
   "execution_count": 53,
   "metadata": {},
   "outputs": [],
   "source": [
    "x = np.array([2, 5])"
   ]
  },
  {
   "cell_type": "code",
   "execution_count": 75,
   "metadata": {},
   "outputs": [
    {
     "data": {
      "text/plain": [
       "array([-0.79470329, -0.79819553,  0.2514908 ])"
      ]
     },
     "execution_count": 75,
     "metadata": {},
     "output_type": "execute_result"
    }
   ],
   "source": [
    "np.array(B_n[0]).reshape(-1)"
   ]
  },
  {
   "cell_type": "code",
   "execution_count": 76,
   "metadata": {},
   "outputs": [
    {
     "data": {
      "text/plain": [
       "array([3.27463785, 2.01854144, 0.66759429])"
      ]
     },
     "execution_count": 76,
     "metadata": {},
     "output_type": "execute_result"
    }
   ],
   "source": [
    "np.dot(W_n[0].T, x) + np.array(B_n[0]).reshape(-1)"
   ]
  },
  {
   "cell_type": "code",
   "execution_count": 77,
   "metadata": {},
   "outputs": [],
   "source": [
    "# Create two lists that contain pre and post activation vector of each layer, respectively\n",
    "Z_n, A_n = [], []\n",
    "\n",
    "# Forward pass layer by layer from L=0(First hidden layer) thru L=H(Output layer)\n",
    "for i, (b, W) in enumerate(zip(B_n, W_n)):\n",
    "    if i == 0:\n",
    "        z = np.dot(np.array(W).T, x) + np.array(b).reshape(-1)\n",
    "    else:\n",
    "        z = np.dot(np.array(W).T, a) + np.array(b).reshape(-1)\n",
    "    a = sigmoid(z)\n",
    "\n",
    "    Z_n.append(z)\n",
    "    A_n.append(a)"
   ]
  },
  {
   "cell_type": "code",
   "execution_count": 78,
   "metadata": {},
   "outputs": [
    {
     "name": "stdout",
     "output_type": "stream",
     "text": [
      "[3.2746 2.0185 0.6676]\n",
      "[0.9635 0.8827 0.661 ]\n",
      "\n",
      "[ 2.595  -0.0962]\n",
      "[0.9305 0.476 ]\n",
      "\n"
     ]
    }
   ],
   "source": [
    "for z, a in zip(Z_n, A_n):\n",
    "    print(np.round(z, 4))\n",
    "    print(np.round(a, 4))\n",
    "    print()"
   ]
  }
 ],
 "metadata": {
  "kernelspec": {
   "display_name": "tf_gpu",
   "language": "python",
   "name": "python3"
  },
  "language_info": {
   "codemirror_mode": {
    "name": "ipython",
    "version": 3
   },
   "file_extension": ".py",
   "mimetype": "text/x-python",
   "name": "python",
   "nbconvert_exporter": "python",
   "pygments_lexer": "ipython3",
   "version": "3.9.13"
  },
  "orig_nbformat": 4,
  "vscode": {
   "interpreter": {
    "hash": "7b18c970f1c267b2ae7de1f51c7b9ea29dc67f6c9f87d5b0ef47c4534e0830b3"
   }
  }
 },
 "nbformat": 4,
 "nbformat_minor": 2
}
