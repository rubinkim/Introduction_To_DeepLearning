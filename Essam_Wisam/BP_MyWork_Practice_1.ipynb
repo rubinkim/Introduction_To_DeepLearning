{
 "cells": [
  {
   "cell_type": "code",
   "execution_count": 1,
   "metadata": {},
   "outputs": [],
   "source": [
    "import numpy as np\n",
    "from sklearn.datasets import load_iris\n",
    "import matplotlib.pyplot as plt"
   ]
  },
  {
   "cell_type": "code",
   "execution_count": 2,
   "metadata": {},
   "outputs": [
    {
     "name": "stdout",
     "output_type": "stream",
     "text": [
      "[4, 2, 3]\n"
     ]
    }
   ],
   "source": [
    "structure = input(\"Enter the number of neurons of each layer in your network\").split(\" \")\n",
    "structure = [int(x) for x in structure]\n",
    "print(structure)"
   ]
  },
  {
   "cell_type": "code",
   "execution_count": 30,
   "metadata": {},
   "outputs": [],
   "source": [
    "data = load_iris()[\"data\"]\n",
    "target = load_iris()[\"target\"]"
   ]
  },
  {
   "cell_type": "code",
   "execution_count": 31,
   "metadata": {},
   "outputs": [],
   "source": [
    "data = data[[2, 57, 105]]\n",
    "target = target[[2, 57, 105]]"
   ]
  },
  {
   "cell_type": "code",
   "execution_count": 32,
   "metadata": {},
   "outputs": [
    {
     "name": "stdout",
     "output_type": "stream",
     "text": [
      "[4.7 3.2 1.3 0.2] 0\n",
      "[4.9 2.4 3.3 1. ] 1\n",
      "[7.6 3.  6.6 2.1] 2\n"
     ]
    }
   ],
   "source": [
    "for x, y in zip(data, target):\n",
    "    print(x, y)"
   ]
  },
  {
   "cell_type": "code",
   "execution_count": 34,
   "metadata": {},
   "outputs": [
    {
     "name": "stdout",
     "output_type": "stream",
     "text": [
      "[[1. 0. 0.]\n",
      " [0. 1. 0.]\n",
      " [0. 0. 1.]]\n"
     ]
    }
   ],
   "source": [
    "one_hot_labels = np.zeros((len(data), 3))\n",
    "for i in range(len(one_hot_labels)):\n",
    "    for j in range(len(one_hot_labels[i])):\n",
    "        one_hot_labels[i, target[i]] = 1\n",
    "print(one_hot_labels)"
   ]
  },
  {
   "cell_type": "code",
   "execution_count": 35,
   "metadata": {},
   "outputs": [],
   "source": [
    "def sigmoid(x):\n",
    "    return 1.0 / (1.0 + np.exp(-x))\n",
    "\n",
    "def sigmoid_derivative(x):\n",
    "    return sigmoid(x) * (1.0 - sigmoid(x))\n",
    "\n",
    "def softmax(x):\n",
    "    exponential_sum = np.sum([np.exp(i) for i in x])\n",
    "    exponential_x = np.array([np.exp(i) / exponential_sum for i in x])\n",
    "    return exponential_x\n",
    "\n",
    "def calculate_loss(actual, expected):\n",
    "    loss = - np.sum(actual.reshape(-1) * expected)\n",
    "    return loss"
   ]
  },
  {
   "cell_type": "code",
   "execution_count": 36,
   "metadata": {},
   "outputs": [
    {
     "data": {
      "text/plain": [
       "-0.72"
      ]
     },
     "execution_count": 36,
     "metadata": {},
     "output_type": "execute_result"
    }
   ],
   "source": [
    "actual = np.array([[0.08], [0.24], [0.72]])\n",
    "expected = np.array([0, 0, 1])\n",
    "calculate_loss(actual, expected)"
   ]
  },
  {
   "cell_type": "code",
   "execution_count": 49,
   "metadata": {},
   "outputs": [
    {
     "name": "stdout",
     "output_type": "stream",
     "text": [
      "[[0.11203205]\n",
      " [0.30924871]]\n",
      "[[0.52797875]\n",
      " [0.57670187]]\n",
      "\n",
      "[[ 0.13169669]\n",
      " [-0.00397344]\n",
      " [-1.13409562]]\n",
      "[[0.46400561]\n",
      " [0.4051375 ]\n",
      " [0.1308569 ]]\n",
      "\n",
      "[[-2.38433828]\n",
      " [ 2.64206845]]\n",
      "[[0.0843748 ]\n",
      " [0.93352045]]\n",
      "\n",
      "[[ 0.06852678]\n",
      " [ 0.03920546]\n",
      " [-0.9592742 ]]\n",
      "[[0.42938777]\n",
      " [0.41698034]\n",
      " [0.15363189]]\n",
      "\n",
      "[[-6.84179204]\n",
      " [ 5.17656315]]\n",
      "[[0.00106705]\n",
      " [0.99438433]]\n",
      "\n",
      "[[ 0.05631679]\n",
      " [ 0.04702334]\n",
      " [-0.92075991]]\n",
      "[[0.42244725]\n",
      " [0.41853944]\n",
      " [0.15901331]]\n",
      "\n",
      "[[ -3.65043972]\n",
      " [-12.25680804]]\n",
      "[[2.53218484e-02]\n",
      " [4.75262820e-06]]\n",
      "\n",
      "[[ 0.01506682]\n",
      " [-0.00908493]\n",
      " [ 0.01943492]]\n",
      "[[0.33551246]\n",
      " [0.32750632]\n",
      " [0.33698122]]\n",
      "\n",
      "[[ -4.73358737]\n",
      " [-13.34137194]]\n",
      "[[8.71818865e-03]\n",
      " [1.60662710e-06]]\n",
      "\n",
      "[[ 0.0051875 ]\n",
      " [-0.0031279 ]\n",
      " [ 0.00669135]]\n",
      "[[0.33408792]\n",
      " [0.33132136]\n",
      " [0.33459072]]\n",
      "\n",
      "[[ -8.3264858 ]\n",
      " [-21.19760379]]\n",
      "[[2.41962503e-04]\n",
      " [6.22296913e-10]]\n",
      "\n",
      "[[ 1.44074157e-04]\n",
      " [-8.68143818e-05]\n",
      " [ 1.85711852e-04]]\n",
      "[[0.33335436]\n",
      " [0.3332774 ]\n",
      " [0.33336824]]\n",
      "\n",
      "[[ 2.9549953 ]\n",
      " [-9.21443134]]\n",
      "[[9.5049905e-01]\n",
      " [9.9581821e-05]]\n",
      "\n",
      "[[-0.30331493]\n",
      " [ 0.7686178 ]\n",
      " [-0.83714684]]\n",
      "[[0.2218587 ]\n",
      " [0.64805361]\n",
      " [0.13008769]]\n",
      "\n",
      "[[ 2.58471748]\n",
      " [-7.47048945]]\n",
      "[[9.29871523e-01]\n",
      " [5.69325096e-04]]\n",
      "\n",
      "[[-0.29662186]\n",
      " [ 0.75209623]\n",
      " [-0.81832462]]\n",
      "[[0.22484545]\n",
      " [0.64170673]\n",
      " [0.13344782]]\n",
      "\n",
      "[[  3.49088599]\n",
      " [-10.1678946 ]]\n",
      "[[9.70427333e-01]\n",
      " [3.83815768e-05]]\n",
      "\n",
      "[[-0.3096891 ]\n",
      " [ 0.78471144]\n",
      " [-0.85478637]]\n",
      "[[0.21895365]\n",
      " [0.65410023]\n",
      " [0.12694613]]\n",
      "\n",
      "[[-7.43234634]\n",
      " [-4.91100201]]\n",
      "[[0.00059145]\n",
      " [0.00731126]]\n",
      "\n",
      "[[-0.00249498]\n",
      " [-0.0048989 ]\n",
      " [-0.00747825]]\n",
      "[[0.33415445]\n",
      " [0.33335214]\n",
      " [0.33249341]]\n",
      "\n",
      "[[-3.74147637]\n",
      " [-2.82268983]]\n",
      "[[0.0231695]\n",
      " [0.0561103]]\n",
      "\n",
      "[[ 0.02004728]\n",
      " [-0.04709934]\n",
      " [-0.02635229]]\n",
      "[[0.34605447]\n",
      " [0.32358103]\n",
      " [0.3303645 ]]\n",
      "\n",
      "[[-2.94261678]\n",
      " [-2.4102382 ]]\n",
      "[[0.05008663]\n",
      " [0.08239531]]\n",
      "\n",
      "[[ 0.06323279]\n",
      " [-0.07735644]\n",
      " [-0.0119345 ]]\n",
      "[[0.35759823]\n",
      " [0.31069784]\n",
      " [0.33170393]]\n",
      "\n",
      "[[ 4.19927374]\n",
      " [-8.83309431]]\n",
      "[[9.85215393e-01]\n",
      " [1.45805046e-04]]\n",
      "\n",
      "[[ 1.13459291]\n",
      " [-0.76166409]\n",
      " [-1.11677468]]\n",
      "[[0.79656858]\n",
      " [0.11958845]\n",
      " [0.08384297]]\n",
      "\n",
      "[[ 3.03177923]\n",
      " [-8.13514572]]\n",
      "[[9.53989333e-01]\n",
      " [2.92970471e-04]]\n",
      "\n",
      "[[ 1.09846049]\n",
      " [-0.73755492]\n",
      " [-1.08155937]]\n",
      "[[0.7858603 ]\n",
      " [0.12530661]\n",
      " [0.08883309]]\n",
      "\n",
      "[[  4.50262653]\n",
      " [-11.27215269]]\n",
      "[[9.89041561e-01]\n",
      " [1.27221573e-05]]\n",
      "\n",
      "[[ 1.13915056]\n",
      " [-0.76459434]\n",
      " [-1.12095286]]\n",
      "[[0.79786221]\n",
      " [0.11888909]\n",
      " [0.0832487 ]]\n",
      "\n"
     ]
    }
   ],
   "source": [
    "H = len(structure) - 2\n",
    "learning_rate = 0.10\n",
    "epochs = 5\n",
    "all_epoch_errors = []\n",
    "\n",
    "for epoch in range(epochs):\n",
    "    each_epoch_errors = []\n",
    "    \n",
    "    w_n = [np.random.randn(l, next_l) for l,next_l in zip(structure[:-1], structure[1:])] # (4,2), (2,3)\n",
    "    b_n = [np.random.randn(l, 1) for l in structure[1:]]  # (2,1), (3,1)\n",
    "    \n",
    "    for x, y in zip(data, one_hot_labels):\n",
    "        z_n, a_n = [], []\n",
    "        \n",
    "        for i, (b, w) in enumerate(zip(b_n, w_n)):\n",
    "            if i == 0:\n",
    "                z = np.dot(w.T, x).reshape(-1,1) + np.array(b)\n",
    "                a = sigmoid(z)                \n",
    "                \n",
    "            elif (i > 0) and (i < H):\n",
    "                z = np.dot(w.T, a)\n",
    "                a = sigmoid(z)\n",
    "            else:\n",
    "                z = np.dot(w.T, a)\n",
    "                a = softmax(z)\n",
    "                \n",
    "            print(z)\n",
    "            print(a)\n",
    "            print()\n",
    "            \n",
    "                \n",
    "            z_n.append(z)\n",
    "            a_n.append(a)"
   ]
  },
  {
   "cell_type": "code",
   "execution_count": 56,
   "metadata": {},
   "outputs": [
    {
     "data": {
      "text/plain": [
       "[array([[  4.50262653],\n",
       "        [-11.27215269]]),\n",
       " array([[ 1.13915056],\n",
       "        [-0.76459434],\n",
       "        [-1.12095286]])]"
      ]
     },
     "execution_count": 56,
     "metadata": {},
     "output_type": "execute_result"
    }
   ],
   "source": [
    "z_n"
   ]
  },
  {
   "cell_type": "code",
   "execution_count": 57,
   "metadata": {},
   "outputs": [
    {
     "data": {
      "text/plain": [
       "[array([[9.89041561e-01],\n",
       "        [1.27221573e-05]]),\n",
       " array([[0.79786221],\n",
       "        [0.11888909],\n",
       "        [0.0832487 ]])]"
      ]
     },
     "execution_count": 57,
     "metadata": {},
     "output_type": "execute_result"
    }
   ],
   "source": [
    "a_n"
   ]
  },
  {
   "cell_type": "code",
   "execution_count": 53,
   "metadata": {},
   "outputs": [
    {
     "name": "stdout",
     "output_type": "stream",
     "text": [
      "3.1241134908039148 0.4655227366296143 0.32596904373249375\n",
      "0.7978622140003375 0.11888908722686108 0.08324869877280144\n"
     ]
    }
   ],
   "source": [
    "a0, a1, a2 = np.exp(1.13915056), np.exp(-0.76459434), np.exp(-1.12095286)\n",
    "a = a0 + a1 + a2\n",
    "print(a0, a1, a2)\n",
    "print(a0/a, a1/a, a2/a)"
   ]
  },
  {
   "cell_type": "code",
   "execution_count": 58,
   "metadata": {},
   "outputs": [
    {
     "data": {
      "text/plain": [
       "array([[0.79786221],\n",
       "       [0.11888909],\n",
       "       [0.0832487 ]])"
      ]
     },
     "execution_count": 58,
     "metadata": {},
     "output_type": "execute_result"
    }
   ],
   "source": [
    "softmax(z_n[1])"
   ]
  }
 ],
 "metadata": {
  "kernelspec": {
   "display_name": "tf_gpu",
   "language": "python",
   "name": "python3"
  },
  "language_info": {
   "codemirror_mode": {
    "name": "ipython",
    "version": 3
   },
   "file_extension": ".py",
   "mimetype": "text/x-python",
   "name": "python",
   "nbconvert_exporter": "python",
   "pygments_lexer": "ipython3",
   "version": "3.9.13"
  },
  "orig_nbformat": 4,
  "vscode": {
   "interpreter": {
    "hash": "7b18c970f1c267b2ae7de1f51c7b9ea29dc67f6c9f87d5b0ef47c4534e0830b3"
   }
  }
 },
 "nbformat": 4,
 "nbformat_minor": 2
}
