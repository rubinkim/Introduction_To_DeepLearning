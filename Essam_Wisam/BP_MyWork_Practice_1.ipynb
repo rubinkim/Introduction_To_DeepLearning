{
 "cells": [
  {
   "cell_type": "code",
   "execution_count": 1,
   "metadata": {},
   "outputs": [],
   "source": [
    "import numpy as np\n",
    "from sklearn.datasets import load_iris\n",
    "import matplotlib.pyplot as plt"
   ]
  },
  {
   "cell_type": "code",
   "execution_count": 2,
   "metadata": {},
   "outputs": [
    {
     "name": "stdout",
     "output_type": "stream",
     "text": [
      "[4, 2, 3]\n"
     ]
    }
   ],
   "source": [
    "structure = input(\"Enter the number of neurons of each layer in your network\").split(\" \")\n",
    "structure = [int(x) for x in structure]\n",
    "print(structure)"
   ]
  },
  {
   "cell_type": "code",
   "execution_count": 70,
   "metadata": {},
   "outputs": [],
   "source": [
    "data = load_iris()[\"data\"]\n",
    "target = load_iris()[\"target\"]"
   ]
  },
  {
   "cell_type": "code",
   "execution_count": 71,
   "metadata": {},
   "outputs": [],
   "source": [
    "data = data[[2, 57, 105, 15, 75, 125]]\n",
    "target = target[[2, 57, 105, 15, 75, 125]]"
   ]
  },
  {
   "cell_type": "code",
   "execution_count": 72,
   "metadata": {},
   "outputs": [
    {
     "name": "stdout",
     "output_type": "stream",
     "text": [
      "[4.7 3.2 1.3 0.2] 0\n",
      "[4.9 2.4 3.3 1. ] 1\n",
      "[7.6 3.  6.6 2.1] 2\n",
      "[5.7 4.4 1.5 0.4] 0\n",
      "[6.6 3.  4.4 1.4] 1\n",
      "[7.2 3.2 6.  1.8] 2\n"
     ]
    }
   ],
   "source": [
    "for x, y in zip(data, target):\n",
    "    print(x, y)"
   ]
  },
  {
   "cell_type": "code",
   "execution_count": 73,
   "metadata": {},
   "outputs": [
    {
     "name": "stdout",
     "output_type": "stream",
     "text": [
      "[[1. 0. 0.]\n",
      " [0. 1. 0.]\n",
      " [0. 0. 1.]\n",
      " [1. 0. 0.]\n",
      " [0. 1. 0.]\n",
      " [0. 0. 1.]]\n"
     ]
    }
   ],
   "source": [
    "one_hot_labels = np.zeros((len(data), 3))\n",
    "for i in range(len(one_hot_labels)):\n",
    "    for j in range(len(one_hot_labels[i])):\n",
    "        one_hot_labels[i, target[i]] = 1\n",
    "print(one_hot_labels)"
   ]
  },
  {
   "cell_type": "code",
   "execution_count": 74,
   "metadata": {},
   "outputs": [],
   "source": [
    "def sigmoid(x):\n",
    "    return 1.0 / (1.0 + np.exp(-x))\n",
    "\n",
    "def sigmoid_derivative(x):\n",
    "    return sigmoid(x) * (1.0 - sigmoid(x))\n",
    "\n",
    "def softmax(x):\n",
    "    exponential_sum = np.sum([np.exp(i) for i in x])\n",
    "    exponential_x = np.array([np.exp(i) / exponential_sum for i in x])\n",
    "    return exponential_x\n",
    "\n",
    "def calculate_loss(actual, expected):\n",
    "    loss = - np.sum(actual.reshape(-1) * expected)\n",
    "    return loss"
   ]
  },
  {
   "cell_type": "code",
   "execution_count": 75,
   "metadata": {},
   "outputs": [
    {
     "data": {
      "text/plain": [
       "-0.72"
      ]
     },
     "execution_count": 75,
     "metadata": {},
     "output_type": "execute_result"
    }
   ],
   "source": [
    "actual = np.array([[0.08], [0.24], [0.72]])\n",
    "expected = np.array([0, 0, 1])\n",
    "calculate_loss(actual, expected)"
   ]
  },
  {
   "cell_type": "code",
   "execution_count": 76,
   "metadata": {},
   "outputs": [
    {
     "name": "stdout",
     "output_type": "stream",
     "text": [
      "softmax loss : -0.5223419768366506\n",
      "0epoch 0th data e_je_w_ns :\n",
      " [array([[-0.95120048, -0.04562449],\n",
      "       [-0.64762586, -0.03106348],\n",
      "       [-0.26309801, -0.01261954],\n",
      "       [-0.04047662, -0.00194147]]), array([[-0.18118831,  0.05530387,  0.12588444],\n",
      "       [-0.03669196,  0.01119944,  0.02549252]])]\n",
      "0epoch 0th data e_je_b_ns :\n",
      " [array([[-0.20238308],\n",
      "       [-0.00970734]]), array([[-0.47765802],\n",
      "       [ 0.14579494],\n",
      "       [ 0.33186308]])]\n",
      "\n",
      "softmax loss : -0.03722303495945422\n",
      "0epoch 1th data e_je_w_ns :\n",
      " [array([[1.07707434, 0.06458235],\n",
      "       [0.52754662, 0.03163217],\n",
      "       [0.7253766 , 0.04349423],\n",
      "       [0.21981109, 0.01318007]]), array([[ 0.65680917, -0.88051734,  0.22370816],\n",
      "       [ 0.0146679 , -0.01966376,  0.00499586]])]\n",
      "0epoch 1th data e_je_b_ns :\n",
      " [array([[0.21981109],\n",
      "       [0.01318007]]), array([[ 0.71816956],\n",
      "       [-0.96277697],\n",
      "       [ 0.24460741]])]\n",
      "\n",
      "softmax loss : -0.22922560544596704\n",
      "0epoch 2th data e_je_w_ns :\n",
      " [array([[0.01156389, 0.00048331],\n",
      "       [0.00456469, 0.00019078],\n",
      "       [0.01004232, 0.00041972],\n",
      "       [0.00319529, 0.00013355]]), array([[ 7.39629248e-01,  2.96948518e-02, -7.69324100e-01],\n",
      "       [ 8.35718111e-04,  3.35526556e-05, -8.69270766e-04]])]\n",
      "0epoch 2th data e_je_b_ns :\n",
      " [array([[1.52156438e-03],\n",
      "       [6.35940270e-05]]), array([[ 0.74102356],\n",
      "       [ 0.02975083],\n",
      "       [-0.77077439]])]\n",
      "\n",
      "softmax loss : -0.524541531745061\n",
      "0epoch 3th data e_je_w_ns :\n",
      " [array([[-1.15079626, -0.05570048],\n",
      "       [-0.88833396, -0.04299686],\n",
      "       [-0.30284112, -0.01465802],\n",
      "       [-0.08075763, -0.00390881]]), array([[-0.18258443,  0.05532754,  0.12725689],\n",
      "       [-0.03716464,  0.01126179,  0.02590284]])]\n",
      "0epoch 3th data e_je_b_ns :\n",
      " [array([[-0.20189408],\n",
      "       [-0.00977201]]), array([[-0.47545847],\n",
      "       [ 0.14407553],\n",
      "       [ 0.33138294]])]\n",
      "\n",
      "softmax loss : -0.031143453065982696\n",
      "0epoch 4th data e_je_w_ns :\n",
      " [array([[0.35545226, 0.03033767],\n",
      "       [0.16156921, 0.01378985],\n",
      "       [0.23696818, 0.02022511],\n",
      "       [0.07539897, 0.00643526]]), array([[ 0.72226174, -0.9501682 ,  0.22790646],\n",
      "       [ 0.00513156, -0.0067508 ,  0.00161924]])]\n",
      "0epoch 4th data e_je_b_ns :\n",
      " [array([[0.0538564 ],\n",
      "       [0.00459662]]), array([[ 0.73646752],\n",
      "       [-0.96885655],\n",
      "       [ 0.23238903]])]\n",
      "\n",
      "softmax loss : -0.2300471432931359\n",
      "0epoch 5th data e_je_w_ns :\n",
      " [array([[0.03668111, 0.00069848],\n",
      "       [0.01630272, 0.00031043],\n",
      "       [0.0305676 , 0.00058206],\n",
      "       [0.00917028, 0.00017462]]), array([[ 7.35138236e-01,  2.99290423e-02, -7.65067278e-01],\n",
      "       [ 1.28140969e-03,  5.21689159e-05, -1.33357860e-03]])]\n",
      "0epoch 5th data e_je_b_ns :\n",
      " [array([[5.09459925e-03],\n",
      "       [9.70106020e-05]]), array([[ 0.73983269],\n",
      "       [ 0.03012016],\n",
      "       [-0.76995286]])]\n",
      "\n",
      "softmax loss : -0.5223419768366506\n",
      "1epoch 0th data e_je_w_ns :\n",
      " [array([[-0.95120048, -0.04562449],\n",
      "       [-0.64762586, -0.03106348],\n",
      "       [-0.26309801, -0.01261954],\n",
      "       [-0.04047662, -0.00194147]]), array([[-0.18118831,  0.05530387,  0.12588444],\n",
      "       [-0.03669196,  0.01119944,  0.02549252]])]\n",
      "1epoch 0th data e_je_b_ns :\n",
      " [array([[-0.20238308],\n",
      "       [-0.00970734]]), array([[-0.47765802],\n",
      "       [ 0.14579494],\n",
      "       [ 0.33186308]])]\n",
      "\n",
      "softmax loss : -0.03722303495945422\n",
      "1epoch 1th data e_je_w_ns :\n",
      " [array([[1.07707434, 0.06458235],\n",
      "       [0.52754662, 0.03163217],\n",
      "       [0.7253766 , 0.04349423],\n",
      "       [0.21981109, 0.01318007]]), array([[ 0.65680917, -0.88051734,  0.22370816],\n",
      "       [ 0.0146679 , -0.01966376,  0.00499586]])]\n",
      "1epoch 1th data e_je_b_ns :\n",
      " [array([[0.21981109],\n",
      "       [0.01318007]]), array([[ 0.71816956],\n",
      "       [-0.96277697],\n",
      "       [ 0.24460741]])]\n",
      "\n",
      "softmax loss : -0.22922560544596704\n",
      "1epoch 2th data e_je_w_ns :\n",
      " [array([[0.01156389, 0.00048331],\n",
      "       [0.00456469, 0.00019078],\n",
      "       [0.01004232, 0.00041972],\n",
      "       [0.00319529, 0.00013355]]), array([[ 7.39629248e-01,  2.96948518e-02, -7.69324100e-01],\n",
      "       [ 8.35718111e-04,  3.35526556e-05, -8.69270766e-04]])]\n",
      "1epoch 2th data e_je_b_ns :\n",
      " [array([[1.52156438e-03],\n",
      "       [6.35940270e-05]]), array([[ 0.74102356],\n",
      "       [ 0.02975083],\n",
      "       [-0.77077439]])]\n",
      "\n",
      "softmax loss : -0.524541531745061\n",
      "1epoch 3th data e_je_w_ns :\n",
      " [array([[-1.15079626, -0.05570048],\n",
      "       [-0.88833396, -0.04299686],\n",
      "       [-0.30284112, -0.01465802],\n",
      "       [-0.08075763, -0.00390881]]), array([[-0.18258443,  0.05532754,  0.12725689],\n",
      "       [-0.03716464,  0.01126179,  0.02590284]])]\n",
      "1epoch 3th data e_je_b_ns :\n",
      " [array([[-0.20189408],\n",
      "       [-0.00977201]]), array([[-0.47545847],\n",
      "       [ 0.14407553],\n",
      "       [ 0.33138294]])]\n",
      "\n",
      "softmax loss : -0.031143453065982696\n",
      "1epoch 4th data e_je_w_ns :\n",
      " [array([[0.35545226, 0.03033767],\n",
      "       [0.16156921, 0.01378985],\n",
      "       [0.23696818, 0.02022511],\n",
      "       [0.07539897, 0.00643526]]), array([[ 0.72226174, -0.9501682 ,  0.22790646],\n",
      "       [ 0.00513156, -0.0067508 ,  0.00161924]])]\n",
      "1epoch 4th data e_je_b_ns :\n",
      " [array([[0.0538564 ],\n",
      "       [0.00459662]]), array([[ 0.73646752],\n",
      "       [-0.96885655],\n",
      "       [ 0.23238903]])]\n",
      "\n",
      "softmax loss : -0.2300471432931359\n",
      "1epoch 5th data e_je_w_ns :\n",
      " [array([[0.03668111, 0.00069848],\n",
      "       [0.01630272, 0.00031043],\n",
      "       [0.0305676 , 0.00058206],\n",
      "       [0.00917028, 0.00017462]]), array([[ 7.35138236e-01,  2.99290423e-02, -7.65067278e-01],\n",
      "       [ 1.28140969e-03,  5.21689159e-05, -1.33357860e-03]])]\n",
      "1epoch 5th data e_je_b_ns :\n",
      " [array([[5.09459925e-03],\n",
      "       [9.70106020e-05]]), array([[ 0.73983269],\n",
      "       [ 0.03012016],\n",
      "       [-0.76995286]])]\n",
      "\n"
     ]
    }
   ],
   "source": [
    "H = len(structure) - 2\n",
    "learning_rate = 0.10\n",
    "epochs = 2\n",
    "all_epoch_errors = []\n",
    "\n",
    "for epoch in range(epochs):\n",
    "    each_epoch_errors = []\n",
    "    \n",
    "    np.random.seed(2023)\n",
    "    w_n = [np.random.randn(l, next_l) for l,next_l in zip(structure[:-1], structure[1:])] # (4,2), (2,3)\n",
    "    b_n = [np.random.randn(l, 1) for l in structure[1:]]  # (2,1), (3,1)\n",
    "    \n",
    "    for k, (x, y) in enumerate(zip(data, one_hot_labels)):\n",
    "        z_n, a_n = [], []\n",
    "        \n",
    "        for i, (b, w) in enumerate(zip(b_n, w_n)):\n",
    "            if i == 0:\n",
    "                z = np.dot(w.T, x).reshape(-1,1) + np.array(b)\n",
    "                a = sigmoid(z)                \n",
    "                \n",
    "            elif (i > 0) and (i < H):\n",
    "                z = np.dot(w.T, a)\n",
    "                a = sigmoid(z)\n",
    "            else:\n",
    "                z = np.dot(w.T, a)\n",
    "                a = softmax(z)\n",
    "            \n",
    "            \"\"\"    \n",
    "            print(z)\n",
    "            print(a)\n",
    "            print()\n",
    "            \"\"\"                \n",
    "            z_n.append(z)\n",
    "            a_n.append(a)\n",
    "        loss = calculate_loss(a, y)\n",
    "        print(f\"softmax loss : {loss}\")\n",
    "        \n",
    "        # BackPropagate\n",
    "        np.random.seed(2023)\n",
    "        e_je_w_ns = [np.zeros(w.shape) for w in w_n]\n",
    "        e_je_b_ns = [np.zeros(b.shape) for b in b_n]\n",
    "                \n",
    "        datapoint_errors = []\n",
    "        \n",
    "        for L in range(H, -1, -1):\n",
    "            if L != H:\n",
    "                delta = sigmoid_derivative(z_n[L]) * np.dot(w_n[L+1], delta)\n",
    "            else:\n",
    "                #print(y.reshape(-1,1).shape)\n",
    "                delta = a_n[L] - y.reshape(-1, 1)   # (3,1)                \n",
    "            e_je_b_ns[L] = delta\n",
    "            \n",
    "            if L != 0:\n",
    "                e_je_w_ns[L] = np.dot(a_n[L-1], delta.T)                \n",
    "                #print(f\"delta.T shape : {delta.T.shape}\")\n",
    "                #print(f\"a_n[L] shape : {a_n[L].shape}\")                \n",
    "            else:\n",
    "                #print(f\"x : {x.reshape(-1,1).shape}\")\n",
    "                #print(f\"delta : {delta.T.shape}\")\n",
    "                e_je_w_ns[L] = np.dot(x.reshape(-1,1), delta.T)   # (4,1), (1,2), (4,2)          \n",
    "                \n",
    "        print(f\"{epoch}epoch {k}th data e_je_w_ns :\\n {e_je_w_ns}\")\n",
    "        print(f\"{epoch}epoch {k}th data e_je_b_ns :\\n {e_je_b_ns}\")\n",
    "        print()"
   ]
  },
  {
   "cell_type": "code",
   "execution_count": 27,
   "metadata": {},
   "outputs": [
    {
     "data": {
      "text/plain": [
       "[array([[ 6.27374581],\n",
       "        [-6.78636791]]),\n",
       " array([[ 0.09834887],\n",
       "        [-3.11682648],\n",
       "        [-1.07497685]])]"
      ]
     },
     "execution_count": 27,
     "metadata": {},
     "output_type": "execute_result"
    }
   ],
   "source": [
    "z_n"
   ]
  },
  {
   "cell_type": "code",
   "execution_count": 28,
   "metadata": {},
   "outputs": [
    {
     "data": {
      "text/plain": [
       "[array([[0.99811839],\n",
       "        [0.00112779]]),\n",
       " array([[0.74102356],\n",
       "        [0.02975083],\n",
       "        [0.22922561]])]"
      ]
     },
     "execution_count": 28,
     "metadata": {},
     "output_type": "execute_result"
    }
   ],
   "source": [
    "a_n"
   ]
  },
  {
   "cell_type": "code",
   "execution_count": 29,
   "metadata": {},
   "outputs": [
    {
     "name": "stdout",
     "output_type": "stream",
     "text": [
      "1.1033476428641078 0.04429752467070435 0.34130565643548416\n",
      "0.7410235617601022 0.029750831227981552 0.22922560701191635\n"
     ]
    }
   ],
   "source": [
    "a0, a1, a2 = np.exp(0.09834887), np.exp(-3.11682648), np.exp(-1.07497685)\n",
    "a = a0 + a1 + a2\n",
    "print(a0, a1, a2)\n",
    "print(a0/a, a1/a, a2/a)"
   ]
  },
  {
   "cell_type": "code",
   "execution_count": 30,
   "metadata": {},
   "outputs": [
    {
     "data": {
      "text/plain": [
       "array([[0.74102356],\n",
       "       [0.02975083],\n",
       "       [0.22922561]])"
      ]
     },
     "execution_count": 30,
     "metadata": {},
     "output_type": "execute_result"
    }
   ],
   "source": [
    "softmax(z_n[1])"
   ]
  }
 ],
 "metadata": {
  "kernelspec": {
   "display_name": "tf_gpu",
   "language": "python",
   "name": "python3"
  },
  "language_info": {
   "codemirror_mode": {
    "name": "ipython",
    "version": 3
   },
   "file_extension": ".py",
   "mimetype": "text/x-python",
   "name": "python",
   "nbconvert_exporter": "python",
   "pygments_lexer": "ipython3",
   "version": "3.9.13"
  },
  "orig_nbformat": 4,
  "vscode": {
   "interpreter": {
    "hash": "7b18c970f1c267b2ae7de1f51c7b9ea29dc67f6c9f87d5b0ef47c4534e0830b3"
   }
  }
 },
 "nbformat": 4,
 "nbformat_minor": 2
}
