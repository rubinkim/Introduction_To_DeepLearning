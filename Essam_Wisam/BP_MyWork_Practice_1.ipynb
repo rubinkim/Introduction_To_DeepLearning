{
 "cells": [
  {
   "cell_type": "code",
   "execution_count": 1,
   "metadata": {},
   "outputs": [],
   "source": [
    "import numpy as np\n",
    "from sklearn.datasets import load_iris\n",
    "import matplotlib.pyplot as plt"
   ]
  },
  {
   "cell_type": "code",
   "execution_count": 2,
   "metadata": {},
   "outputs": [
    {
     "name": "stdout",
     "output_type": "stream",
     "text": [
      "[4, 2, 3]\n"
     ]
    }
   ],
   "source": [
    "structure = input(\"Enter the number of neurons of each layer in your network\").split(\" \")\n",
    "structure = [int(x) for x in structure]\n",
    "print(structure)"
   ]
  },
  {
   "cell_type": "code",
   "execution_count": 30,
   "metadata": {},
   "outputs": [],
   "source": [
    "data = load_iris()[\"data\"]\n",
    "target = load_iris()[\"target\"]"
   ]
  },
  {
   "cell_type": "code",
   "execution_count": 31,
   "metadata": {},
   "outputs": [],
   "source": [
    "data = data[[2, 57, 105]]\n",
    "target = target[[2, 57, 105]]"
   ]
  },
  {
   "cell_type": "code",
   "execution_count": 32,
   "metadata": {},
   "outputs": [
    {
     "name": "stdout",
     "output_type": "stream",
     "text": [
      "[4.7 3.2 1.3 0.2] 0\n",
      "[4.9 2.4 3.3 1. ] 1\n",
      "[7.6 3.  6.6 2.1] 2\n"
     ]
    }
   ],
   "source": [
    "for x, y in zip(data, target):\n",
    "    print(x, y)"
   ]
  },
  {
   "cell_type": "code",
   "execution_count": 34,
   "metadata": {},
   "outputs": [
    {
     "name": "stdout",
     "output_type": "stream",
     "text": [
      "[[1. 0. 0.]\n",
      " [0. 1. 0.]\n",
      " [0. 0. 1.]]\n"
     ]
    }
   ],
   "source": [
    "one_hot_labels = np.zeros((len(data), 3))\n",
    "for i in range(len(one_hot_labels)):\n",
    "    for j in range(len(one_hot_labels[i])):\n",
    "        one_hot_labels[i, target[i]] = 1\n",
    "print(one_hot_labels)"
   ]
  },
  {
   "cell_type": "code",
   "execution_count": 35,
   "metadata": {},
   "outputs": [],
   "source": [
    "def sigmoid(x):\n",
    "    return 1.0 / (1.0 + np.exp(-x))\n",
    "\n",
    "def sigmoid_derivative(x):\n",
    "    return sigmoid(x) * (1.0 - sigmoid(x))\n",
    "\n",
    "def softmax(x):\n",
    "    exponential_sum = np.sum([np.exp(i) for i in x])\n",
    "    exponential_x = np.array([np.exp(i) / exponential_sum for i in x])\n",
    "    return exponential_x\n",
    "\n",
    "def calculate_loss(actual, expected):\n",
    "    loss = - np.sum(actual.reshape(-1) * expected)\n",
    "    return loss"
   ]
  },
  {
   "cell_type": "code",
   "execution_count": 36,
   "metadata": {},
   "outputs": [
    {
     "data": {
      "text/plain": [
       "-0.72"
      ]
     },
     "execution_count": 36,
     "metadata": {},
     "output_type": "execute_result"
    }
   ],
   "source": [
    "actual = np.array([[0.08], [0.24], [0.72]])\n",
    "expected = np.array([0, 0, 1])\n",
    "calculate_loss(actual, expected)"
   ]
  },
  {
   "cell_type": "code",
   "execution_count": 44,
   "metadata": {},
   "outputs": [
    {
     "name": "stdout",
     "output_type": "stream",
     "text": [
      "[[ 7.35041771]\n",
      " [-6.57518822]]\n",
      "[[0.99935809]\n",
      " [0.0013926 ]]\n",
      "\n",
      "[[-0.79373435]\n",
      " [ 0.01638831]\n",
      " [-1.32673294]]\n",
      "[[0.2607544]\n",
      " [0.5862238]\n",
      " [0.1530218]]\n",
      "\n",
      "[[ 7.11085781]\n",
      " [-8.56218539]]\n",
      "[[9.99184471e-01]\n",
      " [1.91164438e-04]]\n",
      "\n",
      "[[-0.79376265]\n",
      " [ 0.01565836]\n",
      " [-1.32558037]]\n",
      "[[0.26081449]\n",
      " [0.58594761]\n",
      " [0.15323791]]\n",
      "\n",
      "[[ 10.56357158]\n",
      " [-13.78737014]]\n",
      "[[9.99974160e-01]\n",
      " [1.02853904e-06]]\n",
      "\n",
      "[[-0.79441631]\n",
      " [ 0.01555555]\n",
      " [-1.32648195]]\n",
      "[[0.26074021]\n",
      " [0.5861035 ]\n",
      " [0.15315629]]\n",
      "\n",
      "[[-6.14762235]\n",
      " [ 2.32828019]]\n",
      "[[0.002134  ]\n",
      " [0.91119227]]\n",
      "\n",
      "[[ 0.23033119]\n",
      " [-1.08996592]\n",
      " [ 1.07771299]]\n",
      "[[0.27773263]\n",
      " [0.07417015]\n",
      " [0.64809721]]\n",
      "\n",
      "[[-11.32130652]\n",
      " [  0.91854789]]\n",
      "[[1.21119423e-05]\n",
      " [7.14746136e-01]]\n",
      "\n",
      "[[ 0.17948986]\n",
      " [-0.85479436]\n",
      " [ 0.84783006]]\n",
      "[[0.30243669]\n",
      " [0.10751042]\n",
      " [0.59005289]]\n",
      "\n",
      "[[-21.21213435]\n",
      " [  0.24005462]]\n",
      "[[6.13319967e-10]\n",
      " [5.59727109e-01]]\n",
      "\n",
      "[[ 0.14055412]\n",
      " [-0.66939967]\n",
      " [ 0.66396095]]\n",
      "[[0.31921892]\n",
      " [0.14201367]\n",
      " [0.53876741]]\n",
      "\n",
      "[[3.66447232]\n",
      " [4.41523365]]\n",
      "[[0.97502219]\n",
      " [0.98805273]]\n",
      "\n",
      "[[-1.68014806]\n",
      " [ 0.61404715]\n",
      " [ 0.23783628]]\n",
      "[[0.0564217 ]\n",
      " [0.55950314]\n",
      " [0.38407516]]\n",
      "\n",
      "[[2.11456452]\n",
      " [2.1798368 ]]\n",
      "[[0.89231073]\n",
      " [0.89842418]]\n",
      "\n",
      "[[-1.53411022]\n",
      " [ 0.557758  ]\n",
      " [ 0.22249449]]\n",
      "[[0.06714668]\n",
      " [0.54389035]\n",
      " [0.38896297]]\n",
      "\n",
      "[[1.55125653]\n",
      " [1.36763739]]\n",
      "[[0.82509514]\n",
      " [0.79699817]]\n",
      "\n",
      "[[-1.39816417]\n",
      " [ 0.49135707]\n",
      " [ 0.23380625]]\n",
      "[[0.07855372]\n",
      " [0.51972715]\n",
      " [0.40171912]]\n",
      "\n",
      "[[0.92702995]\n",
      " [9.18628475]]\n",
      "[[0.71647234]\n",
      " [0.99989758]]\n",
      "\n",
      "[[-0.76145231]\n",
      " [-0.83147063]\n",
      " [-0.18248962]]\n",
      "[[0.26906577]\n",
      " [0.25087066]\n",
      " [0.48006357]]\n",
      "\n",
      "[[-0.79233896]\n",
      " [ 6.88426508]]\n",
      "[[0.31166667]\n",
      " [0.99897728]]\n",
      "\n",
      "[[-0.67327717]\n",
      " [-0.84550225]\n",
      " [ 0.27971956]]\n",
      "[[0.22546594]\n",
      " [0.1897949 ]\n",
      " [0.58473915]]\n",
      "\n",
      "[[-1.56988094]\n",
      " [ 9.11737608]]\n",
      "[[0.17223336]\n",
      " [0.99989027]]\n",
      "\n",
      "[[-0.6436516 ]\n",
      " [-0.85139044]\n",
      " [ 0.43970833]]\n",
      "[[0.20977513]\n",
      " [0.17042534]\n",
      " [0.61979953]]\n",
      "\n",
      "[[ 0.22052825]\n",
      " [-1.9489425 ]]\n",
      "[[0.55490971]\n",
      " [0.12466871]]\n",
      "\n",
      "[[-1.60136562]\n",
      " [-0.13878068]\n",
      " [-0.59100319]]\n",
      "[[0.12401254]\n",
      " [0.53537509]\n",
      " [0.34061237]]\n",
      "\n",
      "[[-2.44793318]\n",
      " [-1.05048622]]\n",
      "[[0.07958982]\n",
      " [0.25913174]]\n",
      "\n",
      "[[-0.26801537]\n",
      " [-0.05177871]\n",
      " [-0.54439919]]\n",
      "[[0.33334246]\n",
      " [0.41381004]\n",
      " [0.2528475 ]]\n",
      "\n",
      "[[-5.56084448]\n",
      " [-1.09959882]]\n",
      "[[0.0038308 ]\n",
      " [0.24981507]]\n",
      "\n",
      "[[-0.05061309]\n",
      " [-0.03384948]\n",
      " [-0.47838968]]\n",
      "[[0.37469154]\n",
      " [0.38102567]\n",
      " [0.24428279]]\n",
      "\n"
     ]
    }
   ],
   "source": [
    "H = len(structure) - 2\n",
    "learning_rate = 0.10\n",
    "epochs = 5\n",
    "all_epoch_errors = []\n",
    "\n",
    "for epoch in range(epochs):\n",
    "    each_epoch_errors = []\n",
    "    \n",
    "    w_n = [np.random.randn(l, next_l) for l,next_l in zip(structure[:-1], structure[1:])] # (4,2), (2,3)\n",
    "    b_n = [np.random.randn(l, 1) for l in structure[1:]]  # (2,1), (3,1)\n",
    "    \n",
    "    for x, y in zip(data, one_hot_labels):\n",
    "        z_n, a_n = [], []\n",
    "        \n",
    "        for i, (b, w) in enumerate(zip(b_n, w_n)):\n",
    "            if i == 0:\n",
    "                z = np.dot(w.T, x).reshape(-1,1) + np.array(b)\n",
    "                a = sigmoid(z)                \n",
    "                \n",
    "            elif (i > 0) and (i < H):\n",
    "                z = np.dot(w.T, a)\n",
    "                a = sigmoid(z)\n",
    "            else:\n",
    "                z = np.dot(w.T, a)\n",
    "                a = softmax(z)\n",
    "                \n",
    "            print(z)\n",
    "            print(a)\n",
    "            print()\n",
    "                \n",
    "            z_n.append(z)\n",
    "            a_n.append(a)"
   ]
  },
  {
   "cell_type": "code",
   "execution_count": 45,
   "metadata": {},
   "outputs": [
    {
     "data": {
      "text/plain": [
       "[array([[-5.56084448],\n",
       "        [-1.09959882]]),\n",
       " array([[-0.05061309],\n",
       "        [-0.03384948],\n",
       "        [-0.47838968]])]"
      ]
     },
     "execution_count": 45,
     "metadata": {},
     "output_type": "execute_result"
    }
   ],
   "source": [
    "z_n"
   ]
  },
  {
   "cell_type": "code",
   "execution_count": 46,
   "metadata": {},
   "outputs": [
    {
     "data": {
      "text/plain": [
       "[array([[0.0038308 ],\n",
       "        [0.24981507]]),\n",
       " array([[0.37469154],\n",
       "        [0.38102567],\n",
       "        [0.24428279]])]"
      ]
     },
     "execution_count": 46,
     "metadata": {},
     "output_type": "execute_result"
    }
   ],
   "source": [
    "a_n"
   ]
  },
  {
   "cell_type": "code",
   "execution_count": null,
   "metadata": {},
   "outputs": [],
   "source": []
  }
 ],
 "metadata": {
  "kernelspec": {
   "display_name": "tf_gpu",
   "language": "python",
   "name": "python3"
  },
  "language_info": {
   "codemirror_mode": {
    "name": "ipython",
    "version": 3
   },
   "file_extension": ".py",
   "mimetype": "text/x-python",
   "name": "python",
   "nbconvert_exporter": "python",
   "pygments_lexer": "ipython3",
   "version": "3.9.13"
  },
  "orig_nbformat": 4,
  "vscode": {
   "interpreter": {
    "hash": "7b18c970f1c267b2ae7de1f51c7b9ea29dc67f6c9f87d5b0ef47c4534e0830b3"
   }
  }
 },
 "nbformat": 4,
 "nbformat_minor": 2
}
