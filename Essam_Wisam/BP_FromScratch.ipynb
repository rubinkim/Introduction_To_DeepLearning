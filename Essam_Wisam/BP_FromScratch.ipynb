{
 "cells": [
  {
   "attachments": {},
   "cell_type": "markdown",
   "metadata": {},
   "source": [
    "##### Implementing Backpropagation From Scratch on Python 3+\n",
    "- Let's see if theory and practice are the same thing."
   ]
  },
  {
   "cell_type": "code",
   "execution_count": 10,
   "metadata": {},
   "outputs": [],
   "source": [
    "# Provide some structure for our neural network\n",
    "import numpy as np\n",
    "\n",
    "class Network:\n",
    "    def __init(self, structure):\n",
    "        self.structure = structure\n",
    "        self.num_layers = len(structure)\n",
    "        self.Bₙ = [np.random.randn(l, 1) for l in structure[1:]]\n",
    "        self.Wₙ = [np.random.randn(l, next_l) for l, next_l in zip(structure[:-1], structure[1:])]\n",
    "        \n",
    "    def backprop(self, x, y):\n",
    "        მJⳆმBₙₛ = [np.zeros(b.shape) for b in self.Bₙ]\n",
    "        მJⳆმWₙₛ = [np.zeros(W.shape) for W in self.Wₙ]\n",
    "        \n",
    "        Zₙ = []\n",
    "        Aₙ = []\n",
    "        \n",
    "        for b, W in zip(self.Bₙ, self.Wₙ):\n",
    "            z = W.T @ a + b if Zₙ else W.T @ x + b\n",
    "            a = σ(z)\n",
    "            Zₙ.append(z)\n",
    "            Aₙ.append(a)\n",
    "            \n",
    "        H = self.num_layers - 2\n",
    "        \n",
    "        for L in range(H, -1, -1):\n",
    "            δ = σ'(Zₙ[L]) * (self.Wₙ[L+1] @ δ) if "
   ]
  },
  {
   "cell_type": "code",
   "execution_count": 7,
   "metadata": {},
   "outputs": [
    {
     "ename": "TypeError",
     "evalue": "Network() takes no arguments",
     "output_type": "error",
     "traceback": [
      "\u001b[1;31m---------------------------------------------------------------------------\u001b[0m",
      "\u001b[1;31mTypeError\u001b[0m                                 Traceback (most recent call last)",
      "\u001b[1;32me:\\딥러닝입문\\Essam_Wisam\\BP_FromScratch.ipynb Cell 3\u001b[0m in \u001b[0;36m<cell line: 1>\u001b[1;34m()\u001b[0m\n\u001b[1;32m----> <a href='vscode-notebook-cell:/e%3A/%EB%94%A5%EB%9F%AC%EB%8B%9D%EC%9E%85%EB%AC%B8/Essam_Wisam/BP_FromScratch.ipynb#W6sZmlsZQ%3D%3D?line=0'>1</a>\u001b[0m network \u001b[39m=\u001b[39m Network([\u001b[39m5\u001b[39;49m,\u001b[39m3\u001b[39;49m,\u001b[39m3\u001b[39;49m,\u001b[39m2\u001b[39;49m])\n",
      "\u001b[1;31mTypeError\u001b[0m: Network() takes no arguments"
     ]
    }
   ],
   "source": [
    "network = Network([5,3,3,2])"
   ]
  },
  {
   "cell_type": "code",
   "execution_count": 16,
   "metadata": {},
   "outputs": [
    {
     "ename": "SyntaxError",
     "evalue": "invalid character '∂' (U+2202) (2221412922.py, line 1)",
     "output_type": "error",
     "traceback": [
      "\u001b[1;36m  Input \u001b[1;32mIn [16]\u001b[1;36m\u001b[0m\n\u001b[1;33m    ∂J/∂Bₙₛ = [np.zeros(3,5)]\u001b[0m\n\u001b[1;37m    ^\u001b[0m\n\u001b[1;31mSyntaxError\u001b[0m\u001b[1;31m:\u001b[0m invalid character '∂' (U+2202)\n"
     ]
    }
   ],
   "source": [
    "∂J/∂Bₙₛ = [np.zeros(3,5)]   # \\partial"
   ]
  },
  {
   "cell_type": "code",
   "execution_count": 6,
   "metadata": {},
   "outputs": [
    {
     "name": "stdout",
     "output_type": "stream",
     "text": [
      "Initial Weights:\n",
      "[[-0.19890123 -0.23545429]\n",
      " [-0.44982604  0.19887058]\n",
      " [ 2.62120686 -0.11525126]]\n",
      "Optimized Weights:\n",
      "[[-0.22190016 -0.24406718]\n",
      " [-0.47197599  0.19034677]\n",
      " [ 2.59721113 -0.12571522]]\n"
     ]
    }
   ],
   "source": [
    "import numpy as np\n",
    "class Network:\n",
    "    def __init__(self, structure):\n",
    "        self.structure = structure\n",
    "        self.num_layers = len(structure) \n",
    "        self.Bₙ = [np.random.randn(l, 1) for l in structure[1:]] \n",
    "        \n",
    "        self.Wₙ = [np.random.randn(l, next_l) \n",
    "                   for l, next_l in zip(structure[:-1], structure[1:])]\n",
    "        \n",
    "    def backprop(self, x, y):        \n",
    "        მJⳆმBₙₛ = [np.zeros(b.shape) for b in self.Bₙ]\n",
    "        მJⳆმWₙₛ = [np.zeros(W.shape) for W in self.Wₙ]\n",
    "\n",
    "        Zₙ = [] \n",
    "        Aₙ = [] \n",
    "        for b, W in zip(self.Bₙ, self.Wₙ):\n",
    "            z = W.T @ a + b if Zₙ else W.T @ x + b\n",
    "            a = σ(z)\n",
    "            Zₙ.append(z)\n",
    "            Aₙ.append(a)\n",
    "        \n",
    "        H = self.num_layers-2\n",
    "        for L in range(H, -1, -1):\n",
    "            δ =  σ'(Zₙ[L]) * (self.Wₙ[L+1] @ δ) if L != H else (Aₙ[L], y) * σ'(Zₙ[L])\n",
    "            მJⳆმBₙₛ[L] = δ\n",
    "            მJⳆმWₙₛ[L] = Aₙ[L-1] @ δ.T if L != 0 else x @ δ.T\n",
    "        \n",
    "        return (მJⳆმBₙₛ, მJⳆმWₙₛ)\n",
    "    \n",
    "    def gradient_descent(self, mini_batch, λ):\n",
    "        მJⳆმBₙ= [np.zeros(b.shape) for b in self.Bₙ]\n",
    "        მJⳆმWₙ = [np.zeros(W.shape) for W in self.Wₙ]\n",
    "\n",
    "        for x, y in mini_batch:\n",
    "            მJⳆმBₙₛ, მJⳆმWₙₛ = self.backprop(x, y)\n",
    "            მJⳆმBₙ = [მJⳆმb + მJⳆმbₛ for მJⳆმb, მJⳆმbₛ in zip(მJⳆმBₙ, მJⳆმBₙₛ)]  \n",
    "            მJⳆმWₙ = [მJⳆმW + მJⳆმWₛ for მJⳆმW, მJⳆმWₛ in zip(მJⳆმWₙ, მJⳆმWₙₛ)]\n",
    "\n",
    "        d = len(mini_batch)\n",
    "        self.Wₙ = [W - λ/d * მJⳆმW for W, მJⳆმW in zip(self.Wₙ, მJⳆმWₙ)]\n",
    "        self.Bₙ = [b - λ/d * მJⳆმb for b, მJⳆმb in zip(self.Bₙ, მJⳆმBₙ)]\n",
    "            \n",
    "    def train(self, epochs, training_data, λ):\n",
    "        for j in range(epochs):\n",
    "            for mini_batch in training_data:\n",
    "                self.gradient_descent(mini_batch, λ)       \n",
    "                \n",
    "\n",
    "\n",
    "def ᐁC(aᴺ, y):    \n",
    "    return (aᴺ-y)                 #so we can easily change the cost.\n",
    "\n",
    "\n",
    "def σ(z):\n",
    "    return 1.0/(1.0+np.exp(-z))\n",
    "\n",
    "\n",
    "def σࠤ(z):\n",
    "    return σ(z)*(1-σ(z))\n",
    "\n",
    "\n",
    "my_net = Network([3, 2 ,2])\n",
    "print(\"Initial Weights:\")\n",
    "print(my_net.Wₙ[0])\n",
    "#the following generates a list of cnt vectors of length dim.\n",
    "random_vectors = lambda dim, cnt: [np.random.rand(dim, 1) for i in range(cnt)]\n",
    "random_batch= list(zip(random_vectors(3, 64) , random_vectors(2, 64)))\n",
    "my_net.gradient_descent(random_batch, 3.0)\n",
    "print(\"Optimized Weights:\")\n",
    "print(my_net.Wₙ[0])"
   ]
  },
  {
   "cell_type": "code",
   "execution_count": 7,
   "metadata": {},
   "outputs": [
    {
     "ename": "SyntaxError",
     "evalue": "unexpected character after line continuation character (516145393.py, line 1)",
     "output_type": "error",
     "traceback": [
      "\u001b[1;36m  Input \u001b[1;32mIn [7]\u001b[1;36m\u001b[0m\n\u001b[1;33m    a\\_1<TAB>a\\_2<TAB>\u001b[0m\n\u001b[1;37m      ^\u001b[0m\n\u001b[1;31mSyntaxError\u001b[0m\u001b[1;31m:\u001b[0m unexpected character after line continuation character\n"
     ]
    }
   ],
   "source": [
    "a\\_1<TAB>a\\_2<TAB>"
   ]
  },
  {
   "cell_type": "code",
   "execution_count": 15,
   "metadata": {},
   "outputs": [
    {
     "data": {
      "text/plain": [
       "345"
      ]
     },
     "execution_count": 15,
     "metadata": {},
     "output_type": "execute_result"
    }
   ],
   "source": [
    "aₘ = 345\n",
    "aₘ\n"
   ]
  },
  {
   "cell_type": "code",
   "execution_count": 1,
   "metadata": {},
   "outputs": [
    {
     "ename": "SyntaxError",
     "evalue": "cannot assign to operator (2865895965.py, line 1)",
     "output_type": "error",
     "traceback": [
      "\u001b[1;36m  Input \u001b[1;32mIn [1]\u001b[1;36m\u001b[0m\n\u001b[1;33m    əJ/əW = '123'\u001b[0m\n\u001b[1;37m    ^\u001b[0m\n\u001b[1;31mSyntaxError\u001b[0m\u001b[1;31m:\u001b[0m cannot assign to operator\n"
     ]
    }
   ],
   "source": [
    "\n"
   ]
  },
  {
   "cell_type": "code",
   "execution_count": null,
   "metadata": {},
   "outputs": [],
   "source": []
  }
 ],
 "metadata": {
  "kernelspec": {
   "display_name": "tf_gpu",
   "language": "python",
   "name": "python3"
  },
  "language_info": {
   "codemirror_mode": {
    "name": "ipython",
    "version": 3
   },
   "file_extension": ".py",
   "mimetype": "text/x-python",
   "name": "python",
   "nbconvert_exporter": "python",
   "pygments_lexer": "ipython3",
   "version": "3.9.13"
  },
  "orig_nbformat": 4,
  "vscode": {
   "interpreter": {
    "hash": "7b18c970f1c267b2ae7de1f51c7b9ea29dc67f6c9f87d5b0ef47c4534e0830b3"
   }
  }
 },
 "nbformat": 4,
 "nbformat_minor": 2
}
