{
 "cells": [
  {
   "attachments": {},
   "cell_type": "markdown",
   "metadata": {},
   "source": [
    "##### Implementing Backpropagation From Scratch on Python 3+\n",
    "- Let's see if theory and practice are the same thing."
   ]
  },
  {
   "cell_type": "code",
   "execution_count": 1,
   "metadata": {},
   "outputs": [],
   "source": [
    "# Provide some structure for our neural network\n",
    "import numpy as np\n",
    "\n",
    "class Network:\n",
    "    def __init(self, structure):\n",
    "        self.structure = structure\n",
    "        self.num_layers = len(structure)\n",
    "        self.Bn = [np.random.randn(l, 1) for l in structure[1:]]\n",
    "        self.Wn = [np.random.randn(l, next_l) for l, next_l in zip(structure[:-1], structure[1:])]\n",
    "        \n",
    "    def backprop(self, x, y):\n",
    "        "
   ]
  },
  {
   "cell_type": "code",
   "execution_count": 4,
   "metadata": {},
   "outputs": [],
   "source": [
    "import numpy as np\n",
    "class Network:\n",
    "    def __init__(self, structure):\n",
    "        self.structure = structure\n",
    "        self.num_layers = len(structure) \n",
    "        self.Bₙ = [np.random.randn(l, 1) for l in structure[1:]] \n",
    "        \n",
    "        self.Wₙ = [np.random.randn(l, next_l) \n",
    "                   for l, next_l in zip(structure[:-1], structure[1:])]\n",
    "        \n",
    "    def backprop(self, x, y):        \n",
    "        მJⳆმBₙₛ = [np.zeros(b.shape) for b in self.Bₙ]\n",
    "        მJⳆმWₙₛ = [np.zeros(W.shape) for W in self.Wₙ]\n",
    "\n",
    "        Zₙ = [] \n",
    "        Aₙ = [] \n",
    "        for b, W in zip(self.Bₙ, self.Wₙ):\n",
    "            z = W.T @ a + b if Zₙ else W.T @ x + b\n",
    "            a = σ(z)\n",
    "            Zₙ.append(z)\n",
    "            Aₙ.append(a)\n",
    "        \n",
    "        H = self.num_layers-2\n",
    "        for L in range(H, -1, -1):\n",
    "            δ =  σࠤ(Zₙ[L]) * (self.Wₙ[L+1] @ δ) if L != H else ᐁC(Aₙ[L], y) * σࠤ(Zₙ[L])\n",
    "            მJⳆმBₙₛ[L] = δ\n",
    "            მJⳆმWₙₛ[L] = Aₙ[L-1] @ δ.T if L != 0 else x @ δ.T\n",
    "        \n",
    "        return (მJⳆმBₙₛ, მJⳆმWₙₛ)"
   ]
  },
  {
   "cell_type": "code",
   "execution_count": null,
   "metadata": {},
   "outputs": [],
   "source": []
  }
 ],
 "metadata": {
  "kernelspec": {
   "display_name": "tf_gpu",
   "language": "python",
   "name": "python3"
  },
  "language_info": {
   "codemirror_mode": {
    "name": "ipython",
    "version": 3
   },
   "file_extension": ".py",
   "mimetype": "text/x-python",
   "name": "python",
   "nbconvert_exporter": "python",
   "pygments_lexer": "ipython3",
   "version": "3.9.13"
  },
  "orig_nbformat": 4,
  "vscode": {
   "interpreter": {
    "hash": "7b18c970f1c267b2ae7de1f51c7b9ea29dc67f6c9f87d5b0ef47c4534e0830b3"
   }
  }
 },
 "nbformat": 4,
 "nbformat_minor": 2
}
